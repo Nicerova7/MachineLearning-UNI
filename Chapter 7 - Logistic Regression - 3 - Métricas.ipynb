{
 "cells": [
  {
   "cell_type": "markdown",
   "metadata": {},
   "source": [
    "### Obteniendo matriz de confusión\n",
    "\n",
    "La matriz de confusión muestra por filas(o columnas) que indican el valor real, como esta prediciendo nuestro modelo que se organiza por columnas(o filas)."
   ]
  },
  {
   "cell_type": "code",
   "execution_count": 37,
   "metadata": {},
   "outputs": [],
   "source": [
    "import pandas as pd\n",
    "from sklearn.datasets import load_breast_cancer\n",
    "from sklearn.model_selection import train_test_split\n",
    "from sklearn import linear_model"
   ]
  },
  {
   "cell_type": "code",
   "execution_count": 38,
   "metadata": {},
   "outputs": [],
   "source": [
    "cancer = load_breast_cancer()\n",
    "\n",
    "train_set, test_set, train_labels, test_labels, = train_test_split(cancer.data,   # datos\n",
    "                                                                   cancer.target, # y \n",
    "                                                                   test_size = 0.25, # 75% datos para trainning\n",
    "                                                                   random_state = 1, # semilla\n",
    "                                                                   stratify = cancer.target) # random por labels\n",
    "\n",
    "x = train_set[:,0:30] # los datos de entrenamiento\n",
    "y = train_labels # los targets de entrenamiento\n",
    "\n",
    "log_reg = linear_model.LogisticRegression(solver = 'lbfgs', max_iter=2000)\n",
    "log_reg.fit(X=x,\n",
    "            y=y)\n",
    "\n",
    "preds = log_reg.predict(X=test_set)"
   ]
  },
  {
   "cell_type": "code",
   "execution_count": 39,
   "metadata": {},
   "outputs": [
    {
     "data": {
      "text/html": [
       "<div>\n",
       "<style scoped>\n",
       "    .dataframe tbody tr th:only-of-type {\n",
       "        vertical-align: middle;\n",
       "    }\n",
       "\n",
       "    .dataframe tbody tr th {\n",
       "        vertical-align: top;\n",
       "    }\n",
       "\n",
       "    .dataframe thead th {\n",
       "        text-align: right;\n",
       "    }\n",
       "</style>\n",
       "<table border=\"1\" class=\"dataframe\">\n",
       "  <thead>\n",
       "    <tr style=\"text-align: right;\">\n",
       "      <th>real</th>\n",
       "      <th>0</th>\n",
       "      <th>1</th>\n",
       "    </tr>\n",
       "    <tr>\n",
       "      <th>prediccion</th>\n",
       "      <th></th>\n",
       "      <th></th>\n",
       "    </tr>\n",
       "  </thead>\n",
       "  <tbody>\n",
       "    <tr>\n",
       "      <td>0</td>\n",
       "      <td>48</td>\n",
       "      <td>3</td>\n",
       "    </tr>\n",
       "    <tr>\n",
       "      <td>1</td>\n",
       "      <td>5</td>\n",
       "      <td>87</td>\n",
       "    </tr>\n",
       "  </tbody>\n",
       "</table>\n",
       "</div>"
      ],
      "text/plain": [
       "real         0   1\n",
       "prediccion        \n",
       "0           48   3\n",
       "1            5  87"
      ]
     },
     "execution_count": 39,
     "metadata": {},
     "output_type": "execute_result"
    }
   ],
   "source": [
    "pd.crosstab(preds, test_labels,colnames=[\"real\"],rownames=[\"prediccion\"])"
   ]
  },
  {
   "cell_type": "markdown",
   "metadata": {},
   "source": [
    "# En base a la siguiente figura:\n",
    "![](matrizconfusion.png)\n",
    "\n",
    "* TruePositive (TP): El modelo puso como positivos a los que verdaderamente son positivos.\n",
    "* TrueNegative (TN): El modelo colocó como negativos a los que verdaderamente eran negativos.\n",
    "* FalsePositive (FP): El modelo designó como positivos a los que eran en realidad negativos.\n",
    "* FalseNegative (FN): El modelo predijo como negativo a los que en realidad eran positivos."
   ]
  },
  {
   "cell_type": "code",
   "execution_count": 13,
   "metadata": {},
   "outputs": [
    {
     "name": "stdout",
     "output_type": "stream",
     "text": [
      "[[48  5]\n",
      " [ 3 87]]\n"
     ]
    }
   ],
   "source": [
    "# También podemos usar la librería sklearn\n",
    "from sklearn import metrics\n",
    "print(metrics.confusion_matrix(y_true = test_labels,\n",
    "                               y_pred = preds))"
   ]
  },
  {
   "cell_type": "markdown",
   "metadata": {},
   "source": [
    "### Calculando: Accuracy, Recall, Precision, y otras métricas.\n",
    "\n",
    "Como ya tenemos claro las partes de una matriz de confusión, podemos usar estos valores para calcular las siguientes métricas:\n",
    "\n",
    "* Accuracy: Se define como la suma de la correcta predicción entre el total de predicciónes.\n",
    "                        (TP/TN)/(TP+TN+FP+FN)\n",
    "\n",
    "* Esta última métrica tiene su defecto puesto que en el caso que tengamos un conjunto de 1000 datos y solo 3 defectuosos, podemos usar un algoritmo en el que tan solo con poner que todos salen bien el error tan solo sería de 3/1000 algo bastante bien (en teoría) pero si cambiamos de 3 defectuosos a 500 el error ahora sera 500/100. Entonces se puede afirmar que la precisión funciona bien con puntos de datos distribuidos uniformemente.\n",
    "\n",
    "![](accuracy.png)\n",
    "\n",
    "* Precisión: Se define como TP / (TP+FP) que indica el número de predicciones positivas. La cantidad de los que  positivos de la predicción respecto de todos los positivos obtenidos por el modelo.\n",
    "\n",
    "![](precision.png)\n",
    "\n",
    "* Recall (También conocido como el ratio de verdaderos positivos(TPR en inglés)): Se define como \n",
    "            TP / (TP + FN).\n",
    "          que indica el número correcto de porcentaje de positivos en el dataset, no del modelo.\n",
    "          \n",
    "![](recall.png)\n",
    "\n",
    "* F1 score: Esta métrica se define como $2*(precision*recall)/ (precission + recall)$. Este también es conocido como la media harmónica de precisión y recall y es una buena forma de resumir la evaluación del algoritmo en un simple número.\n",
    "\n",
    "* False Positive Rate (FPR): Esta métrica es definida por FP / ( FP + TN) y corresponde a la cantidad de falsos negativos existen por total de negativos dados por el sistema (no del modelo). Este número indica que cuantos más numeros negativos se tenga se clasificará más erroneamente.\n",
    "\n",
    "Consideramos el siguiente escenario: En la detección de cáncer de mama, un tumor maligno representará un valor negativo mientras que un tumor benigno representará un valor positivo, luego:\n",
    "\n",
    "* Si precision o recall es alto significa que más pacientes con cancer benigno serán diagnosticados correctamente y en consecuencia el algoritmo funciona bien.\n",
    "\n",
    "* Si precision es baja significa que más pacientes con tumores malignos serán detectados como benignos.\n",
    "\n",
    "* Si recall es bajo significa que más pacientes con tumores benignos serán detectados como malignos.\n",
    "\n",
    "Con respecto a los últimos dos puntos tener una precisión más baja es mucho más peligroso que tener un recall más bajo ya que hace que el paciente se confie y que no lleve el correcto tratamiento. Por lo tanto en, al menos, diagnosticos de cancer se tiene que hacer un seguimiento de estos valores (precision y recall) para asegurarnos del impacto que tiene nuestro modelo.\n",
    "\n",
    "Para obtener accuracy del modelo podemos usar score().\n"
   ]
  },
  {
   "cell_type": "code",
   "execution_count": 14,
   "metadata": {},
   "outputs": [
    {
     "name": "stdout",
     "output_type": "stream",
     "text": [
      "-------Accuracy--------\n",
      "0.9440559440559441\n"
     ]
    }
   ],
   "source": [
    "print(\"-------Accuracy--------\")\n",
    "print(log_reg.score(X = test_set, \n",
    "                    y = test_labels))"
   ]
  },
  {
   "cell_type": "markdown",
   "metadata": {},
   "source": [
    "Para obtener otras métricas como \"recall\" o \"F1-score\" podemos usar report()"
   ]
  },
  {
   "cell_type": "code",
   "execution_count": 15,
   "metadata": {},
   "outputs": [
    {
     "name": "stdout",
     "output_type": "stream",
     "text": [
      "-------Metrics-------\n",
      "              precision    recall  f1-score   support\n",
      "\n",
      "           0       0.94      0.91      0.92        53\n",
      "           1       0.95      0.97      0.96        90\n",
      "\n",
      "    accuracy                           0.94       143\n",
      "   macro avg       0.94      0.94      0.94       143\n",
      "weighted avg       0.94      0.94      0.94       143\n",
      "\n"
     ]
    }
   ],
   "source": [
    "print(\"-------Metrics-------\")\n",
    "print(metrics.classification_report(y_true = test_labels,\n",
    "                                    y_pred = preds))"
   ]
  },
  {
   "cell_type": "markdown",
   "metadata": {},
   "source": [
    "## Curva ROC\n",
    "\n",
    "Del inglés **Receiver Operating Caracterisitic (ROC)**,con tantas métricas disponibles, ¿cuál es una manera fácil de examinar la efectividad de un algoritmo? Una forma sería trazar una curva conocida como Receptor\n",
    "Curva característica de funcionamiento (ROC). La curva ROC se crea trazando el\n",
    "TPR contra el FPR en varias configuraciones de umbral.\n",
    "\n",
    "¿Entonces, cómo funciona? Veamos un ejemplo simple. Usando el modelo que hemos estado trabajando, hemos derivado la matriz de confusión basado en el umbral predeterminado de 0.5 (lo que significa que todas esas probabilidades pronosticadas menores o iguales a 0.5 pertenecen a una clase, mientras que las mayores a 0.5 pertenecer a otra clase). Usando esta matriz de confusión, encontrará recall, precision, y posteriormente FPR y TPR. Una vez que se encuentran el FPR y el TPR, puede trazar el punto en el gráfico, como se muestra aqui:\n",
    "\n",
    "![](roc05.png)\n",
    "\n",
    "\n",
    "Luego generamos la matriz de confusión para un umbral de 0 y recalculamos recall, precision, FPR y TPR.\n",
    "Usando los nuevos FPR y TPR, trazamos otro punto en el gráfico. Luego repetimos este proceso para umbrales de 0.1,\n",
    "0.2, 0.3, y así sucesivamente, hasta 1.0.\n",
    "\n",
    "En el umbral 0, para que un tumor se clasifique como benigno (1), la probabilidad debe ser mayor que 0. Por lo tanto, todas las predicciones se clasificarían como benignas (1). Aqui un gráfico explicando lo que se acaba de decir:\n",
    "\n",
    "![](roc00.png)\n",
    "\n",
    "\n",
    "En el umbral 1.0, para que un tumor se clasifique como benigno (1), la probabilidad debe ser igual a exactamente 1. Por lo tanto, todas las predicciones serían clasificado como maligno (0).\n",
    "\n",
    "![](roc10.png)\n"
   ]
  },
  {
   "cell_type": "markdown",
   "metadata": {},
   "source": [
    "\n",
    "En total los resultados aqui:\n",
    "\n",
    "![](rocvarios.png)\n",
    "\n",
    "Luego calculamos las métricas para los otros valores de umbral. Calculador todas las métricas basadas en diferentes valores de umbral es un proceso muy tedioso. Afortunadamente, Scikit-learn tiene la función roc_curve(), que calculará el FPR y el TPR automáticamente para usted según las etiquetas de prueba suministradas y probabilidades pronosticadas:"
   ]
  },
  {
   "cell_type": "code",
   "execution_count": 16,
   "metadata": {},
   "outputs": [],
   "source": [
    "from sklearn.metrics import roc_curve, auc"
   ]
  },
  {
   "cell_type": "code",
   "execution_count": 40,
   "metadata": {},
   "outputs": [],
   "source": [
    "#--- Encontramos la probabilidades de prediccion usando el set test\n",
    "probs = log_reg.predict_proba(test_set)\n",
    "preds = probs[:,1]"
   ]
  },
  {
   "cell_type": "code",
   "execution_count": 41,
   "metadata": {},
   "outputs": [
    {
     "name": "stdout",
     "output_type": "stream",
     "text": [
      "[0.         0.         0.         0.01886792 0.01886792 0.03773585\n",
      " 0.03773585 0.05660377 0.05660377 0.0754717  0.0754717  0.09433962\n",
      " 0.09433962 0.13207547 0.13207547 1.        ]\n",
      "\n",
      "[0.         0.01111111 0.91111111 0.91111111 0.92222222 0.92222222\n",
      " 0.93333333 0.93333333 0.94444444 0.94444444 0.95555556 0.95555556\n",
      " 0.96666667 0.96666667 1.         1.        ]\n",
      "\n",
      "[1.99999993e+00 9.99999933e-01 9.18926310e-01 9.07730166e-01\n",
      " 8.83292048e-01 8.71338385e-01 8.06872436e-01 8.03062075e-01\n",
      " 7.89502752e-01 7.78980904e-01 7.35520134e-01 7.05569101e-01\n",
      " 5.83764799e-01 4.45796662e-01 8.15309973e-02 4.37990541e-16]\n"
     ]
    }
   ],
   "source": [
    "fpr, tpr, threshold = roc_curve(test_labels,preds)\n",
    "\n",
    "print(fpr)\n",
    "print()\n",
    "print(tpr)\n",
    "print()\n",
    "print(threshold)"
   ]
  },
  {
   "cell_type": "markdown",
   "metadata": {},
   "source": [
    "El treshold comienza en 2.0 y va bajando hasta un valor cercano a 0 (e-16)"
   ]
  },
  {
   "cell_type": "markdown",
   "metadata": {},
   "source": [
    "### Graficando la curva ROC y hallando el área bajo la curva (AUC en inglés)\n",
    "\n",
    "Podemos usar la función auc() para encontrar el área bajo el ROC:"
   ]
  },
  {
   "cell_type": "code",
   "execution_count": 42,
   "metadata": {},
   "outputs": [],
   "source": [
    "roc_auc = auc(fpr, tpr)"
   ]
  },
  {
   "cell_type": "code",
   "execution_count": 44,
   "metadata": {},
   "outputs": [
    {
     "data": {
      "image/png": "[encoded data removed]",
      "text/plain": [
       "<Figure size 432x288 with 1 Axes>"
      ]
     },
     "metadata": {
      "needs_background": "light"
     },
     "output_type": "display_data"
    }
   ],
   "source": [
    "import matplotlib.pyplot as plt\n",
    "\n",
    "plt.plot(fpr, tpr, 'b', label = 'AUC = %0.2f' % roc_auc)\n",
    "plt.plot([0, 1], [0, 1],'r--')\n",
    "plt.xlim([0, 1])\n",
    "plt.ylim([0, 1])\n",
    "plt.ylabel('True Positive Rate (TPR)')\n",
    "plt.xlabel('False Positive Rate (FPR)')\n",
    "plt.title('Receiver Operating Characteristic (ROC)')\n",
    "plt.legend(loc = 'lower right')\n",
    "plt.show()"
   ]
  },
  {
   "cell_type": "markdown",
   "metadata": {},
   "source": [
    "El área bajo una curva ROC es una medida de la utilidad de una prueba en general, donde un área mayor significa una prueba más útil y las áreas bajo curvas ROC se usan para comparar la utilidad de las pruebas. En general, busquemos al algoritmo con el AUC más alto."
   ]
  },
  {
   "cell_type": "code",
   "execution_count": 46,
   "metadata": {},
   "outputs": [
    {
     "data": {
      "text/plain": [
       "0.9924528301886792"
      ]
     },
     "execution_count": 46,
     "metadata": {},
     "output_type": "execute_result"
    }
   ],
   "source": [
    "roc_auc # cercano a 1"
   ]
  },
  {
   "cell_type": "markdown",
   "metadata": {},
   "source": [
    "## Resumen\n",
    "\n",
    "En este capítulo, se aprendió sobre otro aprendizaje automático supervisado algoritmo: regresión logística. Primero aprendimos sobre la función logit y cómo transformarlo en una función sigmoidea. Luego aplicó la regresión logística al conjunto de datos de cáncer de mama y la usó para predecir si un tumor es maligno o benigno Más importante aún, este capítulo discutió algunas de las métricas que son útiles para determinar la efectividad de un algoritmo de aprendizaje automático. Además, aprendió sobre qué es una curva ROC, cómo trazarla y cómo\n",
    "para calcular el área debajo de la curva."
   ]
  }
 ],
 "metadata": {
  "kernelspec": {
   "display_name": "Python 3",
   "language": "python",
   "name": "python3"
  },
  "language_info": {
   "codemirror_mode": {
    "name": "ipython",
    "version": 3
   },
   "file_extension": ".py",
   "mimetype": "text/x-python",
   "name": "python",
   "nbconvert_exporter": "python",
   "pygments_lexer": "ipython3",
   "version": "3.6.8"
  }
 },
 "nbformat": 4,
 "nbformat_minor": 2
}
