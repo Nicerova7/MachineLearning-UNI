{
 "cells": [
  {
   "cell_type": "markdown",
   "metadata": {},
   "source": [
    "## Estadisticos proporcionados por Scikit-learn\n",
    "\n",
    "Como en todo curso de machine learning tenemos que tener muy en cuenta los estadisticos necesarios que nos ayudaran a modelar la data correctamente y ajustarlo de la mejor manera."
   ]
  },
  {
   "cell_type": "markdown",
   "metadata": {},
   "source": [
    "### Examinando el rendimiento del modelo por suma del cuadrado de los residuos \n",
    "\n",
    "En español **SCE** (suma de los cuadrados residuales, aqui la E se pone en vez de R porque necesitamos invocar luego a SCR que es Suma de Cuadrados de la Regresión) y en ingles sería **RSS** ( Residual Sum Squares ).\n",
    "\n",
    "Ahora para saber si nuestro modelo esta bien ajustado usaremos este estadístico llamado RSS en inglés."
   ]
  },
  {
   "cell_type": "code",
   "execution_count": 1,
   "metadata": {},
   "outputs": [],
   "source": [
    "import numpy as np\n",
    "\n",
    "from sklearn.linear_model import LinearRegression\n",
    "\n",
    "import matplotlib.pyplot as plt"
   ]
  },
  {
   "cell_type": "code",
   "execution_count": 2,
   "metadata": {},
   "outputs": [
    {
     "data": {
      "text/plain": [
       "LinearRegression(copy_X=True, fit_intercept=True, n_jobs=None,\n",
       "         normalize=False)"
      ]
     },
     "execution_count": 2,
     "metadata": {},
     "output_type": "execute_result"
    }
   ],
   "source": [
    "heights = [[1.6], [1.65], [1.7], [1.73], [1.8]] # alturas en m\n",
    "\n",
    "weights = [[60], [65], [72.3], [75], [80]] # esos en Kg\n",
    "\n",
    "model = LinearRegression()\n",
    "model.fit(X = heights, y = weights)"
   ]
  },
  {
   "cell_type": "markdown",
   "metadata": {},
   "source": [
    "#### El calculo de RSS \n",
    "\n",
    "Se hace de la siguiente manera: \n",
    "* restando los valores originales con los valores predecidos por el modelo y elevando al cuadrado.\n",
    "\n",
    "![](RSSformula.png)"
   ]
  },
  {
   "cell_type": "code",
   "execution_count": 3,
   "metadata": {},
   "outputs": [
    {
     "data": {
      "text/plain": [
       "5.336432246998277"
      ]
     },
     "execution_count": 3,
     "metadata": {},
     "output_type": "execute_result"
    }
   ],
   "source": [
    "np.sum((weights - model.predict(heights))**2)"
   ]
  },
  {
   "cell_type": "markdown",
   "metadata": {},
   "source": [
    "![](RSS.png)\n",
    "\n",
    "Se ve claramente como un RSS de tamaño 0 nos indicaría un error minimo el cual reflejaría que el modelo pasa exactamente por los puntos dados en un principio, aunque esto es muy raro encontrarlo en la vida real."
   ]
  },
  {
   "cell_type": "markdown",
   "metadata": {},
   "source": [
    "### Evaluando el modelo usando un dataset de prueba\n",
    "\n",
    "Podemos evaluar con otro estadistico que nos ayudara a verificar que tan bueno es nuestro modelo, este estadístico se llama coeficiente de determinación o también conocido como el método de R-cuadrado.\n",
    "\n",
    "Este se calcula de la siguiente manera:\n",
    "![](R-squared.png)\n",
    "\n",
    "Siendo TSS: Total sum squared o suma total de cuadrados y que se calcula sumando la diferencia entre los valores y y su respectiva media todo esto al cuadrado."
   ]
  },
  {
   "cell_type": "code",
   "execution_count": 4,
   "metadata": {},
   "outputs": [],
   "source": [
    "# test data\n",
    "\n",
    "heights_test = [[1.58], [1.62], [1.69], [1.76], [1.82]]\n",
    "weights_test = [[58], [63], [72], [73], [85]]"
   ]
  },
  {
   "cell_type": "code",
   "execution_count": 5,
   "metadata": {},
   "outputs": [
    {
     "data": {
      "text/plain": [
       "0.94"
      ]
     },
     "execution_count": 5,
     "metadata": {},
     "output_type": "execute_result"
    }
   ],
   "source": [
    "#TSS\n",
    "weights_test_mean = np.mean(np.ravel(weights_test))\n",
    "TSS = np.sum((np.ravel(weights_test)-weights_test_mean)**2)\n",
    "round(TSS,2)\n",
    "\n",
    "#RSS (SCE)\n",
    "RSS = np.sum((np.ravel(weights_test)-np.ravel(model.predict(heights_test)))**2)\n",
    "round(RSS,2)\n",
    "\n",
    "#R-squared (R-cuadrado)\n",
    "R_squared = 1 - (RSS / TSS)\n",
    "round(R_squared,2)\n"
   ]
  },
  {
   "cell_type": "markdown",
   "metadata": {},
   "source": [
    "Nota : ravel convierte un array bidimensional en una unidimensional \n",
    "\n",
    "   * TSS = 430.80\n",
    "   * RSS = 24.62\n",
    "   * R-squared = 0.94\n",
    "   \n",
    "Afortunadamente podemos calcular R-squared sin hacer todo estos pasos y esto se logra con ayuda de la libreria Scikit-learn."
   ]
  },
  {
   "cell_type": "code",
   "execution_count": 6,
   "metadata": {},
   "outputs": [
    {
     "data": {
      "text/plain": [
       "0.9428592885995253"
      ]
     },
     "execution_count": 6,
     "metadata": {},
     "output_type": "execute_result"
    }
   ],
   "source": [
    "R_squared = model.score(heights_test, weights_test)\n",
    "R_squared"
   ]
  },
  {
   "cell_type": "markdown",
   "metadata": {},
   "source": [
    "Este valor de R-squared representa la proporcion de la varianza para la variable dependiente que se explica por una variable independiente ( un y dependiendo de un x ).\n",
    "\n",
    "Este valor esta descrito en porcentaje y recordando que una correlación explica la fuerza de relación entre una variable dependiente e independiente, R-cuadrado explica en que medida la varianza de una variable explica la varianza de una segunda variable, Por lo tanto un valor de 50% o 0.5 nos indica que la mitad de la variación observada puede explicarse por las entradas del modelo."
   ]
  },
  {
   "cell_type": "markdown",
   "metadata": {},
   "source": [
    "### Persistiendo el modelo\n",
    "\n",
    "Una vez entrenado el modelo, podemos guardarlo para poder usarlo posteriormente. Es decir podemos tener nuevos datos y en vez de reentrenar nuestro modelo podemos cargar el modelo ya entrenado para ser usado inmediatamente que queramos.\n",
    "\n",
    "Existen dos maneras de guardar nuestro modelo:\n",
    "   * Usando el módulo estándar pickle para serializar o deserializar objetos.\n",
    "   * Usando el módulo joblib en scikit-learn para guardar y cargar objetos que tratan con datos Numpy."
   ]
  },
  {
   "cell_type": "code",
   "execution_count": 7,
   "metadata": {},
   "outputs": [],
   "source": [
    "import pickle"
   ]
  },
  {
   "cell_type": "code",
   "execution_count": 8,
   "metadata": {},
   "outputs": [],
   "source": [
    "filename = 'HeightsAndWeights_model.sav'\n",
    "\n",
    "# Guardar (Write) en modo binario (Binary) -> wb\n",
    "pickle.dump(model, open(filename, 'wb'))"
   ]
  },
  {
   "cell_type": "code",
   "execution_count": 9,
   "metadata": {},
   "outputs": [],
   "source": [
    "# Cargamos el modelo \n",
    "\n",
    "# Leer (Read) en modo binario (Binary) -> rb\n",
    "loaded_model = pickle.load(open(filename, 'rb'))"
   ]
  },
  {
   "cell_type": "code",
   "execution_count": 10,
   "metadata": {},
   "outputs": [
    {
     "data": {
      "text/plain": [
       "0.9428592885995253"
      ]
     },
     "execution_count": 10,
     "metadata": {},
     "output_type": "execute_result"
    }
   ],
   "source": [
    "result = loaded_model.score(heights_test, weights_test)\n",
    "result # R-squared"
   ]
  },
  {
   "cell_type": "code",
   "execution_count": 11,
   "metadata": {},
   "outputs": [],
   "source": [
    "from sklearn.externals import joblib"
   ]
  },
  {
   "cell_type": "code",
   "execution_count": 12,
   "metadata": {},
   "outputs": [],
   "source": [
    "# guardando en el disco\n",
    "\n",
    "filename = 'HeightsAndWeights_model2.sav'\n",
    "joblib.dump(model, open(filename, 'wb'))"
   ]
  },
  {
   "cell_type": "code",
   "execution_count": 13,
   "metadata": {},
   "outputs": [
    {
     "data": {
      "text/plain": [
       "0.9428592885995253"
      ]
     },
     "execution_count": 13,
     "metadata": {},
     "output_type": "execute_result"
    }
   ],
   "source": [
    "# Cargando\n",
    "\n",
    "loaded_model = joblib.load(filename)\n",
    "result = loaded_model.score(heights_test, weights_test)\n",
    "result # R-cuadrado"
   ]
  }
 ],
 "metadata": {
  "kernelspec": {
   "display_name": "Python 2",
   "language": "python",
   "name": "python2"
  },
  "language_info": {
   "codemirror_mode": {
    "name": "ipython",
    "version": 2
   },
   "file_extension": ".py",
   "mimetype": "text/x-python",
   "name": "python",
   "nbconvert_exporter": "python",
   "pygments_lexer": "ipython2",
   "version": "2.7.12"
  }
 },
 "nbformat": 4,
 "nbformat_minor": 2
}
