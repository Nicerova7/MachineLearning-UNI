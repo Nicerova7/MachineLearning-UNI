{
 "cells": [
  {
   "cell_type": "markdown",
   "metadata": {},
   "source": [
    "## Comenzando a modelar con Scikit-Learn"
   ]
  },
  {
   "cell_type": "markdown",
   "metadata": {},
   "source": [
    "El más sencillo de los problemas y con el cual siempre se comienza en el mundo del machine learning es la **regresión lineal**.\n",
    "\n",
    "Una regresión lineal es un enfoque lineal para modelar la relación entre una variable escalar dependiente **y** y una o más variables explicativas (o variables independientes)."
   ]
  },
  {
   "cell_type": "code",
   "execution_count": 11,
   "metadata": {},
   "outputs": [],
   "source": [
    "%matplotlib inline\n",
    "import matplotlib.pyplot as plt\n",
    "import numpy as np"
   ]
  },
  {
   "cell_type": "code",
   "execution_count": 16,
   "metadata": {},
   "outputs": [
    {
     "data": {
      "image/png": "[encoded data removed]",
      "text/plain": [
       "<Figure size 432x288 with 1 Axes>"
      ]
     },
     "metadata": {
      "needs_background": "light"
     },
     "output_type": "display_data"
    }
   ],
   "source": [
    "heights = [[1.6], [1.65], [1.7], [1.73], [1.8]] # alturas en m\n",
    "\n",
    "weights = [[60], [65], [72.3], [75], [80]] # esos en Kg\n",
    "\n",
    "plt.title(\"Pesos vs alturas\")\n",
    "plt.xlabel(\"Alturas en metros\")\n",
    "plt.ylabel(\"Pesos en kg\")\n",
    "plt.plot(heights,weights,'k.')\n",
    "\n",
    "plt.axis([1.5, 1.85,50, 90]) # rangos de valores: xi,xf , yi,yf\n",
    "plt.grid(True)"
   ]
  },
  {
   "cell_type": "markdown",
   "metadata": {},
   "source": [
    "Se observa una relación lineal entre la talla y el peso de una persona, entonces podemos \"predecir\" o estimar el peso de una persona si tenemos su altura."
   ]
  },
  {
   "cell_type": "markdown",
   "metadata": {},
   "source": [
    "### Usando la clase regresión lineal para ajustar el modelo\n",
    "\n",
    "Queremos trazar una recta que pase por todos los puntos o almenos que se acerque lo más posible a cada uno de ellos, esto podemos hacerlo con la librería Scikit-Learn en especifico con clase LinearRegression."
   ]
  },
  {
   "cell_type": "code",
   "execution_count": 17,
   "metadata": {},
   "outputs": [],
   "source": [
    "from sklearn.linear_model import LinearRegression"
   ]
  },
  {
   "cell_type": "markdown",
   "metadata": {},
   "source": [
    "Tenemos primero que definir que modelo queremos , en este caso una regresión lineal ( LinearRegression ) y luego modelamos con los datos que poseemos, en nuestro caso **heights** y **weights**."
   ]
  },
  {
   "cell_type": "code",
   "execution_count": 18,
   "metadata": {},
   "outputs": [
    {
     "data": {
      "text/plain": [
       "LinearRegression(copy_X=True, fit_intercept=True, n_jobs=None,\n",
       "         normalize=False)"
      ]
     },
     "execution_count": 18,
     "metadata": {},
     "output_type": "execute_result"
    }
   ],
   "source": [
    "model = LinearRegression()\n",
    "model.fit(X = heights, y = weights)"
   ]
  },
  {
   "cell_type": "markdown",
   "metadata": {},
   "source": [
    "Observar como heights tiene dos dimensiones (5,1), y tambien weight!"
   ]
  },
  {
   "cell_type": "code",
   "execution_count": 20,
   "metadata": {},
   "outputs": [
    {
     "data": {
      "text/plain": [
       "(5, 1)"
      ]
     },
     "execution_count": 20,
     "metadata": {},
     "output_type": "execute_result"
    }
   ],
   "source": [
    "checkheights = np.array(heights)\n",
    "checkheights.shape"
   ]
  },
  {
   "cell_type": "code",
   "execution_count": 21,
   "metadata": {},
   "outputs": [
    {
     "data": {
      "text/plain": [
       "(5, 1)"
      ]
     },
     "execution_count": 21,
     "metadata": {},
     "output_type": "execute_result"
    }
   ],
   "source": [
    "checkweights = np.array(weights)\n",
    "checkweights.shape"
   ]
  },
  {
   "cell_type": "markdown",
   "metadata": {},
   "source": [
    "Esto se debe a que la función fit requiere tanto los argumentos X e Y requiere que sean bidimensionales."
   ]
  },
  {
   "cell_type": "markdown",
   "metadata": {},
   "source": [
    "### Haciendo predicciones\n",
    "\n",
    "Una vez ya ajustado nuestro modelo con los datos podemos realizar predicciones de la siguiente manera."
   ]
  },
  {
   "cell_type": "code",
   "execution_count": 24,
   "metadata": {},
   "outputs": [
    {
     "data": {
      "text/plain": [
       "76.04"
      ]
     },
     "execution_count": 24,
     "metadata": {},
     "output_type": "execute_result"
    }
   ],
   "source": [
    "weight = model.predict([[1.75]])[0][0]\n",
    "round(weight,2) # mostramos con una aproximación de 2 digitos"
   ]
  },
  {
   "cell_type": "markdown",
   "metadata": {},
   "source": [
    "Como vimos se puede realizar predicciones con la funcion predict y pasandole una variable tipo bidimensional.\n",
    "Aqui se observa como para un tamaño de 1.75 m una persona pesará alrededor de 76.04 kg."
   ]
  },
  {
   "cell_type": "markdown",
   "metadata": {},
   "source": [
    "### Graficando una linea de regresión lineal\n",
    "\n",
    "Como siempre debemos gráficar nuestro modelo para tener una visión más clara de lo que esta sucediendo."
   ]
  },
  {
   "cell_type": "code",
   "execution_count": 25,
   "metadata": {},
   "outputs": [
    {
     "data": {
      "text/plain": [
       "[<matplotlib.lines.Line2D at 0x7f8c9f0b76d0>]"
      ]
     },
     "execution_count": 25,
     "metadata": {},
     "output_type": "execute_result"
    },
    {
     "data": {
      "image/png": "[encoded data removed]",
      "text/plain": [
       "<Figure size 432x288 with 1 Axes>"
      ]
     },
     "metadata": {
      "needs_background": "light"
     },
     "output_type": "display_data"
    }
   ],
   "source": [
    "plt.title(\"Pesos vs Alturas\")\n",
    "plt.xlabel(\"Altura en metros\")\n",
    "plt.ylabel(\"Peso en kg\")\n",
    "plt.grid(True)\n",
    "\n",
    "plt.axis([1.5, 1.85, 50, 90])\n",
    "plt.plot(heights, weights, 'k.')\n",
    "plt.plot(heights, model.predict(heights), color = 'r')"
   ]
  },
  {
   "cell_type": "markdown",
   "metadata": {},
   "source": [
    "### Obteniendo el gradiente e interceptandolo con la linea de Regresión lineal\n",
    "\n",
    "Debido a que si bien la linea muestra como se acerca a los puntos no sabemos exactamente en que valor la recta se intersecta con el eje y, y esto es debido a que nuestro dato comienza desde 1.60 pero podemos solucionarlo de la siguiente manera:"
   ]
  },
  {
   "cell_type": "code",
   "execution_count": 34,
   "metadata": {},
   "outputs": [
    {
     "data": {
      "text/plain": [
       "[<matplotlib.lines.Line2D at 0x7f8c9f0b1550>]"
      ]
     },
     "execution_count": 34,
     "metadata": {},
     "output_type": "execute_result"
    },
    {
     "data": {
      "image/png": "[encoded data removed]",
      "text/plain": [
       "<Figure size 432x288 with 1 Axes>"
      ]
     },
     "metadata": {
      "needs_background": "light"
     },
     "output_type": "display_data"
    }
   ],
   "source": [
    "plt.title(\"Pesos vs Alturas\")\n",
    "plt.xlabel(\"Altura en metros\")\n",
    "plt.ylabel(\"Peso en kg\")\n",
    "plt.grid(True)\n",
    "\n",
    "plt.plot(heights, weights, 'k.') # k. indica punto con punto (no linea)\n",
    "plt.axis([0,1.85, -200,200])\n",
    "\n",
    "extreme_heights = [[0], [1.8]]\n",
    "plt.plot(extreme_heights, model.predict(extreme_heights), color = 'r') # una linea"
   ]
  },
  {
   "cell_type": "code",
   "execution_count": 37,
   "metadata": {},
   "outputs": [
    {
     "data": {
      "text/plain": [
       "array([[-104.75454545],\n",
       "       [  81.20428816]])"
      ]
     },
     "execution_count": 37,
     "metadata": {},
     "output_type": "execute_result"
    }
   ],
   "source": [
    "model.predict(extreme_heights) # vemos que es bidimensional , si queremos el valor en si mismo agregamos [0][0] \n",
    "                               # como lo hizimos previamente"
   ]
  },
  {
   "cell_type": "markdown",
   "metadata": {},
   "source": [
    "Intersección con el eje y en ..."
   ]
  },
  {
   "cell_type": "code",
   "execution_count": 43,
   "metadata": {},
   "outputs": [
    {
     "data": {
      "text/plain": [
       "-104.75"
      ]
     },
     "execution_count": 43,
     "metadata": {},
     "output_type": "execute_result"
    }
   ],
   "source": [
    "round(model.predict([[0]])[0][0],2)"
   ]
  },
  {
   "cell_type": "markdown",
   "metadata": {},
   "source": [
    "O tambien podemos usar"
   ]
  },
  {
   "cell_type": "code",
   "execution_count": 49,
   "metadata": {},
   "outputs": [
    {
     "data": {
      "text/plain": [
       "-104.75"
      ]
     },
     "execution_count": 49,
     "metadata": {},
     "output_type": "execute_result"
    }
   ],
   "source": [
    "round(model.intercept_[0],2) # de nuevo ponemos 0 para quedarnos con el valor en si mismo y no un array"
   ]
  },
  {
   "cell_type": "markdown",
   "metadata": {},
   "source": [
    "Y obtenemos la gradiente de esta manera:"
   ]
  },
  {
   "cell_type": "code",
   "execution_count": 50,
   "metadata": {},
   "outputs": [
    {
     "data": {
      "text/plain": [
       "103.31"
      ]
     },
     "execution_count": 50,
     "metadata": {},
     "output_type": "execute_result"
    }
   ],
   "source": [
    "round(model.coef_[0],2)"
   ]
  }
 ],
 "metadata": {
  "kernelspec": {
   "display_name": "Python 2",
   "language": "python",
   "name": "python2"
  },
  "language_info": {
   "codemirror_mode": {
    "name": "ipython",
    "version": 2
   },
   "file_extension": ".py",
   "mimetype": "text/x-python",
   "name": "python",
   "nbconvert_exporter": "python",
   "pygments_lexer": "ipython2",
   "version": "2.7.12"
  }
 },
 "nbformat": 4,
 "nbformat_minor": 2
}
