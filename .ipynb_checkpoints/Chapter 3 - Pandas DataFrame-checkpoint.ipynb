{
 "cells": [
  {
   "cell_type": "markdown",
   "metadata": {},
   "source": [
    "## Pandas DataFrame"
   ]
  },
  {
   "cell_type": "markdown",
   "metadata": {},
   "source": [
    "* Un DataFrame es un array de dos dimensiones, puedes pensar que es una tabla.\n",
    "* A diferencia de una Serie aqui tenemos más de 1 sola columna (a parte del indice).\n",
    "\n",
    "En el mundo real la data se guarda muy similar a un dataFrame."
   ]
  },
  {
   "cell_type": "code",
   "execution_count": 2,
   "metadata": {},
   "outputs": [],
   "source": [
    "import pandas as pd\n",
    "import numpy as np"
   ]
  },
  {
   "cell_type": "code",
   "execution_count": 3,
   "metadata": {},
   "outputs": [],
   "source": [
    "df = pd.DataFrame(np.random.randn(10,4), columns = list('ABCD'))"
   ]
  },
  {
   "cell_type": "code",
   "execution_count": 5,
   "metadata": {},
   "outputs": [
    {
     "data": {
      "text/html": [
       "<div>\n",
       "<style scoped>\n",
       "    .dataframe tbody tr th:only-of-type {\n",
       "        vertical-align: middle;\n",
       "    }\n",
       "\n",
       "    .dataframe tbody tr th {\n",
       "        vertical-align: top;\n",
       "    }\n",
       "\n",
       "    .dataframe thead th {\n",
       "        text-align: right;\n",
       "    }\n",
       "</style>\n",
       "<table border=\"1\" class=\"dataframe\">\n",
       "  <thead>\n",
       "    <tr style=\"text-align: right;\">\n",
       "      <th></th>\n",
       "      <th>A</th>\n",
       "      <th>B</th>\n",
       "      <th>C</th>\n",
       "      <th>D</th>\n",
       "    </tr>\n",
       "  </thead>\n",
       "  <tbody>\n",
       "    <tr>\n",
       "      <th>0</th>\n",
       "      <td>0.650830</td>\n",
       "      <td>-0.140188</td>\n",
       "      <td>0.633757</td>\n",
       "      <td>0.558017</td>\n",
       "    </tr>\n",
       "    <tr>\n",
       "      <th>1</th>\n",
       "      <td>-0.967836</td>\n",
       "      <td>-0.669529</td>\n",
       "      <td>0.644246</td>\n",
       "      <td>0.630821</td>\n",
       "    </tr>\n",
       "    <tr>\n",
       "      <th>2</th>\n",
       "      <td>0.848259</td>\n",
       "      <td>1.313977</td>\n",
       "      <td>1.424618</td>\n",
       "      <td>0.423067</td>\n",
       "    </tr>\n",
       "    <tr>\n",
       "      <th>3</th>\n",
       "      <td>-0.545347</td>\n",
       "      <td>0.040032</td>\n",
       "      <td>-0.146321</td>\n",
       "      <td>-2.718542</td>\n",
       "    </tr>\n",
       "    <tr>\n",
       "      <th>4</th>\n",
       "      <td>-1.883369</td>\n",
       "      <td>0.619740</td>\n",
       "      <td>-1.222427</td>\n",
       "      <td>-0.089802</td>\n",
       "    </tr>\n",
       "    <tr>\n",
       "      <th>5</th>\n",
       "      <td>0.071046</td>\n",
       "      <td>-0.817748</td>\n",
       "      <td>0.450165</td>\n",
       "      <td>-0.485034</td>\n",
       "    </tr>\n",
       "    <tr>\n",
       "      <th>6</th>\n",
       "      <td>0.462691</td>\n",
       "      <td>1.671004</td>\n",
       "      <td>0.236965</td>\n",
       "      <td>0.319174</td>\n",
       "    </tr>\n",
       "    <tr>\n",
       "      <th>7</th>\n",
       "      <td>0.235726</td>\n",
       "      <td>-0.996173</td>\n",
       "      <td>0.862344</td>\n",
       "      <td>0.994417</td>\n",
       "    </tr>\n",
       "    <tr>\n",
       "      <th>8</th>\n",
       "      <td>-0.187727</td>\n",
       "      <td>-1.296308</td>\n",
       "      <td>-1.124890</td>\n",
       "      <td>-0.453353</td>\n",
       "    </tr>\n",
       "    <tr>\n",
       "      <th>9</th>\n",
       "      <td>0.815142</td>\n",
       "      <td>0.529395</td>\n",
       "      <td>-1.288003</td>\n",
       "      <td>0.037029</td>\n",
       "    </tr>\n",
       "  </tbody>\n",
       "</table>\n",
       "</div>"
      ],
      "text/plain": [
       "          A         B         C         D\n",
       "0  0.650830 -0.140188  0.633757  0.558017\n",
       "1 -0.967836 -0.669529  0.644246  0.630821\n",
       "2  0.848259  1.313977  1.424618  0.423067\n",
       "3 -0.545347  0.040032 -0.146321 -2.718542\n",
       "4 -1.883369  0.619740 -1.222427 -0.089802\n",
       "5  0.071046 -0.817748  0.450165 -0.485034\n",
       "6  0.462691  1.671004  0.236965  0.319174\n",
       "7  0.235726 -0.996173  0.862344  0.994417\n",
       "8 -0.187727 -1.296308 -1.124890 -0.453353\n",
       "9  0.815142  0.529395 -1.288003  0.037029"
      ]
     },
     "execution_count": 5,
     "metadata": {},
     "output_type": "execute_result"
    }
   ],
   "source": [
    "df"
   ]
  },
  {
   "cell_type": "markdown",
   "metadata": {},
   "source": [
    "### Leer un archivo csv con pandas"
   ]
  },
  {
   "cell_type": "code",
   "execution_count": 10,
   "metadata": {},
   "outputs": [
    {
     "data": {
      "text/html": [
       "<div>\n",
       "<style scoped>\n",
       "    .dataframe tbody tr th:only-of-type {\n",
       "        vertical-align: middle;\n",
       "    }\n",
       "\n",
       "    .dataframe tbody tr th {\n",
       "        vertical-align: top;\n",
       "    }\n",
       "\n",
       "    .dataframe thead th {\n",
       "        text-align: right;\n",
       "    }\n",
       "</style>\n",
       "<table border=\"1\" class=\"dataframe\">\n",
       "  <thead>\n",
       "    <tr style=\"text-align: right;\">\n",
       "      <th></th>\n",
       "      <th>A</th>\n",
       "      <th>B</th>\n",
       "      <th>C</th>\n",
       "      <th>D</th>\n",
       "    </tr>\n",
       "  </thead>\n",
       "  <tbody>\n",
       "    <tr>\n",
       "      <th>0</th>\n",
       "      <td>0.187497</td>\n",
       "      <td>1.122150</td>\n",
       "      <td>-0.988277</td>\n",
       "      <td>-1.985934</td>\n",
       "    </tr>\n",
       "    <tr>\n",
       "      <th>1</th>\n",
       "      <td>0.360803</td>\n",
       "      <td>-0.562243</td>\n",
       "      <td>-0.340693</td>\n",
       "      <td>-0.986988</td>\n",
       "    </tr>\n",
       "    <tr>\n",
       "      <th>2</th>\n",
       "      <td>-0.040627</td>\n",
       "      <td>0.067333</td>\n",
       "      <td>-0.452978</td>\n",
       "      <td>0.686223</td>\n",
       "    </tr>\n",
       "    <tr>\n",
       "      <th>3</th>\n",
       "      <td>-0.279572</td>\n",
       "      <td>-0.702492</td>\n",
       "      <td>0.252265</td>\n",
       "      <td>0.958977</td>\n",
       "    </tr>\n",
       "    <tr>\n",
       "      <th>4</th>\n",
       "      <td>0.537438</td>\n",
       "      <td>-1.737568</td>\n",
       "      <td>0.714727</td>\n",
       "      <td>-0.939288</td>\n",
       "    </tr>\n",
       "  </tbody>\n",
       "</table>\n",
       "</div>"
      ],
      "text/plain": [
       "          A         B         C         D\n",
       "0  0.187497  1.122150 -0.988277 -1.985934\n",
       "1  0.360803 -0.562243 -0.340693 -0.986988\n",
       "2 -0.040627  0.067333 -0.452978  0.686223\n",
       "3 -0.279572 -0.702492  0.252265  0.958977\n",
       "4  0.537438 -1.737568  0.714727 -0.939288"
      ]
     },
     "execution_count": 10,
     "metadata": {},
     "output_type": "execute_result"
    }
   ],
   "source": [
    "df = pd.read_csv('prueba.csv')\n",
    "df.head()"
   ]
  },
  {
   "cell_type": "markdown",
   "metadata": {},
   "source": [
    "### Agregando indice personalizado"
   ]
  },
  {
   "cell_type": "code",
   "execution_count": 12,
   "metadata": {},
   "outputs": [],
   "source": [
    "df = pd.read_csv('prueba.csv')\n",
    "days = pd.date_range('20190827', periods = 10)\n",
    "df.index = days"
   ]
  },
  {
   "cell_type": "code",
   "execution_count": 13,
   "metadata": {},
   "outputs": [
    {
     "data": {
      "text/html": [
       "<div>\n",
       "<style scoped>\n",
       "    .dataframe tbody tr th:only-of-type {\n",
       "        vertical-align: middle;\n",
       "    }\n",
       "\n",
       "    .dataframe tbody tr th {\n",
       "        vertical-align: top;\n",
       "    }\n",
       "\n",
       "    .dataframe thead th {\n",
       "        text-align: right;\n",
       "    }\n",
       "</style>\n",
       "<table border=\"1\" class=\"dataframe\">\n",
       "  <thead>\n",
       "    <tr style=\"text-align: right;\">\n",
       "      <th></th>\n",
       "      <th>A</th>\n",
       "      <th>B</th>\n",
       "      <th>C</th>\n",
       "      <th>D</th>\n",
       "    </tr>\n",
       "  </thead>\n",
       "  <tbody>\n",
       "    <tr>\n",
       "      <th>2019-08-27</th>\n",
       "      <td>0.187497</td>\n",
       "      <td>1.122150</td>\n",
       "      <td>-0.988277</td>\n",
       "      <td>-1.985934</td>\n",
       "    </tr>\n",
       "    <tr>\n",
       "      <th>2019-08-28</th>\n",
       "      <td>0.360803</td>\n",
       "      <td>-0.562243</td>\n",
       "      <td>-0.340693</td>\n",
       "      <td>-0.986988</td>\n",
       "    </tr>\n",
       "    <tr>\n",
       "      <th>2019-08-29</th>\n",
       "      <td>-0.040627</td>\n",
       "      <td>0.067333</td>\n",
       "      <td>-0.452978</td>\n",
       "      <td>0.686223</td>\n",
       "    </tr>\n",
       "    <tr>\n",
       "      <th>2019-08-30</th>\n",
       "      <td>-0.279572</td>\n",
       "      <td>-0.702492</td>\n",
       "      <td>0.252265</td>\n",
       "      <td>0.958977</td>\n",
       "    </tr>\n",
       "    <tr>\n",
       "      <th>2019-08-31</th>\n",
       "      <td>0.537438</td>\n",
       "      <td>-1.737568</td>\n",
       "      <td>0.714727</td>\n",
       "      <td>-0.939288</td>\n",
       "    </tr>\n",
       "  </tbody>\n",
       "</table>\n",
       "</div>"
      ],
      "text/plain": [
       "                   A         B         C         D\n",
       "2019-08-27  0.187497  1.122150 -0.988277 -1.985934\n",
       "2019-08-28  0.360803 -0.562243 -0.340693 -0.986988\n",
       "2019-08-29 -0.040627  0.067333 -0.452978  0.686223\n",
       "2019-08-30 -0.279572 -0.702492  0.252265  0.958977\n",
       "2019-08-31  0.537438 -1.737568  0.714727 -0.939288"
      ]
     },
     "execution_count": 13,
     "metadata": {},
     "output_type": "execute_result"
    }
   ],
   "source": [
    "df.head()"
   ]
  },
  {
   "cell_type": "code",
   "execution_count": 15,
   "metadata": {},
   "outputs": [
    {
     "data": {
      "text/plain": [
       "DatetimeIndex(['2019-08-27', '2019-08-28', '2019-08-29', '2019-08-30',\n",
       "               '2019-08-31', '2019-09-01', '2019-09-02', '2019-09-03',\n",
       "               '2019-09-04', '2019-09-05'],\n",
       "              dtype='datetime64[ns]', freq='D')"
      ]
     },
     "execution_count": 15,
     "metadata": {},
     "output_type": "execute_result"
    }
   ],
   "source": [
    "df.index"
   ]
  },
  {
   "cell_type": "code",
   "execution_count": 16,
   "metadata": {},
   "outputs": [
    {
     "data": {
      "text/plain": [
       "array([[ 1.874970e-01,  1.122150e+00, -9.882770e-01, -1.985934e+00],\n",
       "       [ 3.608030e-01, -5.622430e-01, -3.406930e-01, -9.869880e-01],\n",
       "       [-4.062700e-02,  6.733300e-02, -4.529780e-01,  6.862230e-01],\n",
       "       [-2.795720e-01, -7.024920e-01,  2.522650e-01,  9.589770e-01],\n",
       "       [ 5.374380e-01, -1.737568e+00,  7.147270e-01, -9.392880e-01],\n",
       "       [ 7.001100e-02, -5.164430e-01, -1.655689e+00,  2.467210e-01],\n",
       "       [ 1.268000e-03,  9.515170e-01,  2.107360e+00, -1.087260e-01],\n",
       "       [-1.852580e-01,  8.565200e-01, -6.862850e-01,  1.104195e+00],\n",
       "       [ 3.870230e-01,  1.706336e+00, -2.452653e+00,  2.604660e-01],\n",
       "       [-1.054974e+00,  5.567750e-01, -9.452190e-01, -3.029500e-02]])"
      ]
     },
     "execution_count": 16,
     "metadata": {},
     "output_type": "execute_result"
    }
   ],
   "source": [
    "df.values"
   ]
  },
  {
   "cell_type": "code",
   "execution_count": null,
   "metadata": {},
   "outputs": [],
   "source": []
  }
 ],
 "metadata": {
  "kernelspec": {
   "display_name": "Python 2",
   "language": "python",
   "name": "python2"
  },
  "language_info": {
   "codemirror_mode": {
    "name": "ipython",
    "version": 2
   },
   "file_extension": ".py",
   "mimetype": "text/x-python",
   "name": "python",
   "nbconvert_exporter": "python",
   "pygments_lexer": "ipython2",
   "version": "2.7.12"
  }
 },
 "nbformat": 4,
 "nbformat_minor": 2
}
