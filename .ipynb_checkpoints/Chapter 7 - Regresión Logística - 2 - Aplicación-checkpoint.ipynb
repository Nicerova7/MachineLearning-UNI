{
 "cells": [
  {
   "cell_type": "markdown",
   "metadata": {},
   "source": [
    "## Regresión Logística - Aplicación"
   ]
  },
  {
   "cell_type": "code",
   "execution_count": 2,
   "metadata": {},
   "outputs": [],
   "source": [
    "import pandas as pd\n",
    "import matplotlib.pyplot as plt\n",
    "import matplotlib.patches as mpatches\n",
    "\n",
    "from sklearn.datasets import load_breast_cancer"
   ]
  },
  {
   "cell_type": "code",
   "execution_count": 105,
   "metadata": {},
   "outputs": [],
   "source": [
    "cancer = load_breast_cancer()\n",
    "\n",
    "x = cancer.data[:,0] # nos quedamos con media del radio\n",
    "y = cancer.target    # 0:maligno , 1:benigno\n",
    "\n",
    "colors = {0:'red', 1:'blue'} # 0:maligno,  1:benigno"
   ]
  },
  {
   "cell_type": "code",
   "execution_count": 20,
   "metadata": {},
   "outputs": [
    {
     "data": {
      "text/plain": [
       "<matplotlib.legend.Legend at 0x7f57fbfad898>"
      ]
     },
     "execution_count": 20,
     "metadata": {},
     "output_type": "execute_result"
    },
    {
     "data": {
      "image/png": "[encoded data removed]",
      "text/plain": [
       "<Figure size 432x288 with 1 Axes>"
      ]
     },
     "metadata": {
      "needs_background": "light"
     },
     "output_type": "display_data"
    }
   ],
   "source": [
    "plt.scatter(x,y,\n",
    "            facecolors='none', # adentro blanco\n",
    "            edgecolors=pd.DataFrame(cancer.target)[0].apply(lambda x: colors[x]), # contorno de colores\n",
    "            cmap = colors)\n",
    "\n",
    "plt.xlabel(\"Media del radio\")\n",
    "plt.ylabel(\"Resultado\")\n",
    "\n",
    "red = mpatches.Patch(color='red', label='Maligno')\n",
    "blue = mpatches.Patch(color='blue', label='Benigno')\n",
    "plt.legend(handles = [red,blue],loc=1)"
   ]
  },
  {
   "cell_type": "markdown",
   "metadata": {},
   "source": [
    "Como podemos ver aqui es más conveniente usar una regresión logística por la naturaleza binaria del resultado."
   ]
  },
  {
   "cell_type": "markdown",
   "metadata": {},
   "source": [
    "### Hallando el intercepto y los coeficientes\n",
    "\n",
    "Usaremos el packet scikit-learn para entrenar un modelo de regresión logístico."
   ]
  },
  {
   "cell_type": "code",
   "execution_count": 22,
   "metadata": {},
   "outputs": [],
   "source": [
    "from sklearn import linear_model\n",
    "import numpy as np"
   ]
  },
  {
   "cell_type": "code",
   "execution_count": 48,
   "metadata": {},
   "outputs": [],
   "source": [
    "log_reg = linear_model.LogisticRegression()"
   ]
  },
  {
   "cell_type": "code",
   "execution_count": 49,
   "metadata": {},
   "outputs": [
    {
     "name": "stderr",
     "output_type": "stream",
     "text": [
      "/home/nicerova/.local/lib/python3.6/site-packages/sklearn/linear_model/logistic.py:432: FutureWarning: Default solver will be changed to 'lbfgs' in 0.22. Specify a solver to silence this warning.\n",
      "  FutureWarning)\n"
     ]
    },
    {
     "data": {
      "text/plain": [
       "LogisticRegression(C=1.0, class_weight=None, dual=False, fit_intercept=True,\n",
       "                   intercept_scaling=1, l1_ratio=None, max_iter=100,\n",
       "                   multi_class='warn', n_jobs=None, penalty='l2',\n",
       "                   random_state=None, solver='warn', tol=0.0001, verbose=0,\n",
       "                   warm_start=False)"
      ]
     },
     "execution_count": 49,
     "metadata": {},
     "output_type": "execute_result"
    }
   ],
   "source": [
    "log_reg.fit(X = np.array(x).reshape(len(x),1),\n",
    "            y = y)"
   ]
  },
  {
   "cell_type": "code",
   "execution_count": 50,
   "metadata": {},
   "outputs": [
    {
     "name": "stdout",
     "output_type": "stream",
     "text": [
      "[8.19393897]\n",
      "[[-0.54291739]]\n"
     ]
    }
   ],
   "source": [
    "print(log_reg.intercept_)\n",
    "print(log_reg.coef_)"
   ]
  },
  {
   "cell_type": "markdown",
   "metadata": {},
   "source": [
    "Aqui obtuvimos los valores:\n",
    "* $\\beta_0 = 8.19393897$\n",
    "* $\\beta_1 = -0.54291739$"
   ]
  },
  {
   "cell_type": "markdown",
   "metadata": {},
   "source": [
    "### Dibujando la curva sigmoide"
   ]
  },
  {
   "cell_type": "code",
   "execution_count": 51,
   "metadata": {},
   "outputs": [],
   "source": [
    "def sigmoid(x):\n",
    "    return (1/ (1 + np.exp(-(log_reg.intercept_[0] + (log_reg.coef_[0][0]*x) )) ))"
   ]
  },
  {
   "cell_type": "code",
   "execution_count": 52,
   "metadata": {},
   "outputs": [],
   "source": [
    "x1 = np.arange(0,30, 0.01)\n",
    "y1 = [sigmoid(n) for n in x1]"
   ]
  },
  {
   "cell_type": "code",
   "execution_count": 55,
   "metadata": {},
   "outputs": [
    {
     "data": {
      "text/plain": [
       "Text(0, 0.5, 'Resultado')"
      ]
     },
     "execution_count": 55,
     "metadata": {},
     "output_type": "execute_result"
    },
    {
     "data": {
      "image/png": "[encoded data removed]",
      "text/plain": [
       "<Figure size 432x288 with 1 Axes>"
      ]
     },
     "metadata": {
      "needs_background": "light"
     },
     "output_type": "display_data"
    }
   ],
   "source": [
    "plt.scatter(x,y,\n",
    "            facecolors ='none',\n",
    "            edgecolors = pd.DataFrame(cancer.target)[0].apply(lambda x: colors[x]),\n",
    "            cmap = colors)\n",
    "\n",
    "plt.plot(x1,y1)\n",
    "plt.xlabel(\"Media del radio\")\n",
    "plt.ylabel(\"Resultado\")"
   ]
  },
  {
   "cell_type": "markdown",
   "metadata": {},
   "source": [
    "### Haciendo predicciones\n",
    "\n",
    "Haremos uso de ese modelo para realizar algunas predicciones por ejemplo con una radio de media 20:"
   ]
  },
  {
   "cell_type": "code",
   "execution_count": 77,
   "metadata": {},
   "outputs": [
    {
     "name": "stdout",
     "output_type": "stream",
     "text": [
      "[[20]]\n",
      "[[0.93489354 0.06510646]]\n",
      "0\n"
     ]
    }
   ],
   "source": [
    "t = np.array(20)\n",
    "t = t.reshape(-1,1)\n",
    "print(t)\n",
    "print(log_reg.predict_proba(t)) # [[0.934893)54 0.06510646]]\n",
    "print(log_reg.predict(t)[0])"
   ]
  },
  {
   "cell_type": "markdown",
   "metadata": {},
   "source": [
    "* El primer valor es un vector que indica el valor a analizar con el modelo, en este caso es único y es 20\n",
    "* La segunda salida es la probabilidad p que presenta este valor en el modelo asi como 1-p.\n",
    "* La tercera impresión indica en base a la probabilidad la clase a la que pertenecera... en este caso la predicción p es 0.934 muy cercano a uno por lo que el resultado será maligno (maligno = 0)"
   ]
  },
  {
   "cell_type": "code",
   "execution_count": 93,
   "metadata": {},
   "outputs": [
    {
     "name": "stdout",
     "output_type": "stream",
     "text": [
      "[[20]\n",
      " [ 8]]\n",
      "[[0.93489354 0.06510646]\n",
      " [0.02082411 0.97917589]]\n",
      "[0 1]\n"
     ]
    }
   ],
   "source": [
    "t = np.array([20,8])\n",
    "t = t.reshape(-1,1)\n",
    "print(t)\n",
    "print(log_reg.predict_proba(t))\n",
    "print(log_reg.predict(t))"
   ]
  },
  {
   "cell_type": "markdown",
   "metadata": {},
   "source": [
    "Aqui observamos como una media de radio 8 (segundo valor del vector) da un valor de benigno (benigno = 1)"
   ]
  },
  {
   "cell_type": "markdown",
   "metadata": {},
   "source": [
    "### Entrenando con todos los features (variables independientes)"
   ]
  },
  {
   "cell_type": "code",
   "execution_count": 95,
   "metadata": {},
   "outputs": [],
   "source": [
    "from sklearn.model_selection import train_test_split"
   ]
  },
  {
   "cell_type": "code",
   "execution_count": 94,
   "metadata": {},
   "outputs": [],
   "source": [
    "cancer = load_breast_cancer()"
   ]
  },
  {
   "cell_type": "code",
   "execution_count": 96,
   "metadata": {},
   "outputs": [],
   "source": [
    "train_set, test_set, train_labels, test_labels, = train_test_split(cancer.data,   # datos\n",
    "                                                                   cancer.target, # y \n",
    "                                                                   test_size = 0.25, # 75% datos para trainning\n",
    "                                                                   random_state = 1, # semilla\n",
    "                                                                   stratify = cancer.target) # random por labels"
   ]
  },
  {
   "cell_type": "markdown",
   "metadata": {},
   "source": [
    "**random_state:** La semilla del random para poder replicar de nuevo nuestro experimiento, si no hubieramos puesto nada, cada vez que se realizar el experimiento se tomarían otros valores.\n",
    "\n",
    "**stratify:** Indica de que datos se mantendrá la relación de datos, por ejemplo aquí mencionamos que seran los target del dataset por lo que si estos targets tienen 20% *ceros* y 80% *unos*, al nosotros dividir 75% de datos para el training este dataaset de training también debe mantener esta relación de 20% ceros y 80% unos"
   ]
  },
  {
   "cell_type": "code",
   "execution_count": 107,
   "metadata": {},
   "outputs": [],
   "source": [
    "x = train_set[:,0:30] # los datos de entrenamiento\n",
    "y = train_labels # los targets de entrenamiento"
   ]
  },
  {
   "cell_type": "code",
   "execution_count": 108,
   "metadata": {},
   "outputs": [
    {
     "name": "stderr",
     "output_type": "stream",
     "text": [
      "/home/nicerova/.local/lib/python3.6/site-packages/sklearn/linear_model/logistic.py:432: FutureWarning: Default solver will be changed to 'lbfgs' in 0.22. Specify a solver to silence this warning.\n",
      "  FutureWarning)\n"
     ]
    },
    {
     "data": {
      "text/plain": [
       "LogisticRegression(C=1.0, class_weight=None, dual=False, fit_intercept=True,\n",
       "                   intercept_scaling=1, l1_ratio=None, max_iter=100,\n",
       "                   multi_class='warn', n_jobs=None, penalty='l2',\n",
       "                   random_state=None, solver='warn', tol=0.0001, verbose=0,\n",
       "                   warm_start=False)"
      ]
     },
     "execution_count": 108,
     "metadata": {},
     "output_type": "execute_result"
    }
   ],
   "source": [
    "log_reg = linear_model.LogisticRegression()\n",
    "log_reg.fit(X=x,\n",
    "            y=y)"
   ]
  },
  {
   "cell_type": "code",
   "execution_count": 116,
   "metadata": {},
   "outputs": [
    {
     "name": "stdout",
     "output_type": "stream",
     "text": [
      "Intercepto: [0.34522124]\n",
      "Coeficientes: [[ 1.80066520e+00  2.55493162e-01 -3.75804465e-02 -5.88331308e-03\n",
      "  -9.57455778e-02 -3.16642721e-01 -5.06552845e-01 -2.53112459e-01\n",
      "  -2.26033494e-01 -1.03683050e-02  4.12721993e-03  9.75653804e-01\n",
      "   2.02779770e-01 -1.22258382e-01 -8.25287643e-03 -1.41408374e-02\n",
      "  -5.50004070e-02 -3.32887938e-02 -3.05557285e-02  1.08104400e-04\n",
      "   1.62903552e+00 -4.34781564e-01 -1.50316271e-01 -2.32875708e-02\n",
      "  -1.94273377e-01 -9.91070416e-01 -1.42832760e+00 -5.40503374e-01\n",
      "  -6.28324694e-01 -9.04532769e-02]]\n",
      "R-cuadrado:0.960093896713615\n"
     ]
    }
   ],
   "source": [
    "print(\"Intercepto: \"+str(log_reg.intercept_))\n",
    "\n",
    "print(\"Coeficientes: \"+str(log_reg.coef_))\n",
    "\n",
    "print(\"R-cuadrado:\"+str(log_reg.score(x,y)))"
   ]
  },
  {
   "cell_type": "markdown",
   "metadata": {},
   "source": []
  },
  {
   "cell_type": "markdown",
   "metadata": {},
   "source": [
    "### Probando el modelo (Testing)"
   ]
  },
  {
   "cell_type": "code",
   "execution_count": 117,
   "metadata": {},
   "outputs": [
    {
     "data": {
      "text/html": [
       "<div>\n",
       "<style scoped>\n",
       "    .dataframe tbody tr th:only-of-type {\n",
       "        vertical-align: middle;\n",
       "    }\n",
       "\n",
       "    .dataframe tbody tr th {\n",
       "        vertical-align: top;\n",
       "    }\n",
       "\n",
       "    .dataframe thead th {\n",
       "        text-align: right;\n",
       "    }\n",
       "</style>\n",
       "<table border=\"1\" class=\"dataframe\">\n",
       "  <thead>\n",
       "    <tr style=\"text-align: right;\">\n",
       "      <th></th>\n",
       "      <th>0</th>\n",
       "      <th>1</th>\n",
       "    </tr>\n",
       "  </thead>\n",
       "  <tbody>\n",
       "    <tr>\n",
       "      <td>0</td>\n",
       "      <td>0.999812</td>\n",
       "      <td>1.883649e-04</td>\n",
       "    </tr>\n",
       "    <tr>\n",
       "      <td>1</td>\n",
       "      <td>0.998355</td>\n",
       "      <td>1.644596e-03</td>\n",
       "    </tr>\n",
       "    <tr>\n",
       "      <td>2</td>\n",
       "      <td>0.057996</td>\n",
       "      <td>9.420045e-01</td>\n",
       "    </tr>\n",
       "    <tr>\n",
       "      <td>3</td>\n",
       "      <td>1.000000</td>\n",
       "      <td>9.697900e-08</td>\n",
       "    </tr>\n",
       "    <tr>\n",
       "      <td>4</td>\n",
       "      <td>0.207181</td>\n",
       "      <td>7.928187e-01</td>\n",
       "    </tr>\n",
       "  </tbody>\n",
       "</table>\n",
       "</div>"
      ],
      "text/plain": [
       "          0             1\n",
       "0  0.999812  1.883649e-04\n",
       "1  0.998355  1.644596e-03\n",
       "2  0.057996  9.420045e-01\n",
       "3  1.000000  9.697900e-08\n",
       "4  0.207181  7.928187e-01"
      ]
     },
     "execution_count": 117,
     "metadata": {},
     "output_type": "execute_result"
    }
   ],
   "source": [
    "preds_prob = pd.DataFrame(log_reg.predict_proba(X=test_set))\n",
    "preds_prob.head()"
   ]
  },
  {
   "cell_type": "code",
   "execution_count": 118,
   "metadata": {},
   "outputs": [
    {
     "data": {
      "text/html": [
       "<div>\n",
       "<style scoped>\n",
       "    .dataframe tbody tr th:only-of-type {\n",
       "        vertical-align: middle;\n",
       "    }\n",
       "\n",
       "    .dataframe tbody tr th {\n",
       "        vertical-align: top;\n",
       "    }\n",
       "\n",
       "    .dataframe thead th {\n",
       "        text-align: right;\n",
       "    }\n",
       "</style>\n",
       "<table border=\"1\" class=\"dataframe\">\n",
       "  <thead>\n",
       "    <tr style=\"text-align: right;\">\n",
       "      <th></th>\n",
       "      <th>Malign</th>\n",
       "      <th>Benign</th>\n",
       "    </tr>\n",
       "  </thead>\n",
       "  <tbody>\n",
       "    <tr>\n",
       "      <td>0</td>\n",
       "      <td>0.999812</td>\n",
       "      <td>1.883649e-04</td>\n",
       "    </tr>\n",
       "    <tr>\n",
       "      <td>1</td>\n",
       "      <td>0.998355</td>\n",
       "      <td>1.644596e-03</td>\n",
       "    </tr>\n",
       "    <tr>\n",
       "      <td>2</td>\n",
       "      <td>0.057996</td>\n",
       "      <td>9.420045e-01</td>\n",
       "    </tr>\n",
       "    <tr>\n",
       "      <td>3</td>\n",
       "      <td>1.000000</td>\n",
       "      <td>9.697900e-08</td>\n",
       "    </tr>\n",
       "    <tr>\n",
       "      <td>4</td>\n",
       "      <td>0.207181</td>\n",
       "      <td>7.928187e-01</td>\n",
       "    </tr>\n",
       "  </tbody>\n",
       "</table>\n",
       "</div>"
      ],
      "text/plain": [
       "     Malign        Benign\n",
       "0  0.999812  1.883649e-04\n",
       "1  0.998355  1.644596e-03\n",
       "2  0.057996  9.420045e-01\n",
       "3  1.000000  9.697900e-08\n",
       "4  0.207181  7.928187e-01"
      ]
     },
     "execution_count": 118,
     "metadata": {},
     "output_type": "execute_result"
    }
   ],
   "source": [
    "preds_prob.columns = [\"Malign\", \"Benign\"]\n",
    "preds_prob.head()"
   ]
  },
  {
   "cell_type": "code",
   "execution_count": 122,
   "metadata": {},
   "outputs": [],
   "source": [
    "preds = log_reg.predict(X=test_set)\n",
    "preds_class = pd.DataFrame(preds)\n",
    "preds_class.columns = [\"Prediction\"]"
   ]
  },
  {
   "cell_type": "code",
   "execution_count": 123,
   "metadata": {},
   "outputs": [
    {
     "data": {
      "text/html": [
       "<div>\n",
       "<style scoped>\n",
       "    .dataframe tbody tr th:only-of-type {\n",
       "        vertical-align: middle;\n",
       "    }\n",
       "\n",
       "    .dataframe tbody tr th {\n",
       "        vertical-align: top;\n",
       "    }\n",
       "\n",
       "    .dataframe thead th {\n",
       "        text-align: right;\n",
       "    }\n",
       "</style>\n",
       "<table border=\"1\" class=\"dataframe\">\n",
       "  <thead>\n",
       "    <tr style=\"text-align: right;\">\n",
       "      <th></th>\n",
       "      <th>Prediction</th>\n",
       "    </tr>\n",
       "  </thead>\n",
       "  <tbody>\n",
       "    <tr>\n",
       "      <td>0</td>\n",
       "      <td>0</td>\n",
       "    </tr>\n",
       "    <tr>\n",
       "      <td>1</td>\n",
       "      <td>0</td>\n",
       "    </tr>\n",
       "    <tr>\n",
       "      <td>2</td>\n",
       "      <td>1</td>\n",
       "    </tr>\n",
       "    <tr>\n",
       "      <td>3</td>\n",
       "      <td>0</td>\n",
       "    </tr>\n",
       "    <tr>\n",
       "      <td>4</td>\n",
       "      <td>1</td>\n",
       "    </tr>\n",
       "  </tbody>\n",
       "</table>\n",
       "</div>"
      ],
      "text/plain": [
       "   Prediction\n",
       "0           0\n",
       "1           0\n",
       "2           1\n",
       "3           0\n",
       "4           1"
      ]
     },
     "execution_count": 123,
     "metadata": {},
     "output_type": "execute_result"
    }
   ],
   "source": [
    "preds_class.head()"
   ]
  },
  {
   "cell_type": "code",
   "execution_count": 124,
   "metadata": {},
   "outputs": [],
   "source": [
    "original_result = pd.DataFrame(test_labels)\n",
    "original_result.columns = [\"Original Result\"]"
   ]
  },
  {
   "cell_type": "code",
   "execution_count": 125,
   "metadata": {},
   "outputs": [
    {
     "name": "stdout",
     "output_type": "stream",
     "text": [
      "     Malign        Benign  Prediction  Original Result\n",
      "0  0.999812  1.883649e-04           0                0\n",
      "1  0.998355  1.644596e-03           0                0\n",
      "2  0.057996  9.420045e-01           1                1\n",
      "3  1.000000  9.697900e-08           0                0\n",
      "4  0.207181  7.928187e-01           1                0\n"
     ]
    }
   ],
   "source": [
    "result = pd.concat([preds_prob, preds_class, original_result],axis = 1)\n",
    "print(result.head())"
   ]
  }
 ],
 "metadata": {
  "kernelspec": {
   "display_name": "Python 3",
   "language": "python",
   "name": "python3"
  },
  "language_info": {
   "codemirror_mode": {
    "name": "ipython",
    "version": 3
   },
   "file_extension": ".py",
   "mimetype": "text/x-python",
   "name": "python",
   "nbconvert_exporter": "python",
   "pygments_lexer": "ipython3",
   "version": "3.6.8"
  }
 },
 "nbformat": 4,
 "nbformat_minor": 2
}
