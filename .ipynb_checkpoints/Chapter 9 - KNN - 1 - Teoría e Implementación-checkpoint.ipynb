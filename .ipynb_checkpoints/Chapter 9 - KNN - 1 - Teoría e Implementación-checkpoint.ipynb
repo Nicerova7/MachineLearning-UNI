{
 "cells": [
  {
   "cell_type": "markdown",
   "metadata": {},
   "source": [
    "## K-Nearest Neighbors (KNN)\n",
    "\n",
    "Este algoritmo con respecto a los vistos en capítulos anteriores presentar una mayor sencillez. KNN funcióna consultando a cada punto una distancia de éste hacia sus vecinos (en inglés neighbors) luego tomando la naturaleza de la mayoría de estos vecinos.\n",
    "\n",
    "Por ejemplo para un radio k = 3 unidades tenemos que nuestro circulo tiene dos cuadrados y un solo triángulo por lo que aplicando la simple regla de la mayoría, este circulo será considerado como cuadrado. Luego para un radio de k = 5 unidades tenemos que nuestro circulo tiene dos cuadrados y tres triángulos por lo que por la simple regla de la mayoría, este círculo será considerado como triángulo.\n",
    "\n",
    "![](knn_examplecircle.png)\n",
    "\n",
    "\n",
    "**Nota:** Si bien KNN también puede ser usado como regresión, aquí solo lo enfocaremos como un algoritmo de clasificación.\n"
   ]
  },
  {
   "cell_type": "markdown",
   "metadata": {},
   "source": [
    "### Implementación con Python"
   ]
  },
  {
   "cell_type": "code",
   "execution_count": 43,
   "metadata": {},
   "outputs": [],
   "source": [
    "import pandas as pd\n",
    "import numpy as np\n",
    "import operator \n",
    "import seaborn as sns\n",
    "import matplotlib.pyplot as plt"
   ]
  },
  {
   "cell_type": "code",
   "execution_count": 2,
   "metadata": {},
   "outputs": [
    {
     "data": {
      "text/html": [
       "<div>\n",
       "<style scoped>\n",
       "    .dataframe tbody tr th:only-of-type {\n",
       "        vertical-align: middle;\n",
       "    }\n",
       "\n",
       "    .dataframe tbody tr th {\n",
       "        vertical-align: top;\n",
       "    }\n",
       "\n",
       "    .dataframe thead th {\n",
       "        text-align: right;\n",
       "    }\n",
       "</style>\n",
       "<table border=\"1\" class=\"dataframe\">\n",
       "  <thead>\n",
       "    <tr style=\"text-align: right;\">\n",
       "      <th></th>\n",
       "      <th>x</th>\n",
       "      <th>y</th>\n",
       "      <th>c</th>\n",
       "    </tr>\n",
       "  </thead>\n",
       "  <tbody>\n",
       "    <tr>\n",
       "      <td>0</td>\n",
       "      <td>1</td>\n",
       "      <td>1</td>\n",
       "      <td>A</td>\n",
       "    </tr>\n",
       "    <tr>\n",
       "      <td>1</td>\n",
       "      <td>2</td>\n",
       "      <td>2</td>\n",
       "      <td>A</td>\n",
       "    </tr>\n",
       "    <tr>\n",
       "      <td>2</td>\n",
       "      <td>4</td>\n",
       "      <td>3</td>\n",
       "      <td>B</td>\n",
       "    </tr>\n",
       "    <tr>\n",
       "      <td>3</td>\n",
       "      <td>3</td>\n",
       "      <td>3</td>\n",
       "      <td>A</td>\n",
       "    </tr>\n",
       "    <tr>\n",
       "      <td>4</td>\n",
       "      <td>3</td>\n",
       "      <td>5</td>\n",
       "      <td>B</td>\n",
       "    </tr>\n",
       "  </tbody>\n",
       "</table>\n",
       "</div>"
      ],
      "text/plain": [
       "   x  y  c\n",
       "0  1  1  A\n",
       "1  2  2  A\n",
       "2  4  3  B\n",
       "3  3  3  A\n",
       "4  3  5  B"
      ]
     },
     "execution_count": 2,
     "metadata": {},
     "output_type": "execute_result"
    }
   ],
   "source": [
    "data = pd.read_csv('knn.csv')\n",
    "data.head()"
   ]
  },
  {
   "cell_type": "code",
   "execution_count": 3,
   "metadata": {},
   "outputs": [
    {
     "data": {
      "image/png": "[encoded data removed]",
      "text/plain": [
       "<Figure size 402.875x360 with 1 Axes>"
      ]
     },
     "metadata": {
      "needs_background": "light"
     },
     "output_type": "display_data"
    }
   ],
   "source": [
    "sns.lmplot('x', 'y', data=data,\n",
    "          hue = 'c', palette = 'Set1',\n",
    "          fit_reg=False , scatter_kws={\"s\": 70})\n",
    "\n",
    "plt.show()"
   ]
  },
  {
   "cell_type": "markdown",
   "metadata": {},
   "source": [
    "#### Calcularemos la distancia entre los puntos\n",
    "\n",
    "Para encontrar los vecinos más cercanos necesitaremos la distancia euclideana entre los puntos.\n",
    "\n",
    "Para $R²$\n",
    "\n",
    "$x = (x1,x2)$\n",
    "$y = (y1,y2)$\n",
    "\n",
    "$d = \\sqrt{(y1-x1)² + (y2-x2)²}$"
   ]
  },
  {
   "cell_type": "code",
   "execution_count": 4,
   "metadata": {},
   "outputs": [],
   "source": [
    "def euclidean_distance(pt1, pt2, dimension):\n",
    "    distance = 0\n",
    "    for x in range(dimension):\n",
    "        distance += np.square(pt1[x]-pt2[x])\n",
    "    return np.sqrt(distance)"
   ]
  },
  {
   "cell_type": "code",
   "execution_count": 5,
   "metadata": {},
   "outputs": [
    {
     "data": {
      "text/plain": [
       "2.8284271247461903"
      ]
     },
     "execution_count": 5,
     "metadata": {},
     "output_type": "execute_result"
    }
   ],
   "source": [
    "# Ejemplo \n",
    "x = [1,2]; y = [3,4]\n",
    "\n",
    "euclidean_distance(x,y,2)"
   ]
  },
  {
   "cell_type": "code",
   "execution_count": 27,
   "metadata": {},
   "outputs": [],
   "source": [
    "def knn(training_points, test_point, k):\n",
    "    \n",
    "    distances = {} #creamos diccionario\n",
    "    \n",
    "    dimension = test_point.shape[1] # numero de columnas o lo que viene a ser la dimension.\n",
    "    \n",
    "    for x in range(len(training_points)):\n",
    "        dist = euclidean_distance(test_point,training_points.iloc[x],dimension)\n",
    "        distances[x] = dist[0] # x sera el indice, y dist[0] el valor\n",
    "        \n",
    "    sorted_d = sorted(distances.items(), key =operator.itemgetter(1)) # agrupamos por el segundo valor de cada item.\n",
    "    \n",
    "    neighbors = [] #list, agregamos con funcion append\n",
    "    \n",
    "    for x in range(k):\n",
    "        neighbors.append(sorted_d[x][0]) # agregmos el primer valor que es el index de los k-vecinos\n",
    "        \n",
    "    class_counter = {} # diccionario para meter según la clase.\n",
    "    for x in range(len(neighbors)):\n",
    "        cls = training_points.iloc[neighbors[x]][-1] #[-1] indica que estamos sacando la clase.\n",
    "        if cls in class_counter:\n",
    "            class_counter[cls] += 1\n",
    "        else:\n",
    "            class_counter[cls] = 1\n",
    "            \n",
    "            \n",
    "    # Ordenamos class_counter en orden descendente...\n",
    "    sorted_counter = sorted(class_counter.items(),\n",
    "                            key=operator.itemgetter(1), #como es diccionario ordenamos por su valor no su llave.\n",
    "                            reverse=True)\n",
    "    \n",
    "    #-retornamos los q más hubo, y también los vecinos.\n",
    "    return(sorted_counter[0][0], neighbors)\n",
    "        "
   ]
  },
  {
   "cell_type": "code",
   "execution_count": 30,
   "metadata": {},
   "outputs": [
    {
     "name": "stdout",
     "output_type": "stream",
     "text": [
      "Predicted Class: Aneighbors: [3, 1, 2, 4, 0]\n"
     ]
    }
   ],
   "source": [
    "test_set = [[2.5,3.0]]\n",
    "test = pd.DataFrame(test_set)\n",
    "k = 5\n",
    "cls,neighbors = knn(data, test, k)\n",
    "\n",
    "print(\"Predicted Class: \" + str(cls)+ \"neighbors: \"+str(neighbors))"
   ]
  },
  {
   "cell_type": "markdown",
   "metadata": {},
   "source": [
    "### Visualizando diferentes valores de k\n",
    "\n",
    "Es útil ver el efecto de variar el valor k, para esto dibujaremos distintos k son sus respectivas circunferencias."
   ]
  },
  {
   "cell_type": "code",
   "execution_count": 52,
   "metadata": {},
   "outputs": [
    {
     "name": "stdout",
     "output_type": "stream",
     "text": [
      "============\n",
      "k = 7\n",
      "Class B\n",
      "Neighbors\n",
      "   x  y  c\n",
      "3  3  3  A\n",
      "1  2  2  A\n",
      "2  4  3  B\n",
      "4  3  5  B\n",
      "0  1  1  A\n",
      "6  5  4  B\n",
      "5  5  6  B\n",
      "============\n",
      "k = 5\n",
      "Class A\n",
      "Neighbors\n",
      "   x  y  c\n",
      "3  3  3  A\n",
      "1  2  2  A\n",
      "2  4  3  B\n",
      "4  3  5  B\n",
      "0  1  1  A\n",
      "============\n",
      "k = 3\n",
      "Class A\n",
      "Neighbors\n",
      "   x  y  c\n",
      "3  3  3  A\n",
      "1  2  2  A\n",
      "2  4  3  B\n",
      "============\n",
      "k = 1\n",
      "Class A\n",
      "Neighbors\n",
      "   x  y  c\n",
      "3  3  3  A\n"
     ]
    },
    {
     "data": {
      "image/png": "[encoded data removed]",
      "text/plain": [
       "<Figure size 432x288 with 1 Axes>"
      ]
     },
     "metadata": {
      "needs_background": "light"
     },
     "output_type": "display_data"
    }
   ],
   "source": [
    "colors = ['r' if i == 'A' else 'b' for i in data['c']]\n",
    "\n",
    "ax = data.plot(kind = 'scatter', x = 'x', y = 'y', c = colors)\n",
    "plt.xlim(0,7)\n",
    "plt.ylim(0,7)\n",
    "\n",
    "plt.plot(test_set[0][0], test_set[0][1], \"yo\", markersize='9')\n",
    "\n",
    "for k in range(7,0,-2):\n",
    "    cls,neighbors = knn(data,test,k)\n",
    "    \n",
    "    print(\"============\")\n",
    "    print(\"k =\", k)\n",
    "    print(\"Class\", cls)\n",
    "    print(\"Neighbors\")\n",
    "    print(data.iloc[neighbors])\n",
    "\n",
    "\n",
    "    furthest_point = data.iloc[neighbors].tail(1)\n",
    "\n",
    "    radius = euclidean_distance(test,furthest_point.iloc[0], 2)\n",
    "\n",
    "    c = 'r' if cls=='A' else 'b'\n",
    "    circle = plt.Circle((test_set[0][0], test_set[0][1]),\n",
    "    radius, color=c, alpha=0.3)\n",
    "\n",
    "    ax.add_patch(circle)\n",
    "\n",
    "plt.gca().set_aspect('equal', adjustable='box')\n",
    "plt.show()"
   ]
  }
 ],
 "metadata": {
  "kernelspec": {
   "display_name": "Python 3",
   "language": "python",
   "name": "python3"
  },
  "language_info": {
   "codemirror_mode": {
    "name": "ipython",
    "version": 3
   },
   "file_extension": ".py",
   "mimetype": "text/x-python",
   "name": "python",
   "nbconvert_exporter": "python",
   "pygments_lexer": "ipython3",
   "version": "3.6.8"
  }
 },
 "nbformat": 4,
 "nbformat_minor": 2
}
