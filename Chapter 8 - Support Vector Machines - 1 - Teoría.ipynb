{
 "cells": [
  {
   "cell_type": "markdown",
   "metadata": {},
   "source": [
    "## Aprendizaje Supervisado\n",
    "\n",
    "### Clasificación usando Support Vector Machines\n",
    "\n",
    "Support Vector Machines (SVM) al igual que la regresión logística, es un algoritmo de clasificación.\n",
    "\n",
    "La idea principal detras de un SVM es llegar a trazar una linea que separe dos clases de datos, tal como se ve en la imagen:\n",
    "\n",
    "![](svmintro.png)\n",
    "\n",
    "Ahora que tenemos un clasificador con el cual podemos predecir (en este caso) si un animal es gato o perro en base a por ejemplo la medida de su ocico y la geometría de la oreja.\n",
    "\n",
    "Veremos ahora como SVM trabaja y también varias técnicas que podemos adaptar a un SVM para los casos donde los datasets sean no separables linealmente."
   ]
  },
  {
   "cell_type": "markdown",
   "metadata": {},
   "source": [
    "### Máxima Separabilidad\n",
    "\n",
    "Veamos como SVM separa dos o más clases gracias a este ejemplo:\n",
    "\n",
    "![](pointstosepare.png)\n",
    "\n",
    "Aquí podemos ver como visualmente podemos trazar dos lineas para separar el conjunto de datos de arriba. Por esa razón (que exiten varias posibles separaciones de clases) es que se define primero el criterio de separación: Para la SVM la linea correcta es la que tiene los márgenes más amplios (con cada margen tocando al menos un punto en cada clase).\n",
    "\n",
    "Aquí podemos ver como se trazan d1 y d2 que son el ancho de los márgenes, como d2 > d1 podemos decir que la linea correcta es la de la derecha.\n",
    "\n",
    "**Nota:** Cada márgen toca por lo menos un punto de cada clase.\n",
    "\n",
    "\n",
    "![](svmpossiblelines.png)\n",
    "\n",
    "El centro de los dos márgenes es conocido como *hiperplano*. El hiperplano es la linea que separa los dos grupos de puntos y usamos el termon **hiperplano** en vez de linea porque en el SVM tipicamente tratamos con más de 2 dimensiones y el uso de la palabra \"hiperplano\" transmite con mayor precisión la idea de un plano en un espacio multidimensional.\n"
   ]
  },
  {
   "cell_type": "markdown",
   "metadata": {},
   "source": [
    "### Support Vectors (Vectores de soporte)\n",
    "\n",
    "Un término clave en los SVM son los vectores de soporte o en inglés los Support Vectors que son los puntos en los cuales se ha trazado el margen, en el ejemplo anterior los podemos ver claramente:\n",
    "\n",
    "![](supportvectors.png)"
   ]
  },
  {
   "cell_type": "markdown",
   "metadata": {},
   "source": [
    "### Fórmula para el hiperplano\n",
    "\n",
    "Una vez planteada las definiciones queda por encontrar la formula no solo del hiperplano sino también de los dos márgenes.\n",
    "\n",
    "![](formulahyperplane.png)\n",
    "\n",
    "Entonces según la figura tenemos la formula para el hiperplano :\n",
    "\n",
    "$$ g(x) = \\vec{W}_0x_1 + \\vec{W}_1x_2 + b $$\n",
    "\n",
    "Donde:\n",
    "* $x_1$ y $x_2$ son las entradas.\n",
    "* $\\vec{W}_0$ y $\\vec{W}_1$ son los vectores de pesos.\n",
    "* b bias.\n",
    "\n",
    "Si $g >= 1$ el punto dado es clasificado como Clase 1, $g <= -1$ el punto es clasificado como Clase 2. Además se tiene que tener en cuenta el objetivo es encontrar el margen más grande, aplicando un poco de geometría analítica (la distancia entre dos rectas paralelas) esta distancia entre las rectas (2d) es:\n",
    "\n",
    "$$\\frac{1 - (-1)}{||W||} = \\frac{2}{||W||}$$\n",
    "\n",
    "Donde $||w||$ es la norma del vector w. Usando el vector de entrenamiento, la meta es minimizar este $||w||$ para obtener la **máxima separabilidad** entre las clases, una vez hecho esto seremos capaces de encontrar $\\vec{W}_0$, $\\vec{W}_1$ y $b$.\n",
    "\n",
    "Encontrar el margen es un problema de optimización restringida, que se puede resolver utilizando la técnica de Multiplicadores de Larange. Haremos uso de la biblioteca Scikit-learn."
   ]
  },
  {
   "cell_type": "markdown",
   "metadata": {},
   "source": [
    "### Usando scikit-learn para SVM"
   ]
  },
  {
   "cell_type": "code",
   "execution_count": 1,
   "metadata": {},
   "outputs": [],
   "source": [
    "%matplotlib inline\n",
    "import pandas as pd\n",
    "import numpy as np\n",
    "import seaborn as sns; sns.set(font_scale=1.2)\n",
    "import matplotlib.pyplot as plt"
   ]
  },
  {
   "cell_type": "code",
   "execution_count": 2,
   "metadata": {},
   "outputs": [
    {
     "data": {
      "text/html": [
       "<div>\n",
       "<style scoped>\n",
       "    .dataframe tbody tr th:only-of-type {\n",
       "        vertical-align: middle;\n",
       "    }\n",
       "\n",
       "    .dataframe tbody tr th {\n",
       "        vertical-align: top;\n",
       "    }\n",
       "\n",
       "    .dataframe thead th {\n",
       "        text-align: right;\n",
       "    }\n",
       "</style>\n",
       "<table border=\"1\" class=\"dataframe\">\n",
       "  <thead>\n",
       "    <tr style=\"text-align: right;\">\n",
       "      <th></th>\n",
       "      <th>x1</th>\n",
       "      <th>x2</th>\n",
       "      <th>r</th>\n",
       "    </tr>\n",
       "  </thead>\n",
       "  <tbody>\n",
       "    <tr>\n",
       "      <td>0</td>\n",
       "      <td>0</td>\n",
       "      <td>0</td>\n",
       "      <td>A</td>\n",
       "    </tr>\n",
       "    <tr>\n",
       "      <td>1</td>\n",
       "      <td>1</td>\n",
       "      <td>1</td>\n",
       "      <td>A</td>\n",
       "    </tr>\n",
       "    <tr>\n",
       "      <td>2</td>\n",
       "      <td>2</td>\n",
       "      <td>3</td>\n",
       "      <td>B</td>\n",
       "    </tr>\n",
       "    <tr>\n",
       "      <td>3</td>\n",
       "      <td>2</td>\n",
       "      <td>0</td>\n",
       "      <td>A</td>\n",
       "    </tr>\n",
       "    <tr>\n",
       "      <td>4</td>\n",
       "      <td>3</td>\n",
       "      <td>4</td>\n",
       "      <td>B</td>\n",
       "    </tr>\n",
       "  </tbody>\n",
       "</table>\n",
       "</div>"
      ],
      "text/plain": [
       "   x1  x2  r\n",
       "0   0   0  A\n",
       "1   1   1  A\n",
       "2   2   3  B\n",
       "3   2   0  A\n",
       "4   3   4  B"
      ]
     },
     "execution_count": 2,
     "metadata": {},
     "output_type": "execute_result"
    },
    {
     "data": {
      "image/png": "[encoded data removed]",
      "text/plain": [
       "<Figure size 416.645x360 with 1 Axes>"
      ]
     },
     "metadata": {
      "needs_background": "light"
     },
     "output_type": "display_data"
    }
   ],
   "source": [
    "data = pd.read_csv('svm.csv')\n",
    "sns.lmplot('x1','x2',\n",
    "           data = data,\n",
    "           hue = 'r',\n",
    "           palette ='Set1',\n",
    "           fit_reg = False,\n",
    "           scatter_kws={\"s\":50})\n",
    "data.head()"
   ]
  },
  {
   "cell_type": "code",
   "execution_count": 3,
   "metadata": {},
   "outputs": [],
   "source": [
    "from sklearn import svm"
   ]
  },
  {
   "cell_type": "code",
   "execution_count": 4,
   "metadata": {},
   "outputs": [
    {
     "data": {
      "text/plain": [
       "SVC(C=1.0, cache_size=200, class_weight=None, coef0=0.0,\n",
       "    decision_function_shape='ovr', degree=3, gamma='auto_deprecated',\n",
       "    kernel='linear', max_iter=-1, probability=False, random_state=None,\n",
       "    shrinking=True, tol=0.001, verbose=False)"
      ]
     },
     "execution_count": 4,
     "metadata": {},
     "output_type": "execute_result"
    }
   ],
   "source": [
    "points = data[['x1','x2']].values\n",
    "result = data['r']\n",
    "\n",
    "clf = svm.SVC(kernel='linear') # significa Support Vector Clasification\n",
    "clf.fit(points, result)"
   ]
  },
  {
   "cell_type": "code",
   "execution_count": 5,
   "metadata": {},
   "outputs": [
    {
     "name": "stdout",
     "output_type": "stream",
     "text": [
      "Vector de pesos (w) =  [0.4 0.8]\n",
      "b =  -2.2\n",
      "Indices de support vectors=  [1 2]\n",
      "Support vectors =  [[1. 1.]\n",
      " [2. 3.]]\n",
      "Número of support vectors para cada clase =  [1 1]\n",
      "Coeficientes de support vector en la función de decision =  [[0.4 0.4]]\n"
     ]
    }
   ],
   "source": [
    "print('Vector de pesos (w) = ',clf.coef_[0])\n",
    "print('b = ',clf.intercept_[0])\n",
    "print('Indices de support vectors= ', clf.support_)\n",
    "print('Support vectors = ', clf.support_vectors_)\n",
    "print('Número of support vectors para cada clase = ', clf.n_support_)\n",
    "print('Coeficientes de support vector en la función de decision = ',np.abs(clf.dual_coef_))"
   ]
  },
  {
   "cell_type": "markdown",
   "metadata": {},
   "source": [
    "El módulo *svm* contiene una serie de clases que implementen SVM para diferentes propósitos:\n",
    "\n",
    "* svm.LinearSVC : Linear Support Vector Classification\n",
    "* svm.LinearSVR : Linear Support Vector Regression\n",
    "* svm.NuSVC : Nu-Support Vector Classification\n",
    "* svm.NuSVR : Nu-Support Vector Regression\n",
    "* svm.OneClassSVM : Unsupervised Outlier Detection\n",
    "* svm.SVC : C-Support Vector Classification\n",
    "* svm.SVR : Epsilon-Support Vector Regression\n",
    "\n",
    "Se tiene los siguientes resultados:"
   ]
  },
  {
   "cell_type": "markdown",
   "metadata": {},
   "source": [
    "$w_0 = 0.4$\n",
    "\n",
    "$w_1 = 0.8$\n",
    "\n",
    "$b = -2.2$\n",
    "\n",
    "Existen dos support vectors con indices [1, 2] que son [1,1] y [2,3] tal como indica el vector clf.support_vectors.\n",
    "\n",
    "![](coefhyper.png)"
   ]
  },
  {
   "cell_type": "markdown",
   "metadata": {},
   "source": [
    "### Gráficando el hiperplano y los márgenes\n",
    "\n",
    "Recordando la fórmula del hiperplano:\n",
    "\n",
    "$$g(x)= \\vec{w}_0x_1 + \\vec{w}_1x_2 + b$$\n",
    "\n",
    "Para dibujar el hiperplano lo igualamos a 0:\n",
    "\n",
    "$$ \\vec{w}_0x_1 + \\vec{w}_1x_2 + b = 0$$\n",
    "\n",
    "En este caso el hiperplano es una linea (dimensión 1 menos que el numero de variables):\n",
    "\n",
    "Igualamos a 0 cada variable $x_1$ y $x_2$:\n",
    "\n",
    "$$ \\vec{w}_0(0) + \\vec{w}_1x_2 + b = 0$$\n",
    "$$ x_2 = -\\frac{b}{\\vec{w}_1} $$\n",
    "\n",
    "$$ \\vec{w}_0x_1 + \\vec{w}_1(0) + b = 0$$\n",
    "$$ x_1 = -\\frac{b}{\\vec{w}_0} $$\n",
    "\n",
    "![](plothyper.png)\n",
    "\n",
    "Calculamos la pendiente:\n",
    "\n",
    "$$ slope = -\\frac{-\\frac{b}{\\vec{w}_1}}{-\\frac{b}{\\vec{w}_0}} $$\n",
    "\n",
    "$$ slope = -\\frac{\\vec{w}_0}{\\vec{w}_1} $$"
   ]
  },
  {
   "cell_type": "code",
   "execution_count": 6,
   "metadata": {},
   "outputs": [
    {
     "data": {
      "text/plain": [
       "[<matplotlib.lines.Line2D at 0x7fd4472c8d68>]"
      ]
     },
     "execution_count": 6,
     "metadata": {},
     "output_type": "execute_result"
    },
    {
     "data": {
      "image/png": "[encoded data removed]",
      "text/plain": [
       "<Figure size 416.645x360 with 1 Axes>"
      ]
     },
     "metadata": {
      "needs_background": "light"
     },
     "output_type": "display_data"
    }
   ],
   "source": [
    "w = clf.coef_[0]\n",
    "\n",
    "slope = -w[0]/w[1]\n",
    "b = clf.intercept_[0]\n",
    "\n",
    "# Dibujando hiperplano\n",
    "xx = np.linspace(0,4)\n",
    "yy = slope*xx + (-b/w[1])\n",
    "\n",
    "# Dibujando márgenes\n",
    "\n",
    "# Un margen\n",
    "s = clf.support_vectors_[0]\n",
    "yy_down = slope*xx + (s[1] - slope*s[0]) # (debe ser un punto en este caso y = m*x + b se despejo el punto b)\n",
    "\n",
    "# Otro margen\n",
    "s = clf.support_vectors_[-1] # el último\n",
    "yy_up = slope*xx + (s[1] - slope*s[0]) # (debe ser un punto en este caso y = m*x + b se despejo el punto b)\n",
    "\n",
    "# Dibujando\n",
    "sns.lmplot('x1','x2', data=data, hue='r', palette='Set1',\n",
    "           fit_reg = False, scatter_kws={\"s\": 70})\n",
    "\n",
    "# hiperplano\n",
    "plt.plot(xx,yy, linewidth=2 , color ='green')\n",
    "\n",
    "#márgenes\n",
    "plt.plot(xx,yy_down, 'k--')\n",
    "plt.plot(xx,yy_up, 'k--')\n"
   ]
  },
  {
   "cell_type": "markdown",
   "metadata": {},
   "source": [
    "### Haciendo predicciones\n",
    "\n",
    "Vamos a dar algunos puntos y ver gracias a nuestro modelo si esta en la clase \"A\" o \"B\"."
   ]
  },
  {
   "cell_type": "code",
   "execution_count": 8,
   "metadata": {},
   "outputs": [
    {
     "name": "stdout",
     "output_type": "stream",
     "text": [
      "B\n",
      "A\n",
      "B\n",
      "A\n"
     ]
    },
    {
     "data": {
      "text/plain": [
       "array(['A', 'B'], dtype=object)"
      ]
     },
     "execution_count": 8,
     "metadata": {},
     "output_type": "execute_result"
    }
   ],
   "source": [
    "print(clf.predict([[3,3]])[0]) # [3,3]\n",
    "print(clf.predict([[4,0]])[0]) # [4,0]\n",
    "print(clf.predict([[2,2]])[0]) # [2,2]\n",
    "print(clf.predict([[1,2]])[0]) # [1,2]\n",
    "\n",
    "clf.predict([[1,0],[2,3]]) # Puntos: (1,0) y (2,3)"
   ]
  },
  {
   "cell_type": "code",
   "execution_count": 26,
   "metadata": {},
   "outputs": [
    {
     "name": "stdout",
     "output_type": "stream",
     "text": [
      "[-1.8]\n"
     ]
    },
    {
     "data": {
      "text/plain": [
       "-1.8000000000000003"
      ]
     },
     "execution_count": 26,
     "metadata": {},
     "output_type": "execute_result"
    }
   ],
   "source": [
    "print(clf.decision_function([[1,0]])) # g(x) = w_0x_1 + w_1x_2 + b\n",
    "\n",
    "clf.coef_[0][0]*1 + clf.coef_[0][1]*0 + clf.intercept_[0]"
   ]
  }
 ],
 "metadata": {
  "kernelspec": {
   "display_name": "Python 3",
   "language": "python",
   "name": "python3"
  },
  "language_info": {
   "codemirror_mode": {
    "name": "ipython",
    "version": 3
   },
   "file_extension": ".py",
   "mimetype": "text/x-python",
   "name": "python",
   "nbconvert_exporter": "python",
   "pygments_lexer": "ipython3",
   "version": "3.6.8"
  }
 },
 "nbformat": 4,
 "nbformat_minor": 2
}
