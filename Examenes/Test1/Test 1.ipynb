{
 "cells": [
  {
   "cell_type": "code",
   "execution_count": 1,
   "metadata": {},
   "outputs": [],
   "source": [
    "import xarray as xr\n",
    "import pandas as pd\n",
    "import numpy as np"
   ]
  },
  {
   "cell_type": "markdown",
   "metadata": {},
   "source": [
    "# Pregunta 1"
   ]
  },
  {
   "cell_type": "markdown",
   "metadata": {},
   "source": [
    "Leenmos el archivo sst1.cdf."
   ]
  },
  {
   "cell_type": "code",
   "execution_count": 2,
   "metadata": {},
   "outputs": [],
   "source": [
    "datadir = \"sst1.cdf\"\n",
    "ds = xr.open_dataset(datadir)"
   ]
  },
  {
   "cell_type": "markdown",
   "metadata": {},
   "source": [
    "Convertimos el archivo en un marco de datos (dataframe) para poder realizar algunas operaciones."
   ]
  },
  {
   "cell_type": "code",
   "execution_count": 3,
   "metadata": {},
   "outputs": [
    {
     "data": {
      "text/html": [
       "<div>\n",
       "<style scoped>\n",
       "    .dataframe tbody tr th:only-of-type {\n",
       "        vertical-align: middle;\n",
       "    }\n",
       "\n",
       "    .dataframe tbody tr th {\n",
       "        vertical-align: top;\n",
       "    }\n",
       "\n",
       "    .dataframe thead th {\n",
       "        text-align: right;\n",
       "    }\n",
       "</style>\n",
       "<table border=\"1\" class=\"dataframe\">\n",
       "  <thead>\n",
       "    <tr style=\"text-align: right;\">\n",
       "      <th></th>\n",
       "      <th></th>\n",
       "      <th></th>\n",
       "      <th></th>\n",
       "      <th>T_20</th>\n",
       "      <th>QT_5020</th>\n",
       "      <th>ST_6020</th>\n",
       "    </tr>\n",
       "    <tr>\n",
       "      <th>depth</th>\n",
       "      <th>lat</th>\n",
       "      <th>lon</th>\n",
       "      <th>time</th>\n",
       "      <th></th>\n",
       "      <th></th>\n",
       "      <th></th>\n",
       "    </tr>\n",
       "  </thead>\n",
       "  <tbody>\n",
       "    <tr>\n",
       "      <td rowspan=\"5\" valign=\"top\">0.0</td>\n",
       "      <td rowspan=\"5\" valign=\"top\">-2.0</td>\n",
       "      <td rowspan=\"5\" valign=\"top\">265.0</td>\n",
       "      <td>2018-11-06 12:00:00</td>\n",
       "      <td>23.252274</td>\n",
       "      <td>2.0</td>\n",
       "      <td>1.0</td>\n",
       "    </tr>\n",
       "    <tr>\n",
       "      <td>2018-11-07 12:00:00</td>\n",
       "      <td>23.307045</td>\n",
       "      <td>2.0</td>\n",
       "      <td>1.0</td>\n",
       "    </tr>\n",
       "    <tr>\n",
       "      <td>2018-11-08 12:00:00</td>\n",
       "      <td>23.375366</td>\n",
       "      <td>2.0</td>\n",
       "      <td>1.0</td>\n",
       "    </tr>\n",
       "    <tr>\n",
       "      <td>2018-11-09 12:00:00</td>\n",
       "      <td>23.396191</td>\n",
       "      <td>2.0</td>\n",
       "      <td>1.0</td>\n",
       "    </tr>\n",
       "    <tr>\n",
       "      <td>2018-11-10 12:00:00</td>\n",
       "      <td>23.352537</td>\n",
       "      <td>2.0</td>\n",
       "      <td>1.0</td>\n",
       "    </tr>\n",
       "  </tbody>\n",
       "</table>\n",
       "</div>"
      ],
      "text/plain": [
       "                                           T_20  QT_5020  ST_6020\n",
       "depth lat  lon   time                                            \n",
       "0.0   -2.0 265.0 2018-11-06 12:00:00  23.252274      2.0      1.0\n",
       "                 2018-11-07 12:00:00  23.307045      2.0      1.0\n",
       "                 2018-11-08 12:00:00  23.375366      2.0      1.0\n",
       "                 2018-11-09 12:00:00  23.396191      2.0      1.0\n",
       "                 2018-11-10 12:00:00  23.352537      2.0      1.0"
      ]
     },
     "execution_count": 3,
     "metadata": {},
     "output_type": "execute_result"
    }
   ],
   "source": [
    "df = ds.to_dataframe()\n",
    "df.tail()"
   ]
  },
  {
   "cell_type": "code",
   "execution_count": 4,
   "metadata": {},
   "outputs": [],
   "source": [
    "#from datetime import datetime\n",
    "# Definimos algunas variables del índice que nos servirá a acceder a nuestro marco de datos.\n",
    "dept = 0.0\n",
    "lat = -2.0\n",
    "ton = 265.0"
   ]
  },
  {
   "cell_type": "markdown",
   "metadata": {},
   "source": [
    "Ahora creamos todas las fechas que necesitamos completar."
   ]
  },
  {
   "cell_type": "code",
   "execution_count": 5,
   "metadata": {},
   "outputs": [
    {
     "data": {
      "text/plain": [
       "DatetimeIndex(['2018-11-11 12:00:00', '2018-11-12 12:00:00',\n",
       "               '2018-11-13 12:00:00', '2018-11-14 12:00:00',\n",
       "               '2018-11-15 12:00:00', '2018-11-16 12:00:00',\n",
       "               '2018-11-17 12:00:00', '2018-11-18 12:00:00',\n",
       "               '2018-11-19 12:00:00', '2018-11-20 12:00:00',\n",
       "               '2018-11-21 12:00:00', '2018-11-22 12:00:00',\n",
       "               '2018-11-23 12:00:00', '2018-11-24 12:00:00',\n",
       "               '2018-11-25 12:00:00', '2018-11-26 12:00:00',\n",
       "               '2018-11-27 12:00:00', '2018-11-28 12:00:00',\n",
       "               '2018-11-29 12:00:00', '2018-11-30 12:00:00',\n",
       "               '2018-12-01 12:00:00', '2018-12-02 12:00:00',\n",
       "               '2018-12-03 12:00:00', '2018-12-04 12:00:00',\n",
       "               '2018-12-05 12:00:00', '2018-12-06 12:00:00',\n",
       "               '2018-12-07 12:00:00', '2018-12-08 12:00:00',\n",
       "               '2018-12-09 12:00:00', '2018-12-10 12:00:00',\n",
       "               '2018-12-11 12:00:00', '2018-12-12 12:00:00',\n",
       "               '2018-12-13 12:00:00', '2018-12-14 12:00:00',\n",
       "               '2018-12-15 12:00:00', '2018-12-16 12:00:00',\n",
       "               '2018-12-17 12:00:00', '2018-12-18 12:00:00',\n",
       "               '2018-12-19 12:00:00', '2018-12-20 12:00:00',\n",
       "               '2018-12-21 12:00:00', '2018-12-22 12:00:00',\n",
       "               '2018-12-23 12:00:00', '2018-12-24 12:00:00',\n",
       "               '2018-12-25 12:00:00', '2018-12-26 12:00:00',\n",
       "               '2018-12-27 12:00:00', '2018-12-28 12:00:00',\n",
       "               '2018-12-29 12:00:00', '2018-12-30 12:00:00',\n",
       "               '2018-12-31 12:00:00'],\n",
       "              dtype='datetime64[ns]', freq='D')"
      ]
     },
     "execution_count": 5,
     "metadata": {},
     "output_type": "execute_result"
    }
   ],
   "source": [
    "fechas = pd.date_range('20181111120000', periods=51)\n",
    "fechas"
   ]
  },
  {
   "cell_type": "markdown",
   "metadata": {},
   "source": [
    "### Analizando la temperatura"
   ]
  },
  {
   "cell_type": "markdown",
   "metadata": {},
   "source": [
    "Los datos faltantes podemos completarlo con la media de todas las temperaturas anteriores... "
   ]
  },
  {
   "cell_type": "code",
   "execution_count": 6,
   "metadata": {},
   "outputs": [],
   "source": [
    "totalv = len(df)"
   ]
  },
  {
   "cell_type": "code",
   "execution_count": 7,
   "metadata": {},
   "outputs": [
    {
     "data": {
      "text/plain": [
       "23.744"
      ]
     },
     "execution_count": 7,
     "metadata": {},
     "output_type": "execute_result"
    }
   ],
   "source": [
    "tmean = np.round(df.sum().T_20/totalv,3)  # también se realizó un aproximamiento a 3 comas decimales.\n",
    "tmean"
   ]
  },
  {
   "cell_type": "markdown",
   "metadata": {},
   "source": [
    "... ya que solo tenemos las temperaturas de 1 año.\n",
    "Pero las temperaturas que hay en Marzo y Febrero no son las mismas que existe en Agosto y Septiembre y por esta razón si nos fijamos el último valor que pondremos será:"
   ]
  },
  {
   "cell_type": "code",
   "execution_count": 8,
   "metadata": {},
   "outputs": [
    {
     "data": {
      "text/plain": [
       "23.744"
      ]
     },
     "execution_count": 8,
     "metadata": {},
     "output_type": "execute_result"
    }
   ],
   "source": [
    "tmean"
   ]
  },
  {
   "cell_type": "markdown",
   "metadata": {},
   "source": [
    "Mientras que la primera temperatura es decir el primero de enero será de:"
   ]
  },
  {
   "cell_type": "code",
   "execution_count": 9,
   "metadata": {},
   "outputs": [
    {
     "data": {
      "text/plain": [
       "21.726934"
      ]
     },
     "execution_count": 9,
     "metadata": {},
     "output_type": "execute_result"
    }
   ],
   "source": [
    "df.iloc[0][0]"
   ]
  },
  {
   "cell_type": "markdown",
   "metadata": {},
   "source": [
    "Lo cual en vista de que tenemos un salto de 21.72 a 23.74 y en ninguna parte de nuestro dataset tenemos algo parecido, \n",
    "mi sugerencia es realizar el promedio de las temperaturas cercanas a los datos que nos faltan **pero** tanto como antes de las fechas faltantes como despues de éstas así tendríamos un promedio de todos esos datos faltantes, ya que los valores faltantes reales que estan más cercas a Enero se parecen a Enero y los datos faltantes reales que estan cerca a Noviembre/Diciembre se parecen más a Noviembre por lo que tendríamos entonces un promedio de los datos faltantes reales puestos en nuestros valores faltantes."
   ]
  },
  {
   "cell_type": "code",
   "execution_count": 10,
   "metadata": {},
   "outputs": [
    {
     "data": {
      "text/html": [
       "<div>\n",
       "<style scoped>\n",
       "    .dataframe tbody tr th:only-of-type {\n",
       "        vertical-align: middle;\n",
       "    }\n",
       "\n",
       "    .dataframe tbody tr th {\n",
       "        vertical-align: top;\n",
       "    }\n",
       "\n",
       "    .dataframe thead th {\n",
       "        text-align: right;\n",
       "    }\n",
       "</style>\n",
       "<table border=\"1\" class=\"dataframe\">\n",
       "  <thead>\n",
       "    <tr style=\"text-align: right;\">\n",
       "      <th></th>\n",
       "      <th></th>\n",
       "      <th></th>\n",
       "      <th></th>\n",
       "      <th>T_20</th>\n",
       "      <th>QT_5020</th>\n",
       "      <th>ST_6020</th>\n",
       "    </tr>\n",
       "    <tr>\n",
       "      <th>depth</th>\n",
       "      <th>lat</th>\n",
       "      <th>lon</th>\n",
       "      <th>time</th>\n",
       "      <th></th>\n",
       "      <th></th>\n",
       "      <th></th>\n",
       "    </tr>\n",
       "  </thead>\n",
       "  <tbody>\n",
       "    <tr>\n",
       "      <td rowspan=\"2\" valign=\"top\">0.0</td>\n",
       "      <td rowspan=\"2\" valign=\"top\">-2.0</td>\n",
       "      <td rowspan=\"2\" valign=\"top\">265.0</td>\n",
       "      <td>2018-01-01 12:00:00</td>\n",
       "      <td>21.726934</td>\n",
       "      <td>1.0</td>\n",
       "      <td>5.0</td>\n",
       "    </tr>\n",
       "    <tr>\n",
       "      <td>2018-11-10 12:00:00</td>\n",
       "      <td>23.352537</td>\n",
       "      <td>2.0</td>\n",
       "      <td>1.0</td>\n",
       "    </tr>\n",
       "  </tbody>\n",
       "</table>\n",
       "</div>"
      ],
      "text/plain": [
       "                                           T_20  QT_5020  ST_6020\n",
       "depth lat  lon   time                                            \n",
       "0.0   -2.0 265.0 2018-01-01 12:00:00  21.726934      1.0      5.0\n",
       "                 2018-11-10 12:00:00  23.352537      2.0      1.0"
      ]
     },
     "execution_count": 10,
     "metadata": {},
     "output_type": "execute_result"
    }
   ],
   "source": [
    "df.iloc[[0,313]] # salto grande de temperatura.\n"
   ]
  },
  {
   "cell_type": "code",
   "execution_count": 11,
   "metadata": {},
   "outputs": [
    {
     "data": {
      "text/plain": [
       "22.46191267533736"
      ]
     },
     "execution_count": 11,
     "metadata": {},
     "output_type": "execute_result"
    }
   ],
   "source": [
    "tmean = ( df.iloc[290:314].sum()[0] + df.iloc[0:20].sum()[0] ) / 44 # usamos mi sugerencia\n",
    "tmean"
   ]
  },
  {
   "cell_type": "markdown",
   "metadata": {},
   "source": [
    "## Analizando QT_5020 y ST_6020\n",
    "\n",
    "Podemos ver según este enlance http://osmc.noaa.gov/erddap/info/pmelTaoDyT/index.xhtml como QT es Temperatura Quality o la **calidad de temperatura**:\n",
    "\n",
    "   * 0 = missing data\n",
    "   * 1 = highest\n",
    "   * 2 = standard\n",
    "   * 3 = lower\n",
    "   * 4 = questionable\n",
    "   * 5 = bad\n",
    "\n",
    "y ST Source Temperature o **fuente de la temperatura**:\n",
    "\n",
    "   * 0 = No Sensor, No Data\n",
    "   * 1 = Real Time (Telemetered Mode) \n",
    "   * 2 = Derived from Real Time\n",
    "   * 3 = Temporally Interpolated from Real Time\n",
    "   * 4 = Source Code Inactive at Present\n",
    "   * 5 = Recovered from Instrument RAM (Delayed Mode)\n",
    "   * 6 = Derived from RAM\n",
    "   * 7 = Temporally Interpolated from RAM"
   ]
  },
  {
   "cell_type": "markdown",
   "metadata": {},
   "source": [
    "Observamos como a partir del 2018-04-20 se comienza a tener una calidad standar de la temperatura (2.0) y \n",
    "como la fuente pasa a ser de tiempo real(1.0) "
   ]
  },
  {
   "cell_type": "code",
   "execution_count": 12,
   "metadata": {},
   "outputs": [
    {
     "data": {
      "text/html": [
       "<div>\n",
       "<style scoped>\n",
       "    .dataframe tbody tr th:only-of-type {\n",
       "        vertical-align: middle;\n",
       "    }\n",
       "\n",
       "    .dataframe tbody tr th {\n",
       "        vertical-align: top;\n",
       "    }\n",
       "\n",
       "    .dataframe thead th {\n",
       "        text-align: right;\n",
       "    }\n",
       "</style>\n",
       "<table border=\"1\" class=\"dataframe\">\n",
       "  <thead>\n",
       "    <tr style=\"text-align: right;\">\n",
       "      <th></th>\n",
       "      <th></th>\n",
       "      <th></th>\n",
       "      <th></th>\n",
       "      <th>T_20</th>\n",
       "      <th>QT_5020</th>\n",
       "      <th>ST_6020</th>\n",
       "    </tr>\n",
       "    <tr>\n",
       "      <th>depth</th>\n",
       "      <th>lat</th>\n",
       "      <th>lon</th>\n",
       "      <th>time</th>\n",
       "      <th></th>\n",
       "      <th></th>\n",
       "      <th></th>\n",
       "    </tr>\n",
       "  </thead>\n",
       "  <tbody>\n",
       "    <tr>\n",
       "      <td rowspan=\"4\" valign=\"top\">0.0</td>\n",
       "      <td rowspan=\"4\" valign=\"top\">-2.0</td>\n",
       "      <td rowspan=\"4\" valign=\"top\">265.0</td>\n",
       "      <td>2018-04-18 12:00:00</td>\n",
       "      <td>26.376242</td>\n",
       "      <td>1.0</td>\n",
       "      <td>5.0</td>\n",
       "    </tr>\n",
       "    <tr>\n",
       "      <td>2018-04-19 12:00:00</td>\n",
       "      <td>26.516544</td>\n",
       "      <td>1.0</td>\n",
       "      <td>5.0</td>\n",
       "    </tr>\n",
       "    <tr>\n",
       "      <td>2018-04-20 12:00:00</td>\n",
       "      <td>26.519377</td>\n",
       "      <td>2.0</td>\n",
       "      <td>1.0</td>\n",
       "    </tr>\n",
       "    <tr>\n",
       "      <td>2018-04-21 12:00:00</td>\n",
       "      <td>26.544127</td>\n",
       "      <td>2.0</td>\n",
       "      <td>1.0</td>\n",
       "    </tr>\n",
       "  </tbody>\n",
       "</table>\n",
       "</div>"
      ],
      "text/plain": [
       "                                           T_20  QT_5020  ST_6020\n",
       "depth lat  lon   time                                            \n",
       "0.0   -2.0 265.0 2018-04-18 12:00:00  26.376242      1.0      5.0\n",
       "                 2018-04-19 12:00:00  26.516544      1.0      5.0\n",
       "                 2018-04-20 12:00:00  26.519377      2.0      1.0\n",
       "                 2018-04-21 12:00:00  26.544127      2.0      1.0"
      ]
     },
     "execution_count": 12,
     "metadata": {},
     "output_type": "execute_result"
    }
   ],
   "source": [
    "df.iloc[107:111]"
   ]
  },
  {
   "cell_type": "code",
   "execution_count": 13,
   "metadata": {},
   "outputs": [
    {
     "data": {
      "text/html": [
       "<div>\n",
       "<style scoped>\n",
       "    .dataframe tbody tr th:only-of-type {\n",
       "        vertical-align: middle;\n",
       "    }\n",
       "\n",
       "    .dataframe tbody tr th {\n",
       "        vertical-align: top;\n",
       "    }\n",
       "\n",
       "    .dataframe thead th {\n",
       "        text-align: right;\n",
       "    }\n",
       "</style>\n",
       "<table border=\"1\" class=\"dataframe\">\n",
       "  <thead>\n",
       "    <tr style=\"text-align: right;\">\n",
       "      <th></th>\n",
       "      <th></th>\n",
       "      <th></th>\n",
       "      <th></th>\n",
       "      <th>T_20</th>\n",
       "      <th>QT_5020</th>\n",
       "      <th>ST_6020</th>\n",
       "    </tr>\n",
       "    <tr>\n",
       "      <th>depth</th>\n",
       "      <th>lat</th>\n",
       "      <th>lon</th>\n",
       "      <th>time</th>\n",
       "      <th></th>\n",
       "      <th></th>\n",
       "      <th></th>\n",
       "    </tr>\n",
       "  </thead>\n",
       "  <tbody>\n",
       "    <tr>\n",
       "      <td rowspan=\"4\" valign=\"top\">0.0</td>\n",
       "      <td rowspan=\"4\" valign=\"top\">-2.0</td>\n",
       "      <td rowspan=\"4\" valign=\"top\">265.0</td>\n",
       "      <td>2018-11-07 12:00:00</td>\n",
       "      <td>23.307045</td>\n",
       "      <td>2.0</td>\n",
       "      <td>1.0</td>\n",
       "    </tr>\n",
       "    <tr>\n",
       "      <td>2018-11-08 12:00:00</td>\n",
       "      <td>23.375366</td>\n",
       "      <td>2.0</td>\n",
       "      <td>1.0</td>\n",
       "    </tr>\n",
       "    <tr>\n",
       "      <td>2018-11-09 12:00:00</td>\n",
       "      <td>23.396191</td>\n",
       "      <td>2.0</td>\n",
       "      <td>1.0</td>\n",
       "    </tr>\n",
       "    <tr>\n",
       "      <td>2018-11-10 12:00:00</td>\n",
       "      <td>23.352537</td>\n",
       "      <td>2.0</td>\n",
       "      <td>1.0</td>\n",
       "    </tr>\n",
       "  </tbody>\n",
       "</table>\n",
       "</div>"
      ],
      "text/plain": [
       "                                           T_20  QT_5020  ST_6020\n",
       "depth lat  lon   time                                            \n",
       "0.0   -2.0 265.0 2018-11-07 12:00:00  23.307045      2.0      1.0\n",
       "                 2018-11-08 12:00:00  23.375366      2.0      1.0\n",
       "                 2018-11-09 12:00:00  23.396191      2.0      1.0\n",
       "                 2018-11-10 12:00:00  23.352537      2.0      1.0"
      ]
     },
     "execution_count": 13,
     "metadata": {},
     "output_type": "execute_result"
    }
   ],
   "source": [
    "# Y es así como se tiene hasta el final de los datos registrados que tenemos\n",
    "df.iloc[310:314]"
   ]
  },
  {
   "cell_type": "code",
   "execution_count": 14,
   "metadata": {},
   "outputs": [],
   "source": [
    "# Por lo que entonces tenemos los QT y ST faltantes.\n",
    "qt = 2.0\n",
    "st = 1.0"
   ]
  },
  {
   "cell_type": "markdown",
   "metadata": {},
   "source": [
    "Procedemos a llenar entonces todos los datos faltantes:\n",
    "   * Por cada fecha tenemos el mismo depth, lat y ton.\n",
    "   * Los valores son los mismos: tmean (temperatura media), qt y st."
   ]
  },
  {
   "cell_type": "code",
   "execution_count": 15,
   "metadata": {},
   "outputs": [],
   "source": [
    "for i in fechas:\n",
    "    df.loc[(dept,lat,ton,i)] = (tmean,qt,st)"
   ]
  },
  {
   "cell_type": "code",
   "execution_count": 16,
   "metadata": {},
   "outputs": [
    {
     "data": {
      "text/html": [
       "<div>\n",
       "<style scoped>\n",
       "    .dataframe tbody tr th:only-of-type {\n",
       "        vertical-align: middle;\n",
       "    }\n",
       "\n",
       "    .dataframe tbody tr th {\n",
       "        vertical-align: top;\n",
       "    }\n",
       "\n",
       "    .dataframe thead th {\n",
       "        text-align: right;\n",
       "    }\n",
       "</style>\n",
       "<table border=\"1\" class=\"dataframe\">\n",
       "  <thead>\n",
       "    <tr style=\"text-align: right;\">\n",
       "      <th></th>\n",
       "      <th></th>\n",
       "      <th></th>\n",
       "      <th></th>\n",
       "      <th>T_20</th>\n",
       "      <th>QT_5020</th>\n",
       "      <th>ST_6020</th>\n",
       "    </tr>\n",
       "    <tr>\n",
       "      <th>depth</th>\n",
       "      <th>lat</th>\n",
       "      <th>lon</th>\n",
       "      <th>time</th>\n",
       "      <th></th>\n",
       "      <th></th>\n",
       "      <th></th>\n",
       "    </tr>\n",
       "  </thead>\n",
       "  <tbody>\n",
       "    <tr>\n",
       "      <td rowspan=\"51\" valign=\"top\">0.0</td>\n",
       "      <td rowspan=\"51\" valign=\"top\">-2.0</td>\n",
       "      <td rowspan=\"51\" valign=\"top\">265.0</td>\n",
       "      <td>2018-11-11 12:00:00</td>\n",
       "      <td>22.461913</td>\n",
       "      <td>2.0</td>\n",
       "      <td>1.0</td>\n",
       "    </tr>\n",
       "    <tr>\n",
       "      <td>2018-11-12 12:00:00</td>\n",
       "      <td>22.461913</td>\n",
       "      <td>2.0</td>\n",
       "      <td>1.0</td>\n",
       "    </tr>\n",
       "    <tr>\n",
       "      <td>2018-11-13 12:00:00</td>\n",
       "      <td>22.461913</td>\n",
       "      <td>2.0</td>\n",
       "      <td>1.0</td>\n",
       "    </tr>\n",
       "    <tr>\n",
       "      <td>2018-11-14 12:00:00</td>\n",
       "      <td>22.461913</td>\n",
       "      <td>2.0</td>\n",
       "      <td>1.0</td>\n",
       "    </tr>\n",
       "    <tr>\n",
       "      <td>2018-11-15 12:00:00</td>\n",
       "      <td>22.461913</td>\n",
       "      <td>2.0</td>\n",
       "      <td>1.0</td>\n",
       "    </tr>\n",
       "    <tr>\n",
       "      <td>2018-11-16 12:00:00</td>\n",
       "      <td>22.461913</td>\n",
       "      <td>2.0</td>\n",
       "      <td>1.0</td>\n",
       "    </tr>\n",
       "    <tr>\n",
       "      <td>2018-11-17 12:00:00</td>\n",
       "      <td>22.461913</td>\n",
       "      <td>2.0</td>\n",
       "      <td>1.0</td>\n",
       "    </tr>\n",
       "    <tr>\n",
       "      <td>2018-11-18 12:00:00</td>\n",
       "      <td>22.461913</td>\n",
       "      <td>2.0</td>\n",
       "      <td>1.0</td>\n",
       "    </tr>\n",
       "    <tr>\n",
       "      <td>2018-11-19 12:00:00</td>\n",
       "      <td>22.461913</td>\n",
       "      <td>2.0</td>\n",
       "      <td>1.0</td>\n",
       "    </tr>\n",
       "    <tr>\n",
       "      <td>2018-11-20 12:00:00</td>\n",
       "      <td>22.461913</td>\n",
       "      <td>2.0</td>\n",
       "      <td>1.0</td>\n",
       "    </tr>\n",
       "    <tr>\n",
       "      <td>2018-11-21 12:00:00</td>\n",
       "      <td>22.461913</td>\n",
       "      <td>2.0</td>\n",
       "      <td>1.0</td>\n",
       "    </tr>\n",
       "    <tr>\n",
       "      <td>2018-11-22 12:00:00</td>\n",
       "      <td>22.461913</td>\n",
       "      <td>2.0</td>\n",
       "      <td>1.0</td>\n",
       "    </tr>\n",
       "    <tr>\n",
       "      <td>2018-11-23 12:00:00</td>\n",
       "      <td>22.461913</td>\n",
       "      <td>2.0</td>\n",
       "      <td>1.0</td>\n",
       "    </tr>\n",
       "    <tr>\n",
       "      <td>2018-11-24 12:00:00</td>\n",
       "      <td>22.461913</td>\n",
       "      <td>2.0</td>\n",
       "      <td>1.0</td>\n",
       "    </tr>\n",
       "    <tr>\n",
       "      <td>2018-11-25 12:00:00</td>\n",
       "      <td>22.461913</td>\n",
       "      <td>2.0</td>\n",
       "      <td>1.0</td>\n",
       "    </tr>\n",
       "    <tr>\n",
       "      <td>2018-11-26 12:00:00</td>\n",
       "      <td>22.461913</td>\n",
       "      <td>2.0</td>\n",
       "      <td>1.0</td>\n",
       "    </tr>\n",
       "    <tr>\n",
       "      <td>2018-11-27 12:00:00</td>\n",
       "      <td>22.461913</td>\n",
       "      <td>2.0</td>\n",
       "      <td>1.0</td>\n",
       "    </tr>\n",
       "    <tr>\n",
       "      <td>2018-11-28 12:00:00</td>\n",
       "      <td>22.461913</td>\n",
       "      <td>2.0</td>\n",
       "      <td>1.0</td>\n",
       "    </tr>\n",
       "    <tr>\n",
       "      <td>2018-11-29 12:00:00</td>\n",
       "      <td>22.461913</td>\n",
       "      <td>2.0</td>\n",
       "      <td>1.0</td>\n",
       "    </tr>\n",
       "    <tr>\n",
       "      <td>2018-11-30 12:00:00</td>\n",
       "      <td>22.461913</td>\n",
       "      <td>2.0</td>\n",
       "      <td>1.0</td>\n",
       "    </tr>\n",
       "    <tr>\n",
       "      <td>2018-12-01 12:00:00</td>\n",
       "      <td>22.461913</td>\n",
       "      <td>2.0</td>\n",
       "      <td>1.0</td>\n",
       "    </tr>\n",
       "    <tr>\n",
       "      <td>2018-12-02 12:00:00</td>\n",
       "      <td>22.461913</td>\n",
       "      <td>2.0</td>\n",
       "      <td>1.0</td>\n",
       "    </tr>\n",
       "    <tr>\n",
       "      <td>2018-12-03 12:00:00</td>\n",
       "      <td>22.461913</td>\n",
       "      <td>2.0</td>\n",
       "      <td>1.0</td>\n",
       "    </tr>\n",
       "    <tr>\n",
       "      <td>2018-12-04 12:00:00</td>\n",
       "      <td>22.461913</td>\n",
       "      <td>2.0</td>\n",
       "      <td>1.0</td>\n",
       "    </tr>\n",
       "    <tr>\n",
       "      <td>2018-12-05 12:00:00</td>\n",
       "      <td>22.461913</td>\n",
       "      <td>2.0</td>\n",
       "      <td>1.0</td>\n",
       "    </tr>\n",
       "    <tr>\n",
       "      <td>2018-12-06 12:00:00</td>\n",
       "      <td>22.461913</td>\n",
       "      <td>2.0</td>\n",
       "      <td>1.0</td>\n",
       "    </tr>\n",
       "    <tr>\n",
       "      <td>2018-12-07 12:00:00</td>\n",
       "      <td>22.461913</td>\n",
       "      <td>2.0</td>\n",
       "      <td>1.0</td>\n",
       "    </tr>\n",
       "    <tr>\n",
       "      <td>2018-12-08 12:00:00</td>\n",
       "      <td>22.461913</td>\n",
       "      <td>2.0</td>\n",
       "      <td>1.0</td>\n",
       "    </tr>\n",
       "    <tr>\n",
       "      <td>2018-12-09 12:00:00</td>\n",
       "      <td>22.461913</td>\n",
       "      <td>2.0</td>\n",
       "      <td>1.0</td>\n",
       "    </tr>\n",
       "    <tr>\n",
       "      <td>2018-12-10 12:00:00</td>\n",
       "      <td>22.461913</td>\n",
       "      <td>2.0</td>\n",
       "      <td>1.0</td>\n",
       "    </tr>\n",
       "    <tr>\n",
       "      <td>2018-12-11 12:00:00</td>\n",
       "      <td>22.461913</td>\n",
       "      <td>2.0</td>\n",
       "      <td>1.0</td>\n",
       "    </tr>\n",
       "    <tr>\n",
       "      <td>2018-12-12 12:00:00</td>\n",
       "      <td>22.461913</td>\n",
       "      <td>2.0</td>\n",
       "      <td>1.0</td>\n",
       "    </tr>\n",
       "    <tr>\n",
       "      <td>2018-12-13 12:00:00</td>\n",
       "      <td>22.461913</td>\n",
       "      <td>2.0</td>\n",
       "      <td>1.0</td>\n",
       "    </tr>\n",
       "    <tr>\n",
       "      <td>2018-12-14 12:00:00</td>\n",
       "      <td>22.461913</td>\n",
       "      <td>2.0</td>\n",
       "      <td>1.0</td>\n",
       "    </tr>\n",
       "    <tr>\n",
       "      <td>2018-12-15 12:00:00</td>\n",
       "      <td>22.461913</td>\n",
       "      <td>2.0</td>\n",
       "      <td>1.0</td>\n",
       "    </tr>\n",
       "    <tr>\n",
       "      <td>2018-12-16 12:00:00</td>\n",
       "      <td>22.461913</td>\n",
       "      <td>2.0</td>\n",
       "      <td>1.0</td>\n",
       "    </tr>\n",
       "    <tr>\n",
       "      <td>2018-12-17 12:00:00</td>\n",
       "      <td>22.461913</td>\n",
       "      <td>2.0</td>\n",
       "      <td>1.0</td>\n",
       "    </tr>\n",
       "    <tr>\n",
       "      <td>2018-12-18 12:00:00</td>\n",
       "      <td>22.461913</td>\n",
       "      <td>2.0</td>\n",
       "      <td>1.0</td>\n",
       "    </tr>\n",
       "    <tr>\n",
       "      <td>2018-12-19 12:00:00</td>\n",
       "      <td>22.461913</td>\n",
       "      <td>2.0</td>\n",
       "      <td>1.0</td>\n",
       "    </tr>\n",
       "    <tr>\n",
       "      <td>2018-12-20 12:00:00</td>\n",
       "      <td>22.461913</td>\n",
       "      <td>2.0</td>\n",
       "      <td>1.0</td>\n",
       "    </tr>\n",
       "    <tr>\n",
       "      <td>2018-12-21 12:00:00</td>\n",
       "      <td>22.461913</td>\n",
       "      <td>2.0</td>\n",
       "      <td>1.0</td>\n",
       "    </tr>\n",
       "    <tr>\n",
       "      <td>2018-12-22 12:00:00</td>\n",
       "      <td>22.461913</td>\n",
       "      <td>2.0</td>\n",
       "      <td>1.0</td>\n",
       "    </tr>\n",
       "    <tr>\n",
       "      <td>2018-12-23 12:00:00</td>\n",
       "      <td>22.461913</td>\n",
       "      <td>2.0</td>\n",
       "      <td>1.0</td>\n",
       "    </tr>\n",
       "    <tr>\n",
       "      <td>2018-12-24 12:00:00</td>\n",
       "      <td>22.461913</td>\n",
       "      <td>2.0</td>\n",
       "      <td>1.0</td>\n",
       "    </tr>\n",
       "    <tr>\n",
       "      <td>2018-12-25 12:00:00</td>\n",
       "      <td>22.461913</td>\n",
       "      <td>2.0</td>\n",
       "      <td>1.0</td>\n",
       "    </tr>\n",
       "    <tr>\n",
       "      <td>2018-12-26 12:00:00</td>\n",
       "      <td>22.461913</td>\n",
       "      <td>2.0</td>\n",
       "      <td>1.0</td>\n",
       "    </tr>\n",
       "    <tr>\n",
       "      <td>2018-12-27 12:00:00</td>\n",
       "      <td>22.461913</td>\n",
       "      <td>2.0</td>\n",
       "      <td>1.0</td>\n",
       "    </tr>\n",
       "    <tr>\n",
       "      <td>2018-12-28 12:00:00</td>\n",
       "      <td>22.461913</td>\n",
       "      <td>2.0</td>\n",
       "      <td>1.0</td>\n",
       "    </tr>\n",
       "    <tr>\n",
       "      <td>2018-12-29 12:00:00</td>\n",
       "      <td>22.461913</td>\n",
       "      <td>2.0</td>\n",
       "      <td>1.0</td>\n",
       "    </tr>\n",
       "    <tr>\n",
       "      <td>2018-12-30 12:00:00</td>\n",
       "      <td>22.461913</td>\n",
       "      <td>2.0</td>\n",
       "      <td>1.0</td>\n",
       "    </tr>\n",
       "    <tr>\n",
       "      <td>2018-12-31 12:00:00</td>\n",
       "      <td>22.461913</td>\n",
       "      <td>2.0</td>\n",
       "      <td>1.0</td>\n",
       "    </tr>\n",
       "  </tbody>\n",
       "</table>\n",
       "</div>"
      ],
      "text/plain": [
       "                                           T_20  QT_5020  ST_6020\n",
       "depth lat  lon   time                                            \n",
       "0.0   -2.0 265.0 2018-11-11 12:00:00  22.461913      2.0      1.0\n",
       "                 2018-11-12 12:00:00  22.461913      2.0      1.0\n",
       "                 2018-11-13 12:00:00  22.461913      2.0      1.0\n",
       "                 2018-11-14 12:00:00  22.461913      2.0      1.0\n",
       "                 2018-11-15 12:00:00  22.461913      2.0      1.0\n",
       "                 2018-11-16 12:00:00  22.461913      2.0      1.0\n",
       "                 2018-11-17 12:00:00  22.461913      2.0      1.0\n",
       "                 2018-11-18 12:00:00  22.461913      2.0      1.0\n",
       "                 2018-11-19 12:00:00  22.461913      2.0      1.0\n",
       "                 2018-11-20 12:00:00  22.461913      2.0      1.0\n",
       "                 2018-11-21 12:00:00  22.461913      2.0      1.0\n",
       "                 2018-11-22 12:00:00  22.461913      2.0      1.0\n",
       "                 2018-11-23 12:00:00  22.461913      2.0      1.0\n",
       "                 2018-11-24 12:00:00  22.461913      2.0      1.0\n",
       "                 2018-11-25 12:00:00  22.461913      2.0      1.0\n",
       "                 2018-11-26 12:00:00  22.461913      2.0      1.0\n",
       "                 2018-11-27 12:00:00  22.461913      2.0      1.0\n",
       "                 2018-11-28 12:00:00  22.461913      2.0      1.0\n",
       "                 2018-11-29 12:00:00  22.461913      2.0      1.0\n",
       "                 2018-11-30 12:00:00  22.461913      2.0      1.0\n",
       "                 2018-12-01 12:00:00  22.461913      2.0      1.0\n",
       "                 2018-12-02 12:00:00  22.461913      2.0      1.0\n",
       "                 2018-12-03 12:00:00  22.461913      2.0      1.0\n",
       "                 2018-12-04 12:00:00  22.461913      2.0      1.0\n",
       "                 2018-12-05 12:00:00  22.461913      2.0      1.0\n",
       "                 2018-12-06 12:00:00  22.461913      2.0      1.0\n",
       "                 2018-12-07 12:00:00  22.461913      2.0      1.0\n",
       "                 2018-12-08 12:00:00  22.461913      2.0      1.0\n",
       "                 2018-12-09 12:00:00  22.461913      2.0      1.0\n",
       "                 2018-12-10 12:00:00  22.461913      2.0      1.0\n",
       "                 2018-12-11 12:00:00  22.461913      2.0      1.0\n",
       "                 2018-12-12 12:00:00  22.461913      2.0      1.0\n",
       "                 2018-12-13 12:00:00  22.461913      2.0      1.0\n",
       "                 2018-12-14 12:00:00  22.461913      2.0      1.0\n",
       "                 2018-12-15 12:00:00  22.461913      2.0      1.0\n",
       "                 2018-12-16 12:00:00  22.461913      2.0      1.0\n",
       "                 2018-12-17 12:00:00  22.461913      2.0      1.0\n",
       "                 2018-12-18 12:00:00  22.461913      2.0      1.0\n",
       "                 2018-12-19 12:00:00  22.461913      2.0      1.0\n",
       "                 2018-12-20 12:00:00  22.461913      2.0      1.0\n",
       "                 2018-12-21 12:00:00  22.461913      2.0      1.0\n",
       "                 2018-12-22 12:00:00  22.461913      2.0      1.0\n",
       "                 2018-12-23 12:00:00  22.461913      2.0      1.0\n",
       "                 2018-12-24 12:00:00  22.461913      2.0      1.0\n",
       "                 2018-12-25 12:00:00  22.461913      2.0      1.0\n",
       "                 2018-12-26 12:00:00  22.461913      2.0      1.0\n",
       "                 2018-12-27 12:00:00  22.461913      2.0      1.0\n",
       "                 2018-12-28 12:00:00  22.461913      2.0      1.0\n",
       "                 2018-12-29 12:00:00  22.461913      2.0      1.0\n",
       "                 2018-12-30 12:00:00  22.461913      2.0      1.0\n",
       "                 2018-12-31 12:00:00  22.461913      2.0      1.0"
      ]
     },
     "execution_count": 16,
     "metadata": {},
     "output_type": "execute_result"
    }
   ],
   "source": [
    "# Verificamos los valores agregados\n",
    "df[314:]"
   ]
  },
  {
   "cell_type": "markdown",
   "metadata": {},
   "source": [
    "## Serializando y deserializando el nuevo marco de dato"
   ]
  },
  {
   "cell_type": "markdown",
   "metadata": {},
   "source": [
    "Pasamos el dataframe a un dataArray  para poder guardarlo."
   ]
  },
  {
   "cell_type": "code",
   "execution_count": 17,
   "metadata": {},
   "outputs": [],
   "source": [
    "dirout = \"sst1tratado.cdf\"\n",
    "\n",
    "ds = df.to_xarray()\n",
    "\n",
    "# Guardamos en la direccion de salida (dirout)\n",
    "ds.to_netcdf(dirout)"
   ]
  },
  {
   "cell_type": "markdown",
   "metadata": {},
   "source": [
    "Ahora traemos de vuelta, es decir, deserializamos ese dataArray."
   ]
  },
  {
   "cell_type": "code",
   "execution_count": 18,
   "metadata": {},
   "outputs": [],
   "source": [
    "datadir2 = dirout # la direccion de la cual tomaremos es la misma del cual importamos\n",
    "ds2 = xr.open_dataset(datadir2) # importamos"
   ]
  },
  {
   "cell_type": "code",
   "execution_count": 19,
   "metadata": {},
   "outputs": [],
   "source": [
    "df2 = ds2.to_dataframe() # lo converitmos a un marco de datos."
   ]
  },
  {
   "cell_type": "code",
   "execution_count": 20,
   "metadata": {},
   "outputs": [
    {
     "data": {
      "text/html": [
       "<div>\n",
       "<style scoped>\n",
       "    .dataframe tbody tr th:only-of-type {\n",
       "        vertical-align: middle;\n",
       "    }\n",
       "\n",
       "    .dataframe tbody tr th {\n",
       "        vertical-align: top;\n",
       "    }\n",
       "\n",
       "    .dataframe thead th {\n",
       "        text-align: right;\n",
       "    }\n",
       "</style>\n",
       "<table border=\"1\" class=\"dataframe\">\n",
       "  <thead>\n",
       "    <tr style=\"text-align: right;\">\n",
       "      <th></th>\n",
       "      <th></th>\n",
       "      <th></th>\n",
       "      <th></th>\n",
       "      <th>T_20</th>\n",
       "      <th>QT_5020</th>\n",
       "      <th>ST_6020</th>\n",
       "    </tr>\n",
       "    <tr>\n",
       "      <th>depth</th>\n",
       "      <th>lat</th>\n",
       "      <th>lon</th>\n",
       "      <th>time</th>\n",
       "      <th></th>\n",
       "      <th></th>\n",
       "      <th></th>\n",
       "    </tr>\n",
       "  </thead>\n",
       "  <tbody>\n",
       "    <tr>\n",
       "      <td rowspan=\"10\" valign=\"top\">0.0</td>\n",
       "      <td rowspan=\"10\" valign=\"top\">-2.0</td>\n",
       "      <td rowspan=\"10\" valign=\"top\">265.0</td>\n",
       "      <td>2018-12-22 12:00:00</td>\n",
       "      <td>22.461913</td>\n",
       "      <td>2.0</td>\n",
       "      <td>1.0</td>\n",
       "    </tr>\n",
       "    <tr>\n",
       "      <td>2018-12-23 12:00:00</td>\n",
       "      <td>22.461913</td>\n",
       "      <td>2.0</td>\n",
       "      <td>1.0</td>\n",
       "    </tr>\n",
       "    <tr>\n",
       "      <td>2018-12-24 12:00:00</td>\n",
       "      <td>22.461913</td>\n",
       "      <td>2.0</td>\n",
       "      <td>1.0</td>\n",
       "    </tr>\n",
       "    <tr>\n",
       "      <td>2018-12-25 12:00:00</td>\n",
       "      <td>22.461913</td>\n",
       "      <td>2.0</td>\n",
       "      <td>1.0</td>\n",
       "    </tr>\n",
       "    <tr>\n",
       "      <td>2018-12-26 12:00:00</td>\n",
       "      <td>22.461913</td>\n",
       "      <td>2.0</td>\n",
       "      <td>1.0</td>\n",
       "    </tr>\n",
       "    <tr>\n",
       "      <td>2018-12-27 12:00:00</td>\n",
       "      <td>22.461913</td>\n",
       "      <td>2.0</td>\n",
       "      <td>1.0</td>\n",
       "    </tr>\n",
       "    <tr>\n",
       "      <td>2018-12-28 12:00:00</td>\n",
       "      <td>22.461913</td>\n",
       "      <td>2.0</td>\n",
       "      <td>1.0</td>\n",
       "    </tr>\n",
       "    <tr>\n",
       "      <td>2018-12-29 12:00:00</td>\n",
       "      <td>22.461913</td>\n",
       "      <td>2.0</td>\n",
       "      <td>1.0</td>\n",
       "    </tr>\n",
       "    <tr>\n",
       "      <td>2018-12-30 12:00:00</td>\n",
       "      <td>22.461913</td>\n",
       "      <td>2.0</td>\n",
       "      <td>1.0</td>\n",
       "    </tr>\n",
       "    <tr>\n",
       "      <td>2018-12-31 12:00:00</td>\n",
       "      <td>22.461913</td>\n",
       "      <td>2.0</td>\n",
       "      <td>1.0</td>\n",
       "    </tr>\n",
       "  </tbody>\n",
       "</table>\n",
       "</div>"
      ],
      "text/plain": [
       "                                           T_20  QT_5020  ST_6020\n",
       "depth lat  lon   time                                            \n",
       "0.0   -2.0 265.0 2018-12-22 12:00:00  22.461913      2.0      1.0\n",
       "                 2018-12-23 12:00:00  22.461913      2.0      1.0\n",
       "                 2018-12-24 12:00:00  22.461913      2.0      1.0\n",
       "                 2018-12-25 12:00:00  22.461913      2.0      1.0\n",
       "                 2018-12-26 12:00:00  22.461913      2.0      1.0\n",
       "                 2018-12-27 12:00:00  22.461913      2.0      1.0\n",
       "                 2018-12-28 12:00:00  22.461913      2.0      1.0\n",
       "                 2018-12-29 12:00:00  22.461913      2.0      1.0\n",
       "                 2018-12-30 12:00:00  22.461913      2.0      1.0\n",
       "                 2018-12-31 12:00:00  22.461913      2.0      1.0"
      ]
     },
     "execution_count": 20,
     "metadata": {},
     "output_type": "execute_result"
    }
   ],
   "source": [
    "df2.tail(10)"
   ]
  },
  {
   "cell_type": "markdown",
   "metadata": {},
   "source": []
  },
  {
   "cell_type": "markdown",
   "metadata": {},
   "source": [
    "# Pregunta 2"
   ]
  },
  {
   "cell_type": "markdown",
   "metadata": {},
   "source": [
    "Abrimos nuestro archivo cdf y lo pasamos a dataframe para comenzar a trabajar."
   ]
  },
  {
   "cell_type": "code",
   "execution_count": 21,
   "metadata": {},
   "outputs": [
    {
     "data": {
      "text/html": [
       "<div>\n",
       "<style scoped>\n",
       "    .dataframe tbody tr th:only-of-type {\n",
       "        vertical-align: middle;\n",
       "    }\n",
       "\n",
       "    .dataframe tbody tr th {\n",
       "        vertical-align: top;\n",
       "    }\n",
       "\n",
       "    .dataframe thead th {\n",
       "        text-align: right;\n",
       "    }\n",
       "</style>\n",
       "<table border=\"1\" class=\"dataframe\">\n",
       "  <thead>\n",
       "    <tr style=\"text-align: right;\">\n",
       "      <th></th>\n",
       "      <th></th>\n",
       "      <th></th>\n",
       "      <th></th>\n",
       "      <th>T_20</th>\n",
       "      <th>QT_5020</th>\n",
       "      <th>ST_6020</th>\n",
       "    </tr>\n",
       "    <tr>\n",
       "      <th>depth</th>\n",
       "      <th>lat</th>\n",
       "      <th>lon</th>\n",
       "      <th>time</th>\n",
       "      <th></th>\n",
       "      <th></th>\n",
       "      <th></th>\n",
       "    </tr>\n",
       "  </thead>\n",
       "  <tbody>\n",
       "    <tr>\n",
       "      <td rowspan=\"5\" valign=\"top\">0.0</td>\n",
       "      <td rowspan=\"5\" valign=\"top\">-2.0</td>\n",
       "      <td rowspan=\"5\" valign=\"top\">250.0</td>\n",
       "      <td>2010-01-01 12:00:00</td>\n",
       "      <td>25.49</td>\n",
       "      <td>1.0</td>\n",
       "      <td>5.0</td>\n",
       "    </tr>\n",
       "    <tr>\n",
       "      <td>2010-01-02 12:00:00</td>\n",
       "      <td>25.48</td>\n",
       "      <td>1.0</td>\n",
       "      <td>5.0</td>\n",
       "    </tr>\n",
       "    <tr>\n",
       "      <td>2010-01-03 12:00:00</td>\n",
       "      <td>25.52</td>\n",
       "      <td>1.0</td>\n",
       "      <td>5.0</td>\n",
       "    </tr>\n",
       "    <tr>\n",
       "      <td>2010-01-04 12:00:00</td>\n",
       "      <td>25.58</td>\n",
       "      <td>1.0</td>\n",
       "      <td>5.0</td>\n",
       "    </tr>\n",
       "    <tr>\n",
       "      <td>2010-01-05 12:00:00</td>\n",
       "      <td>25.58</td>\n",
       "      <td>1.0</td>\n",
       "      <td>5.0</td>\n",
       "    </tr>\n",
       "  </tbody>\n",
       "</table>\n",
       "</div>"
      ],
      "text/plain": [
       "                                       T_20  QT_5020  ST_6020\n",
       "depth lat  lon   time                                        \n",
       "0.0   -2.0 250.0 2010-01-01 12:00:00  25.49      1.0      5.0\n",
       "                 2010-01-02 12:00:00  25.48      1.0      5.0\n",
       "                 2010-01-03 12:00:00  25.52      1.0      5.0\n",
       "                 2010-01-04 12:00:00  25.58      1.0      5.0\n",
       "                 2010-01-05 12:00:00  25.58      1.0      5.0"
      ]
     },
     "execution_count": 21,
     "metadata": {},
     "output_type": "execute_result"
    }
   ],
   "source": [
    "datadir = \"sst2.cdf\"\n",
    "ds = xr.open_dataset(datadir)\n",
    "\n",
    "df = ds.to_dataframe()\n",
    "df.head()"
   ]
  },
  {
   "cell_type": "markdown",
   "metadata": {},
   "source": [
    "Antes de comenzar vamos a ver cuantos datos son los que faltan. "
   ]
  },
  {
   "cell_type": "code",
   "execution_count": 22,
   "metadata": {},
   "outputs": [
    {
     "data": {
      "text/plain": [
       "(19722, 3)"
      ]
     },
     "execution_count": 22,
     "metadata": {},
     "output_type": "execute_result"
    }
   ],
   "source": [
    "df.shape # datos totales"
   ]
  },
  {
   "cell_type": "code",
   "execution_count": 23,
   "metadata": {},
   "outputs": [
    {
     "data": {
      "text/plain": [
       "12613"
      ]
     },
     "execution_count": 23,
     "metadata": {},
     "output_type": "execute_result"
    }
   ],
   "source": [
    "(df[\"T_20\"] != 1.000000e+35).sum() # datos que tenemos"
   ]
  },
  {
   "cell_type": "code",
   "execution_count": 24,
   "metadata": {},
   "outputs": [
    {
     "data": {
      "text/plain": [
       "7109"
      ]
     },
     "execution_count": 24,
     "metadata": {},
     "output_type": "execute_result"
    }
   ],
   "source": [
    "(df[\"T_20\"] == 1.000000e+35).sum() # datos que faltan"
   ]
  },
  {
   "cell_type": "code",
   "execution_count": 25,
   "metadata": {},
   "outputs": [
    {
     "data": {
      "text/plain": [
       "19722"
      ]
     },
     "execution_count": 25,
     "metadata": {},
     "output_type": "execute_result"
    }
   ],
   "source": [
    "12613 + 7109 # es correcto  los datos faltantes + los que tenemos suman datos totales"
   ]
  },
  {
   "cell_type": "markdown",
   "metadata": {},
   "source": [
    "## Analizando QT y ST\n",
    "\n",
    "Como hemos visto QT y ST con clasificados por números 1,2,3,etc el cual cada uno tiene un significado y no se toma como medida de valor, es decir no podemos realizar una media de estos números porque podria salir 2.5 y esto no tiene sentido como clasificación por lo que mi sugerencia es realizar una moda, es decir si en la mayoria de años se uso cierta categoria, esta categoría tiene más probabilidad de estar en los datos faltantes."
   ]
  },
  {
   "cell_type": "code",
   "execution_count": 26,
   "metadata": {},
   "outputs": [],
   "source": [
    "from scipy.stats import mode # para hallar la moda"
   ]
  },
  {
   "cell_type": "code",
   "execution_count": 27,
   "metadata": {},
   "outputs": [
    {
     "data": {
      "text/plain": [
       "T_20       1.000000e+35\n",
       "QT_5020    0.000000e+00\n",
       "ST_6020    0.000000e+00\n",
       "Name: (0.0, -2.0, 265.0, 2016-03-01 12:00:00), dtype: float32"
      ]
     },
     "execution_count": 27,
     "metadata": {},
     "output_type": "execute_result"
    }
   ],
   "source": [
    "# Para ser más exquisitos mostraremos como se cambio un valor explicitamente:\n",
    "# Seguimiento de dato que falta.\n",
    "df.iloc[5538] "
   ]
  },
  {
   "cell_type": "markdown",
   "metadata": {},
   "source": [
    "## Análisis del algoritmo\n",
    "\n",
    "Como se pidio en el test se llenará los valores faltantes en base al mismo día y mes de los demás años que si tenemos la información:\n",
    "   * En cada fila buscamos si falta o no el dato.\n",
    "   * Si existe un valor faltante entonces guardamos su indice ( depth, lat, lon, time ) para usarlo después.\n",
    "       * Si es bisiesto (mes = 2 y dia = 29) entonces se promediará entre los años bisiestos en este caso solo 2012.\n",
    "            En el caso de ser más general, tan solo se toma cada 4 años el rango de fechas a partir del primer año bisiesto y obviando tanto el año bisiesto en cuestión como años bisiestos faltantes.\n",
    "       * Si no lo es procedemos a completar con todos los años que si tenemos información:\n",
    "           * Salvamos el año actual.\n",
    "           * Cambiamos al año 2010 para generar desde ahí un rango de fechas (el mismo dia los 8 años que tenemos).\n",
    "           * Hallamos el promedio de esos datos en los que si tenemos el valor (usamos np.float32 para no tener problemas con los decimales).\n",
    "           * También como se mencionó arriba tenemos que usar la moda para el caso de qt y st.\n",
    "           * se reemplaza en la fecha que hemos guardado previamente, es decir la fecha en la que falta la temperatura, todas las medias y modas calculadas .\n",
    "    \n",
    "   * Fin\n",
    "          "
   ]
  },
  {
   "cell_type": "code",
   "execution_count": 28,
   "metadata": {},
   "outputs": [],
   "source": [
    "for i in df.iterrows():\n",
    "    if(i[1][0] == np.float32(1.000000e+35)): # [0] Estan los index y [1] Estan los valores -> [1][0] Esta T_20\n",
    "        depth = i[0][0]\n",
    "        lat   = i[0][1]\n",
    "        lon   = i[0][2]\n",
    "        time  = i[0][3]  # [0][3] Esta la fecha en el cual no existe el valor.\n",
    "        if(time.month == 2 and time.day == 29):\n",
    "            actualyear = time.year # salvamos el año\n",
    "            time = time.replace(year = 2012)\n",
    "            temperatura = df.loc[(depth,lat,lon,time)][0]\n",
    "            qt = df.loc[(depth,lat,lon,time)][1]\n",
    "            st = df.loc[(depth,lat,lon,time)][2]\n",
    "            \n",
    "            time = time.replace(year=actualyear)\n",
    "            df.loc[(depth,lat,lon,time)] = (temperatura,qt,st)\n",
    "        else:\n",
    "            actualyear = time.year # salvamos el año\n",
    "            time = time.replace(year=2010)\n",
    "            fechas = pd.date_range(time, periods = 8, freq = pd.DateOffset(years=1))\n",
    "            #print(fechas)\n",
    "            tmean = 0\n",
    "            qt = []\n",
    "            st = []\n",
    "            c = 0\n",
    "            for i in fechas:\n",
    "                if(df.loc[(depth,lat,lon,i)].T_20 != np.float32(1.000000e+35)):\n",
    "                    tmean = tmean + df.loc[(depth,lat,lon,i)][0]\n",
    "                    c = c + 1\n",
    "                    qt.append(df.loc[(depth,lat,lon,i)][1])\n",
    "                    st.append(df.loc[(depth,lat,lon,i)][2])\n",
    "            tmean = (tmean/c)\n",
    "\n",
    "            time = time.replace(year=actualyear)\n",
    "            df.loc[(depth,lat,lon,time)] = (tmean,mode(qt)[0][0],mode(st)[0][0]) # [0][0] En caso de doble moda retorna \n",
    "                                                                                 # el valor más bajo\n",
    "            \n"
   ]
  },
  {
   "cell_type": "markdown",
   "metadata": {},
   "source": [
    "Hallamos la cantidad de datos faltantes que **ahora** tenemos. "
   ]
  },
  {
   "cell_type": "code",
   "execution_count": 29,
   "metadata": {},
   "outputs": [
    {
     "data": {
      "text/plain": [
       "0"
      ]
     },
     "execution_count": 29,
     "metadata": {},
     "output_type": "execute_result"
    }
   ],
   "source": [
    "(df[\"T_20\"] == 1.000000e+35).sum() # Completamos todos los datos faltantes."
   ]
  },
  {
   "cell_type": "code",
   "execution_count": 30,
   "metadata": {},
   "outputs": [
    {
     "data": {
      "text/plain": [
       "T_20       26.928766\n",
       "QT_5020     2.000000\n",
       "ST_6020     5.000000\n",
       "Name: (0.0, -2.0, 265.0, 2016-03-01 12:00:00), dtype: float32"
      ]
     },
     "execution_count": 30,
     "metadata": {},
     "output_type": "execute_result"
    }
   ],
   "source": [
    "# Para ser más exquisitos mostraremos como se cambio un valor explicitamente:\n",
    "# Seguimiento de dato que si faltaba.\n",
    "df.iloc[5538] "
   ]
  },
  {
   "cell_type": "markdown",
   "metadata": {},
   "source": [
    "## Fin del Examen"
   ]
  }
 ],
 "metadata": {
  "kernelspec": {
   "display_name": "Python 3",
   "language": "python",
   "name": "python3"
  },
  "language_info": {
   "codemirror_mode": {
    "name": "ipython",
    "version": 3
   },
   "file_extension": ".py",
   "mimetype": "text/x-python",
   "name": "python",
   "nbconvert_exporter": "python",
   "pygments_lexer": "ipython3",
   "version": "3.6.8"
  }
 },
 "nbformat": 4,
 "nbformat_minor": 2
}
