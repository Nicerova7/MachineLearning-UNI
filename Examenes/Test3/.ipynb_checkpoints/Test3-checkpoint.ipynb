{
 "cells": [
  {
   "cell_type": "markdown",
   "metadata": {},
   "source": [
    "## Test 3\n",
    "\n",
    "### Ejercicio 1\n",
    "\n",
    "* Classification spam usando regresión logística.\n",
    "* Spam classification using logistic regression."
   ]
  },
  {
   "cell_type": "code",
   "execution_count": 1,
   "metadata": {},
   "outputs": [],
   "source": [
    "import pandas as pd\n",
    "import numpy as np\n",
    "import matplotlib.pyplot as plt\n",
    "import seaborn as sns\n",
    "from sklearn.linear_model import LogisticRegression, Ridge\n",
    "from sklearn.model_selection import train_test_split, cross_val_score\n",
    "from statistics import mean\n",
    "import statsmodels.api as sm"
   ]
  },
  {
   "cell_type": "markdown",
   "metadata": {},
   "source": [
    "Como en el paquete sklearn no podemos modificar a nuestro gusto el coeficiente de regularizacion para hacer uso de la regularizacion l2 (l2 regularizer) he decidio implementar la regresión lógistica con ayuda de la teoría del libro **Probabilistic Perspective** de *Kevin Murphy*."
   ]
  },
  {
   "cell_type": "code",
   "execution_count": 2,
   "metadata": {},
   "outputs": [],
   "source": [
    "from logisticRegression import LogisticRegression as myLogisticRegression "
   ]
  },
  {
   "cell_type": "markdown",
   "metadata": {},
   "source": [
    "### Cargando data\n",
    "\n",
    "Tenemos dos archivos en los que encontramos la data y los nombres.\n",
    "\n",
    "Hacemos uso de el archivo 'spambase.names' para cargar los nombres de las columnas."
   ]
  },
  {
   "cell_type": "code",
   "execution_count": 3,
   "metadata": {},
   "outputs": [],
   "source": [
    "cols = [\"word_freq_make\",\"word_freq_address\",\"word_freq_all\",\"word_freq_3d\",\"word_freq_our\",\"word_freq_over\",\n",
    "        \"word_freq_remove\",\"word_freq_internet\",\"word_freq_order\",\"word_freq_mail\",\"word_freq_receive\",\n",
    "    \"word_freq_will\",\"word_freq_people\",\"word_freq_report\",\"word_freq_addresses\",\"word_freq_free\",\n",
    "    \"word_freq_business\",\"word_freq_email\",\"word_freq_you\",\"word_freq_credit\",\"word_freq_your\",\"word_freq_font\",\n",
    "    \"word_freq_000\",\"word_freq_money\",\"word_freq_hp\",\"word_freq_hpl\",\"word_freq_george\",\"word_freq_650\",\n",
    "    \"word_freq_lab\",\"word_freq_labs\",\"word_freq_telnet\",\"word_freq_857\",\"word_freq_data\",\"word_freq_415\",\n",
    "    \"word_freq_85\",\"word_freq_technology\",\"word_freq_1999\",\"word_freq_parts\",\"word_freq_pm\",\"word_freq_direct\",\n",
    "    \"word_freq_cs\",\"word_freq_meeting\",\"word_freq_original\",\"word_freq_project\",\"word_freq_re\",\"word_freq_edu\",\n",
    "    \"word_freq_table\",\"word_freq_conference\",\"char_freq_;\",\"char_freq_(\",\"char_freq_[\",\"char_freq_!\",\n",
    "    \"char_freq_$\",\"char_freq_#\",\"capital_run_length_average\",\"capital_run_length_longest\",\n",
    "    \"capital_run_length_total\",\"y\"]"
   ]
  },
  {
   "cell_type": "markdown",
   "metadata": {},
   "source": [
    "Luego cargamos los datos que se encuentra en el archivo 'spambase.data'."
   ]
  },
  {
   "cell_type": "code",
   "execution_count": 4,
   "metadata": {},
   "outputs": [
    {
     "data": {
      "text/html": [
       "<div>\n",
       "<style scoped>\n",
       "    .dataframe tbody tr th:only-of-type {\n",
       "        vertical-align: middle;\n",
       "    }\n",
       "\n",
       "    .dataframe tbody tr th {\n",
       "        vertical-align: top;\n",
       "    }\n",
       "\n",
       "    .dataframe thead th {\n",
       "        text-align: right;\n",
       "    }\n",
       "</style>\n",
       "<table border=\"1\" class=\"dataframe\">\n",
       "  <thead>\n",
       "    <tr style=\"text-align: right;\">\n",
       "      <th></th>\n",
       "      <th>word_freq_make</th>\n",
       "      <th>word_freq_address</th>\n",
       "      <th>word_freq_all</th>\n",
       "      <th>word_freq_3d</th>\n",
       "      <th>word_freq_our</th>\n",
       "      <th>word_freq_over</th>\n",
       "      <th>word_freq_remove</th>\n",
       "      <th>word_freq_internet</th>\n",
       "      <th>word_freq_order</th>\n",
       "      <th>word_freq_mail</th>\n",
       "      <th>...</th>\n",
       "      <th>char_freq_;</th>\n",
       "      <th>char_freq_(</th>\n",
       "      <th>char_freq_[</th>\n",
       "      <th>char_freq_!</th>\n",
       "      <th>char_freq_$</th>\n",
       "      <th>char_freq_#</th>\n",
       "      <th>capital_run_length_average</th>\n",
       "      <th>capital_run_length_longest</th>\n",
       "      <th>capital_run_length_total</th>\n",
       "      <th>y</th>\n",
       "    </tr>\n",
       "  </thead>\n",
       "  <tbody>\n",
       "    <tr>\n",
       "      <td>0</td>\n",
       "      <td>0.00</td>\n",
       "      <td>0.64</td>\n",
       "      <td>0.64</td>\n",
       "      <td>0.0</td>\n",
       "      <td>0.32</td>\n",
       "      <td>0.00</td>\n",
       "      <td>0.00</td>\n",
       "      <td>0.00</td>\n",
       "      <td>0.00</td>\n",
       "      <td>0.00</td>\n",
       "      <td>...</td>\n",
       "      <td>0.00</td>\n",
       "      <td>0.000</td>\n",
       "      <td>0.0</td>\n",
       "      <td>0.778</td>\n",
       "      <td>0.000</td>\n",
       "      <td>0.000</td>\n",
       "      <td>3.756</td>\n",
       "      <td>61</td>\n",
       "      <td>278</td>\n",
       "      <td>1</td>\n",
       "    </tr>\n",
       "    <tr>\n",
       "      <td>1</td>\n",
       "      <td>0.21</td>\n",
       "      <td>0.28</td>\n",
       "      <td>0.50</td>\n",
       "      <td>0.0</td>\n",
       "      <td>0.14</td>\n",
       "      <td>0.28</td>\n",
       "      <td>0.21</td>\n",
       "      <td>0.07</td>\n",
       "      <td>0.00</td>\n",
       "      <td>0.94</td>\n",
       "      <td>...</td>\n",
       "      <td>0.00</td>\n",
       "      <td>0.132</td>\n",
       "      <td>0.0</td>\n",
       "      <td>0.372</td>\n",
       "      <td>0.180</td>\n",
       "      <td>0.048</td>\n",
       "      <td>5.114</td>\n",
       "      <td>101</td>\n",
       "      <td>1028</td>\n",
       "      <td>1</td>\n",
       "    </tr>\n",
       "    <tr>\n",
       "      <td>2</td>\n",
       "      <td>0.06</td>\n",
       "      <td>0.00</td>\n",
       "      <td>0.71</td>\n",
       "      <td>0.0</td>\n",
       "      <td>1.23</td>\n",
       "      <td>0.19</td>\n",
       "      <td>0.19</td>\n",
       "      <td>0.12</td>\n",
       "      <td>0.64</td>\n",
       "      <td>0.25</td>\n",
       "      <td>...</td>\n",
       "      <td>0.01</td>\n",
       "      <td>0.143</td>\n",
       "      <td>0.0</td>\n",
       "      <td>0.276</td>\n",
       "      <td>0.184</td>\n",
       "      <td>0.010</td>\n",
       "      <td>9.821</td>\n",
       "      <td>485</td>\n",
       "      <td>2259</td>\n",
       "      <td>1</td>\n",
       "    </tr>\n",
       "    <tr>\n",
       "      <td>3</td>\n",
       "      <td>0.00</td>\n",
       "      <td>0.00</td>\n",
       "      <td>0.00</td>\n",
       "      <td>0.0</td>\n",
       "      <td>0.63</td>\n",
       "      <td>0.00</td>\n",
       "      <td>0.31</td>\n",
       "      <td>0.63</td>\n",
       "      <td>0.31</td>\n",
       "      <td>0.63</td>\n",
       "      <td>...</td>\n",
       "      <td>0.00</td>\n",
       "      <td>0.137</td>\n",
       "      <td>0.0</td>\n",
       "      <td>0.137</td>\n",
       "      <td>0.000</td>\n",
       "      <td>0.000</td>\n",
       "      <td>3.537</td>\n",
       "      <td>40</td>\n",
       "      <td>191</td>\n",
       "      <td>1</td>\n",
       "    </tr>\n",
       "    <tr>\n",
       "      <td>4</td>\n",
       "      <td>0.00</td>\n",
       "      <td>0.00</td>\n",
       "      <td>0.00</td>\n",
       "      <td>0.0</td>\n",
       "      <td>0.63</td>\n",
       "      <td>0.00</td>\n",
       "      <td>0.31</td>\n",
       "      <td>0.63</td>\n",
       "      <td>0.31</td>\n",
       "      <td>0.63</td>\n",
       "      <td>...</td>\n",
       "      <td>0.00</td>\n",
       "      <td>0.135</td>\n",
       "      <td>0.0</td>\n",
       "      <td>0.135</td>\n",
       "      <td>0.000</td>\n",
       "      <td>0.000</td>\n",
       "      <td>3.537</td>\n",
       "      <td>40</td>\n",
       "      <td>191</td>\n",
       "      <td>1</td>\n",
       "    </tr>\n",
       "  </tbody>\n",
       "</table>\n",
       "<p>5 rows × 58 columns</p>\n",
       "</div>"
      ],
      "text/plain": [
       "   word_freq_make  word_freq_address  word_freq_all  word_freq_3d  \\\n",
       "0            0.00               0.64           0.64           0.0   \n",
       "1            0.21               0.28           0.50           0.0   \n",
       "2            0.06               0.00           0.71           0.0   \n",
       "3            0.00               0.00           0.00           0.0   \n",
       "4            0.00               0.00           0.00           0.0   \n",
       "\n",
       "   word_freq_our  word_freq_over  word_freq_remove  word_freq_internet  \\\n",
       "0           0.32            0.00              0.00                0.00   \n",
       "1           0.14            0.28              0.21                0.07   \n",
       "2           1.23            0.19              0.19                0.12   \n",
       "3           0.63            0.00              0.31                0.63   \n",
       "4           0.63            0.00              0.31                0.63   \n",
       "\n",
       "   word_freq_order  word_freq_mail  ...  char_freq_;  char_freq_(  \\\n",
       "0             0.00            0.00  ...         0.00        0.000   \n",
       "1             0.00            0.94  ...         0.00        0.132   \n",
       "2             0.64            0.25  ...         0.01        0.143   \n",
       "3             0.31            0.63  ...         0.00        0.137   \n",
       "4             0.31            0.63  ...         0.00        0.135   \n",
       "\n",
       "   char_freq_[  char_freq_!  char_freq_$  char_freq_#  \\\n",
       "0          0.0        0.778        0.000        0.000   \n",
       "1          0.0        0.372        0.180        0.048   \n",
       "2          0.0        0.276        0.184        0.010   \n",
       "3          0.0        0.137        0.000        0.000   \n",
       "4          0.0        0.135        0.000        0.000   \n",
       "\n",
       "   capital_run_length_average  capital_run_length_longest  \\\n",
       "0                       3.756                          61   \n",
       "1                       5.114                         101   \n",
       "2                       9.821                         485   \n",
       "3                       3.537                          40   \n",
       "4                       3.537                          40   \n",
       "\n",
       "   capital_run_length_total  y  \n",
       "0                       278  1  \n",
       "1                      1028  1  \n",
       "2                      2259  1  \n",
       "3                       191  1  \n",
       "4                       191  1  \n",
       "\n",
       "[5 rows x 58 columns]"
      ]
     },
     "execution_count": 4,
     "metadata": {},
     "output_type": "execute_result"
    }
   ],
   "source": [
    "df = pd.read_csv(\"spambase.data\",header=None)\n",
    "\n",
    "df.columns = cols\n",
    "df.head()"
   ]
  },
  {
   "cell_type": "markdown",
   "metadata": {},
   "source": [
    "Tenemos 3065 datos para entrenamiento y 1536 datos para test en total:"
   ]
  },
  {
   "cell_type": "code",
   "execution_count": 5,
   "metadata": {},
   "outputs": [
    {
     "data": {
      "text/plain": [
       "4601"
      ]
     },
     "execution_count": 5,
     "metadata": {},
     "output_type": "execute_result"
    }
   ],
   "source": [
    "len(df)"
   ]
  },
  {
   "cell_type": "markdown",
   "metadata": {},
   "source": [
    "### Preprocesando data\n",
    "\n",
    "Como se ha visto en test anteriores antes de comenzar a analizar la data se debe hacer un pre-procesado donde podamos ver en primer lugar los valores faltantes."
   ]
  },
  {
   "cell_type": "code",
   "execution_count": 6,
   "metadata": {},
   "outputs": [
    {
     "data": {
      "text/plain": [
       "word_freq_make                0\n",
       "word_freq_address             0\n",
       "word_freq_all                 0\n",
       "word_freq_3d                  0\n",
       "word_freq_our                 0\n",
       "word_freq_over                0\n",
       "word_freq_remove              0\n",
       "word_freq_internet            0\n",
       "word_freq_order               0\n",
       "word_freq_mail                0\n",
       "word_freq_receive             0\n",
       "word_freq_will                0\n",
       "word_freq_people              0\n",
       "word_freq_report              0\n",
       "word_freq_addresses           0\n",
       "word_freq_free                0\n",
       "word_freq_business            0\n",
       "word_freq_email               0\n",
       "word_freq_you                 0\n",
       "word_freq_credit              0\n",
       "word_freq_your                0\n",
       "word_freq_font                0\n",
       "word_freq_000                 0\n",
       "word_freq_money               0\n",
       "word_freq_hp                  0\n",
       "word_freq_hpl                 0\n",
       "word_freq_george              0\n",
       "word_freq_650                 0\n",
       "word_freq_lab                 0\n",
       "word_freq_labs                0\n",
       "word_freq_telnet              0\n",
       "word_freq_857                 0\n",
       "word_freq_data                0\n",
       "word_freq_415                 0\n",
       "word_freq_85                  0\n",
       "word_freq_technology          0\n",
       "word_freq_1999                0\n",
       "word_freq_parts               0\n",
       "word_freq_pm                  0\n",
       "word_freq_direct              0\n",
       "word_freq_cs                  0\n",
       "word_freq_meeting             0\n",
       "word_freq_original            0\n",
       "word_freq_project             0\n",
       "word_freq_re                  0\n",
       "word_freq_edu                 0\n",
       "word_freq_table               0\n",
       "word_freq_conference          0\n",
       "char_freq_;                   0\n",
       "char_freq_(                   0\n",
       "char_freq_[                   0\n",
       "char_freq_!                   0\n",
       "char_freq_$                   0\n",
       "char_freq_#                   0\n",
       "capital_run_length_average    0\n",
       "capital_run_length_longest    0\n",
       "capital_run_length_total      0\n",
       "y                             0\n",
       "dtype: int64"
      ]
     },
     "execution_count": 6,
     "metadata": {},
     "output_type": "execute_result"
    }
   ],
   "source": [
    "df.isnull().sum()"
   ]
  },
  {
   "cell_type": "markdown",
   "metadata": {},
   "source": [
    "Ahora que tenemos la seguridad que no existen datos faltantes continuamos.\n",
    "\n",
    "Si bien podemos pensar en distintas maneras de pre-procesar esta data, el libro en cuestion indica que realizamos los siguientes 3 tipos de pre-procesamiento:\n",
    "\n",
    "* Estandarizado de datos para que tengan una media 0 y varianza 1.\n",
    "* Transformado de datos usando $log(x_{ij} + 0.1)$.\n",
    "* Binarizado de datos usando $\\mathbb{I}(x_{ij} > 0)$\n"
   ]
  },
  {
   "cell_type": "markdown",
   "metadata": {},
   "source": [
    "### Visualizando los datos"
   ]
  },
  {
   "cell_type": "code",
   "execution_count": 7,
   "metadata": {},
   "outputs": [
    {
     "data": {
      "text/plain": [
       "<matplotlib.image.AxesImage at 0x7f4c92a253c8>"
      ]
     },
     "execution_count": 7,
     "metadata": {},
     "output_type": "execute_result"
    },
    {
     "data": {
      "image/png": "[encoded data removed]",
      "text/plain": [
       "<Figure size 288x288 with 1 Axes>"
      ]
     },
     "metadata": {
      "needs_background": "light"
     },
     "output_type": "display_data"
    }
   ],
   "source": [
    "%matplotlib inline\n",
    "plt.matshow(df.corr())"
   ]
  },
  {
   "cell_type": "markdown",
   "metadata": {},
   "source": [
    "Aqui se recuerda que los colores más claros indican una fuerte correlación en el caso del amarillo es la correlación de una columna consigomisma, se puede ver como a partir de la columna 23 hasta la columna 36 aproximadamente se tiene una mediana correlación."
   ]
  },
  {
   "cell_type": "markdown",
   "metadata": {},
   "source": [
    "### Análisis del marco de datos"
   ]
  },
  {
   "cell_type": "markdown",
   "metadata": {},
   "source": [
    "Con la tabla de la siguiente celda podemos observar algunos de los más representativos estádisticos de nuestro marco de datos.\n",
    "\n",
    "Recordar que...\n",
    "\n",
    "* Tenemos 48 columnas en donde se mide la frecuencia de aparicion una palabra, tal como indica la descripción del dataset original:\n",
    "\n",
    "$$100 * \\frac{number\\;of\\;times\\; the\\; WORD\\; appears\\; in\\; the\\; e-mail}{total\\;number\\; words\\;in\\; e-mail}$$\n",
    "\n",
    "* 6 columnas: las cuales mide la frecuencia de aparición de ciertos caracteres:\n",
    "\n",
    "$$100 * \\frac{number\\; of\\; CHAR\\; occurences}{total\\; characters\\; in\\; e-mail}$$\n",
    "\n",
    "* 1 columna: longitud promedio de secuencias ininterrumpidas de letras mayúsculas.\n",
    "* 1 columna: tamaño de secuencia más grande de secuencia ininterrumpida de letras mayúscula\n",
    "* 1 columna: indica la cantidad total de mayúsculas en el e-mail\n",
    "* 1 columna: 'y' de salida ( 1 = es spam  , 0 no lo es)"
   ]
  },
  {
   "cell_type": "code",
   "execution_count": 8,
   "metadata": {},
   "outputs": [
    {
     "data": {
      "text/html": [
       "<div>\n",
       "<style scoped>\n",
       "    .dataframe tbody tr th:only-of-type {\n",
       "        vertical-align: middle;\n",
       "    }\n",
       "\n",
       "    .dataframe tbody tr th {\n",
       "        vertical-align: top;\n",
       "    }\n",
       "\n",
       "    .dataframe thead th {\n",
       "        text-align: right;\n",
       "    }\n",
       "</style>\n",
       "<table border=\"1\" class=\"dataframe\">\n",
       "  <thead>\n",
       "    <tr style=\"text-align: right;\">\n",
       "      <th></th>\n",
       "      <th>word_freq_make</th>\n",
       "      <th>word_freq_address</th>\n",
       "      <th>word_freq_all</th>\n",
       "      <th>word_freq_3d</th>\n",
       "      <th>word_freq_our</th>\n",
       "      <th>word_freq_over</th>\n",
       "      <th>word_freq_remove</th>\n",
       "      <th>word_freq_internet</th>\n",
       "      <th>word_freq_order</th>\n",
       "      <th>word_freq_mail</th>\n",
       "      <th>...</th>\n",
       "      <th>char_freq_;</th>\n",
       "      <th>char_freq_(</th>\n",
       "      <th>char_freq_[</th>\n",
       "      <th>char_freq_!</th>\n",
       "      <th>char_freq_$</th>\n",
       "      <th>char_freq_#</th>\n",
       "      <th>capital_run_length_average</th>\n",
       "      <th>capital_run_length_longest</th>\n",
       "      <th>capital_run_length_total</th>\n",
       "      <th>y</th>\n",
       "    </tr>\n",
       "  </thead>\n",
       "  <tbody>\n",
       "    <tr>\n",
       "      <td>count</td>\n",
       "      <td>4601.000000</td>\n",
       "      <td>4601.000000</td>\n",
       "      <td>4601.000000</td>\n",
       "      <td>4601.000000</td>\n",
       "      <td>4601.000000</td>\n",
       "      <td>4601.000000</td>\n",
       "      <td>4601.000000</td>\n",
       "      <td>4601.000000</td>\n",
       "      <td>4601.000000</td>\n",
       "      <td>4601.000000</td>\n",
       "      <td>...</td>\n",
       "      <td>4601.000000</td>\n",
       "      <td>4601.000000</td>\n",
       "      <td>4601.000000</td>\n",
       "      <td>4601.000000</td>\n",
       "      <td>4601.000000</td>\n",
       "      <td>4601.000000</td>\n",
       "      <td>4601.000000</td>\n",
       "      <td>4601.000000</td>\n",
       "      <td>4601.000000</td>\n",
       "      <td>4601.000000</td>\n",
       "    </tr>\n",
       "    <tr>\n",
       "      <td>mean</td>\n",
       "      <td>0.104553</td>\n",
       "      <td>0.213015</td>\n",
       "      <td>0.280656</td>\n",
       "      <td>0.065425</td>\n",
       "      <td>0.312223</td>\n",
       "      <td>0.095901</td>\n",
       "      <td>0.114208</td>\n",
       "      <td>0.105295</td>\n",
       "      <td>0.090067</td>\n",
       "      <td>0.239413</td>\n",
       "      <td>...</td>\n",
       "      <td>0.038575</td>\n",
       "      <td>0.139030</td>\n",
       "      <td>0.016976</td>\n",
       "      <td>0.269071</td>\n",
       "      <td>0.075811</td>\n",
       "      <td>0.044238</td>\n",
       "      <td>5.191515</td>\n",
       "      <td>52.172789</td>\n",
       "      <td>283.289285</td>\n",
       "      <td>0.394045</td>\n",
       "    </tr>\n",
       "    <tr>\n",
       "      <td>std</td>\n",
       "      <td>0.305358</td>\n",
       "      <td>1.290575</td>\n",
       "      <td>0.504143</td>\n",
       "      <td>1.395151</td>\n",
       "      <td>0.672513</td>\n",
       "      <td>0.273824</td>\n",
       "      <td>0.391441</td>\n",
       "      <td>0.401071</td>\n",
       "      <td>0.278616</td>\n",
       "      <td>0.644755</td>\n",
       "      <td>...</td>\n",
       "      <td>0.243471</td>\n",
       "      <td>0.270355</td>\n",
       "      <td>0.109394</td>\n",
       "      <td>0.815672</td>\n",
       "      <td>0.245882</td>\n",
       "      <td>0.429342</td>\n",
       "      <td>31.729449</td>\n",
       "      <td>194.891310</td>\n",
       "      <td>606.347851</td>\n",
       "      <td>0.488698</td>\n",
       "    </tr>\n",
       "    <tr>\n",
       "      <td>min</td>\n",
       "      <td>0.000000</td>\n",
       "      <td>0.000000</td>\n",
       "      <td>0.000000</td>\n",
       "      <td>0.000000</td>\n",
       "      <td>0.000000</td>\n",
       "      <td>0.000000</td>\n",
       "      <td>0.000000</td>\n",
       "      <td>0.000000</td>\n",
       "      <td>0.000000</td>\n",
       "      <td>0.000000</td>\n",
       "      <td>...</td>\n",
       "      <td>0.000000</td>\n",
       "      <td>0.000000</td>\n",
       "      <td>0.000000</td>\n",
       "      <td>0.000000</td>\n",
       "      <td>0.000000</td>\n",
       "      <td>0.000000</td>\n",
       "      <td>1.000000</td>\n",
       "      <td>1.000000</td>\n",
       "      <td>1.000000</td>\n",
       "      <td>0.000000</td>\n",
       "    </tr>\n",
       "    <tr>\n",
       "      <td>25%</td>\n",
       "      <td>0.000000</td>\n",
       "      <td>0.000000</td>\n",
       "      <td>0.000000</td>\n",
       "      <td>0.000000</td>\n",
       "      <td>0.000000</td>\n",
       "      <td>0.000000</td>\n",
       "      <td>0.000000</td>\n",
       "      <td>0.000000</td>\n",
       "      <td>0.000000</td>\n",
       "      <td>0.000000</td>\n",
       "      <td>...</td>\n",
       "      <td>0.000000</td>\n",
       "      <td>0.000000</td>\n",
       "      <td>0.000000</td>\n",
       "      <td>0.000000</td>\n",
       "      <td>0.000000</td>\n",
       "      <td>0.000000</td>\n",
       "      <td>1.588000</td>\n",
       "      <td>6.000000</td>\n",
       "      <td>35.000000</td>\n",
       "      <td>0.000000</td>\n",
       "    </tr>\n",
       "    <tr>\n",
       "      <td>50%</td>\n",
       "      <td>0.000000</td>\n",
       "      <td>0.000000</td>\n",
       "      <td>0.000000</td>\n",
       "      <td>0.000000</td>\n",
       "      <td>0.000000</td>\n",
       "      <td>0.000000</td>\n",
       "      <td>0.000000</td>\n",
       "      <td>0.000000</td>\n",
       "      <td>0.000000</td>\n",
       "      <td>0.000000</td>\n",
       "      <td>...</td>\n",
       "      <td>0.000000</td>\n",
       "      <td>0.065000</td>\n",
       "      <td>0.000000</td>\n",
       "      <td>0.000000</td>\n",
       "      <td>0.000000</td>\n",
       "      <td>0.000000</td>\n",
       "      <td>2.276000</td>\n",
       "      <td>15.000000</td>\n",
       "      <td>95.000000</td>\n",
       "      <td>0.000000</td>\n",
       "    </tr>\n",
       "    <tr>\n",
       "      <td>75%</td>\n",
       "      <td>0.000000</td>\n",
       "      <td>0.000000</td>\n",
       "      <td>0.420000</td>\n",
       "      <td>0.000000</td>\n",
       "      <td>0.380000</td>\n",
       "      <td>0.000000</td>\n",
       "      <td>0.000000</td>\n",
       "      <td>0.000000</td>\n",
       "      <td>0.000000</td>\n",
       "      <td>0.160000</td>\n",
       "      <td>...</td>\n",
       "      <td>0.000000</td>\n",
       "      <td>0.188000</td>\n",
       "      <td>0.000000</td>\n",
       "      <td>0.315000</td>\n",
       "      <td>0.052000</td>\n",
       "      <td>0.000000</td>\n",
       "      <td>3.706000</td>\n",
       "      <td>43.000000</td>\n",
       "      <td>266.000000</td>\n",
       "      <td>1.000000</td>\n",
       "    </tr>\n",
       "    <tr>\n",
       "      <td>max</td>\n",
       "      <td>4.540000</td>\n",
       "      <td>14.280000</td>\n",
       "      <td>5.100000</td>\n",
       "      <td>42.810000</td>\n",
       "      <td>10.000000</td>\n",
       "      <td>5.880000</td>\n",
       "      <td>7.270000</td>\n",
       "      <td>11.110000</td>\n",
       "      <td>5.260000</td>\n",
       "      <td>18.180000</td>\n",
       "      <td>...</td>\n",
       "      <td>4.385000</td>\n",
       "      <td>9.752000</td>\n",
       "      <td>4.081000</td>\n",
       "      <td>32.478000</td>\n",
       "      <td>6.003000</td>\n",
       "      <td>19.829000</td>\n",
       "      <td>1102.500000</td>\n",
       "      <td>9989.000000</td>\n",
       "      <td>15841.000000</td>\n",
       "      <td>1.000000</td>\n",
       "    </tr>\n",
       "  </tbody>\n",
       "</table>\n",
       "<p>8 rows × 58 columns</p>\n",
       "</div>"
      ],
      "text/plain": [
       "       word_freq_make  word_freq_address  word_freq_all  word_freq_3d  \\\n",
       "count     4601.000000        4601.000000    4601.000000   4601.000000   \n",
       "mean         0.104553           0.213015       0.280656      0.065425   \n",
       "std          0.305358           1.290575       0.504143      1.395151   \n",
       "min          0.000000           0.000000       0.000000      0.000000   \n",
       "25%          0.000000           0.000000       0.000000      0.000000   \n",
       "50%          0.000000           0.000000       0.000000      0.000000   \n",
       "75%          0.000000           0.000000       0.420000      0.000000   \n",
       "max          4.540000          14.280000       5.100000     42.810000   \n",
       "\n",
       "       word_freq_our  word_freq_over  word_freq_remove  word_freq_internet  \\\n",
       "count    4601.000000     4601.000000       4601.000000         4601.000000   \n",
       "mean        0.312223        0.095901          0.114208            0.105295   \n",
       "std         0.672513        0.273824          0.391441            0.401071   \n",
       "min         0.000000        0.000000          0.000000            0.000000   \n",
       "25%         0.000000        0.000000          0.000000            0.000000   \n",
       "50%         0.000000        0.000000          0.000000            0.000000   \n",
       "75%         0.380000        0.000000          0.000000            0.000000   \n",
       "max        10.000000        5.880000          7.270000           11.110000   \n",
       "\n",
       "       word_freq_order  word_freq_mail  ...  char_freq_;  char_freq_(  \\\n",
       "count      4601.000000     4601.000000  ...  4601.000000  4601.000000   \n",
       "mean          0.090067        0.239413  ...     0.038575     0.139030   \n",
       "std           0.278616        0.644755  ...     0.243471     0.270355   \n",
       "min           0.000000        0.000000  ...     0.000000     0.000000   \n",
       "25%           0.000000        0.000000  ...     0.000000     0.000000   \n",
       "50%           0.000000        0.000000  ...     0.000000     0.065000   \n",
       "75%           0.000000        0.160000  ...     0.000000     0.188000   \n",
       "max           5.260000       18.180000  ...     4.385000     9.752000   \n",
       "\n",
       "       char_freq_[  char_freq_!  char_freq_$  char_freq_#  \\\n",
       "count  4601.000000  4601.000000  4601.000000  4601.000000   \n",
       "mean      0.016976     0.269071     0.075811     0.044238   \n",
       "std       0.109394     0.815672     0.245882     0.429342   \n",
       "min       0.000000     0.000000     0.000000     0.000000   \n",
       "25%       0.000000     0.000000     0.000000     0.000000   \n",
       "50%       0.000000     0.000000     0.000000     0.000000   \n",
       "75%       0.000000     0.315000     0.052000     0.000000   \n",
       "max       4.081000    32.478000     6.003000    19.829000   \n",
       "\n",
       "       capital_run_length_average  capital_run_length_longest  \\\n",
       "count                 4601.000000                 4601.000000   \n",
       "mean                     5.191515                   52.172789   \n",
       "std                     31.729449                  194.891310   \n",
       "min                      1.000000                    1.000000   \n",
       "25%                      1.588000                    6.000000   \n",
       "50%                      2.276000                   15.000000   \n",
       "75%                      3.706000                   43.000000   \n",
       "max                   1102.500000                 9989.000000   \n",
       "\n",
       "       capital_run_length_total            y  \n",
       "count               4601.000000  4601.000000  \n",
       "mean                 283.289285     0.394045  \n",
       "std                  606.347851     0.488698  \n",
       "min                    1.000000     0.000000  \n",
       "25%                   35.000000     0.000000  \n",
       "50%                   95.000000     0.000000  \n",
       "75%                  266.000000     1.000000  \n",
       "max                15841.000000     1.000000  \n",
       "\n",
       "[8 rows x 58 columns]"
      ]
     },
     "execution_count": 8,
     "metadata": {},
     "output_type": "execute_result"
    }
   ],
   "source": [
    "df.describe()"
   ]
  },
  {
   "cell_type": "markdown",
   "metadata": {},
   "source": [
    "Debemos prestar atención a estos estadísticos pues son estos lo que definen si tenemos o no un correo Spam.\n",
    "\n",
    "Como este dataset fue generado en Julio de 1999, deberiamos contextualizarnos de como podría ser un correo típico de esa época:\n",
    "\n",
    "* No éra común el uso de imágenes, por lo que es muy probable que todas las palabras analizadas en este marco de datos forman el mensaje completo y no como ahora que mediante una imagen se promocionan productos(o similares) en un correo spam actual.\n",
    "\n",
    "\n",
    "* El uso de palabras que recien han entrado al mercado: si bien existe internet desde hace más de 20 años debemos tener especial cautela con que palabras erán más comunes en esa época, aunque esto ya fue tomado en cuenta al generar el dataset, sin embargo nosotros también deberiamos tomarlo en cuenta cuando realizemos el modelado.\n",
    "\n",
    "\n",
    "* El uso de emojis a color se presento en 1999 por lo que, en los spam a la hora de realizar impacto como lo haría una publicidad era tan solo el uso de mayúsculas.\n",
    "\n",
    "Si bien la media de cada columna en el dataset es menos que uno, existen valores máximos muy alejados de este valor, como se verá en la siguiente gráfica:"
   ]
  },
  {
   "cell_type": "code",
   "execution_count": 9,
   "metadata": {},
   "outputs": [
    {
     "data": {
      "text/plain": [
       "<matplotlib.axes._subplots.AxesSubplot at 0x7f4c922d7ac8>"
      ]
     },
     "execution_count": 9,
     "metadata": {},
     "output_type": "execute_result"
    },
    {
     "data": {
      "image/png": "[encoded data removed]",
      "text/plain": [
       "<Figure size 432x288 with 1 Axes>"
      ]
     },
     "metadata": {
      "needs_background": "light"
     },
     "output_type": "display_data"
    }
   ],
   "source": [
    "sns.distplot(df.word_freq_address)"
   ]
  },
  {
   "cell_type": "markdown",
   "metadata": {},
   "source": [
    "Se observa como la mayoría de datos se acumula en la frecuencia menor que uno pero existe un valor que es 14 que es el valor máximo como se vió en la tabla de estádisticos del dataset."
   ]
  },
  {
   "cell_type": "markdown",
   "metadata": {},
   "source": [
    "Existe una columna \"capital_run_length_total\" cuya media es 283.2892, veamos cuantos valores de esta columna supera su media:"
   ]
  },
  {
   "cell_type": "code",
   "execution_count": 10,
   "metadata": {},
   "outputs": [
    {
     "data": {
      "text/plain": [
       "1105"
      ]
     },
     "execution_count": 10,
     "metadata": {},
     "output_type": "execute_result"
    }
   ],
   "source": [
    "(df.capital_run_length_total >283.289285).sum()"
   ]
  },
  {
   "cell_type": "markdown",
   "metadata": {},
   "source": [
    "Recordar que son 4601 valores en total y que son 1105 valores que estan por encima de la media.\n",
    "La desviación estándar es de: $606.347851$"
   ]
  },
  {
   "cell_type": "code",
   "execution_count": 11,
   "metadata": {},
   "outputs": [
    {
     "data": {
      "text/plain": [
       "<matplotlib.axes._subplots.AxesSubplot at 0x7f4c92230da0>"
      ]
     },
     "execution_count": 11,
     "metadata": {},
     "output_type": "execute_result"
    },
    {
     "data": {
      "image/png": "[encoded data removed]",
      "text/plain": [
       "<Figure size 432x288 with 1 Axes>"
      ]
     },
     "metadata": {
      "needs_background": "light"
     },
     "output_type": "display_data"
    }
   ],
   "source": [
    "sns.distplot(df.capital_run_length_total)"
   ]
  },
  {
   "cell_type": "markdown",
   "metadata": {},
   "source": [
    "Por último veremos cuantos de estos mensajes son spam:"
   ]
  },
  {
   "cell_type": "code",
   "execution_count": 12,
   "metadata": {},
   "outputs": [
    {
     "data": {
      "text/plain": [
       "39.404477287546186"
      ]
     },
     "execution_count": 12,
     "metadata": {},
     "output_type": "execute_result"
    }
   ],
   "source": [
    "(df[\"y\"]==1).sum() / len(df) * 100"
   ]
  },
  {
   "cell_type": "markdown",
   "metadata": {},
   "source": [
    "Observamos como el 39.4 % de los mensajes en el marco de datos son spam"
   ]
  },
  {
   "cell_type": "markdown",
   "metadata": {},
   "source": [
    "### 1. Estandarizado de datos"
   ]
  },
  {
   "cell_type": "markdown",
   "metadata": {},
   "source": [
    "$$Si \\; X \\Rightarrow N(\\mu,\\sigma) $$ \n",
    "\n",
    "Entonces podemos pasar a lo que se pide (media 0 y varianza = 1), recordar que piden varianza y aqui mostramos la desviación estándar pero al ser la varianza 1 la desviación estándar lo será tambien.\n",
    "$$ Z = \\frac{X - \\mu}{\\sigma} \\Rightarrow N(0,1) $$"
   ]
  },
  {
   "cell_type": "code",
   "execution_count": 13,
   "metadata": {},
   "outputs": [
    {
     "data": {
      "text/html": [
       "<div>\n",
       "<style scoped>\n",
       "    .dataframe tbody tr th:only-of-type {\n",
       "        vertical-align: middle;\n",
       "    }\n",
       "\n",
       "    .dataframe tbody tr th {\n",
       "        vertical-align: top;\n",
       "    }\n",
       "\n",
       "    .dataframe thead th {\n",
       "        text-align: right;\n",
       "    }\n",
       "</style>\n",
       "<table border=\"1\" class=\"dataframe\">\n",
       "  <thead>\n",
       "    <tr style=\"text-align: right;\">\n",
       "      <th></th>\n",
       "      <th>capital_run_length_average</th>\n",
       "      <th>capital_run_length_longest</th>\n",
       "      <th>capital_run_length_total</th>\n",
       "      <th>char_freq_!</th>\n",
       "      <th>char_freq_#</th>\n",
       "      <th>char_freq_$</th>\n",
       "      <th>char_freq_(</th>\n",
       "      <th>char_freq_;</th>\n",
       "      <th>char_freq_[</th>\n",
       "      <th>word_freq_000</th>\n",
       "      <th>...</th>\n",
       "      <th>word_freq_receive</th>\n",
       "      <th>word_freq_remove</th>\n",
       "      <th>word_freq_report</th>\n",
       "      <th>word_freq_table</th>\n",
       "      <th>word_freq_technology</th>\n",
       "      <th>word_freq_telnet</th>\n",
       "      <th>word_freq_will</th>\n",
       "      <th>word_freq_you</th>\n",
       "      <th>word_freq_your</th>\n",
       "      <th>y</th>\n",
       "    </tr>\n",
       "  </thead>\n",
       "  <tbody>\n",
       "    <tr>\n",
       "      <td>count</td>\n",
       "      <td>4.601000e+03</td>\n",
       "      <td>4.601000e+03</td>\n",
       "      <td>4601.000000</td>\n",
       "      <td>4.601000e+03</td>\n",
       "      <td>4.601000e+03</td>\n",
       "      <td>4.601000e+03</td>\n",
       "      <td>4.601000e+03</td>\n",
       "      <td>4.601000e+03</td>\n",
       "      <td>4.601000e+03</td>\n",
       "      <td>4.601000e+03</td>\n",
       "      <td>...</td>\n",
       "      <td>4.601000e+03</td>\n",
       "      <td>4.601000e+03</td>\n",
       "      <td>4.601000e+03</td>\n",
       "      <td>4.601000e+03</td>\n",
       "      <td>4.601000e+03</td>\n",
       "      <td>4.601000e+03</td>\n",
       "      <td>4.601000e+03</td>\n",
       "      <td>4.601000e+03</td>\n",
       "      <td>4.601000e+03</td>\n",
       "      <td>4601.000000</td>\n",
       "    </tr>\n",
       "    <tr>\n",
       "      <td>mean</td>\n",
       "      <td>-4.138784e-16</td>\n",
       "      <td>2.470916e-17</td>\n",
       "      <td>0.000000</td>\n",
       "      <td>4.077011e-16</td>\n",
       "      <td>1.853187e-17</td>\n",
       "      <td>-2.965099e-16</td>\n",
       "      <td>8.648205e-16</td>\n",
       "      <td>1.359004e-16</td>\n",
       "      <td>-1.822300e-16</td>\n",
       "      <td>-1.729641e-16</td>\n",
       "      <td>...</td>\n",
       "      <td>-2.470916e-17</td>\n",
       "      <td>9.883663e-17</td>\n",
       "      <td>4.015238e-17</td>\n",
       "      <td>-2.470916e-17</td>\n",
       "      <td>-4.324103e-17</td>\n",
       "      <td>1.297231e-16</td>\n",
       "      <td>-5.119429e-16</td>\n",
       "      <td>8.154022e-16</td>\n",
       "      <td>-5.930198e-16</td>\n",
       "      <td>0.394045</td>\n",
       "    </tr>\n",
       "    <tr>\n",
       "      <td>std</td>\n",
       "      <td>1.000000e+00</td>\n",
       "      <td>1.000000e+00</td>\n",
       "      <td>1.000000</td>\n",
       "      <td>1.000000e+00</td>\n",
       "      <td>1.000000e+00</td>\n",
       "      <td>1.000000e+00</td>\n",
       "      <td>1.000000e+00</td>\n",
       "      <td>1.000000e+00</td>\n",
       "      <td>1.000000e+00</td>\n",
       "      <td>1.000000e+00</td>\n",
       "      <td>...</td>\n",
       "      <td>1.000000e+00</td>\n",
       "      <td>1.000000e+00</td>\n",
       "      <td>1.000000e+00</td>\n",
       "      <td>1.000000e+00</td>\n",
       "      <td>1.000000e+00</td>\n",
       "      <td>1.000000e+00</td>\n",
       "      <td>1.000000e+00</td>\n",
       "      <td>1.000000e+00</td>\n",
       "      <td>1.000000e+00</td>\n",
       "      <td>0.488698</td>\n",
       "    </tr>\n",
       "    <tr>\n",
       "      <td>min</td>\n",
       "      <td>-1.321017e-01</td>\n",
       "      <td>-2.625709e-01</td>\n",
       "      <td>-0.465557</td>\n",
       "      <td>-3.298764e-01</td>\n",
       "      <td>-1.030372e-01</td>\n",
       "      <td>-3.083214e-01</td>\n",
       "      <td>-5.142507e-01</td>\n",
       "      <td>-1.584361e-01</td>\n",
       "      <td>-1.551808e-01</td>\n",
       "      <td>-2.901777e-01</td>\n",
       "      <td>...</td>\n",
       "      <td>-2.968273e-01</td>\n",
       "      <td>-2.917622e-01</td>\n",
       "      <td>-1.749082e-01</td>\n",
       "      <td>-7.138015e-02</td>\n",
       "      <td>-2.421039e-01</td>\n",
       "      <td>-1.605219e-01</td>\n",
       "      <td>-6.286443e-01</td>\n",
       "      <td>-9.361406e-01</td>\n",
       "      <td>-6.743457e-01</td>\n",
       "      <td>0.000000</td>\n",
       "    </tr>\n",
       "    <tr>\n",
       "      <td>25%</td>\n",
       "      <td>-1.135701e-01</td>\n",
       "      <td>-2.369156e-01</td>\n",
       "      <td>-0.409483</td>\n",
       "      <td>-3.298764e-01</td>\n",
       "      <td>-1.030372e-01</td>\n",
       "      <td>-3.083214e-01</td>\n",
       "      <td>-5.142507e-01</td>\n",
       "      <td>-1.584361e-01</td>\n",
       "      <td>-1.551808e-01</td>\n",
       "      <td>-2.901777e-01</td>\n",
       "      <td>...</td>\n",
       "      <td>-2.968273e-01</td>\n",
       "      <td>-2.917622e-01</td>\n",
       "      <td>-1.749082e-01</td>\n",
       "      <td>-7.138015e-02</td>\n",
       "      <td>-2.421039e-01</td>\n",
       "      <td>-1.605219e-01</td>\n",
       "      <td>-6.286443e-01</td>\n",
       "      <td>-9.361406e-01</td>\n",
       "      <td>-6.743457e-01</td>\n",
       "      <td>0.000000</td>\n",
       "    </tr>\n",
       "    <tr>\n",
       "      <td>50%</td>\n",
       "      <td>-9.188672e-02</td>\n",
       "      <td>-1.907360e-01</td>\n",
       "      <td>-0.310530</td>\n",
       "      <td>-3.298764e-01</td>\n",
       "      <td>-1.030372e-01</td>\n",
       "      <td>-3.083214e-01</td>\n",
       "      <td>-2.738264e-01</td>\n",
       "      <td>-1.584361e-01</td>\n",
       "      <td>-1.551808e-01</td>\n",
       "      <td>-2.901777e-01</td>\n",
       "      <td>...</td>\n",
       "      <td>-2.968273e-01</td>\n",
       "      <td>-2.917622e-01</td>\n",
       "      <td>-1.749082e-01</td>\n",
       "      <td>-7.138015e-02</td>\n",
       "      <td>-2.421039e-01</td>\n",
       "      <td>-1.605219e-01</td>\n",
       "      <td>-5.125944e-01</td>\n",
       "      <td>-1.983122e-01</td>\n",
       "      <td>-4.911360e-01</td>\n",
       "      <td>0.000000</td>\n",
       "    </tr>\n",
       "    <tr>\n",
       "      <td>75%</td>\n",
       "      <td>-4.681818e-02</td>\n",
       "      <td>-4.706618e-02</td>\n",
       "      <td>-0.028514</td>\n",
       "      <td>5.630838e-02</td>\n",
       "      <td>-1.030372e-01</td>\n",
       "      <td>-9.683788e-02</td>\n",
       "      <td>1.811304e-01</td>\n",
       "      <td>-1.584361e-01</td>\n",
       "      <td>-1.551808e-01</td>\n",
       "      <td>-2.901777e-01</td>\n",
       "      <td>...</td>\n",
       "      <td>-2.968273e-01</td>\n",
       "      <td>-2.917622e-01</td>\n",
       "      <td>-1.749082e-01</td>\n",
       "      <td>-7.138015e-02</td>\n",
       "      <td>-2.421039e-01</td>\n",
       "      <td>-1.605219e-01</td>\n",
       "      <td>2.997547e-01</td>\n",
       "      <td>5.507807e-01</td>\n",
       "      <td>3.832739e-01</td>\n",
       "      <td>1.000000</td>\n",
       "    </tr>\n",
       "    <tr>\n",
       "      <td>max</td>\n",
       "      <td>3.458328e+01</td>\n",
       "      <td>5.098651e+01</td>\n",
       "      <td>25.658062</td>\n",
       "      <td>3.948762e+01</td>\n",
       "      <td>4.608158e+01</td>\n",
       "      <td>2.410583e+01</td>\n",
       "      <td>3.555679e+01</td>\n",
       "      <td>1.785190e+01</td>\n",
       "      <td>3.715028e+01</td>\n",
       "      <td>1.526852e+01</td>\n",
       "      <td>...</td>\n",
       "      <td>1.265316e+01</td>\n",
       "      <td>1.828062e+01</td>\n",
       "      <td>2.965947e+01</td>\n",
       "      <td>2.837858e+01</td>\n",
       "      <td>1.885764e+01</td>\n",
       "      <td>3.082667e+01</td>\n",
       "      <td>1.059338e+01</td>\n",
       "      <td>9.624380e+00</td>\n",
       "      <td>8.577744e+00</td>\n",
       "      <td>1.000000</td>\n",
       "    </tr>\n",
       "  </tbody>\n",
       "</table>\n",
       "<p>8 rows × 58 columns</p>\n",
       "</div>"
      ],
      "text/plain": [
       "       capital_run_length_average  capital_run_length_longest  \\\n",
       "count                4.601000e+03                4.601000e+03   \n",
       "mean                -4.138784e-16                2.470916e-17   \n",
       "std                  1.000000e+00                1.000000e+00   \n",
       "min                 -1.321017e-01               -2.625709e-01   \n",
       "25%                 -1.135701e-01               -2.369156e-01   \n",
       "50%                 -9.188672e-02               -1.907360e-01   \n",
       "75%                 -4.681818e-02               -4.706618e-02   \n",
       "max                  3.458328e+01                5.098651e+01   \n",
       "\n",
       "       capital_run_length_total   char_freq_!   char_freq_#   char_freq_$  \\\n",
       "count               4601.000000  4.601000e+03  4.601000e+03  4.601000e+03   \n",
       "mean                   0.000000  4.077011e-16  1.853187e-17 -2.965099e-16   \n",
       "std                    1.000000  1.000000e+00  1.000000e+00  1.000000e+00   \n",
       "min                   -0.465557 -3.298764e-01 -1.030372e-01 -3.083214e-01   \n",
       "25%                   -0.409483 -3.298764e-01 -1.030372e-01 -3.083214e-01   \n",
       "50%                   -0.310530 -3.298764e-01 -1.030372e-01 -3.083214e-01   \n",
       "75%                   -0.028514  5.630838e-02 -1.030372e-01 -9.683788e-02   \n",
       "max                   25.658062  3.948762e+01  4.608158e+01  2.410583e+01   \n",
       "\n",
       "        char_freq_(   char_freq_;   char_freq_[  word_freq_000  ...  \\\n",
       "count  4.601000e+03  4.601000e+03  4.601000e+03   4.601000e+03  ...   \n",
       "mean   8.648205e-16  1.359004e-16 -1.822300e-16  -1.729641e-16  ...   \n",
       "std    1.000000e+00  1.000000e+00  1.000000e+00   1.000000e+00  ...   \n",
       "min   -5.142507e-01 -1.584361e-01 -1.551808e-01  -2.901777e-01  ...   \n",
       "25%   -5.142507e-01 -1.584361e-01 -1.551808e-01  -2.901777e-01  ...   \n",
       "50%   -2.738264e-01 -1.584361e-01 -1.551808e-01  -2.901777e-01  ...   \n",
       "75%    1.811304e-01 -1.584361e-01 -1.551808e-01  -2.901777e-01  ...   \n",
       "max    3.555679e+01  1.785190e+01  3.715028e+01   1.526852e+01  ...   \n",
       "\n",
       "       word_freq_receive  word_freq_remove  word_freq_report  word_freq_table  \\\n",
       "count       4.601000e+03      4.601000e+03      4.601000e+03     4.601000e+03   \n",
       "mean       -2.470916e-17      9.883663e-17      4.015238e-17    -2.470916e-17   \n",
       "std         1.000000e+00      1.000000e+00      1.000000e+00     1.000000e+00   \n",
       "min        -2.968273e-01     -2.917622e-01     -1.749082e-01    -7.138015e-02   \n",
       "25%        -2.968273e-01     -2.917622e-01     -1.749082e-01    -7.138015e-02   \n",
       "50%        -2.968273e-01     -2.917622e-01     -1.749082e-01    -7.138015e-02   \n",
       "75%        -2.968273e-01     -2.917622e-01     -1.749082e-01    -7.138015e-02   \n",
       "max         1.265316e+01      1.828062e+01      2.965947e+01     2.837858e+01   \n",
       "\n",
       "       word_freq_technology  word_freq_telnet  word_freq_will  word_freq_you  \\\n",
       "count          4.601000e+03      4.601000e+03    4.601000e+03   4.601000e+03   \n",
       "mean          -4.324103e-17      1.297231e-16   -5.119429e-16   8.154022e-16   \n",
       "std            1.000000e+00      1.000000e+00    1.000000e+00   1.000000e+00   \n",
       "min           -2.421039e-01     -1.605219e-01   -6.286443e-01  -9.361406e-01   \n",
       "25%           -2.421039e-01     -1.605219e-01   -6.286443e-01  -9.361406e-01   \n",
       "50%           -2.421039e-01     -1.605219e-01   -5.125944e-01  -1.983122e-01   \n",
       "75%           -2.421039e-01     -1.605219e-01    2.997547e-01   5.507807e-01   \n",
       "max            1.885764e+01      3.082667e+01    1.059338e+01   9.624380e+00   \n",
       "\n",
       "       word_freq_your            y  \n",
       "count    4.601000e+03  4601.000000  \n",
       "mean    -5.930198e-16     0.394045  \n",
       "std      1.000000e+00     0.488698  \n",
       "min     -6.743457e-01     0.000000  \n",
       "25%     -6.743457e-01     0.000000  \n",
       "50%     -4.911360e-01     0.000000  \n",
       "75%      3.832739e-01     1.000000  \n",
       "max      8.577744e+00     1.000000  \n",
       "\n",
       "[8 rows x 58 columns]"
      ]
     },
     "execution_count": 13,
     "metadata": {},
     "output_type": "execute_result"
    }
   ],
   "source": [
    "# Normalizamos los datos (no la salida)\n",
    "# Asi que para eso obviamos la última columna (columna es el target) \n",
    "\n",
    "#    Z        = (                X          -                U             ) /  sigma\n",
    "normalized_df = (df.iloc[:,:df.shape[1]-1] - df.iloc[:,:df.shape[1]].mean()) / df.iloc[:,:df.shape[1]].std()\n",
    "\n",
    "\n",
    "# Volvemos a agregar la columna de salida\n",
    "normalized_df[\"y\"] = df[\"y\"]\n",
    "\n",
    "\n",
    "# Mostramos los datos ya normalizados\n",
    "normalized_df.describe()"
   ]
  },
  {
   "cell_type": "markdown",
   "metadata": {},
   "source": [
    "Se observa como se tiene para cada columna una media de orden e-17 que es prácticamente 0 y en tanto la desviación\n",
    "estándar se ve como es 1.00000 es decir varianza 1 que es lo que se pidio.\n",
    "\n",
    "**Nota:** Al hacer uso de la función describe() de la librería pandas se tomará la media de cada columna incluso la de la salida (columna y) pero tener muy en claro que nuestro manejo de dato fue para todos menos la salida."
   ]
  },
  {
   "cell_type": "markdown",
   "metadata": {},
   "source": [
    "### 1.1 Separación de datos\n",
    "\n",
    "En el ejercicio se menciona el uso de un set de entrenamiento de 3065 valores y lo restante para testear.\n",
    "\n",
    "Esto en porcentaje es 66.63%"
   ]
  },
  {
   "cell_type": "code",
   "execution_count": 14,
   "metadata": {},
   "outputs": [],
   "source": [
    "X = normalized_df.iloc[:,:normalized_df.shape[1]-1]\n",
    "Y = normalized_df[\"y\"]"
   ]
  },
  {
   "cell_type": "code",
   "execution_count": 15,
   "metadata": {},
   "outputs": [],
   "source": [
    "train_x, test_x, train_y, test_y = train_test_split(X,Y,\n",
    "                                                    train_size=0.6663,\n",
    "                                                    random_state = 1,\n",
    "                                                    stratify = Y)"
   ]
  },
  {
   "cell_type": "code",
   "execution_count": 16,
   "metadata": {},
   "outputs": [
    {
     "name": "stdout",
     "output_type": "stream",
     "text": [
      "Tamaño de entrenamiento: (3065, 57)\n",
      "Tamaño de set test: (1536, 57)\n"
     ]
    }
   ],
   "source": [
    "print(\"Tamaño de entrenamiento: \"+str(train_x.shape))\n",
    "print(\"Tamaño de set test: \"+str(test_x.shape))"
   ]
  },
  {
   "cell_type": "markdown",
   "metadata": {},
   "source": [
    "### 1.2 Modelado"
   ]
  },
  {
   "cell_type": "code",
   "execution_count": 17,
   "metadata": {},
   "outputs": [
    {
     "data": {
      "text/plain": [
       "LogisticRegression(C=1.0, class_weight=None, dual=False, fit_intercept=True,\n",
       "                   intercept_scaling=1, l1_ratio=None, max_iter=2000,\n",
       "                   multi_class='warn', n_jobs=None, penalty='l2',\n",
       "                   random_state=None, solver='lbfgs', tol=0.0001, verbose=0,\n",
       "                   warm_start=False)"
      ]
     },
     "execution_count": 17,
     "metadata": {},
     "output_type": "execute_result"
    }
   ],
   "source": [
    "logit_model_1 = LogisticRegression(solver='lbfgs',max_iter=2000)\n",
    "logit_model_1.fit(train_x,train_y)  # sale warning solo por paquete desactualizado"
   ]
  },
  {
   "cell_type": "code",
   "execution_count": 18,
   "metadata": {},
   "outputs": [
    {
     "name": "stdout",
     "output_type": "stream",
     "text": [
      "Score: 0.9309895833333334\n",
      "Intercepto: [-2.45764881]\n",
      "Coeficientes [[-0.42550697  1.4736401   0.47564649  0.50927262  0.47203112  1.36210094\n",
      "  -0.02924448 -0.35627063 -0.09047593  0.82822066 -0.04105644  0.61899054\n",
      "  -0.09827079  0.0652322  -0.96489125 -0.08644761 -0.17923256  0.29933535\n",
      "   0.07436139  0.36514298 -0.79326988  0.40882951 -1.3664903  -0.58530443\n",
      "   0.00789628 -1.60624249  0.06556939  0.43575184  0.7849357  -3.77109505\n",
      "  -2.01575494 -0.78811591  0.20686081 -1.18373686 -0.10833104  0.06623504\n",
      "  -0.02308257 -1.33879038  0.35575298  0.13303801 -0.17362121  0.32717793\n",
      "   0.12402768 -0.01983559 -0.07525518 -0.34552175 -0.95794709 -0.65280632\n",
      "  -0.03026084  0.93758728  0.02892325 -0.17697699  0.37255815 -1.3548765\n",
      "  -0.23145776  0.18468425  0.24169103]]\n"
     ]
    }
   ],
   "source": [
    "print(\"Score: \"+str(logit_model_1.score(test_x,test_y)))\n",
    "print(\"Intercepto: \"+str(logit_model_1.intercept_))\n",
    "print(\"Coeficientes \"+str(logit_model_1.coef_))"
   ]
  },
  {
   "cell_type": "code",
   "execution_count": 19,
   "metadata": {},
   "outputs": [],
   "source": [
    "# Train_std, Test_std\n",
    "\n",
    "limit_a = 1\n",
    "limit_b = limit_a+30\n",
    "\n",
    "train_std = np.zeros(len(range(limit_a,limit_b)))\n",
    "test_std = np.zeros(len(train_std))\n",
    "\n",
    "for i in range(limit_a,limit_b):\n",
    "    std = myLogisticRegression(regularization = i)\n",
    "    std.fit(train_x,train_y)\n",
    "    \n",
    "    train_std[i-limit_a] = 1-std.score(train_x,train_y)\n",
    "    test_std[i-limit_a] = 1-std.score(test_x,test_y)"
   ]
  },
  {
   "cell_type": "code",
   "execution_count": 20,
   "metadata": {},
   "outputs": [
    {
     "data": {
      "text/plain": [
       "0.07572593800978791"
      ]
     },
     "execution_count": 20,
     "metadata": {},
     "output_type": "execute_result"
    }
   ],
   "source": [
    "train_std_mean = np.sum(train_std)/len(train_std)\n",
    "train_std_mean"
   ]
  },
  {
   "cell_type": "code",
   "execution_count": 21,
   "metadata": {},
   "outputs": [
    {
     "data": {
      "text/plain": [
       "0.0737847222222222"
      ]
     },
     "execution_count": 21,
     "metadata": {},
     "output_type": "execute_result"
    }
   ],
   "source": [
    "test_std_mean = np.sum(test_std)/len(test_std)\n",
    "test_std_mean"
   ]
  },
  {
   "cell_type": "markdown",
   "metadata": {},
   "source": [
    "### 2. Transformado de datos"
   ]
  },
  {
   "cell_type": "markdown",
   "metadata": {},
   "source": [
    "En este caso se indica que los features serán transformados de la siguiente manera:\n",
    "\n",
    "* $log(x_{ij}+0.1)$"
   ]
  },
  {
   "cell_type": "code",
   "execution_count": 22,
   "metadata": {},
   "outputs": [
    {
     "data": {
      "text/html": [
       "<div>\n",
       "<style scoped>\n",
       "    .dataframe tbody tr th:only-of-type {\n",
       "        vertical-align: middle;\n",
       "    }\n",
       "\n",
       "    .dataframe tbody tr th {\n",
       "        vertical-align: top;\n",
       "    }\n",
       "\n",
       "    .dataframe thead th {\n",
       "        text-align: right;\n",
       "    }\n",
       "</style>\n",
       "<table border=\"1\" class=\"dataframe\">\n",
       "  <thead>\n",
       "    <tr style=\"text-align: right;\">\n",
       "      <th></th>\n",
       "      <th>word_freq_make</th>\n",
       "      <th>word_freq_address</th>\n",
       "      <th>word_freq_all</th>\n",
       "      <th>word_freq_3d</th>\n",
       "      <th>word_freq_our</th>\n",
       "      <th>word_freq_over</th>\n",
       "      <th>word_freq_remove</th>\n",
       "      <th>word_freq_internet</th>\n",
       "      <th>word_freq_order</th>\n",
       "      <th>word_freq_mail</th>\n",
       "      <th>...</th>\n",
       "      <th>char_freq_;</th>\n",
       "      <th>char_freq_(</th>\n",
       "      <th>char_freq_[</th>\n",
       "      <th>char_freq_!</th>\n",
       "      <th>char_freq_$</th>\n",
       "      <th>char_freq_#</th>\n",
       "      <th>capital_run_length_average</th>\n",
       "      <th>capital_run_length_longest</th>\n",
       "      <th>capital_run_length_total</th>\n",
       "      <th>y</th>\n",
       "    </tr>\n",
       "  </thead>\n",
       "  <tbody>\n",
       "    <tr>\n",
       "      <td>0</td>\n",
       "      <td>-2.302585</td>\n",
       "      <td>-0.301105</td>\n",
       "      <td>-0.301105</td>\n",
       "      <td>-2.302585</td>\n",
       "      <td>-0.867501</td>\n",
       "      <td>-2.302585</td>\n",
       "      <td>-2.302585</td>\n",
       "      <td>-2.302585</td>\n",
       "      <td>-2.302585</td>\n",
       "      <td>-2.302585</td>\n",
       "      <td>...</td>\n",
       "      <td>-2.302585</td>\n",
       "      <td>-2.302585</td>\n",
       "      <td>-2.302585</td>\n",
       "      <td>-0.130109</td>\n",
       "      <td>-2.302585</td>\n",
       "      <td>-2.302585</td>\n",
       "      <td>1.349630</td>\n",
       "      <td>4.112512</td>\n",
       "      <td>5.627981</td>\n",
       "      <td>1</td>\n",
       "    </tr>\n",
       "    <tr>\n",
       "      <td>1</td>\n",
       "      <td>-1.171183</td>\n",
       "      <td>-0.967584</td>\n",
       "      <td>-0.510826</td>\n",
       "      <td>-2.302585</td>\n",
       "      <td>-1.427116</td>\n",
       "      <td>-0.967584</td>\n",
       "      <td>-1.171183</td>\n",
       "      <td>-1.771957</td>\n",
       "      <td>-2.302585</td>\n",
       "      <td>0.039221</td>\n",
       "      <td>...</td>\n",
       "      <td>-2.302585</td>\n",
       "      <td>-1.461018</td>\n",
       "      <td>-2.302585</td>\n",
       "      <td>-0.750776</td>\n",
       "      <td>-1.272966</td>\n",
       "      <td>-1.910543</td>\n",
       "      <td>1.651347</td>\n",
       "      <td>4.616110</td>\n",
       "      <td>6.935468</td>\n",
       "      <td>1</td>\n",
       "    </tr>\n",
       "    <tr>\n",
       "      <td>2</td>\n",
       "      <td>-1.832581</td>\n",
       "      <td>-2.302585</td>\n",
       "      <td>-0.210721</td>\n",
       "      <td>-2.302585</td>\n",
       "      <td>0.285179</td>\n",
       "      <td>-1.237874</td>\n",
       "      <td>-1.237874</td>\n",
       "      <td>-1.514128</td>\n",
       "      <td>-0.301105</td>\n",
       "      <td>-1.049822</td>\n",
       "      <td>...</td>\n",
       "      <td>-2.207275</td>\n",
       "      <td>-1.414694</td>\n",
       "      <td>-2.302585</td>\n",
       "      <td>-0.978166</td>\n",
       "      <td>-1.258781</td>\n",
       "      <td>-2.207275</td>\n",
       "      <td>2.294654</td>\n",
       "      <td>6.184355</td>\n",
       "      <td>7.722722</td>\n",
       "      <td>1</td>\n",
       "    </tr>\n",
       "    <tr>\n",
       "      <td>3</td>\n",
       "      <td>-2.302585</td>\n",
       "      <td>-2.302585</td>\n",
       "      <td>-2.302585</td>\n",
       "      <td>-2.302585</td>\n",
       "      <td>-0.314711</td>\n",
       "      <td>-2.302585</td>\n",
       "      <td>-0.891598</td>\n",
       "      <td>-0.314711</td>\n",
       "      <td>-0.891598</td>\n",
       "      <td>-0.314711</td>\n",
       "      <td>...</td>\n",
       "      <td>-2.302585</td>\n",
       "      <td>-1.439695</td>\n",
       "      <td>-2.302585</td>\n",
       "      <td>-1.439695</td>\n",
       "      <td>-2.302585</td>\n",
       "      <td>-2.302585</td>\n",
       "      <td>1.291159</td>\n",
       "      <td>3.691376</td>\n",
       "      <td>5.252797</td>\n",
       "      <td>1</td>\n",
       "    </tr>\n",
       "    <tr>\n",
       "      <td>4</td>\n",
       "      <td>-2.302585</td>\n",
       "      <td>-2.302585</td>\n",
       "      <td>-2.302585</td>\n",
       "      <td>-2.302585</td>\n",
       "      <td>-0.314711</td>\n",
       "      <td>-2.302585</td>\n",
       "      <td>-0.891598</td>\n",
       "      <td>-0.314711</td>\n",
       "      <td>-0.891598</td>\n",
       "      <td>-0.314711</td>\n",
       "      <td>...</td>\n",
       "      <td>-2.302585</td>\n",
       "      <td>-1.448170</td>\n",
       "      <td>-2.302585</td>\n",
       "      <td>-1.448170</td>\n",
       "      <td>-2.302585</td>\n",
       "      <td>-2.302585</td>\n",
       "      <td>1.291159</td>\n",
       "      <td>3.691376</td>\n",
       "      <td>5.252797</td>\n",
       "      <td>1</td>\n",
       "    </tr>\n",
       "  </tbody>\n",
       "</table>\n",
       "<p>5 rows × 58 columns</p>\n",
       "</div>"
      ],
      "text/plain": [
       "   word_freq_make  word_freq_address  word_freq_all  word_freq_3d  \\\n",
       "0       -2.302585          -0.301105      -0.301105     -2.302585   \n",
       "1       -1.171183          -0.967584      -0.510826     -2.302585   \n",
       "2       -1.832581          -2.302585      -0.210721     -2.302585   \n",
       "3       -2.302585          -2.302585      -2.302585     -2.302585   \n",
       "4       -2.302585          -2.302585      -2.302585     -2.302585   \n",
       "\n",
       "   word_freq_our  word_freq_over  word_freq_remove  word_freq_internet  \\\n",
       "0      -0.867501       -2.302585         -2.302585           -2.302585   \n",
       "1      -1.427116       -0.967584         -1.171183           -1.771957   \n",
       "2       0.285179       -1.237874         -1.237874           -1.514128   \n",
       "3      -0.314711       -2.302585         -0.891598           -0.314711   \n",
       "4      -0.314711       -2.302585         -0.891598           -0.314711   \n",
       "\n",
       "   word_freq_order  word_freq_mail  ...  char_freq_;  char_freq_(  \\\n",
       "0        -2.302585       -2.302585  ...    -2.302585    -2.302585   \n",
       "1        -2.302585        0.039221  ...    -2.302585    -1.461018   \n",
       "2        -0.301105       -1.049822  ...    -2.207275    -1.414694   \n",
       "3        -0.891598       -0.314711  ...    -2.302585    -1.439695   \n",
       "4        -0.891598       -0.314711  ...    -2.302585    -1.448170   \n",
       "\n",
       "   char_freq_[  char_freq_!  char_freq_$  char_freq_#  \\\n",
       "0    -2.302585    -0.130109    -2.302585    -2.302585   \n",
       "1    -2.302585    -0.750776    -1.272966    -1.910543   \n",
       "2    -2.302585    -0.978166    -1.258781    -2.207275   \n",
       "3    -2.302585    -1.439695    -2.302585    -2.302585   \n",
       "4    -2.302585    -1.448170    -2.302585    -2.302585   \n",
       "\n",
       "   capital_run_length_average  capital_run_length_longest  \\\n",
       "0                    1.349630                    4.112512   \n",
       "1                    1.651347                    4.616110   \n",
       "2                    2.294654                    6.184355   \n",
       "3                    1.291159                    3.691376   \n",
       "4                    1.291159                    3.691376   \n",
       "\n",
       "   capital_run_length_total  y  \n",
       "0                  5.627981  1  \n",
       "1                  6.935468  1  \n",
       "2                  7.722722  1  \n",
       "3                  5.252797  1  \n",
       "4                  5.252797  1  \n",
       "\n",
       "[5 rows x 58 columns]"
      ]
     },
     "execution_count": 22,
     "metadata": {},
     "output_type": "execute_result"
    }
   ],
   "source": [
    "transformed_df = df.iloc[:,:df.shape[1]-1].apply(lambda x: np.log(x+0.1))\n",
    "\n",
    "transformed_df[\"y\"] = df[\"y\"]\n",
    "transformed_df.head()"
   ]
  },
  {
   "cell_type": "markdown",
   "metadata": {},
   "source": [
    "### 2.1 Separación de datos"
   ]
  },
  {
   "cell_type": "code",
   "execution_count": 23,
   "metadata": {},
   "outputs": [],
   "source": [
    "X = transformed_df.iloc[:,:transformed_df.shape[1]-1]\n",
    "Y = transformed_df[\"y\"]"
   ]
  },
  {
   "cell_type": "code",
   "execution_count": 24,
   "metadata": {},
   "outputs": [],
   "source": [
    "train_x, test_x, train_y, test_y = train_test_split(X,Y,\n",
    "                                                    train_size=0.6663,\n",
    "                                                    random_state = 1,\n",
    "                                                    stratify = Y)"
   ]
  },
  {
   "cell_type": "code",
   "execution_count": 25,
   "metadata": {},
   "outputs": [
    {
     "name": "stdout",
     "output_type": "stream",
     "text": [
      "Tamaño de entrenamiento: (3065, 57)\n",
      "Tamaño de set test: (1536, 57)\n"
     ]
    }
   ],
   "source": [
    "print(\"Tamaño de entrenamiento: \"+str(train_x.shape))\n",
    "print(\"Tamaño de set test: \"+str(test_x.shape))"
   ]
  },
  {
   "cell_type": "markdown",
   "metadata": {},
   "source": [
    "### 2.2 Modelado"
   ]
  },
  {
   "cell_type": "code",
   "execution_count": 26,
   "metadata": {},
   "outputs": [
    {
     "data": {
      "text/plain": [
       "LogisticRegression(C=1.0, class_weight=None, dual=False, fit_intercept=True,\n",
       "                   intercept_scaling=1, l1_ratio=None, max_iter=2000,\n",
       "                   multi_class='warn', n_jobs=None, penalty='l2',\n",
       "                   random_state=None, solver='lbfgs', tol=0.0001, verbose=0,\n",
       "                   warm_start=False)"
      ]
     },
     "execution_count": 26,
     "metadata": {},
     "output_type": "execute_result"
    }
   ],
   "source": [
    "logit_model_2 = LogisticRegression(solver='lbfgs',max_iter=2000)\n",
    "logit_model_2.fit(train_x,train_y) # sale warning solo por paquete desactualizado."
   ]
  },
  {
   "cell_type": "code",
   "execution_count": 27,
   "metadata": {},
   "outputs": [
    {
     "name": "stdout",
     "output_type": "stream",
     "text": [
      "Score: 0.9479166666666666\n",
      "Intercepto: [-18.17252695]\n",
      "Coeficientes [[-0.15623583 -0.08299123 -0.14707088 -0.01710249  0.54004034  0.11480249\n",
      "   0.99763162  0.33556372  0.08471838  0.12191865 -0.18640696 -0.21036182\n",
      "  -0.38047947  0.2295383   0.56162508  0.51536683  0.35726792 -0.14530266\n",
      "   0.00506419  0.33339975  0.19903938  0.1738729   0.55477348  0.71165845\n",
      "  -1.1327172  -0.1319256  -1.7335487   0.41808399 -0.59636264 -0.01849258\n",
      "  -0.8584117  -0.28055478 -0.3036153  -0.11916187 -0.8555491   0.46941297\n",
      "  -0.35235151  0.38295297 -0.28723795 -0.24174579 -1.23701606 -0.9108313\n",
      "  -0.49140008 -0.75611879 -0.38955071 -1.03081966 -0.21488748 -0.81753977\n",
      "  -0.35024738 -0.15908887 -0.25126636  0.77617059  1.30328796 -0.40846119\n",
      "   0.57666812  0.04462839  0.55210892]]\n"
     ]
    }
   ],
   "source": [
    "print(\"Score: \"+str(logit_model_2.score(test_x,test_y)))\n",
    "print(\"Intercepto: \"+str(logit_model_2.intercept_))\n",
    "print(\"Coeficientes \"+str(logit_model_2.coef_))"
   ]
  },
  {
   "cell_type": "code",
   "execution_count": 28,
   "metadata": {},
   "outputs": [],
   "source": [
    "# Train_log, Test_log\n",
    "\n",
    "limit_a = 1\n",
    "limit_b = limit_a+30\n",
    "\n",
    "train_log = np.zeros(len(range(limit_a,limit_b)))\n",
    "test_log = np.zeros(len(train_log))\n",
    "\n",
    "for i in range(limit_a,limit_b):\n",
    "    log = myLogisticRegression(regularization = i)\n",
    "    log.fit(train_x,train_y)\n",
    "    \n",
    "    train_log[i-limit_a] = 1-log.score(train_x,train_y)\n",
    "    test_log[i-limit_a] = 1-log.score(test_x,test_y)"
   ]
  },
  {
   "cell_type": "code",
   "execution_count": 29,
   "metadata": {},
   "outputs": [
    {
     "data": {
      "text/plain": [
       "0.05467101685698749"
      ]
     },
     "execution_count": 29,
     "metadata": {},
     "output_type": "execute_result"
    }
   ],
   "source": [
    "train_log_mean = np.sum(train_log)/len(train_log)\n",
    "train_log_mean"
   ]
  },
  {
   "cell_type": "code",
   "execution_count": 30,
   "metadata": {},
   "outputs": [
    {
     "data": {
      "text/plain": [
       "0.05301649305555554"
      ]
     },
     "execution_count": 30,
     "metadata": {},
     "output_type": "execute_result"
    }
   ],
   "source": [
    "test_log_mean = np.sum(test_log)/len(test_log)\n",
    "test_log_mean"
   ]
  },
  {
   "cell_type": "markdown",
   "metadata": {},
   "source": [
    "### 3. Binarizado de datos\n",
    "\n",
    "Aqui hacemos uso de la función indicatriz donde se cumple que: \n",
    "\n",
    "$$  \\mathbb{l}(e) = \\begin{cases} 1 &\\mbox{if } e \\; is\\; true \\\\\n",
    "0 & \\mbox{if } e \\;is \\;false \\end{cases}  $$\n",
    "\n",
    "En este caso $e \\equiv x_{ij} > 0$"
   ]
  },
  {
   "cell_type": "code",
   "execution_count": 31,
   "metadata": {},
   "outputs": [
    {
     "data": {
      "text/html": [
       "<div>\n",
       "<style scoped>\n",
       "    .dataframe tbody tr th:only-of-type {\n",
       "        vertical-align: middle;\n",
       "    }\n",
       "\n",
       "    .dataframe tbody tr th {\n",
       "        vertical-align: top;\n",
       "    }\n",
       "\n",
       "    .dataframe thead th {\n",
       "        text-align: right;\n",
       "    }\n",
       "</style>\n",
       "<table border=\"1\" class=\"dataframe\">\n",
       "  <thead>\n",
       "    <tr style=\"text-align: right;\">\n",
       "      <th></th>\n",
       "      <th>word_freq_make</th>\n",
       "      <th>word_freq_address</th>\n",
       "      <th>word_freq_all</th>\n",
       "      <th>word_freq_3d</th>\n",
       "      <th>word_freq_our</th>\n",
       "      <th>word_freq_over</th>\n",
       "      <th>word_freq_remove</th>\n",
       "      <th>word_freq_internet</th>\n",
       "      <th>word_freq_order</th>\n",
       "      <th>word_freq_mail</th>\n",
       "      <th>...</th>\n",
       "      <th>char_freq_;</th>\n",
       "      <th>char_freq_(</th>\n",
       "      <th>char_freq_[</th>\n",
       "      <th>char_freq_!</th>\n",
       "      <th>char_freq_$</th>\n",
       "      <th>char_freq_#</th>\n",
       "      <th>capital_run_length_average</th>\n",
       "      <th>capital_run_length_longest</th>\n",
       "      <th>capital_run_length_total</th>\n",
       "      <th>y</th>\n",
       "    </tr>\n",
       "  </thead>\n",
       "  <tbody>\n",
       "    <tr>\n",
       "      <td>0</td>\n",
       "      <td>0</td>\n",
       "      <td>1</td>\n",
       "      <td>1</td>\n",
       "      <td>0</td>\n",
       "      <td>1</td>\n",
       "      <td>0</td>\n",
       "      <td>0</td>\n",
       "      <td>0</td>\n",
       "      <td>0</td>\n",
       "      <td>0</td>\n",
       "      <td>...</td>\n",
       "      <td>0</td>\n",
       "      <td>0</td>\n",
       "      <td>0</td>\n",
       "      <td>1</td>\n",
       "      <td>0</td>\n",
       "      <td>0</td>\n",
       "      <td>1</td>\n",
       "      <td>1</td>\n",
       "      <td>1</td>\n",
       "      <td>1</td>\n",
       "    </tr>\n",
       "    <tr>\n",
       "      <td>1</td>\n",
       "      <td>1</td>\n",
       "      <td>1</td>\n",
       "      <td>1</td>\n",
       "      <td>0</td>\n",
       "      <td>1</td>\n",
       "      <td>1</td>\n",
       "      <td>1</td>\n",
       "      <td>1</td>\n",
       "      <td>0</td>\n",
       "      <td>1</td>\n",
       "      <td>...</td>\n",
       "      <td>0</td>\n",
       "      <td>1</td>\n",
       "      <td>0</td>\n",
       "      <td>1</td>\n",
       "      <td>1</td>\n",
       "      <td>1</td>\n",
       "      <td>1</td>\n",
       "      <td>1</td>\n",
       "      <td>1</td>\n",
       "      <td>1</td>\n",
       "    </tr>\n",
       "    <tr>\n",
       "      <td>2</td>\n",
       "      <td>1</td>\n",
       "      <td>0</td>\n",
       "      <td>1</td>\n",
       "      <td>0</td>\n",
       "      <td>1</td>\n",
       "      <td>1</td>\n",
       "      <td>1</td>\n",
       "      <td>1</td>\n",
       "      <td>1</td>\n",
       "      <td>1</td>\n",
       "      <td>...</td>\n",
       "      <td>1</td>\n",
       "      <td>1</td>\n",
       "      <td>0</td>\n",
       "      <td>1</td>\n",
       "      <td>1</td>\n",
       "      <td>1</td>\n",
       "      <td>1</td>\n",
       "      <td>1</td>\n",
       "      <td>1</td>\n",
       "      <td>1</td>\n",
       "    </tr>\n",
       "    <tr>\n",
       "      <td>3</td>\n",
       "      <td>0</td>\n",
       "      <td>0</td>\n",
       "      <td>0</td>\n",
       "      <td>0</td>\n",
       "      <td>1</td>\n",
       "      <td>0</td>\n",
       "      <td>1</td>\n",
       "      <td>1</td>\n",
       "      <td>1</td>\n",
       "      <td>1</td>\n",
       "      <td>...</td>\n",
       "      <td>0</td>\n",
       "      <td>1</td>\n",
       "      <td>0</td>\n",
       "      <td>1</td>\n",
       "      <td>0</td>\n",
       "      <td>0</td>\n",
       "      <td>1</td>\n",
       "      <td>1</td>\n",
       "      <td>1</td>\n",
       "      <td>1</td>\n",
       "    </tr>\n",
       "    <tr>\n",
       "      <td>4</td>\n",
       "      <td>0</td>\n",
       "      <td>0</td>\n",
       "      <td>0</td>\n",
       "      <td>0</td>\n",
       "      <td>1</td>\n",
       "      <td>0</td>\n",
       "      <td>1</td>\n",
       "      <td>1</td>\n",
       "      <td>1</td>\n",
       "      <td>1</td>\n",
       "      <td>...</td>\n",
       "      <td>0</td>\n",
       "      <td>1</td>\n",
       "      <td>0</td>\n",
       "      <td>1</td>\n",
       "      <td>0</td>\n",
       "      <td>0</td>\n",
       "      <td>1</td>\n",
       "      <td>1</td>\n",
       "      <td>1</td>\n",
       "      <td>1</td>\n",
       "    </tr>\n",
       "  </tbody>\n",
       "</table>\n",
       "<p>5 rows × 58 columns</p>\n",
       "</div>"
      ],
      "text/plain": [
       "   word_freq_make  word_freq_address  word_freq_all  word_freq_3d  \\\n",
       "0               0                  1              1             0   \n",
       "1               1                  1              1             0   \n",
       "2               1                  0              1             0   \n",
       "3               0                  0              0             0   \n",
       "4               0                  0              0             0   \n",
       "\n",
       "   word_freq_our  word_freq_over  word_freq_remove  word_freq_internet  \\\n",
       "0              1               0                 0                   0   \n",
       "1              1               1                 1                   1   \n",
       "2              1               1                 1                   1   \n",
       "3              1               0                 1                   1   \n",
       "4              1               0                 1                   1   \n",
       "\n",
       "   word_freq_order  word_freq_mail  ...  char_freq_;  char_freq_(  \\\n",
       "0                0               0  ...            0            0   \n",
       "1                0               1  ...            0            1   \n",
       "2                1               1  ...            1            1   \n",
       "3                1               1  ...            0            1   \n",
       "4                1               1  ...            0            1   \n",
       "\n",
       "   char_freq_[  char_freq_!  char_freq_$  char_freq_#  \\\n",
       "0            0            1            0            0   \n",
       "1            0            1            1            1   \n",
       "2            0            1            1            1   \n",
       "3            0            1            0            0   \n",
       "4            0            1            0            0   \n",
       "\n",
       "   capital_run_length_average  capital_run_length_longest  \\\n",
       "0                           1                           1   \n",
       "1                           1                           1   \n",
       "2                           1                           1   \n",
       "3                           1                           1   \n",
       "4                           1                           1   \n",
       "\n",
       "   capital_run_length_total  y  \n",
       "0                         1  1  \n",
       "1                         1  1  \n",
       "2                         1  1  \n",
       "3                         1  1  \n",
       "4                         1  1  \n",
       "\n",
       "[5 rows x 58 columns]"
      ]
     },
     "execution_count": 31,
     "metadata": {},
     "output_type": "execute_result"
    }
   ],
   "source": [
    "#     x_new      =     (xij > 0)\n",
    "binarized_df = (df>0).astype(int) # aqui si podemos binarizar la salida porque acaba en lo mismo 1 o 0.\n",
    "binarized_df.head()"
   ]
  },
  {
   "cell_type": "markdown",
   "metadata": {},
   "source": [
    "### 3.1 Separación de datos"
   ]
  },
  {
   "cell_type": "code",
   "execution_count": 32,
   "metadata": {},
   "outputs": [],
   "source": [
    "X = binarized_df.iloc[:,:binarized_df.shape[1]-1]\n",
    "Y = binarized_df[\"y\"]"
   ]
  },
  {
   "cell_type": "code",
   "execution_count": 33,
   "metadata": {},
   "outputs": [],
   "source": [
    "train_x, test_x, train_y, test_y = train_test_split(X,Y,\n",
    "                                                    train_size=0.6663,\n",
    "                                                    random_state = 1,\n",
    "                                                    stratify = Y)"
   ]
  },
  {
   "cell_type": "code",
   "execution_count": 34,
   "metadata": {},
   "outputs": [
    {
     "name": "stdout",
     "output_type": "stream",
     "text": [
      "Tamaño de entrenamiento: (3065, 57)\n",
      "Tamaño de set test: (1536, 57)\n"
     ]
    }
   ],
   "source": [
    "print(\"Tamaño de entrenamiento: \"+str(train_x.shape))\n",
    "print(\"Tamaño de set test: \"+str(test_x.shape))"
   ]
  },
  {
   "cell_type": "markdown",
   "metadata": {},
   "source": [
    "### 3.2 Modelado"
   ]
  },
  {
   "cell_type": "code",
   "execution_count": 35,
   "metadata": {},
   "outputs": [
    {
     "data": {
      "text/plain": [
       "LogisticRegression(C=1.0, class_weight=None, dual=False, fit_intercept=True,\n",
       "                   intercept_scaling=1, l1_ratio=None, max_iter=100,\n",
       "                   multi_class='warn', n_jobs=None, penalty='l2',\n",
       "                   random_state=None, solver='lbfgs', tol=0.0001, verbose=0,\n",
       "                   warm_start=False)"
      ]
     },
     "execution_count": 35,
     "metadata": {},
     "output_type": "execute_result"
    }
   ],
   "source": [
    "logit_model_3 = LogisticRegression(solver=\"lbfgs\")\n",
    "logit_model_3.fit(train_x,train_y) # Sale warning solo por paquete desactualizado"
   ]
  },
  {
   "cell_type": "code",
   "execution_count": 36,
   "metadata": {},
   "outputs": [
    {
     "name": "stdout",
     "output_type": "stream",
     "text": [
      "Score: 0.9329427083333334\n",
      "Intercepto: [-1.7955455]\n",
      "Coeficientes [[-1.92170388e-01 -1.09642429e-01 -2.66341257e-01  1.06443468e-02\n",
      "   1.11353930e+00  8.93497700e-02  2.28456629e+00  7.26257804e-01\n",
      "   1.75243186e-01  4.09620545e-01 -2.20798221e-01 -4.17971421e-01\n",
      "  -1.00443419e+00  3.47032344e-01  1.12969108e+00  1.49578690e+00\n",
      "   6.43345264e-01 -2.06055866e-01  3.15401968e-02  9.03821574e-01\n",
      "   6.22516709e-01  1.22015423e+00  8.95835469e-01  1.61051297e+00\n",
      "  -2.54771268e+00 -5.26562528e-01 -3.21501349e+00  1.25671625e+00\n",
      "  -5.96946857e-01  9.55672931e-02 -1.76724996e+00 -6.40767985e-01\n",
      "  -3.56390925e-01  3.56763730e-01 -1.48585558e+00  6.11413632e-01\n",
      "  -8.76284094e-01  9.57405099e-01 -3.65791112e-01 -4.11119002e-01\n",
      "  -1.37484409e+00 -1.65756181e+00 -4.85927772e-01 -1.15926466e+00\n",
      "  -7.83256729e-01 -2.41289930e+00  1.50955414e-01 -1.46860220e+00\n",
      "  -1.42919030e-01  5.19310690e-02  2.71462531e-02  1.25800492e+00\n",
      "   1.78317118e+00 -4.70882843e-01 -7.51194505e-06 -7.51194505e-06\n",
      "  -7.51194505e-06]]\n"
     ]
    }
   ],
   "source": [
    "print(\"Score: \"+str(logit_model_3.score(test_x,test_y)))\n",
    "print(\"Intercepto: \"+str(logit_model_3.intercept_))\n",
    "print(\"Coeficientes \"+str(logit_model_3.coef_))"
   ]
  },
  {
   "cell_type": "code",
   "execution_count": 37,
   "metadata": {},
   "outputs": [],
   "source": [
    "# Train_log, Test_log\n",
    "\n",
    "limit_a = 1\n",
    "limit_b = limit_a+30\n",
    "\n",
    "train_binary = np.zeros(len(range(limit_a,limit_b)))\n",
    "test_binary = np.zeros(len(train_log))\n",
    "\n",
    "for i in range(limit_a,limit_b):\n",
    "    binar = myLogisticRegression(regularization = i)\n",
    "    binar.fit(train_x,train_y)\n",
    "    \n",
    "    train_binary[i-limit_a] = 1-binar.score(train_x,train_y)\n",
    "    test_binary[i-limit_a] = 1-binar.score(test_x,test_y)"
   ]
  },
  {
   "cell_type": "code",
   "execution_count": 38,
   "metadata": {},
   "outputs": [
    {
     "data": {
      "text/plain": [
       "0.06998368678629689"
      ]
     },
     "execution_count": 38,
     "metadata": {},
     "output_type": "execute_result"
    }
   ],
   "source": [
    "train_binary_mean = np.sum(train_binary)/len(train_binary)\n",
    "train_binary_mean"
   ]
  },
  {
   "cell_type": "code",
   "execution_count": 39,
   "metadata": {},
   "outputs": [
    {
     "data": {
      "text/plain": [
       "0.07068142361111111"
      ]
     },
     "execution_count": 39,
     "metadata": {},
     "output_type": "execute_result"
    }
   ],
   "source": [
    "test_binary_mean = np.sum(test_binary)/len(test_binary)\n",
    "test_binary_mean"
   ]
  },
  {
   "cell_type": "markdown",
   "metadata": {},
   "source": [
    "## Resumen de los datos encontrado\n",
    "\n",
    "Como se espera en el libro tenemos distintos valores del error para cada coeficiente de regularización (regularization) asi que promediando estos valores obtenemos el **mean error rate** siguiente."
   ]
  },
  {
   "cell_type": "code",
   "execution_count": 40,
   "metadata": {},
   "outputs": [
    {
     "data": {
      "text/html": [
       "<div>\n",
       "<style scoped>\n",
       "    .dataframe tbody tr th:only-of-type {\n",
       "        vertical-align: middle;\n",
       "    }\n",
       "\n",
       "    .dataframe tbody tr th {\n",
       "        vertical-align: top;\n",
       "    }\n",
       "\n",
       "    .dataframe thead th {\n",
       "        text-align: right;\n",
       "    }\n",
       "</style>\n",
       "<table border=\"1\" class=\"dataframe\">\n",
       "  <thead>\n",
       "    <tr style=\"text-align: right;\">\n",
       "      <th></th>\n",
       "      <th>train</th>\n",
       "      <th>test</th>\n",
       "    </tr>\n",
       "  </thead>\n",
       "  <tbody>\n",
       "    <tr>\n",
       "      <td>stnd</td>\n",
       "      <td>0.075726</td>\n",
       "      <td>0.073785</td>\n",
       "    </tr>\n",
       "    <tr>\n",
       "      <td>log</td>\n",
       "      <td>0.054671</td>\n",
       "      <td>0.053016</td>\n",
       "    </tr>\n",
       "    <tr>\n",
       "      <td>binary</td>\n",
       "      <td>0.069984</td>\n",
       "      <td>0.070681</td>\n",
       "    </tr>\n",
       "  </tbody>\n",
       "</table>\n",
       "</div>"
      ],
      "text/plain": [
       "           train      test\n",
       "stnd    0.075726  0.073785\n",
       "log     0.054671  0.053016\n",
       "binary  0.069984  0.070681"
      ]
     },
     "execution_count": 40,
     "metadata": {},
     "output_type": "execute_result"
    }
   ],
   "source": [
    "data = {'train':[train_std_mean,train_log_mean,train_binary_mean], 'test':[test_std_mean,test_log_mean,test_binary_mean]} \n",
    "df_final = pd.DataFrame(data)\n",
    "df_final.index = [\"stnd\",\"log\",\"binary\"]\n",
    "df_final"
   ]
  },
  {
   "cell_type": "markdown",
   "metadata": {},
   "source": [
    "Se obtiene valores parecidos al libro **A Probabilistic Perspective** de *Kevin Murphy*,  además se mantiene la relación entre ellos pues **log** sigue teniendo la media de error más bajo seguido de **binary** y por último el que tiene el error más alto es **stnd**."
   ]
  },
  {
   "cell_type": "markdown",
   "metadata": {},
   "source": [
    "### Visualización del error según el parámetro.\n",
    "\n",
    "Como buen data scientits, vamos a reflejar estos valores en una gráfica para ver el comportamiento según el crecimiento del parámetro de regularización."
   ]
  },
  {
   "cell_type": "code",
   "execution_count": 41,
   "metadata": {},
   "outputs": [
    {
     "data": {
      "text/plain": [
       "<matplotlib.legend.Legend at 0x7f4c900cb128>"
      ]
     },
     "execution_count": 41,
     "metadata": {},
     "output_type": "execute_result"
    },
    {
     "data": {
      "image/png": "[encoded data removed]",
      "text/plain": [
       "<Figure size 432x288 with 1 Axes>"
      ]
     },
     "metadata": {
      "needs_background": "light"
     },
     "output_type": "display_data"
    }
   ],
   "source": [
    "a = list(range(limit_a,limit_b))\n",
    "\n",
    "plt.plot(a,train_std,\"r\",label=\"Train Stnd\")\n",
    "plt.plot(a,train_log,\"b\",label=\"Train log\",marker=\"o\")\n",
    "plt.plot(a,train_binary,\"g\",label=\"Train binary\")\n",
    "plt.xlabel(\"parámetro de regularización\")\n",
    "plt.ylabel(\"Error rate\")\n",
    "plt.title(\"Comportamiento del error en el set de Training\")\n",
    "plt.legend()"
   ]
  },
  {
   "cell_type": "code",
   "execution_count": 42,
   "metadata": {},
   "outputs": [
    {
     "data": {
      "text/plain": [
       "<matplotlib.legend.Legend at 0x7f4c9002e8d0>"
      ]
     },
     "execution_count": 42,
     "metadata": {},
     "output_type": "execute_result"
    },
    {
     "data": {
      "image/png": "[encoded data removed]",
      "text/plain": [
       "<Figure size 432x288 with 1 Axes>"
      ]
     },
     "metadata": {
      "needs_background": "light"
     },
     "output_type": "display_data"
    }
   ],
   "source": [
    "plt.plot(a,test_std,\"r\",label=\"Test stnd\")\n",
    "plt.plot(a,test_log,\"b\",label=\"Tesst Stnd\",marker=\"o\")\n",
    "plt.plot(a,test_binary,\"g\",label=\"Test Stnd\")\n",
    "plt.xlabel(\"parámetro de regularización\")\n",
    "plt.ylabel(\"Error rate\")\n",
    "plt.title(\"Comportamiento del error en el set de Test\")\n",
    "plt.legend()"
   ]
  },
  {
   "cell_type": "markdown",
   "metadata": {},
   "source": [
    "Podemos decir que el parámetro más fuerte (el que hace que el error sea mínimo) es **$\\lambda =$ 8** y funciona mejor en el modelado cuyo datos fueron transformados por $log(X_{ij}+1)$"
   ]
  },
  {
   "cell_type": "markdown",
   "metadata": {},
   "source": [
    "## Cross Validation\n",
    "\n",
    "Se usa cross validation para tener la certeza que nuestros datos no han sufrido de sobreajuste o **overfitting** pero en esta ocación será usada para obtener el más parámetro más fuerte es decir el que obtenga el menos error, como se vio arriba este parámetro de regularización se vio muy claro en el valor de parametro de regularización igual a 8.\n",
    "\n",
    "Pero el libro indica usar cross validation lo cual si bien nos ayudara."
   ]
  },
  {
   "cell_type": "code",
   "execution_count": 43,
   "metadata": {},
   "outputs": [],
   "source": [
    "limit_a = 1 \n",
    "limit_b = limit_a+30  # limites de parámetro de regularización\n",
    "\n",
    "k = 10  # 10-cross validation"
   ]
  },
  {
   "cell_type": "code",
   "execution_count": 44,
   "metadata": {},
   "outputs": [],
   "source": [
    "# Train_std, Test_std\n",
    "\n",
    "\n",
    "X = normalized_df.iloc[:,:normalized_df.shape[1]-1]\n",
    "Y = normalized_df[\"y\"]\n",
    "\n",
    "stdcross_train = np.zeros(k)\n",
    "stdcross_test = np.zeros(k)\n",
    "\n",
    "train_std = np.zeros(len(range(limit_a,limit_b)))\n",
    "test_std = np.zeros(len(train_std))\n",
    "\n",
    "for i in range(limit_a,limit_b):\n",
    "    # Para cada parámetro de regularización ...\n",
    "    std = myLogisticRegression(regularization = i)\n",
    "    # ... Realizamos k tomas de diferentes datos de nuestro dataset (k cross validation)\n",
    "    for j in range(k): \n",
    "        train_x, test_x, train_y, test_y = train_test_split(X,Y,\n",
    "                                                    train_size=0.6663,\n",
    "                                                    random_state = j,\n",
    "                                                    stratify = Y)\n",
    "        std.fit(train_x,train_y)\n",
    "        stdcross_train[j] = 1-std.score(train_x,train_y) # Err de k difer particiones guardadas en un vector\n",
    "        stdcross_test[j] = 1-std.score(test_x,test_y)\n",
    "    \n",
    "    train_std[i-limit_a] = np.sum(stdcross_train)/len(stdcross_train) # promedio de esos 10 errores, aqui por reg.\n",
    "    test_std[i-limit_a] = np.sum(stdcross_test)/len(stdcross_test)"
   ]
  },
  {
   "cell_type": "code",
   "execution_count": 45,
   "metadata": {},
   "outputs": [],
   "source": [
    "# Train_log, Test_log\n",
    "\n",
    "X = transformed_df.iloc[:,:transformed_df.shape[1]-1]\n",
    "Y = transformed_df[\"y\"]\n",
    "\n",
    "logcross_train = np.zeros(k)\n",
    "logcross_test = np.zeros(k)\n",
    "\n",
    "train_log = np.zeros(len(range(limit_a,limit_b)))\n",
    "test_log = np.zeros(len(train_log))\n",
    "\n",
    "for i in range(limit_a,limit_b):\n",
    "    # Para cada parámetro de regularización ...\n",
    "    log = myLogisticRegression(regularization = i)\n",
    "    # ... Realizamos k tomas de diferentes datos de nuestro dataset (k cross validation)    \n",
    "    for j in range(k):\n",
    "        train_x, test_x, train_y, test_y = train_test_split(X,Y,\n",
    "                                                        train_size=0.6663,\n",
    "                                                        random_state = j,\n",
    "                                                        stratify = Y)\n",
    "    \n",
    "        log.fit(train_x,train_y)\n",
    "        logcross_train[j] = 1-log.score(train_x,train_y) # Err de k difer particiones guardadas en un vector\n",
    "        logcross_test[j] = 1-log.score(test_x,test_y)\n",
    "    \n",
    "    train_log[i-limit_a] = np.sum(logcross_train)/len(logcross_train)\n",
    "    test_log[i-limit_a] = np.sum(logcross_test)/len(logcross_test)"
   ]
  },
  {
   "cell_type": "code",
   "execution_count": 46,
   "metadata": {},
   "outputs": [],
   "source": [
    "# Train_binary, Test_binary\n",
    "\n",
    "\n",
    "X = binarized_df.iloc[:,:binarized_df.shape[1]-1]\n",
    "Y = binarized_df[\"y\"]\n",
    "\n",
    "limit_a = 1\n",
    "limit_b = limit_a+30\n",
    "\n",
    "k = 10  # 10-cross validation\n",
    "binarcross_train = np.zeros(k)\n",
    "binarcross_test = np.zeros(k)\n",
    "\n",
    "train_binary = np.zeros(len(range(limit_a,limit_b)))\n",
    "test_binary = np.zeros(len(train_binary))\n",
    "\n",
    "for i in range(limit_a,limit_b):\n",
    "    # Para cada parámetro de regularización ...\n",
    "    binar = myLogisticRegression(regularization = i)\n",
    "    # ... Realizamos k tomas de diferentes datos de nuestro dataset (k cross validation)\n",
    "    for j in range(k): \n",
    "        train_x, test_x, train_y, test_y = train_test_split(X,Y,\n",
    "                                                    train_size=0.6663,\n",
    "                                                    random_state = j,\n",
    "                                                    stratify = Y)\n",
    "        binar.fit(train_x,train_y)\n",
    "        binarcross_train[j] = 1-binar.score(train_x,train_y) # Err de k difer particiones guardadas en un vector\n",
    "        binarcross_test[j] = 1-binar.score(test_x,test_y)\n",
    "    \n",
    "    train_binary[i-limit_a] = np.sum(binarcross_train)/len(binarcross_train) # promedio de esos k errores\n",
    "    test_binary[i-limit_a] = np.sum(binarcross_test)/len(binarcross_test)"
   ]
  },
  {
   "cell_type": "code",
   "execution_count": 47,
   "metadata": {},
   "outputs": [
    {
     "data": {
      "text/html": [
       "<div>\n",
       "<style scoped>\n",
       "    .dataframe tbody tr th:only-of-type {\n",
       "        vertical-align: middle;\n",
       "    }\n",
       "\n",
       "    .dataframe tbody tr th {\n",
       "        vertical-align: top;\n",
       "    }\n",
       "\n",
       "    .dataframe thead th {\n",
       "        text-align: right;\n",
       "    }\n",
       "</style>\n",
       "<table border=\"1\" class=\"dataframe\">\n",
       "  <thead>\n",
       "    <tr style=\"text-align: right;\">\n",
       "      <th></th>\n",
       "      <th>train</th>\n",
       "      <th>test</th>\n",
       "    </tr>\n",
       "  </thead>\n",
       "  <tbody>\n",
       "    <tr>\n",
       "      <td>stnd</td>\n",
       "      <td>0.075726</td>\n",
       "      <td>0.073785</td>\n",
       "    </tr>\n",
       "    <tr>\n",
       "      <td>log</td>\n",
       "      <td>0.054671</td>\n",
       "      <td>0.053016</td>\n",
       "    </tr>\n",
       "    <tr>\n",
       "      <td>binary</td>\n",
       "      <td>0.069984</td>\n",
       "      <td>0.070681</td>\n",
       "    </tr>\n",
       "  </tbody>\n",
       "</table>\n",
       "</div>"
      ],
      "text/plain": [
       "           train      test\n",
       "stnd    0.075726  0.073785\n",
       "log     0.054671  0.053016\n",
       "binary  0.069984  0.070681"
      ]
     },
     "execution_count": 47,
     "metadata": {},
     "output_type": "execute_result"
    }
   ],
   "source": [
    "data = {'train':[train_std_mean,train_log_mean,train_binary_mean], 'test':[test_std_mean,test_log_mean,test_binary_mean]} \n",
    "df_final = pd.DataFrame(data)\n",
    "df_final.index = [\"stnd\",\"log\",\"binary\"]\n",
    "df_final"
   ]
  },
  {
   "cell_type": "code",
   "execution_count": 48,
   "metadata": {},
   "outputs": [
    {
     "data": {
      "text/plain": [
       "<matplotlib.legend.Legend at 0x7f4c8ff66f98>"
      ]
     },
     "execution_count": 48,
     "metadata": {},
     "output_type": "execute_result"
    },
    {
     "data": {
      "image/png": "[encoded data removed]",
      "text/plain": [
       "<Figure size 432x288 with 1 Axes>"
      ]
     },
     "metadata": {
      "needs_background": "light"
     },
     "output_type": "display_data"
    }
   ],
   "source": [
    "plt.plot(a,train_std,\"r\",label=\"Train Stnd\")\n",
    "plt.plot(a,train_log,\"b\",label=\"Train log\",marker=\"o\")\n",
    "plt.plot(a,train_binary,\"g\",label=\"Train binary\")\n",
    "plt.xlabel(\"parámetro de regularización\")\n",
    "plt.ylabel(\"Error rate\")\n",
    "plt.title(\"Cross Validation: error en el set de Training\")\n",
    "plt.legend()"
   ]
  },
  {
   "cell_type": "code",
   "execution_count": 49,
   "metadata": {},
   "outputs": [
    {
     "data": {
      "text/plain": [
       "<matplotlib.legend.Legend at 0x7f4c8ff3c6a0>"
      ]
     },
     "execution_count": 49,
     "metadata": {},
     "output_type": "execute_result"
    },
    {
     "data": {
      "image/png": "[encoded data removed]",
      "text/plain": [
       "<Figure size 432x288 with 1 Axes>"
      ]
     },
     "metadata": {
      "needs_background": "light"
     },
     "output_type": "display_data"
    }
   ],
   "source": [
    "plt.plot(a,test_std,\"r\",label=\"Test stnd\")\n",
    "plt.plot(a,test_log,\"b\",label=\"Test Stnd\",marker=\"o\")\n",
    "plt.plot(a,test_binary,\"g\",label=\"Test Stnd\")\n",
    "plt.xlabel(\"parámetro de regularización\")\n",
    "plt.ylabel(\"Error rate\")\n",
    "plt.title(\"Croos Validation: error en el set de Test\")\n",
    "plt.legend()"
   ]
  },
  {
   "cell_type": "markdown",
   "metadata": {},
   "source": [
    "### Análisis final"
   ]
  },
  {
   "cell_type": "markdown",
   "metadata": {},
   "source": [
    "Es intersante ver tantos puntos de vista para el análisis de una regresión lógistica, partiendo del hecho que para realizar l2 regularization se tuvo que implementar la regresión logística para agregar los parámetros correspondientes, por otra parte al hacer cross validatión nos desapegamos del overfitting y encontramos que usando estas dos técnicas la fiabilidad de nuestro modelo incrementa en fiabilidad.\n",
    "\n",
    "Para no alargar más este análisis podemos ver como en un principio el parámetro propuesto era $\\lambda = 8$ y luego del análisis con cross validation (en nuestro caso 10-cross validation) logramos ver como para el set de training a medida que vamos incrementando el parámetro de regularización aumenta el error sin embargo en el set de test esto no ocurre tan bruscamente (al menos hasta el coeficiente $\\lambda = 30$. Entonces se tiene que analizar los más bajos y en las 6 lineas (3 de training y 3 de test) se puede ver la orientación **a más alto el valor del parámetro de regularización más alto error** por lo que podemos decir que el parámetro de regularización se encuentra entre algun valor menor a 10.\n",
    "\n",
    "Si tenemos consideración de las 12 lineas (6 sin cross validation, 6  con cross validation: training y test set) podemos darnos cuenta que elegir un $\\lambda = {7,8}$ nos servirá muy bien para realizar predicciones, en la mayoria de datasets y sin importar el tratamiento de dato elegido"
   ]
  }
 ],
 "metadata": {
  "kernelspec": {
   "display_name": "Python 3",
   "language": "python",
   "name": "python3"
  },
  "language_info": {
   "codemirror_mode": {
    "name": "ipython",
    "version": 3
   },
   "file_extension": ".py",
   "mimetype": "text/x-python",
   "name": "python",
   "nbconvert_exporter": "python",
   "pygments_lexer": "ipython3",
   "version": "3.6.8"
  }
 },
 "nbformat": 4,
 "nbformat_minor": 2
}
