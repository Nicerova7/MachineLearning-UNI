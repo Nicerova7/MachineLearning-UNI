{
 "cells": [
  {
   "cell_type": "markdown",
   "metadata": {},
   "source": [
    "# Ejercicio 3\n",
    "\n",
    "### Regresión lineal múltiple para grandes conjunto de datos."
   ]
  },
  {
   "cell_type": "markdown",
   "metadata": {},
   "source": [
    "En base al link dado en el problema (http://lib.stat.cmu.edu/datasets/bodyfat) podemos conocer un poco más de nuestro marco de datos por ejemplo en esta ocasión tenemos las siguientes variables de izquierda a derecha:\n",
    "\n",
    "   * Density determined from underwater weighing\n",
    "   * Percent body fat from Siri's (1956) equation\n",
    "   * Age (years)\n",
    "   * Weight (lbs)\n",
    "   * Height (inches)\n",
    "   * Neck circumference (cm)\n",
    "   * Chest circumference (cm)\n",
    "   * Abdomen 2 circumference (cm)\n",
    "   * Hip circumference (cm)\n",
    "   * Thigh circumference (cm)\n",
    "   * Knee circumference (cm)\n",
    "   * Ankle circumference (cm)\n",
    "   * Biceps (extended) circumference (cm)\n",
    "   * Forearm circumference (cm)\n",
    "   * Wrist circumference (cm)"
   ]
  },
  {
   "cell_type": "code",
   "execution_count": 1,
   "metadata": {},
   "outputs": [],
   "source": [
    "import pandas as pd\n",
    "import numpy as np\n",
    "import matplotlib.pyplot as plt"
   ]
  },
  {
   "cell_type": "code",
   "execution_count": 2,
   "metadata": {},
   "outputs": [
    {
     "data": {
      "text/html": [
       "<div>\n",
       "<style scoped>\n",
       "    .dataframe tbody tr th:only-of-type {\n",
       "        vertical-align: middle;\n",
       "    }\n",
       "\n",
       "    .dataframe tbody tr th {\n",
       "        vertical-align: top;\n",
       "    }\n",
       "\n",
       "    .dataframe thead th {\n",
       "        text-align: right;\n",
       "    }\n",
       "</style>\n",
       "<table border=\"1\" class=\"dataframe\">\n",
       "  <thead>\n",
       "    <tr style=\"text-align: right;\">\n",
       "      <th></th>\n",
       "      <th>density</th>\n",
       "      <th>percent_bodyfat</th>\n",
       "      <th>age</th>\n",
       "      <th>weight</th>\n",
       "      <th>height</th>\n",
       "      <th>neck_circumf</th>\n",
       "      <th>chest_circumf</th>\n",
       "      <th>abdomen2_circumf</th>\n",
       "      <th>hip_circumf</th>\n",
       "      <th>thigh_circumf</th>\n",
       "      <th>knee_circumf</th>\n",
       "      <th>ankle_circumf</th>\n",
       "      <th>biceps_circumf</th>\n",
       "      <th>forearm_circumf</th>\n",
       "      <th>wrist_circumf</th>\n",
       "    </tr>\n",
       "  </thead>\n",
       "  <tbody>\n",
       "    <tr>\n",
       "      <td>0</td>\n",
       "      <td>1.0708</td>\n",
       "      <td>12.300000</td>\n",
       "      <td>23</td>\n",
       "      <td>154.25</td>\n",
       "      <td>67.75</td>\n",
       "      <td>36.200001</td>\n",
       "      <td>93.099998</td>\n",
       "      <td>85.199997</td>\n",
       "      <td>94.500000</td>\n",
       "      <td>59.000000</td>\n",
       "      <td>37.299999</td>\n",
       "      <td>21.900000</td>\n",
       "      <td>32.000000</td>\n",
       "      <td>27.400000</td>\n",
       "      <td>17.100000</td>\n",
       "    </tr>\n",
       "    <tr>\n",
       "      <td>1</td>\n",
       "      <td>1.0853</td>\n",
       "      <td>6.100000</td>\n",
       "      <td>22</td>\n",
       "      <td>173.25</td>\n",
       "      <td>72.25</td>\n",
       "      <td>38.500000</td>\n",
       "      <td>93.599998</td>\n",
       "      <td>83.000000</td>\n",
       "      <td>98.699997</td>\n",
       "      <td>58.700001</td>\n",
       "      <td>37.299999</td>\n",
       "      <td>23.400000</td>\n",
       "      <td>30.500000</td>\n",
       "      <td>28.900000</td>\n",
       "      <td>18.200001</td>\n",
       "    </tr>\n",
       "    <tr>\n",
       "      <td>2</td>\n",
       "      <td>1.0414</td>\n",
       "      <td>25.299999</td>\n",
       "      <td>22</td>\n",
       "      <td>154.00</td>\n",
       "      <td>66.25</td>\n",
       "      <td>34.000000</td>\n",
       "      <td>95.800003</td>\n",
       "      <td>87.900002</td>\n",
       "      <td>99.199997</td>\n",
       "      <td>59.599998</td>\n",
       "      <td>38.900002</td>\n",
       "      <td>24.000000</td>\n",
       "      <td>28.799999</td>\n",
       "      <td>25.200001</td>\n",
       "      <td>16.600000</td>\n",
       "    </tr>\n",
       "    <tr>\n",
       "      <td>3</td>\n",
       "      <td>1.0751</td>\n",
       "      <td>10.400000</td>\n",
       "      <td>26</td>\n",
       "      <td>184.75</td>\n",
       "      <td>72.25</td>\n",
       "      <td>37.400002</td>\n",
       "      <td>101.800003</td>\n",
       "      <td>86.400002</td>\n",
       "      <td>101.199997</td>\n",
       "      <td>60.099998</td>\n",
       "      <td>37.299999</td>\n",
       "      <td>22.799999</td>\n",
       "      <td>32.400002</td>\n",
       "      <td>29.400000</td>\n",
       "      <td>18.200001</td>\n",
       "    </tr>\n",
       "    <tr>\n",
       "      <td>4</td>\n",
       "      <td>1.0340</td>\n",
       "      <td>28.700001</td>\n",
       "      <td>24</td>\n",
       "      <td>184.25</td>\n",
       "      <td>71.25</td>\n",
       "      <td>34.400002</td>\n",
       "      <td>97.300003</td>\n",
       "      <td>100.000000</td>\n",
       "      <td>101.900002</td>\n",
       "      <td>63.200001</td>\n",
       "      <td>42.200001</td>\n",
       "      <td>24.000000</td>\n",
       "      <td>32.200001</td>\n",
       "      <td>27.700001</td>\n",
       "      <td>17.700001</td>\n",
       "    </tr>\n",
       "  </tbody>\n",
       "</table>\n",
       "</div>"
      ],
      "text/plain": [
       "   density  percent_bodyfat  age  weight  height  neck_circumf  chest_circumf  \\\n",
       "0   1.0708        12.300000   23  154.25   67.75     36.200001      93.099998   \n",
       "1   1.0853         6.100000   22  173.25   72.25     38.500000      93.599998   \n",
       "2   1.0414        25.299999   22  154.00   66.25     34.000000      95.800003   \n",
       "3   1.0751        10.400000   26  184.75   72.25     37.400002     101.800003   \n",
       "4   1.0340        28.700001   24  184.25   71.25     34.400002      97.300003   \n",
       "\n",
       "   abdomen2_circumf  hip_circumf  thigh_circumf  knee_circumf  ankle_circumf  \\\n",
       "0         85.199997    94.500000      59.000000     37.299999      21.900000   \n",
       "1         83.000000    98.699997      58.700001     37.299999      23.400000   \n",
       "2         87.900002    99.199997      59.599998     38.900002      24.000000   \n",
       "3         86.400002   101.199997      60.099998     37.299999      22.799999   \n",
       "4        100.000000   101.900002      63.200001     42.200001      24.000000   \n",
       "\n",
       "   biceps_circumf  forearm_circumf  wrist_circumf  \n",
       "0       32.000000        27.400000      17.100000  \n",
       "1       30.500000        28.900000      18.200001  \n",
       "2       28.799999        25.200001      16.600000  \n",
       "3       32.400002        29.400000      18.200001  \n",
       "4       32.200001        27.700001      17.700001  "
      ]
     },
     "execution_count": 2,
     "metadata": {},
     "output_type": "execute_result"
    }
   ],
   "source": [
    "df = pd.read_csv(\"bodyfat.csv\")\n",
    "df.head()"
   ]
  },
  {
   "cell_type": "markdown",
   "metadata": {},
   "source": [
    "Aqui tenemos que tomar en cuenta la información brindada por el ejercició que nos indica que el valor esperado es percent bodyfat (variable dependiente) y los demas serán las variables independientes."
   ]
  },
  {
   "cell_type": "markdown",
   "metadata": {},
   "source": [
    "## Preprocesando la data"
   ]
  },
  {
   "cell_type": "markdown",
   "metadata": {},
   "source": [
    "Observamos los nombres de las columnas. Esto es muy importante ya que podemos obtener datasets con columnas que poseen nombres con espacios no deseados, por ejemplo \"age \" en vez de \"age\""
   ]
  },
  {
   "cell_type": "code",
   "execution_count": 3,
   "metadata": {},
   "outputs": [
    {
     "data": {
      "text/plain": [
       "['density',\n",
       " 'percent_bodyfat',\n",
       " 'age',\n",
       " 'weight',\n",
       " 'height',\n",
       " 'neck_circumf',\n",
       " 'chest_circumf',\n",
       " 'abdomen2_circumf',\n",
       " 'hip_circumf',\n",
       " 'thigh_circumf',\n",
       " 'knee_circumf',\n",
       " 'ankle_circumf',\n",
       " 'biceps_circumf',\n",
       " 'forearm_circumf',\n",
       " 'wrist_circumf']"
      ]
     },
     "execution_count": 3,
     "metadata": {},
     "output_type": "execute_result"
    }
   ],
   "source": [
    "df.columns.values.tolist()"
   ]
  },
  {
   "cell_type": "markdown",
   "metadata": {},
   "source": [
    "### Limpieza de datos"
   ]
  },
  {
   "cell_type": "code",
   "execution_count": 4,
   "metadata": {},
   "outputs": [
    {
     "data": {
      "text/plain": [
       "density             0\n",
       "percent_bodyfat     0\n",
       "age                 0\n",
       "weight              0\n",
       "height              0\n",
       "neck_circumf        0\n",
       "chest_circumf       0\n",
       "abdomen2_circumf    0\n",
       "hip_circumf         0\n",
       "thigh_circumf       0\n",
       "knee_circumf        0\n",
       "ankle_circumf       0\n",
       "biceps_circumf      0\n",
       "forearm_circumf     0\n",
       "wrist_circumf       0\n",
       "dtype: int64"
      ]
     },
     "execution_count": 4,
     "metadata": {},
     "output_type": "execute_result"
    }
   ],
   "source": [
    "df.isna().sum()"
   ]
  },
  {
   "cell_type": "markdown",
   "metadata": {},
   "source": [
    "Una vez realizado nuestro pre-procesamiento de los datos del marco de datos, podemos continuar con el análisis de los datos para conseguir un buen modelo."
   ]
  },
  {
   "cell_type": "markdown",
   "metadata": {},
   "source": [
    "### Análisis del marco de datos"
   ]
  },
  {
   "cell_type": "markdown",
   "metadata": {},
   "source": [
    "Si queremos ver que variables aportan más o menos a nuestro modelo y por ende podemos agregar o quitarlo en el análisis primero veremos la correlación que existe entre estos parametros."
   ]
  },
  {
   "cell_type": "code",
   "execution_count": 5,
   "metadata": {},
   "outputs": [
    {
     "data": {
      "text/html": [
       "<div>\n",
       "<style scoped>\n",
       "    .dataframe tbody tr th:only-of-type {\n",
       "        vertical-align: middle;\n",
       "    }\n",
       "\n",
       "    .dataframe tbody tr th {\n",
       "        vertical-align: top;\n",
       "    }\n",
       "\n",
       "    .dataframe thead th {\n",
       "        text-align: right;\n",
       "    }\n",
       "</style>\n",
       "<table border=\"1\" class=\"dataframe\">\n",
       "  <thead>\n",
       "    <tr style=\"text-align: right;\">\n",
       "      <th></th>\n",
       "      <th>density</th>\n",
       "      <th>percent_bodyfat</th>\n",
       "      <th>age</th>\n",
       "      <th>weight</th>\n",
       "      <th>height</th>\n",
       "      <th>neck_circumf</th>\n",
       "      <th>chest_circumf</th>\n",
       "      <th>abdomen2_circumf</th>\n",
       "      <th>hip_circumf</th>\n",
       "      <th>thigh_circumf</th>\n",
       "      <th>knee_circumf</th>\n",
       "      <th>ankle_circumf</th>\n",
       "      <th>biceps_circumf</th>\n",
       "      <th>forearm_circumf</th>\n",
       "      <th>wrist_circumf</th>\n",
       "    </tr>\n",
       "  </thead>\n",
       "  <tbody>\n",
       "    <tr>\n",
       "      <td>density</td>\n",
       "      <td>1.000000</td>\n",
       "      <td>-0.987782</td>\n",
       "      <td>-0.277637</td>\n",
       "      <td>-0.594062</td>\n",
       "      <td>0.097881</td>\n",
       "      <td>-0.472967</td>\n",
       "      <td>-0.682599</td>\n",
       "      <td>-0.798955</td>\n",
       "      <td>-0.609332</td>\n",
       "      <td>-0.553091</td>\n",
       "      <td>-0.495041</td>\n",
       "      <td>-0.264890</td>\n",
       "      <td>-0.487109</td>\n",
       "      <td>-0.351648</td>\n",
       "      <td>-0.325716</td>\n",
       "    </tr>\n",
       "    <tr>\n",
       "      <td>percent_bodyfat</td>\n",
       "      <td>-0.987782</td>\n",
       "      <td>1.000000</td>\n",
       "      <td>0.291458</td>\n",
       "      <td>0.612414</td>\n",
       "      <td>-0.089495</td>\n",
       "      <td>0.490592</td>\n",
       "      <td>0.702620</td>\n",
       "      <td>0.813432</td>\n",
       "      <td>0.625201</td>\n",
       "      <td>0.559608</td>\n",
       "      <td>0.508665</td>\n",
       "      <td>0.265970</td>\n",
       "      <td>0.493271</td>\n",
       "      <td>0.361387</td>\n",
       "      <td>0.346575</td>\n",
       "    </tr>\n",
       "    <tr>\n",
       "      <td>age</td>\n",
       "      <td>-0.277637</td>\n",
       "      <td>0.291458</td>\n",
       "      <td>1.000000</td>\n",
       "      <td>-0.012746</td>\n",
       "      <td>-0.171645</td>\n",
       "      <td>0.113505</td>\n",
       "      <td>0.176450</td>\n",
       "      <td>0.230409</td>\n",
       "      <td>-0.050332</td>\n",
       "      <td>-0.200096</td>\n",
       "      <td>0.017516</td>\n",
       "      <td>-0.105058</td>\n",
       "      <td>-0.041162</td>\n",
       "      <td>-0.085056</td>\n",
       "      <td>0.213531</td>\n",
       "    </tr>\n",
       "    <tr>\n",
       "      <td>weight</td>\n",
       "      <td>-0.594062</td>\n",
       "      <td>0.612414</td>\n",
       "      <td>-0.012746</td>\n",
       "      <td>1.000000</td>\n",
       "      <td>0.308279</td>\n",
       "      <td>0.830716</td>\n",
       "      <td>0.894190</td>\n",
       "      <td>0.887995</td>\n",
       "      <td>0.940884</td>\n",
       "      <td>0.868694</td>\n",
       "      <td>0.853167</td>\n",
       "      <td>0.613685</td>\n",
       "      <td>0.800416</td>\n",
       "      <td>0.630301</td>\n",
       "      <td>0.729775</td>\n",
       "    </tr>\n",
       "    <tr>\n",
       "      <td>height</td>\n",
       "      <td>0.097881</td>\n",
       "      <td>-0.089495</td>\n",
       "      <td>-0.171645</td>\n",
       "      <td>0.308279</td>\n",
       "      <td>1.000000</td>\n",
       "      <td>0.253710</td>\n",
       "      <td>0.134892</td>\n",
       "      <td>0.087813</td>\n",
       "      <td>0.170394</td>\n",
       "      <td>0.148436</td>\n",
       "      <td>0.286053</td>\n",
       "      <td>0.264744</td>\n",
       "      <td>0.207816</td>\n",
       "      <td>0.228649</td>\n",
       "      <td>0.322065</td>\n",
       "    </tr>\n",
       "    <tr>\n",
       "      <td>neck_circumf</td>\n",
       "      <td>-0.472967</td>\n",
       "      <td>0.490592</td>\n",
       "      <td>0.113505</td>\n",
       "      <td>0.830716</td>\n",
       "      <td>0.253710</td>\n",
       "      <td>1.000000</td>\n",
       "      <td>0.784835</td>\n",
       "      <td>0.754077</td>\n",
       "      <td>0.734958</td>\n",
       "      <td>0.695697</td>\n",
       "      <td>0.672405</td>\n",
       "      <td>0.477892</td>\n",
       "      <td>0.731146</td>\n",
       "      <td>0.623660</td>\n",
       "      <td>0.744826</td>\n",
       "    </tr>\n",
       "    <tr>\n",
       "      <td>chest_circumf</td>\n",
       "      <td>-0.682599</td>\n",
       "      <td>0.702620</td>\n",
       "      <td>0.176450</td>\n",
       "      <td>0.894190</td>\n",
       "      <td>0.134892</td>\n",
       "      <td>0.784835</td>\n",
       "      <td>1.000000</td>\n",
       "      <td>0.915828</td>\n",
       "      <td>0.829420</td>\n",
       "      <td>0.729859</td>\n",
       "      <td>0.719496</td>\n",
       "      <td>0.482988</td>\n",
       "      <td>0.727907</td>\n",
       "      <td>0.580173</td>\n",
       "      <td>0.660162</td>\n",
       "    </tr>\n",
       "    <tr>\n",
       "      <td>abdomen2_circumf</td>\n",
       "      <td>-0.798955</td>\n",
       "      <td>0.813432</td>\n",
       "      <td>0.230409</td>\n",
       "      <td>0.887995</td>\n",
       "      <td>0.087813</td>\n",
       "      <td>0.754077</td>\n",
       "      <td>0.915828</td>\n",
       "      <td>1.000000</td>\n",
       "      <td>0.874066</td>\n",
       "      <td>0.766624</td>\n",
       "      <td>0.737179</td>\n",
       "      <td>0.453223</td>\n",
       "      <td>0.684983</td>\n",
       "      <td>0.503316</td>\n",
       "      <td>0.619832</td>\n",
       "    </tr>\n",
       "    <tr>\n",
       "      <td>hip_circumf</td>\n",
       "      <td>-0.609332</td>\n",
       "      <td>0.625201</td>\n",
       "      <td>-0.050332</td>\n",
       "      <td>0.940884</td>\n",
       "      <td>0.170394</td>\n",
       "      <td>0.734958</td>\n",
       "      <td>0.829420</td>\n",
       "      <td>0.874066</td>\n",
       "      <td>1.000000</td>\n",
       "      <td>0.896410</td>\n",
       "      <td>0.823473</td>\n",
       "      <td>0.558387</td>\n",
       "      <td>0.739273</td>\n",
       "      <td>0.545014</td>\n",
       "      <td>0.630090</td>\n",
       "    </tr>\n",
       "    <tr>\n",
       "      <td>thigh_circumf</td>\n",
       "      <td>-0.553091</td>\n",
       "      <td>0.559608</td>\n",
       "      <td>-0.200096</td>\n",
       "      <td>0.868694</td>\n",
       "      <td>0.148436</td>\n",
       "      <td>0.695697</td>\n",
       "      <td>0.729859</td>\n",
       "      <td>0.766624</td>\n",
       "      <td>0.896410</td>\n",
       "      <td>1.000000</td>\n",
       "      <td>0.799170</td>\n",
       "      <td>0.539797</td>\n",
       "      <td>0.761477</td>\n",
       "      <td>0.566842</td>\n",
       "      <td>0.558685</td>\n",
       "    </tr>\n",
       "    <tr>\n",
       "      <td>knee_circumf</td>\n",
       "      <td>-0.495041</td>\n",
       "      <td>0.508665</td>\n",
       "      <td>0.017516</td>\n",
       "      <td>0.853167</td>\n",
       "      <td>0.286053</td>\n",
       "      <td>0.672405</td>\n",
       "      <td>0.719496</td>\n",
       "      <td>0.737179</td>\n",
       "      <td>0.823473</td>\n",
       "      <td>0.799170</td>\n",
       "      <td>1.000000</td>\n",
       "      <td>0.611608</td>\n",
       "      <td>0.678709</td>\n",
       "      <td>0.555898</td>\n",
       "      <td>0.664507</td>\n",
       "    </tr>\n",
       "    <tr>\n",
       "      <td>ankle_circumf</td>\n",
       "      <td>-0.264890</td>\n",
       "      <td>0.265970</td>\n",
       "      <td>-0.105058</td>\n",
       "      <td>0.613685</td>\n",
       "      <td>0.264744</td>\n",
       "      <td>0.477892</td>\n",
       "      <td>0.482988</td>\n",
       "      <td>0.453223</td>\n",
       "      <td>0.558387</td>\n",
       "      <td>0.539797</td>\n",
       "      <td>0.611608</td>\n",
       "      <td>1.000000</td>\n",
       "      <td>0.484855</td>\n",
       "      <td>0.419050</td>\n",
       "      <td>0.566195</td>\n",
       "    </tr>\n",
       "    <tr>\n",
       "      <td>biceps_circumf</td>\n",
       "      <td>-0.487109</td>\n",
       "      <td>0.493271</td>\n",
       "      <td>-0.041162</td>\n",
       "      <td>0.800416</td>\n",
       "      <td>0.207816</td>\n",
       "      <td>0.731146</td>\n",
       "      <td>0.727907</td>\n",
       "      <td>0.684983</td>\n",
       "      <td>0.739273</td>\n",
       "      <td>0.761477</td>\n",
       "      <td>0.678709</td>\n",
       "      <td>0.484855</td>\n",
       "      <td>1.000000</td>\n",
       "      <td>0.678255</td>\n",
       "      <td>0.632126</td>\n",
       "    </tr>\n",
       "    <tr>\n",
       "      <td>forearm_circumf</td>\n",
       "      <td>-0.351648</td>\n",
       "      <td>0.361387</td>\n",
       "      <td>-0.085056</td>\n",
       "      <td>0.630301</td>\n",
       "      <td>0.228649</td>\n",
       "      <td>0.623660</td>\n",
       "      <td>0.580173</td>\n",
       "      <td>0.503316</td>\n",
       "      <td>0.545014</td>\n",
       "      <td>0.566842</td>\n",
       "      <td>0.555898</td>\n",
       "      <td>0.419050</td>\n",
       "      <td>0.678255</td>\n",
       "      <td>1.000000</td>\n",
       "      <td>0.585588</td>\n",
       "    </tr>\n",
       "    <tr>\n",
       "      <td>wrist_circumf</td>\n",
       "      <td>-0.325716</td>\n",
       "      <td>0.346575</td>\n",
       "      <td>0.213531</td>\n",
       "      <td>0.729775</td>\n",
       "      <td>0.322065</td>\n",
       "      <td>0.744826</td>\n",
       "      <td>0.660162</td>\n",
       "      <td>0.619832</td>\n",
       "      <td>0.630090</td>\n",
       "      <td>0.558685</td>\n",
       "      <td>0.664507</td>\n",
       "      <td>0.566195</td>\n",
       "      <td>0.632126</td>\n",
       "      <td>0.585588</td>\n",
       "      <td>1.000000</td>\n",
       "    </tr>\n",
       "  </tbody>\n",
       "</table>\n",
       "</div>"
      ],
      "text/plain": [
       "                   density  percent_bodyfat       age    weight    height  \\\n",
       "density           1.000000        -0.987782 -0.277637 -0.594062  0.097881   \n",
       "percent_bodyfat  -0.987782         1.000000  0.291458  0.612414 -0.089495   \n",
       "age              -0.277637         0.291458  1.000000 -0.012746 -0.171645   \n",
       "weight           -0.594062         0.612414 -0.012746  1.000000  0.308279   \n",
       "height            0.097881        -0.089495 -0.171645  0.308279  1.000000   \n",
       "neck_circumf     -0.472967         0.490592  0.113505  0.830716  0.253710   \n",
       "chest_circumf    -0.682599         0.702620  0.176450  0.894190  0.134892   \n",
       "abdomen2_circumf -0.798955         0.813432  0.230409  0.887995  0.087813   \n",
       "hip_circumf      -0.609332         0.625201 -0.050332  0.940884  0.170394   \n",
       "thigh_circumf    -0.553091         0.559608 -0.200096  0.868694  0.148436   \n",
       "knee_circumf     -0.495041         0.508665  0.017516  0.853167  0.286053   \n",
       "ankle_circumf    -0.264890         0.265970 -0.105058  0.613685  0.264744   \n",
       "biceps_circumf   -0.487109         0.493271 -0.041162  0.800416  0.207816   \n",
       "forearm_circumf  -0.351648         0.361387 -0.085056  0.630301  0.228649   \n",
       "wrist_circumf    -0.325716         0.346575  0.213531  0.729775  0.322065   \n",
       "\n",
       "                  neck_circumf  chest_circumf  abdomen2_circumf  hip_circumf  \\\n",
       "density              -0.472967      -0.682599         -0.798955    -0.609332   \n",
       "percent_bodyfat       0.490592       0.702620          0.813432     0.625201   \n",
       "age                   0.113505       0.176450          0.230409    -0.050332   \n",
       "weight                0.830716       0.894190          0.887995     0.940884   \n",
       "height                0.253710       0.134892          0.087813     0.170394   \n",
       "neck_circumf          1.000000       0.784835          0.754077     0.734958   \n",
       "chest_circumf         0.784835       1.000000          0.915828     0.829420   \n",
       "abdomen2_circumf      0.754077       0.915828          1.000000     0.874066   \n",
       "hip_circumf           0.734958       0.829420          0.874066     1.000000   \n",
       "thigh_circumf         0.695697       0.729859          0.766624     0.896410   \n",
       "knee_circumf          0.672405       0.719496          0.737179     0.823473   \n",
       "ankle_circumf         0.477892       0.482988          0.453223     0.558387   \n",
       "biceps_circumf        0.731146       0.727907          0.684983     0.739273   \n",
       "forearm_circumf       0.623660       0.580173          0.503316     0.545014   \n",
       "wrist_circumf         0.744826       0.660162          0.619832     0.630090   \n",
       "\n",
       "                  thigh_circumf  knee_circumf  ankle_circumf  biceps_circumf  \\\n",
       "density               -0.553091     -0.495041      -0.264890       -0.487109   \n",
       "percent_bodyfat        0.559608      0.508665       0.265970        0.493271   \n",
       "age                   -0.200096      0.017516      -0.105058       -0.041162   \n",
       "weight                 0.868694      0.853167       0.613685        0.800416   \n",
       "height                 0.148436      0.286053       0.264744        0.207816   \n",
       "neck_circumf           0.695697      0.672405       0.477892        0.731146   \n",
       "chest_circumf          0.729859      0.719496       0.482988        0.727907   \n",
       "abdomen2_circumf       0.766624      0.737179       0.453223        0.684983   \n",
       "hip_circumf            0.896410      0.823473       0.558387        0.739273   \n",
       "thigh_circumf          1.000000      0.799170       0.539797        0.761477   \n",
       "knee_circumf           0.799170      1.000000       0.611608        0.678709   \n",
       "ankle_circumf          0.539797      0.611608       1.000000        0.484855   \n",
       "biceps_circumf         0.761477      0.678709       0.484855        1.000000   \n",
       "forearm_circumf        0.566842      0.555898       0.419050        0.678255   \n",
       "wrist_circumf          0.558685      0.664507       0.566195        0.632126   \n",
       "\n",
       "                  forearm_circumf  wrist_circumf  \n",
       "density                 -0.351648      -0.325716  \n",
       "percent_bodyfat          0.361387       0.346575  \n",
       "age                     -0.085056       0.213531  \n",
       "weight                   0.630301       0.729775  \n",
       "height                   0.228649       0.322065  \n",
       "neck_circumf             0.623660       0.744826  \n",
       "chest_circumf            0.580173       0.660162  \n",
       "abdomen2_circumf         0.503316       0.619832  \n",
       "hip_circumf              0.545014       0.630090  \n",
       "thigh_circumf            0.566842       0.558685  \n",
       "knee_circumf             0.555898       0.664507  \n",
       "ankle_circumf            0.419050       0.566195  \n",
       "biceps_circumf           0.678255       0.632126  \n",
       "forearm_circumf          1.000000       0.585588  \n",
       "wrist_circumf            0.585588       1.000000  "
      ]
     },
     "execution_count": 5,
     "metadata": {},
     "output_type": "execute_result"
    }
   ],
   "source": [
    "df.corr()"
   ]
  },
  {
   "cell_type": "markdown",
   "metadata": {},
   "source": [
    "Recordemos que una correlación positiva indica que las dos variables están relacionadas directamente y caso contrario indirectamente.\n",
    "También recordemos que una correlación cercana a 1 indica una fuerte correlación.\n",
    "Como tenemos muchas variables es más conveniente verlo gráficamente por lo que tenemos lo siguiente:"
   ]
  },
  {
   "cell_type": "markdown",
   "metadata": {},
   "source": [
    "#### Visualización de la correlación entre las variables"
   ]
  },
  {
   "cell_type": "code",
   "execution_count": 6,
   "metadata": {},
   "outputs": [
    {
     "data": {
      "text/plain": [
       "<matplotlib.image.AxesImage at 0x7faa2eac2dd8>"
      ]
     },
     "execution_count": 6,
     "metadata": {},
     "output_type": "execute_result"
    },
    {
     "data": {
      "image/png": "[encoded data removed]",
      "text/plain": [
       "<Figure size 288x288 with 1 Axes>"
      ]
     },
     "metadata": {
      "needs_background": "light"
     },
     "output_type": "display_data"
    }
   ],
   "source": [
    "plt.matshow(df.corr())"
   ]
  },
  {
   "cell_type": "markdown",
   "metadata": {},
   "source": [
    "En donde los valores más claros indican una fuerte correlación y los valores más oscuros una correlación baja.\n",
    "\n",
    "**Nota**: Los cuadrados amarillos indican una correlación igual a uno ya que se refiere a la correlación de una variable consigo misma."
   ]
  },
  {
   "cell_type": "markdown",
   "metadata": {},
   "source": [
    "Como podemos ver cuando existe baja correlación no se aprecia bien el direccionamiento lineal de la variable predictora con la variable dependiente."
   ]
  },
  {
   "cell_type": "code",
   "execution_count": 7,
   "metadata": {},
   "outputs": [
    {
     "data": {
      "text/plain": [
       "Text(0.5, 1.0, 'relacion tobillo(ankle) - porcentaje cuerpograso(bodyfat)')"
      ]
     },
     "execution_count": 7,
     "metadata": {},
     "output_type": "execute_result"
    },
    {
     "data": {
      "image/png": "[encoded data removed]",
      "text/plain": [
       "<Figure size 432x288 with 1 Axes>"
      ]
     },
     "metadata": {
      "needs_background": "light"
     },
     "output_type": "display_data"
    }
   ],
   "source": [
    "plt.plot(df[\"ankle_circumf\"],df[\"percent_bodyfat\"], 'ro')\n",
    "plt.title(\"relacion tobillo(ankle) - porcentaje cuerpograso(bodyfat)\")"
   ]
  },
  {
   "cell_type": "markdown",
   "metadata": {},
   "source": [
    "Caso contrario cuando si existe correlación se aprecia claramente la tendencia lineal..."
   ]
  },
  {
   "cell_type": "code",
   "execution_count": 8,
   "metadata": {},
   "outputs": [
    {
     "data": {
      "text/plain": [
       "[<matplotlib.lines.Line2D at 0x7faa2e3110b8>]"
      ]
     },
     "execution_count": 8,
     "metadata": {},
     "output_type": "execute_result"
    },
    {
     "data": {
      "image/png": "[encoded data removed]",
      "text/plain": [
       "<Figure size 432x288 with 1 Axes>"
      ]
     },
     "metadata": {
      "needs_background": "light"
     },
     "output_type": "display_data"
    }
   ],
   "source": [
    "plt.plot(df[\"abdomen2_circumf\"],df[\"percent_bodyfat\"], 'bo')"
   ]
  },
  {
   "cell_type": "code",
   "execution_count": 9,
   "metadata": {},
   "outputs": [
    {
     "data": {
      "text/plain": [
       "[<matplotlib.lines.Line2D at 0x7faa2e2e4c18>]"
      ]
     },
     "execution_count": 9,
     "metadata": {},
     "output_type": "execute_result"
    },
    {
     "data": {
      "image/png": "[encoded data removed]",
      "text/plain": [
       "<Figure size 432x288 with 1 Axes>"
      ]
     },
     "metadata": {
      "needs_background": "light"
     },
     "output_type": "display_data"
    }
   ],
   "source": [
    "plt.plot(df[\"wrist_circumf\"],df[\"percent_bodyfat\"],'go')"
   ]
  },
  {
   "cell_type": "markdown",
   "metadata": {},
   "source": [
    "### P-valores\n",
    "\n",
    "Como no solo la correlación ayudará a definir que variables o no ponemos en nuestro modelo, usaremos los p-valores que por estadística inferencial se sabe que a menor p-valor existira gran probabilidad de que la variable intervenga en nuestro modelo drásticamente."
   ]
  },
  {
   "cell_type": "code",
   "execution_count": 10,
   "metadata": {},
   "outputs": [],
   "source": [
    "import statsmodels.formula.api as smf"
   ]
  },
  {
   "cell_type": "markdown",
   "metadata": {},
   "source": [
    "*Nota:* Cuando usamos la librería statsmodels no podemos poner nombres con espacios como \"percent bodyfat\""
   ]
  },
  {
   "cell_type": "code",
   "execution_count": 11,
   "metadata": {},
   "outputs": [],
   "source": [
    "lm = smf.ols(formula=\"percent_bodyfat~age+weight+height+neck_circumf+chest_circumf+abdomen2_circumf+hip_circumf+thigh_circumf+knee_circumf+ankle_circumf+biceps_circumf+forearm_circumf+wrist_circumf\",\n",
    "              data=df).fit()"
   ]
  },
  {
   "cell_type": "code",
   "execution_count": 12,
   "metadata": {},
   "outputs": [
    {
     "data": {
      "text/plain": [
       "Intercept           2.955106e-01\n",
       "age                 5.617576e-02\n",
       "weight              9.977479e-02\n",
       "height              4.692550e-01\n",
       "neck_circumf        4.404900e-02\n",
       "chest_circumf       8.099996e-01\n",
       "abdomen2_circumf    3.633490e-23\n",
       "hip_circumf         1.562233e-01\n",
       "thigh_circumf       1.032622e-01\n",
       "knee_circumf        9.496987e-01\n",
       "ankle_circumf       4.328524e-01\n",
       "biceps_circumf      2.896632e-01\n",
       "forearm_circumf     2.410188e-02\n",
       "wrist_circumf       2.719508e-03\n",
       "dtype: float64"
      ]
     },
     "execution_count": 12,
     "metadata": {},
     "output_type": "execute_result"
    }
   ],
   "source": [
    "lm.pvalues"
   ]
  },
  {
   "cell_type": "markdown",
   "metadata": {},
   "source": [
    "Observamos como el p-valor de abdomen2_circumf es el más bajo de todos es decir que influirá muy fuertemente en nuestro modelo y que si o si deberá estar presente en nuestro análisis, el siguiente más bajo es wrist_circumf por lo que también esta fuertemente ligado al modelo."
   ]
  },
  {
   "cell_type": "code",
   "execution_count": 13,
   "metadata": {},
   "outputs": [
    {
     "data": {
      "text/html": [
       "<table class=\"simpletable\">\n",
       "<caption>OLS Regression Results</caption>\n",
       "<tr>\n",
       "  <th>Dep. Variable:</th>     <td>percent_bodyfat</td> <th>  R-squared:         </th> <td>   0.749</td>\n",
       "</tr>\n",
       "<tr>\n",
       "  <th>Model:</th>                   <td>OLS</td>       <th>  Adj. R-squared:    </th> <td>   0.735</td>\n",
       "</tr>\n",
       "<tr>\n",
       "  <th>Method:</th>             <td>Least Squares</td>  <th>  F-statistic:       </th> <td>   54.65</td>\n",
       "</tr>\n",
       "<tr>\n",
       "  <th>Date:</th>             <td>Sun, 22 Sep 2019</td> <th>  Prob (F-statistic):</th> <td>7.72e-64</td>\n",
       "</tr>\n",
       "<tr>\n",
       "  <th>Time:</th>                 <td>14:21:59</td>     <th>  Log-Likelihood:    </th> <td> -718.25</td>\n",
       "</tr>\n",
       "<tr>\n",
       "  <th>No. Observations:</th>      <td>   252</td>      <th>  AIC:               </th> <td>   1465.</td>\n",
       "</tr>\n",
       "<tr>\n",
       "  <th>Df Residuals:</th>          <td>   238</td>      <th>  BIC:               </th> <td>   1514.</td>\n",
       "</tr>\n",
       "<tr>\n",
       "  <th>Df Model:</th>              <td>    13</td>      <th>                     </th>     <td> </td>   \n",
       "</tr>\n",
       "<tr>\n",
       "  <th>Covariance Type:</th>      <td>nonrobust</td>    <th>                     </th>     <td> </td>   \n",
       "</tr>\n",
       "</table>\n",
       "<table class=\"simpletable\">\n",
       "<tr>\n",
       "          <td></td>            <th>coef</th>     <th>std err</th>      <th>t</th>      <th>P>|t|</th>  <th>[0.025</th>    <th>0.975]</th>  \n",
       "</tr>\n",
       "<tr>\n",
       "  <th>Intercept</th>        <td>  -18.1885</td> <td>   17.349</td> <td>   -1.048</td> <td> 0.296</td> <td>  -52.365</td> <td>   15.988</td>\n",
       "</tr>\n",
       "<tr>\n",
       "  <th>age</th>              <td>    0.0621</td> <td>    0.032</td> <td>    1.919</td> <td> 0.056</td> <td>   -0.002</td> <td>    0.126</td>\n",
       "</tr>\n",
       "<tr>\n",
       "  <th>weight</th>           <td>   -0.0884</td> <td>    0.054</td> <td>   -1.652</td> <td> 0.100</td> <td>   -0.194</td> <td>    0.017</td>\n",
       "</tr>\n",
       "<tr>\n",
       "  <th>height</th>           <td>   -0.0696</td> <td>    0.096</td> <td>   -0.725</td> <td> 0.469</td> <td>   -0.259</td> <td>    0.120</td>\n",
       "</tr>\n",
       "<tr>\n",
       "  <th>neck_circumf</th>     <td>   -0.4706</td> <td>    0.232</td> <td>   -2.024</td> <td> 0.044</td> <td>   -0.929</td> <td>   -0.013</td>\n",
       "</tr>\n",
       "<tr>\n",
       "  <th>chest_circumf</th>    <td>   -0.0239</td> <td>    0.099</td> <td>   -0.241</td> <td> 0.810</td> <td>   -0.219</td> <td>    0.171</td>\n",
       "</tr>\n",
       "<tr>\n",
       "  <th>abdomen2_circumf</th> <td>    0.9548</td> <td>    0.086</td> <td>   11.044</td> <td> 0.000</td> <td>    0.784</td> <td>    1.125</td>\n",
       "</tr>\n",
       "<tr>\n",
       "  <th>hip_circumf</th>      <td>   -0.2075</td> <td>    0.146</td> <td>   -1.422</td> <td> 0.156</td> <td>   -0.495</td> <td>    0.080</td>\n",
       "</tr>\n",
       "<tr>\n",
       "  <th>thigh_circumf</th>    <td>    0.2361</td> <td>    0.144</td> <td>    1.636</td> <td> 0.103</td> <td>   -0.048</td> <td>    0.520</td>\n",
       "</tr>\n",
       "<tr>\n",
       "  <th>knee_circumf</th>     <td>    0.0153</td> <td>    0.242</td> <td>    0.063</td> <td> 0.950</td> <td>   -0.461</td> <td>    0.492</td>\n",
       "</tr>\n",
       "<tr>\n",
       "  <th>ankle_circumf</th>    <td>    0.1740</td> <td>    0.221</td> <td>    0.786</td> <td> 0.433</td> <td>   -0.262</td> <td>    0.610</td>\n",
       "</tr>\n",
       "<tr>\n",
       "  <th>biceps_circumf</th>   <td>    0.1816</td> <td>    0.171</td> <td>    1.061</td> <td> 0.290</td> <td>   -0.156</td> <td>    0.519</td>\n",
       "</tr>\n",
       "<tr>\n",
       "  <th>forearm_circumf</th>  <td>    0.4520</td> <td>    0.199</td> <td>    2.270</td> <td> 0.024</td> <td>    0.060</td> <td>    0.844</td>\n",
       "</tr>\n",
       "<tr>\n",
       "  <th>wrist_circumf</th>    <td>   -1.6206</td> <td>    0.535</td> <td>   -3.030</td> <td> 0.003</td> <td>   -2.674</td> <td>   -0.567</td>\n",
       "</tr>\n",
       "</table>\n",
       "<table class=\"simpletable\">\n",
       "<tr>\n",
       "  <th>Omnibus:</th>       <td> 4.404</td> <th>  Durbin-Watson:     </th> <td>   1.776</td>\n",
       "</tr>\n",
       "<tr>\n",
       "  <th>Prob(Omnibus):</th> <td> 0.111</td> <th>  Jarque-Bera (JB):  </th> <td>   2.820</td>\n",
       "</tr>\n",
       "<tr>\n",
       "  <th>Skew:</th>          <td>-0.012</td> <th>  Prob(JB):          </th> <td>   0.244</td>\n",
       "</tr>\n",
       "<tr>\n",
       "  <th>Kurtosis:</th>      <td> 2.482</td> <th>  Cond. No.          </th> <td>1.78e+04</td>\n",
       "</tr>\n",
       "</table><br/><br/>Warnings:<br/>[1] Standard Errors assume that the covariance matrix of the errors is correctly specified.<br/>[2] The condition number is large, 1.78e+04. This might indicate that there are<br/>strong multicollinearity or other numerical problems."
      ],
      "text/plain": [
       "<class 'statsmodels.iolib.summary.Summary'>\n",
       "\"\"\"\n",
       "                            OLS Regression Results                            \n",
       "==============================================================================\n",
       "Dep. Variable:        percent_bodyfat   R-squared:                       0.749\n",
       "Model:                            OLS   Adj. R-squared:                  0.735\n",
       "Method:                 Least Squares   F-statistic:                     54.65\n",
       "Date:                Sun, 22 Sep 2019   Prob (F-statistic):           7.72e-64\n",
       "Time:                        14:21:59   Log-Likelihood:                -718.25\n",
       "No. Observations:                 252   AIC:                             1465.\n",
       "Df Residuals:                     238   BIC:                             1514.\n",
       "Df Model:                          13                                         \n",
       "Covariance Type:            nonrobust                                         \n",
       "====================================================================================\n",
       "                       coef    std err          t      P>|t|      [0.025      0.975]\n",
       "------------------------------------------------------------------------------------\n",
       "Intercept          -18.1885     17.349     -1.048      0.296     -52.365      15.988\n",
       "age                  0.0621      0.032      1.919      0.056      -0.002       0.126\n",
       "weight              -0.0884      0.054     -1.652      0.100      -0.194       0.017\n",
       "height              -0.0696      0.096     -0.725      0.469      -0.259       0.120\n",
       "neck_circumf        -0.4706      0.232     -2.024      0.044      -0.929      -0.013\n",
       "chest_circumf       -0.0239      0.099     -0.241      0.810      -0.219       0.171\n",
       "abdomen2_circumf     0.9548      0.086     11.044      0.000       0.784       1.125\n",
       "hip_circumf         -0.2075      0.146     -1.422      0.156      -0.495       0.080\n",
       "thigh_circumf        0.2361      0.144      1.636      0.103      -0.048       0.520\n",
       "knee_circumf         0.0153      0.242      0.063      0.950      -0.461       0.492\n",
       "ankle_circumf        0.1740      0.221      0.786      0.433      -0.262       0.610\n",
       "biceps_circumf       0.1816      0.171      1.061      0.290      -0.156       0.519\n",
       "forearm_circumf      0.4520      0.199      2.270      0.024       0.060       0.844\n",
       "wrist_circumf       -1.6206      0.535     -3.030      0.003      -2.674      -0.567\n",
       "==============================================================================\n",
       "Omnibus:                        4.404   Durbin-Watson:                   1.776\n",
       "Prob(Omnibus):                  0.111   Jarque-Bera (JB):                2.820\n",
       "Skew:                          -0.012   Prob(JB):                        0.244\n",
       "Kurtosis:                       2.482   Cond. No.                     1.78e+04\n",
       "==============================================================================\n",
       "\n",
       "Warnings:\n",
       "[1] Standard Errors assume that the covariance matrix of the errors is correctly specified.\n",
       "[2] The condition number is large, 1.78e+04. This might indicate that there are\n",
       "strong multicollinearity or other numerical problems.\n",
       "\"\"\""
      ]
     },
     "execution_count": 13,
     "metadata": {},
     "output_type": "execute_result"
    }
   ],
   "source": [
    "lm.summary()"
   ]
  },
  {
   "cell_type": "markdown",
   "metadata": {},
   "source": [
    "Observamos también un F-test bien alto y una probabilidad (F-test) bien bajo por lo que nuestro modelo se puede decir que ajusta bien en comparación a un modelo con solo intercepto."
   ]
  },
  {
   "cell_type": "markdown",
   "metadata": {},
   "source": [
    "### Error estándar residual"
   ]
  },
  {
   "cell_type": "code",
   "execution_count": 14,
   "metadata": {},
   "outputs": [
    {
     "name": "stdout",
     "output_type": "stream",
     "text": [
      "RSE: 4.30528712171906\n"
     ]
    },
    {
     "data": {
      "text/plain": [
       "22.480985441776706"
      ]
     },
     "execution_count": 14,
     "metadata": {},
     "output_type": "execute_result"
    }
   ],
   "source": [
    "y_mean = np.mean(df[\"percent_bodyfat\"])\n",
    "\n",
    "RSS = np.sum((df[\"percent_bodyfat\"]-lm.predict(df[[\"age\",\"weight\",\"height\",\"neck_circumf\",\"chest_circumf\",\"abdomen2_circumf\",\"hip_circumf\",\"thigh_circumf\",\"knee_circumf\",\"ankle_circumf\",\"biceps_circumf\",\"forearm_circumf\",\"wrist_circumf\"]]))**2)\n",
    "\n",
    "RSE = np.sqrt(RSS/(len(df)-13-1))\n",
    "print('RSE: '+str(RSE))\n",
    "RSE / y_mean * 100"
   ]
  },
  {
   "cell_type": "markdown",
   "metadata": {},
   "source": [
    "Tenemos un error producido por el modelo de 22.48%.\n",
    "\n",
    "Como tenemos muchos valores y algunos no aportan nada al modelo entonces podemos obviarlos.\n",
    "\n",
    "### Quitando variables independientes innecesarias\n",
    "\n",
    "Como habiamos dicho no puede faltar abdomen2_circumf ni wrist_circumf por lo que podemos comenzar a analizar un modelo solo con estas dos variables."
   ]
  },
  {
   "cell_type": "code",
   "execution_count": 15,
   "metadata": {},
   "outputs": [],
   "source": [
    "from sklearn.linear_model import LinearRegression"
   ]
  },
  {
   "cell_type": "code",
   "execution_count": 16,
   "metadata": {},
   "outputs": [],
   "source": [
    "# new feature_cols\n",
    "\n",
    "feature_cols = [\"abdomen2_circumf\",\"wrist_circumf\"]"
   ]
  },
  {
   "cell_type": "code",
   "execution_count": 17,
   "metadata": {},
   "outputs": [],
   "source": [
    "X = df[feature_cols]\n",
    "Y = df[\"percent_bodyfat\"]"
   ]
  },
  {
   "cell_type": "code",
   "execution_count": 18,
   "metadata": {},
   "outputs": [
    {
     "data": {
      "text/plain": [
       "LinearRegression(copy_X=True, fit_intercept=True, n_jobs=None, normalize=False)"
      ]
     },
     "execution_count": 18,
     "metadata": {},
     "output_type": "execute_result"
    }
   ],
   "source": [
    "lm2 = LinearRegression()\n",
    "lm2.fit(X,Y)"
   ]
  },
  {
   "cell_type": "code",
   "execution_count": 19,
   "metadata": {},
   "outputs": [
    {
     "name": "stdout",
     "output_type": "stream",
     "text": [
      "-8.850363604476115\n",
      "[ 0.75443018 -2.29437153]\n"
     ]
    }
   ],
   "source": [
    "print(lm2.intercept_)\n",
    "print(lm2.coef_)"
   ]
  },
  {
   "cell_type": "code",
   "execution_count": 20,
   "metadata": {},
   "outputs": [
    {
     "data": {
      "text/plain": [
       "[('abdomen2_circumf', 0.7544301808710354),\n",
       " ('wrist_circumf', -2.294371531289154)]"
      ]
     },
     "execution_count": 20,
     "metadata": {},
     "output_type": "execute_result"
    }
   ],
   "source": [
    "list(zip(feature_cols,lm2.coef_))"
   ]
  },
  {
   "cell_type": "code",
   "execution_count": 21,
   "metadata": {},
   "outputs": [
    {
     "data": {
      "text/plain": [
       "0.7020143178412656"
      ]
     },
     "execution_count": 21,
     "metadata": {},
     "output_type": "execute_result"
    }
   ],
   "source": [
    "lm2.score(X,Y)"
   ]
  },
  {
   "cell_type": "code",
   "execution_count": 22,
   "metadata": {},
   "outputs": [
    {
     "name": "stdout",
     "output_type": "stream",
     "text": [
      "RSE:4.586643434498386\n"
     ]
    },
    {
     "data": {
      "text/plain": [
       "23.950148123084343"
      ]
     },
     "execution_count": 22,
     "metadata": {},
     "output_type": "execute_result"
    }
   ],
   "source": [
    "# Error estándar residual\n",
    "\n",
    "y2_mean = np.mean(Y)\n",
    "\n",
    "RSS = np.sum((Y-lm2.predict(X))**2)\n",
    "\n",
    "RSE = np.sqrt(RSS/(len(df)-2-1))\n",
    "print('RSE:'+str(RSE))\n",
    "RSE/ y2_mean * 100"
   ]
  },
  {
   "cell_type": "markdown",
   "metadata": {},
   "source": [
    "Podemos ver como un error de 23% que antes era 22% no es demasiado brusco.\n",
    "Mientras que el valor de R-cuadrado es 70% en vez del 74% que teniamos antes."
   ]
  },
  {
   "cell_type": "markdown",
   "metadata": {},
   "source": [
    "### Mejorando un poco más el modelo"
   ]
  },
  {
   "cell_type": "markdown",
   "metadata": {},
   "source": [
    "Es muy usual querer seguir con este proceso y agregar a los de los p-valores más bajo como forearm_circumf y height, pero se debe tener en cuenta que podemos presentar problemas de **múltiple colinealidad**.\n",
    "\n",
    "Es decir una variable independiente puede estar correlacionada con otra variable independiente por lo que esto no mejorará nuestro modelo, en este caso al tener tantas columnas y estar correlacionadas muchas variables podemos intuir con las correlaciones entre los p-valores más bajos y su correlación con las columnas candidatas a elegir."
   ]
  },
  {
   "cell_type": "code",
   "execution_count": 23,
   "metadata": {},
   "outputs": [
    {
     "data": {
      "text/plain": [
       "LinearRegression(copy_X=True, fit_intercept=True, n_jobs=None, normalize=False)"
      ]
     },
     "execution_count": 23,
     "metadata": {},
     "output_type": "execute_result"
    }
   ],
   "source": [
    "lm3 = LinearRegression()\n",
    "\n",
    "\n",
    "feature_cols = [\"forearm_circumf\",\"abdomen2_circumf\",\"wrist_circumf\"]\n",
    "\n",
    "X3 = df[feature_cols]\n",
    "Y3 = df[\"percent_bodyfat\"]\n",
    "\n",
    "lm3.fit(X3,Y3)"
   ]
  },
  {
   "cell_type": "code",
   "execution_count": 24,
   "metadata": {},
   "outputs": [
    {
     "data": {
      "text/plain": [
       "0.7027890116176005"
      ]
     },
     "execution_count": 24,
     "metadata": {},
     "output_type": "execute_result"
    }
   ],
   "source": [
    "lm3.score(X3,Y3)"
   ]
  },
  {
   "cell_type": "code",
   "execution_count": 25,
   "metadata": {},
   "outputs": [
    {
     "name": "stdout",
     "output_type": "stream",
     "text": [
      "RSE:4.589903394773613\n"
     ]
    },
    {
     "data": {
      "text/plain": [
       "23.967170708899456"
      ]
     },
     "execution_count": 25,
     "metadata": {},
     "output_type": "execute_result"
    }
   ],
   "source": [
    "# Error estándar residual\n",
    "\n",
    "y3_mean = np.mean(Y3)\n",
    "\n",
    "RSS = np.sum((Y3-lm3.predict(X3))**2)\n",
    "\n",
    "RSE = np.sqrt(RSS/(len(df)-3-1))\n",
    "print('RSE:'+str(RSE))\n",
    "RSE/ y3_mean * 100"
   ]
  },
  {
   "cell_type": "markdown",
   "metadata": {},
   "source": [
    "Podemos ver que el valor R-cuadrado no aumentó casi nada, mientras en el error producido por el modelo ya va a llegar a 24%."
   ]
  },
  {
   "cell_type": "markdown",
   "metadata": {},
   "source": [
    "### Modelo mejorado\n",
    "\n",
    "Como vamos agregando columnas podemos obtener la cantidad necesaria de columnas para tener el mismo error y casi el mismo valor R-cuadrado sin usar las 13 columnas sino las 6 más influyentes en nuestro modelo, que no son otros que los 6 valores con los p-valores más bajos."
   ]
  },
  {
   "cell_type": "code",
   "execution_count": 26,
   "metadata": {},
   "outputs": [
    {
     "data": {
      "text/plain": [
       "LinearRegression(copy_X=True, fit_intercept=True, n_jobs=None, normalize=False)"
      ]
     },
     "execution_count": 26,
     "metadata": {},
     "output_type": "execute_result"
    }
   ],
   "source": [
    "lm4 = LinearRegression()\n",
    "\n",
    "\n",
    "feature_cols = [\"age\",\"neck_circumf\",\"forearm_circumf\",\"weight\",\"abdomen2_circumf\",\"wrist_circumf\"]\n",
    "\n",
    "X4 = df[feature_cols]\n",
    "Y4 = df[\"percent_bodyfat\"]\n",
    "\n",
    "lm4.fit(X4,Y4)"
   ]
  },
  {
   "cell_type": "code",
   "execution_count": 27,
   "metadata": {},
   "outputs": [
    {
     "data": {
      "text/plain": [
       "0.7406429211147518"
      ]
     },
     "execution_count": 27,
     "metadata": {},
     "output_type": "execute_result"
    }
   ],
   "source": [
    "lm4.score(X4,Y4) # R-cuadrado"
   ]
  },
  {
   "cell_type": "code",
   "execution_count": 28,
   "metadata": {},
   "outputs": [
    {
     "name": "stdout",
     "output_type": "stream",
     "text": [
      "RSE:4.313829392370099\n"
     ]
    },
    {
     "data": {
      "text/plain": [
       "22.52559075071811"
      ]
     },
     "execution_count": 28,
     "metadata": {},
     "output_type": "execute_result"
    }
   ],
   "source": [
    "# Error estándar residual\n",
    "\n",
    "y4_mean = np.mean(Y4)\n",
    "\n",
    "RSS = np.sum((Y4-lm4.predict(X4))**2)\n",
    "\n",
    "RSE = np.sqrt(RSS/(len(df)-6-1))\n",
    "print('RSE:'+str(RSE))\n",
    "RSE/ y4_mean * 100"
   ]
  },
  {
   "cell_type": "code",
   "execution_count": 29,
   "metadata": {},
   "outputs": [
    {
     "name": "stdout",
     "output_type": "stream",
     "text": [
      "-25.892721544082157\n"
     ]
    },
    {
     "data": {
      "text/plain": [
       "[('age', 0.04605355291690751),\n",
       " ('neck_circumf', -0.4003934284944702),\n",
       " ('forearm_circumf', 0.5721015522254352),\n",
       " ('weight', -0.0938578148004914),\n",
       " ('abdomen2_circumf', 0.945259890706665),\n",
       " ('wrist_circumf', -1.5856736703539815)]"
      ]
     },
     "execution_count": 29,
     "metadata": {},
     "output_type": "execute_result"
    }
   ],
   "source": [
    "print(lm4.intercept_)\n",
    "list(zip(feature_cols,lm4.coef_))"
   ]
  },
  {
   "cell_type": "markdown",
   "metadata": {},
   "source": [
    "Entonces podemos ver que la ecuación que mejor se ajusta al modelo con un error de 22% pero un error estándar residual muy parecido al usar todos las columnas es:\n",
    "\n",
    "$$Y = -25.892721544082157 + 0.0460535529169075*age -0.4003934284944702*neck + 0.5721015522254352*forearm -0.0938578148004914*weight + 0.945259890706665*abdomen -1.5856736703539815*wrist  $$"
   ]
  },
  {
   "cell_type": "markdown",
   "metadata": {},
   "source": [
    "Cabe destacar que los coeficientes de peso(weight) y muñeca(wrist) influye negativamente en el porcentaje de grasa corporal."
   ]
  },
  {
   "cell_type": "markdown",
   "metadata": {},
   "source": [
    "### Valores atípicos \n",
    "\n",
    "#### Distancia de Cook\n",
    "\n",
    "El criterio de Cook consiste en construir un intervalo de confianza de los coeficientes de regresión del 50%. Estimar de nuevo estos coeficientes sin el valor que se quiere ver su influencia. Si el nuevo valor estimado queda dentro del intervalo de confianza anterior se considera una influencia aceptable. Si, por el contrario, se sale de este intervalo, estamos ante un exceso de influencia que conviene replantearse. Una opción clara es eliminar el valor del análisis.\n",
    "\n",
    "También se puede comparar este valor con 4/n donde n es la cantidad de valores que tenemos."
   ]
  },
  {
   "cell_type": "code",
   "execution_count": 30,
   "metadata": {},
   "outputs": [
    {
     "data": {
      "text/html": [
       "<div>\n",
       "<style scoped>\n",
       "    .dataframe tbody tr th:only-of-type {\n",
       "        vertical-align: middle;\n",
       "    }\n",
       "\n",
       "    .dataframe tbody tr th {\n",
       "        vertical-align: top;\n",
       "    }\n",
       "\n",
       "    .dataframe thead th {\n",
       "        text-align: right;\n",
       "    }\n",
       "</style>\n",
       "<table border=\"1\" class=\"dataframe\">\n",
       "  <thead>\n",
       "    <tr style=\"text-align: right;\">\n",
       "      <th></th>\n",
       "      <th>dfb_Intercept</th>\n",
       "      <th>dfb_age</th>\n",
       "      <th>dfb_weight</th>\n",
       "      <th>dfb_height</th>\n",
       "      <th>dfb_neck_circumf</th>\n",
       "      <th>dfb_chest_circumf</th>\n",
       "      <th>dfb_abdomen2_circumf</th>\n",
       "      <th>dfb_hip_circumf</th>\n",
       "      <th>dfb_thigh_circumf</th>\n",
       "      <th>dfb_knee_circumf</th>\n",
       "      <th>dfb_ankle_circumf</th>\n",
       "      <th>dfb_biceps_circumf</th>\n",
       "      <th>dfb_forearm_circumf</th>\n",
       "      <th>dfb_wrist_circumf</th>\n",
       "      <th>cooks_d</th>\n",
       "      <th>standard_resid</th>\n",
       "      <th>hat_diag</th>\n",
       "      <th>dffits_internal</th>\n",
       "      <th>student_resid</th>\n",
       "      <th>dffits</th>\n",
       "    </tr>\n",
       "  </thead>\n",
       "  <tbody>\n",
       "    <tr>\n",
       "      <td>30</td>\n",
       "      <td>0.107885</td>\n",
       "      <td>0.026346</td>\n",
       "      <td>0.102359</td>\n",
       "      <td>-0.052922</td>\n",
       "      <td>-0.093753</td>\n",
       "      <td>-0.037178</td>\n",
       "      <td>-0.030024</td>\n",
       "      <td>-0.053200</td>\n",
       "      <td>0.068397</td>\n",
       "      <td>0.053109</td>\n",
       "      <td>-0.483287</td>\n",
       "      <td>-0.046649</td>\n",
       "      <td>0.055937</td>\n",
       "      <td>0.101998</td>\n",
       "      <td>0.018222</td>\n",
       "      <td>-0.755286</td>\n",
       "      <td>0.309012</td>\n",
       "      <td>-0.505085</td>\n",
       "      <td>-0.754603</td>\n",
       "      <td>-0.504628</td>\n",
       "    </tr>\n",
       "    <tr>\n",
       "      <td>38</td>\n",
       "      <td>-0.390383</td>\n",
       "      <td>-0.280034</td>\n",
       "      <td>-0.724408</td>\n",
       "      <td>0.402575</td>\n",
       "      <td>-0.463188</td>\n",
       "      <td>0.634842</td>\n",
       "      <td>0.282118</td>\n",
       "      <td>-0.377716</td>\n",
       "      <td>0.255287</td>\n",
       "      <td>0.403437</td>\n",
       "      <td>-0.118705</td>\n",
       "      <td>-0.087073</td>\n",
       "      <td>0.819249</td>\n",
       "      <td>0.286895</td>\n",
       "      <td>0.288967</td>\n",
       "      <td>-2.595977</td>\n",
       "      <td>0.375120</td>\n",
       "      <td>-2.011351</td>\n",
       "      <td>-2.627992</td>\n",
       "      <td>-2.036155</td>\n",
       "    </tr>\n",
       "    <tr>\n",
       "      <td>53</td>\n",
       "      <td>0.032728</td>\n",
       "      <td>0.028087</td>\n",
       "      <td>0.058997</td>\n",
       "      <td>-0.062105</td>\n",
       "      <td>0.134633</td>\n",
       "      <td>0.004109</td>\n",
       "      <td>-0.013709</td>\n",
       "      <td>-0.012047</td>\n",
       "      <td>0.143266</td>\n",
       "      <td>-0.071520</td>\n",
       "      <td>0.013692</td>\n",
       "      <td>-0.434891</td>\n",
       "      <td>0.151790</td>\n",
       "      <td>-0.083743</td>\n",
       "      <td>0.016839</td>\n",
       "      <td>-1.135342</td>\n",
       "      <td>0.154616</td>\n",
       "      <td>-0.485541</td>\n",
       "      <td>-1.136035</td>\n",
       "      <td>-0.485838</td>\n",
       "    </tr>\n",
       "    <tr>\n",
       "      <td>80</td>\n",
       "      <td>-0.093439</td>\n",
       "      <td>0.000930</td>\n",
       "      <td>-0.119665</td>\n",
       "      <td>-0.049002</td>\n",
       "      <td>0.113721</td>\n",
       "      <td>-0.152342</td>\n",
       "      <td>0.223730</td>\n",
       "      <td>0.037734</td>\n",
       "      <td>-0.094841</td>\n",
       "      <td>0.050881</td>\n",
       "      <td>0.123248</td>\n",
       "      <td>-0.077515</td>\n",
       "      <td>-0.041512</td>\n",
       "      <td>0.172826</td>\n",
       "      <td>0.016604</td>\n",
       "      <td>2.194199</td>\n",
       "      <td>0.046058</td>\n",
       "      <td>0.482134</td>\n",
       "      <td>2.212073</td>\n",
       "      <td>0.486062</td>\n",
       "    </tr>\n",
       "    <tr>\n",
       "      <td>81</td>\n",
       "      <td>-0.260416</td>\n",
       "      <td>0.080656</td>\n",
       "      <td>-0.307374</td>\n",
       "      <td>0.068207</td>\n",
       "      <td>0.292811</td>\n",
       "      <td>0.116065</td>\n",
       "      <td>-0.047934</td>\n",
       "      <td>0.256833</td>\n",
       "      <td>-0.077337</td>\n",
       "      <td>0.186606</td>\n",
       "      <td>0.042222</td>\n",
       "      <td>0.069920</td>\n",
       "      <td>-0.210701</td>\n",
       "      <td>-0.067952</td>\n",
       "      <td>0.020131</td>\n",
       "      <td>2.126982</td>\n",
       "      <td>0.058644</td>\n",
       "      <td>0.530883</td>\n",
       "      <td>2.142974</td>\n",
       "      <td>0.534874</td>\n",
       "    </tr>\n",
       "    <tr>\n",
       "      <td>85</td>\n",
       "      <td>-0.089132</td>\n",
       "      <td>0.321480</td>\n",
       "      <td>-0.093708</td>\n",
       "      <td>-0.029002</td>\n",
       "      <td>-0.000814</td>\n",
       "      <td>-0.012452</td>\n",
       "      <td>0.024477</td>\n",
       "      <td>0.047663</td>\n",
       "      <td>-0.069936</td>\n",
       "      <td>-0.207416</td>\n",
       "      <td>1.175400</td>\n",
       "      <td>0.168389</td>\n",
       "      <td>-0.002805</td>\n",
       "      <td>-0.301752</td>\n",
       "      <td>0.107163</td>\n",
       "      <td>1.647220</td>\n",
       "      <td>0.356055</td>\n",
       "      <td>1.224859</td>\n",
       "      <td>1.653206</td>\n",
       "      <td>1.229311</td>\n",
       "    </tr>\n",
       "    <tr>\n",
       "      <td>127</td>\n",
       "      <td>0.033200</td>\n",
       "      <td>0.023385</td>\n",
       "      <td>0.004585</td>\n",
       "      <td>-0.084147</td>\n",
       "      <td>0.112248</td>\n",
       "      <td>0.115230</td>\n",
       "      <td>-0.245666</td>\n",
       "      <td>0.112695</td>\n",
       "      <td>-0.162804</td>\n",
       "      <td>0.002081</td>\n",
       "      <td>-0.116721</td>\n",
       "      <td>0.265213</td>\n",
       "      <td>-0.060785</td>\n",
       "      <td>-0.104164</td>\n",
       "      <td>0.017016</td>\n",
       "      <td>2.008882</td>\n",
       "      <td>0.055741</td>\n",
       "      <td>0.488085</td>\n",
       "      <td>2.021872</td>\n",
       "      <td>0.491241</td>\n",
       "    </tr>\n",
       "    <tr>\n",
       "      <td>174</td>\n",
       "      <td>-0.111089</td>\n",
       "      <td>-0.188037</td>\n",
       "      <td>-0.114745</td>\n",
       "      <td>0.025016</td>\n",
       "      <td>0.068409</td>\n",
       "      <td>0.173656</td>\n",
       "      <td>-0.048058</td>\n",
       "      <td>0.056392</td>\n",
       "      <td>0.040670</td>\n",
       "      <td>0.075752</td>\n",
       "      <td>-0.094029</td>\n",
       "      <td>0.108952</td>\n",
       "      <td>-0.587172</td>\n",
       "      <td>0.261406</td>\n",
       "      <td>0.030543</td>\n",
       "      <td>1.071567</td>\n",
       "      <td>0.271345</td>\n",
       "      <td>0.653913</td>\n",
       "      <td>1.071903</td>\n",
       "      <td>0.654117</td>\n",
       "    </tr>\n",
       "    <tr>\n",
       "      <td>206</td>\n",
       "      <td>-0.139539</td>\n",
       "      <td>-0.070790</td>\n",
       "      <td>-0.240167</td>\n",
       "      <td>-0.041198</td>\n",
       "      <td>0.284468</td>\n",
       "      <td>0.015063</td>\n",
       "      <td>0.072349</td>\n",
       "      <td>0.199652</td>\n",
       "      <td>-0.113699</td>\n",
       "      <td>0.081156</td>\n",
       "      <td>-0.042569</td>\n",
       "      <td>0.112877</td>\n",
       "      <td>0.115403</td>\n",
       "      <td>-0.190349</td>\n",
       "      <td>0.017957</td>\n",
       "      <td>2.375507</td>\n",
       "      <td>0.042650</td>\n",
       "      <td>0.501395</td>\n",
       "      <td>2.399124</td>\n",
       "      <td>0.506379</td>\n",
       "    </tr>\n",
       "    <tr>\n",
       "      <td>215</td>\n",
       "      <td>0.044365</td>\n",
       "      <td>-0.132935</td>\n",
       "      <td>-0.037199</td>\n",
       "      <td>-0.083938</td>\n",
       "      <td>0.046995</td>\n",
       "      <td>-0.005200</td>\n",
       "      <td>0.230793</td>\n",
       "      <td>0.136115</td>\n",
       "      <td>-0.178695</td>\n",
       "      <td>-0.277773</td>\n",
       "      <td>0.089778</td>\n",
       "      <td>0.022179</td>\n",
       "      <td>-0.005797</td>\n",
       "      <td>-0.024873</td>\n",
       "      <td>0.024894</td>\n",
       "      <td>1.578197</td>\n",
       "      <td>0.122752</td>\n",
       "      <td>0.590356</td>\n",
       "      <td>1.583184</td>\n",
       "      <td>0.592222</td>\n",
       "    </tr>\n",
       "    <tr>\n",
       "      <td>220</td>\n",
       "      <td>0.461570</td>\n",
       "      <td>0.057847</td>\n",
       "      <td>0.496287</td>\n",
       "      <td>-0.223768</td>\n",
       "      <td>-0.155717</td>\n",
       "      <td>-0.124376</td>\n",
       "      <td>-0.193354</td>\n",
       "      <td>-0.167490</td>\n",
       "      <td>-0.091554</td>\n",
       "      <td>-0.076311</td>\n",
       "      <td>-0.181679</td>\n",
       "      <td>-0.002292</td>\n",
       "      <td>-0.129442</td>\n",
       "      <td>-0.162847</td>\n",
       "      <td>0.024227</td>\n",
       "      <td>-2.042622</td>\n",
       "      <td>0.075182</td>\n",
       "      <td>-0.582392</td>\n",
       "      <td>-2.056431</td>\n",
       "      <td>-0.586330</td>\n",
       "    </tr>\n",
       "    <tr>\n",
       "      <td>230</td>\n",
       "      <td>-0.203721</td>\n",
       "      <td>-0.118631</td>\n",
       "      <td>-0.103887</td>\n",
       "      <td>0.082200</td>\n",
       "      <td>0.144532</td>\n",
       "      <td>-0.140938</td>\n",
       "      <td>0.049332</td>\n",
       "      <td>0.167135</td>\n",
       "      <td>-0.017671</td>\n",
       "      <td>0.104632</td>\n",
       "      <td>-0.012753</td>\n",
       "      <td>-0.165973</td>\n",
       "      <td>0.021566</td>\n",
       "      <td>0.147965</td>\n",
       "      <td>0.017111</td>\n",
       "      <td>-2.239695</td>\n",
       "      <td>0.045578</td>\n",
       "      <td>-0.489438</td>\n",
       "      <td>-2.258916</td>\n",
       "      <td>-0.493639</td>\n",
       "    </tr>\n",
       "    <tr>\n",
       "      <td>249</td>\n",
       "      <td>-0.078608</td>\n",
       "      <td>-0.103490</td>\n",
       "      <td>-0.008118</td>\n",
       "      <td>-0.011849</td>\n",
       "      <td>0.020402</td>\n",
       "      <td>-0.015284</td>\n",
       "      <td>-0.194577</td>\n",
       "      <td>0.116372</td>\n",
       "      <td>-0.131217</td>\n",
       "      <td>0.148326</td>\n",
       "      <td>0.036088</td>\n",
       "      <td>0.083169</td>\n",
       "      <td>0.045919</td>\n",
       "      <td>0.031410</td>\n",
       "      <td>0.016507</td>\n",
       "      <td>-1.829805</td>\n",
       "      <td>0.064567</td>\n",
       "      <td>-0.480734</td>\n",
       "      <td>-1.838937</td>\n",
       "      <td>-0.483133</td>\n",
       "    </tr>\n",
       "  </tbody>\n",
       "</table>\n",
       "</div>"
      ],
      "text/plain": [
       "     dfb_Intercept   dfb_age  dfb_weight  dfb_height  dfb_neck_circumf  \\\n",
       "30        0.107885  0.026346    0.102359   -0.052922         -0.093753   \n",
       "38       -0.390383 -0.280034   -0.724408    0.402575         -0.463188   \n",
       "53        0.032728  0.028087    0.058997   -0.062105          0.134633   \n",
       "80       -0.093439  0.000930   -0.119665   -0.049002          0.113721   \n",
       "81       -0.260416  0.080656   -0.307374    0.068207          0.292811   \n",
       "85       -0.089132  0.321480   -0.093708   -0.029002         -0.000814   \n",
       "127       0.033200  0.023385    0.004585   -0.084147          0.112248   \n",
       "174      -0.111089 -0.188037   -0.114745    0.025016          0.068409   \n",
       "206      -0.139539 -0.070790   -0.240167   -0.041198          0.284468   \n",
       "215       0.044365 -0.132935   -0.037199   -0.083938          0.046995   \n",
       "220       0.461570  0.057847    0.496287   -0.223768         -0.155717   \n",
       "230      -0.203721 -0.118631   -0.103887    0.082200          0.144532   \n",
       "249      -0.078608 -0.103490   -0.008118   -0.011849          0.020402   \n",
       "\n",
       "     dfb_chest_circumf  dfb_abdomen2_circumf  dfb_hip_circumf  \\\n",
       "30           -0.037178             -0.030024        -0.053200   \n",
       "38            0.634842              0.282118        -0.377716   \n",
       "53            0.004109             -0.013709        -0.012047   \n",
       "80           -0.152342              0.223730         0.037734   \n",
       "81            0.116065             -0.047934         0.256833   \n",
       "85           -0.012452              0.024477         0.047663   \n",
       "127           0.115230             -0.245666         0.112695   \n",
       "174           0.173656             -0.048058         0.056392   \n",
       "206           0.015063              0.072349         0.199652   \n",
       "215          -0.005200              0.230793         0.136115   \n",
       "220          -0.124376             -0.193354        -0.167490   \n",
       "230          -0.140938              0.049332         0.167135   \n",
       "249          -0.015284             -0.194577         0.116372   \n",
       "\n",
       "     dfb_thigh_circumf  dfb_knee_circumf  dfb_ankle_circumf  \\\n",
       "30            0.068397          0.053109          -0.483287   \n",
       "38            0.255287          0.403437          -0.118705   \n",
       "53            0.143266         -0.071520           0.013692   \n",
       "80           -0.094841          0.050881           0.123248   \n",
       "81           -0.077337          0.186606           0.042222   \n",
       "85           -0.069936         -0.207416           1.175400   \n",
       "127          -0.162804          0.002081          -0.116721   \n",
       "174           0.040670          0.075752          -0.094029   \n",
       "206          -0.113699          0.081156          -0.042569   \n",
       "215          -0.178695         -0.277773           0.089778   \n",
       "220          -0.091554         -0.076311          -0.181679   \n",
       "230          -0.017671          0.104632          -0.012753   \n",
       "249          -0.131217          0.148326           0.036088   \n",
       "\n",
       "     dfb_biceps_circumf  dfb_forearm_circumf  dfb_wrist_circumf   cooks_d  \\\n",
       "30            -0.046649             0.055937           0.101998  0.018222   \n",
       "38            -0.087073             0.819249           0.286895  0.288967   \n",
       "53            -0.434891             0.151790          -0.083743  0.016839   \n",
       "80            -0.077515            -0.041512           0.172826  0.016604   \n",
       "81             0.069920            -0.210701          -0.067952  0.020131   \n",
       "85             0.168389            -0.002805          -0.301752  0.107163   \n",
       "127            0.265213            -0.060785          -0.104164  0.017016   \n",
       "174            0.108952            -0.587172           0.261406  0.030543   \n",
       "206            0.112877             0.115403          -0.190349  0.017957   \n",
       "215            0.022179            -0.005797          -0.024873  0.024894   \n",
       "220           -0.002292            -0.129442          -0.162847  0.024227   \n",
       "230           -0.165973             0.021566           0.147965  0.017111   \n",
       "249            0.083169             0.045919           0.031410  0.016507   \n",
       "\n",
       "     standard_resid  hat_diag  dffits_internal  student_resid    dffits  \n",
       "30        -0.755286  0.309012        -0.505085      -0.754603 -0.504628  \n",
       "38        -2.595977  0.375120        -2.011351      -2.627992 -2.036155  \n",
       "53        -1.135342  0.154616        -0.485541      -1.136035 -0.485838  \n",
       "80         2.194199  0.046058         0.482134       2.212073  0.486062  \n",
       "81         2.126982  0.058644         0.530883       2.142974  0.534874  \n",
       "85         1.647220  0.356055         1.224859       1.653206  1.229311  \n",
       "127        2.008882  0.055741         0.488085       2.021872  0.491241  \n",
       "174        1.071567  0.271345         0.653913       1.071903  0.654117  \n",
       "206        2.375507  0.042650         0.501395       2.399124  0.506379  \n",
       "215        1.578197  0.122752         0.590356       1.583184  0.592222  \n",
       "220       -2.042622  0.075182        -0.582392      -2.056431 -0.586330  \n",
       "230       -2.239695  0.045578        -0.489438      -2.258916 -0.493639  \n",
       "249       -1.829805  0.064567        -0.480734      -1.838937 -0.483133  "
      ]
     },
     "execution_count": 30,
     "metadata": {},
     "output_type": "execute_result"
    }
   ],
   "source": [
    "# Diagnóstico \n",
    "prueba = lm.get_influence()\n",
    "sm_fr = prueba.summary_frame()\n",
    "sm_fr[sm_fr[\"cooks_d\"]>4/len(df)]"
   ]
  },
  {
   "cell_type": "markdown",
   "metadata": {},
   "source": [
    "Entonces dejando a fuera a estos valores tenemos ..."
   ]
  },
  {
   "cell_type": "code",
   "execution_count": 31,
   "metadata": {},
   "outputs": [],
   "source": [
    "atipicos = sm_fr[sm_fr[\"cooks_d\"]>4/len(df)].index.tolist()\n",
    "\n",
    "df2 = df.drop(df.index[atipicos]) # borrando valores atipicos"
   ]
  },
  {
   "cell_type": "code",
   "execution_count": 32,
   "metadata": {},
   "outputs": [
    {
     "data": {
      "text/plain": [
       "LinearRegression(copy_X=True, fit_intercept=True, n_jobs=None, normalize=False)"
      ]
     },
     "execution_count": 32,
     "metadata": {},
     "output_type": "execute_result"
    }
   ],
   "source": [
    "lm5 = LinearRegression()\n",
    "\n",
    "X5 = df2[feature_cols]\n",
    "Y5 = df2[\"percent_bodyfat\"]\n",
    "\n",
    "lm5.fit(X5,Y5)"
   ]
  },
  {
   "cell_type": "code",
   "execution_count": 33,
   "metadata": {},
   "outputs": [
    {
     "data": {
      "text/plain": [
       "0.7550467058140959"
      ]
     },
     "execution_count": 33,
     "metadata": {},
     "output_type": "execute_result"
    }
   ],
   "source": [
    "lm5.score(X5,Y5)"
   ]
  },
  {
   "cell_type": "code",
   "execution_count": 34,
   "metadata": {},
   "outputs": [
    {
     "name": "stdout",
     "output_type": "stream",
     "text": [
      "RSE:3.945112123772186\n"
     ]
    },
    {
     "data": {
      "text/plain": [
       "20.895350589823178"
      ]
     },
     "execution_count": 34,
     "metadata": {},
     "output_type": "execute_result"
    }
   ],
   "source": [
    "# Error estándar residual\n",
    "\n",
    "y5_mean = np.mean(Y5)\n",
    "\n",
    "RSS = np.sum((Y5-lm5.predict(X5))**2)\n",
    "\n",
    "RSE = np.sqrt(RSS/(len(df)-6-1))\n",
    "print('RSE:'+str(RSE))\n",
    "RSE/ y5_mean * 100"
   ]
  },
  {
   "cell_type": "markdown",
   "metadata": {},
   "source": [
    "Hemos visto como el R-cuadrado mejoro mucho:\n",
    "75% y también como el error se redujo al 20% al eliminar estos valores atípicos."
   ]
  },
  {
   "cell_type": "markdown",
   "metadata": {},
   "source": [
    "#### Viendo sus estadísticos"
   ]
  },
  {
   "cell_type": "code",
   "execution_count": 39,
   "metadata": {},
   "outputs": [],
   "source": [
    "# usaremos statsmodels para ver los estadísticos de este último modelo ya refinado.\n",
    "lm7 = smf.ols(formula=\"percent_bodyfat~age+weight+abdomen2_circumf+neck_circumf+forearm_circumf+wrist_circumf\",\n",
    "              data=df).fit()"
   ]
  },
  {
   "cell_type": "code",
   "execution_count": 40,
   "metadata": {},
   "outputs": [
    {
     "data": {
      "text/html": [
       "<table class=\"simpletable\">\n",
       "<caption>OLS Regression Results</caption>\n",
       "<tr>\n",
       "  <th>Dep. Variable:</th>     <td>percent_bodyfat</td> <th>  R-squared:         </th> <td>   0.741</td>\n",
       "</tr>\n",
       "<tr>\n",
       "  <th>Model:</th>                   <td>OLS</td>       <th>  Adj. R-squared:    </th> <td>   0.734</td>\n",
       "</tr>\n",
       "<tr>\n",
       "  <th>Method:</th>             <td>Least Squares</td>  <th>  F-statistic:       </th> <td>   116.6</td>\n",
       "</tr>\n",
       "<tr>\n",
       "  <th>Date:</th>             <td>Sun, 22 Sep 2019</td> <th>  Prob (F-statistic):</th> <td>6.76e-69</td>\n",
       "</tr>\n",
       "<tr>\n",
       "  <th>Time:</th>                 <td>14:27:15</td>     <th>  Log-Likelihood:    </th> <td> -722.40</td>\n",
       "</tr>\n",
       "<tr>\n",
       "  <th>No. Observations:</th>      <td>   252</td>      <th>  AIC:               </th> <td>   1459.</td>\n",
       "</tr>\n",
       "<tr>\n",
       "  <th>Df Residuals:</th>          <td>   245</td>      <th>  BIC:               </th> <td>   1484.</td>\n",
       "</tr>\n",
       "<tr>\n",
       "  <th>Df Model:</th>              <td>     6</td>      <th>                     </th>     <td> </td>   \n",
       "</tr>\n",
       "<tr>\n",
       "  <th>Covariance Type:</th>      <td>nonrobust</td>    <th>                     </th>     <td> </td>   \n",
       "</tr>\n",
       "</table>\n",
       "<table class=\"simpletable\">\n",
       "<tr>\n",
       "          <td></td>            <th>coef</th>     <th>std err</th>      <th>t</th>      <th>P>|t|</th>  <th>[0.025</th>    <th>0.975]</th>  \n",
       "</tr>\n",
       "<tr>\n",
       "  <th>Intercept</th>        <td>  -25.8927</td> <td>    8.187</td> <td>   -3.163</td> <td> 0.002</td> <td>  -42.018</td> <td>   -9.767</td>\n",
       "</tr>\n",
       "<tr>\n",
       "  <th>age</th>              <td>    0.0461</td> <td>    0.029</td> <td>    1.605</td> <td> 0.110</td> <td>   -0.010</td> <td>    0.103</td>\n",
       "</tr>\n",
       "<tr>\n",
       "  <th>weight</th>           <td>   -0.0939</td> <td>    0.031</td> <td>   -2.984</td> <td> 0.003</td> <td>   -0.156</td> <td>   -0.032</td>\n",
       "</tr>\n",
       "<tr>\n",
       "  <th>abdomen2_circumf</th> <td>    0.9453</td> <td>    0.068</td> <td>   13.824</td> <td> 0.000</td> <td>    0.811</td> <td>    1.080</td>\n",
       "</tr>\n",
       "<tr>\n",
       "  <th>neck_circumf</th>     <td>   -0.4004</td> <td>    0.222</td> <td>   -1.805</td> <td> 0.072</td> <td>   -0.837</td> <td>    0.036</td>\n",
       "</tr>\n",
       "<tr>\n",
       "  <th>forearm_circumf</th>  <td>    0.5721</td> <td>    0.186</td> <td>    3.084</td> <td> 0.002</td> <td>    0.207</td> <td>    0.938</td>\n",
       "</tr>\n",
       "<tr>\n",
       "  <th>wrist_circumf</th>    <td>   -1.5857</td> <td>    0.512</td> <td>   -3.095</td> <td> 0.002</td> <td>   -2.595</td> <td>   -0.576</td>\n",
       "</tr>\n",
       "</table>\n",
       "<table class=\"simpletable\">\n",
       "<tr>\n",
       "  <th>Omnibus:</th>       <td> 5.190</td> <th>  Durbin-Watson:     </th> <td>   1.807</td>\n",
       "</tr>\n",
       "<tr>\n",
       "  <th>Prob(Omnibus):</th> <td> 0.075</td> <th>  Jarque-Bera (JB):  </th> <td>   3.145</td>\n",
       "</tr>\n",
       "<tr>\n",
       "  <th>Skew:</th>          <td>-0.010</td> <th>  Prob(JB):          </th> <td>   0.208</td>\n",
       "</tr>\n",
       "<tr>\n",
       "  <th>Kurtosis:</th>      <td> 2.453</td> <th>  Cond. No.          </th> <td>6.47e+03</td>\n",
       "</tr>\n",
       "</table><br/><br/>Warnings:<br/>[1] Standard Errors assume that the covariance matrix of the errors is correctly specified.<br/>[2] The condition number is large, 6.47e+03. This might indicate that there are<br/>strong multicollinearity or other numerical problems."
      ],
      "text/plain": [
       "<class 'statsmodels.iolib.summary.Summary'>\n",
       "\"\"\"\n",
       "                            OLS Regression Results                            \n",
       "==============================================================================\n",
       "Dep. Variable:        percent_bodyfat   R-squared:                       0.741\n",
       "Model:                            OLS   Adj. R-squared:                  0.734\n",
       "Method:                 Least Squares   F-statistic:                     116.6\n",
       "Date:                Sun, 22 Sep 2019   Prob (F-statistic):           6.76e-69\n",
       "Time:                        14:27:15   Log-Likelihood:                -722.40\n",
       "No. Observations:                 252   AIC:                             1459.\n",
       "Df Residuals:                     245   BIC:                             1484.\n",
       "Df Model:                           6                                         \n",
       "Covariance Type:            nonrobust                                         \n",
       "====================================================================================\n",
       "                       coef    std err          t      P>|t|      [0.025      0.975]\n",
       "------------------------------------------------------------------------------------\n",
       "Intercept          -25.8927      8.187     -3.163      0.002     -42.018      -9.767\n",
       "age                  0.0461      0.029      1.605      0.110      -0.010       0.103\n",
       "weight              -0.0939      0.031     -2.984      0.003      -0.156      -0.032\n",
       "abdomen2_circumf     0.9453      0.068     13.824      0.000       0.811       1.080\n",
       "neck_circumf        -0.4004      0.222     -1.805      0.072      -0.837       0.036\n",
       "forearm_circumf      0.5721      0.186      3.084      0.002       0.207       0.938\n",
       "wrist_circumf       -1.5857      0.512     -3.095      0.002      -2.595      -0.576\n",
       "==============================================================================\n",
       "Omnibus:                        5.190   Durbin-Watson:                   1.807\n",
       "Prob(Omnibus):                  0.075   Jarque-Bera (JB):                3.145\n",
       "Skew:                          -0.010   Prob(JB):                        0.208\n",
       "Kurtosis:                       2.453   Cond. No.                     6.47e+03\n",
       "==============================================================================\n",
       "\n",
       "Warnings:\n",
       "[1] Standard Errors assume that the covariance matrix of the errors is correctly specified.\n",
       "[2] The condition number is large, 6.47e+03. This might indicate that there are\n",
       "strong multicollinearity or other numerical problems.\n",
       "\"\"\""
      ]
     },
     "execution_count": 40,
     "metadata": {},
     "output_type": "execute_result"
    }
   ],
   "source": [
    "lm7.summary()"
   ]
  },
  {
   "cell_type": "markdown",
   "metadata": {},
   "source": [
    "Observamos que en el comienzo F-test era 54.65 y ahora 116.6 por lo que podemos decir que hubo una mejora en este modelo con respecto a los anteriores.\n",
    "\n",
    "**Conclusión**\n",
    "\n",
    "Podemos concluir que la data presenta valores atípicos que retirándolos mejora el modelo y que éste modelo no necesariamente debe tener las 13 columnas originales, sino que de manera práctica podemos tomar 6 columnas con los p-valores más bajos y que estos no estos no presentan significativamente problema de múltiplecolinealidad. Con un buen valor de F-test y un error mejor que al inicio tenemos al final un buen modelo con un R-cuadrado de 75% y un error del 20% cometido por el modelo."
   ]
  }
 ],
 "metadata": {
  "kernelspec": {
   "display_name": "Python 3",
   "language": "python",
   "name": "python3"
  },
  "language_info": {
   "codemirror_mode": {
    "name": "ipython",
    "version": 3
   },
   "file_extension": ".py",
   "mimetype": "text/x-python",
   "name": "python",
   "nbconvert_exporter": "python",
   "pygments_lexer": "ipython3",
   "version": "3.6.8"
  }
 },
 "nbformat": 4,
 "nbformat_minor": 2
}
