{
 "cells": [
  {
   "cell_type": "markdown",
   "metadata": {},
   "source": [
    "# Ejercicio 2\n",
    "\n",
    "### Regresión lineal simple y transformación"
   ]
  },
  {
   "cell_type": "code",
   "execution_count": 1,
   "metadata": {},
   "outputs": [],
   "source": [
    "import pandas as pd\n",
    "import numpy as np\n",
    "import matplotlib.pyplot as plt"
   ]
  },
  {
   "cell_type": "code",
   "execution_count": 2,
   "metadata": {},
   "outputs": [
    {
     "data": {
      "text/html": [
       "<div>\n",
       "<style scoped>\n",
       "    .dataframe tbody tr th:only-of-type {\n",
       "        vertical-align: middle;\n",
       "    }\n",
       "\n",
       "    .dataframe tbody tr th {\n",
       "        vertical-align: top;\n",
       "    }\n",
       "\n",
       "    .dataframe thead th {\n",
       "        text-align: right;\n",
       "    }\n",
       "</style>\n",
       "<table border=\"1\" class=\"dataframe\">\n",
       "  <thead>\n",
       "    <tr style=\"text-align: right;\">\n",
       "      <th></th>\n",
       "      <th>age</th>\n",
       "      <th>mortality</th>\n",
       "    </tr>\n",
       "  </thead>\n",
       "  <tbody>\n",
       "    <tr>\n",
       "      <td>0</td>\n",
       "      <td>22.5</td>\n",
       "      <td>0.58</td>\n",
       "    </tr>\n",
       "    <tr>\n",
       "      <td>1</td>\n",
       "      <td>27.5</td>\n",
       "      <td>1.42</td>\n",
       "    </tr>\n",
       "    <tr>\n",
       "      <td>2</td>\n",
       "      <td>32.5</td>\n",
       "      <td>3.41</td>\n",
       "    </tr>\n",
       "    <tr>\n",
       "      <td>3</td>\n",
       "      <td>37.5</td>\n",
       "      <td>6.63</td>\n",
       "    </tr>\n",
       "    <tr>\n",
       "      <td>4</td>\n",
       "      <td>42.5</td>\n",
       "      <td>13.00</td>\n",
       "    </tr>\n",
       "  </tbody>\n",
       "</table>\n",
       "</div>"
      ],
      "text/plain": [
       "    age  mortality\n",
       "0  22.5       0.58\n",
       "1  27.5       1.42\n",
       "2  32.5       3.41\n",
       "3  37.5       6.63\n",
       "4  42.5      13.00"
      ]
     },
     "execution_count": 2,
     "metadata": {},
     "output_type": "execute_result"
    }
   ],
   "source": [
    "df = pd.read_csv('mortalitycancer.csv')\n",
    "df.head()"
   ]
  },
  {
   "cell_type": "markdown",
   "metadata": {},
   "source": [
    "### Limpieza de datos\n",
    "\n",
    "Siempre se comienza con una limpieza de datos para poder usar nuestro marco de datos."
   ]
  },
  {
   "cell_type": "code",
   "execution_count": 3,
   "metadata": {},
   "outputs": [
    {
     "data": {
      "text/plain": [
       "age          0\n",
       "mortality    0\n",
       "dtype: int64"
      ]
     },
     "execution_count": 3,
     "metadata": {},
     "output_type": "execute_result"
    }
   ],
   "source": [
    "df.isna().sum()"
   ]
  },
  {
   "cell_type": "markdown",
   "metadata": {},
   "source": [
    "Como esta todo limpio , procedemos a observar nuestros datos esto es parte del preprocesamiento de los datos."
   ]
  },
  {
   "cell_type": "markdown",
   "metadata": {},
   "source": [
    "### Visualización de los datos\n",
    "\n",
    "En esta sección como tenemos tan solo 2 columnas, podemos visualizarlo con un solo gráfico tipo scatter de la librería matplotlib."
   ]
  },
  {
   "cell_type": "code",
   "execution_count": 4,
   "metadata": {},
   "outputs": [
    {
     "data": {
      "text/plain": [
       "<matplotlib.collections.PathCollection at 0x7efe8ee15780>"
      ]
     },
     "execution_count": 4,
     "metadata": {},
     "output_type": "execute_result"
    },
    {
     "data": {
      "image/png": "[encoded data removed]",
      "text/plain": [
       "<Figure size 432x288 with 1 Axes>"
      ]
     },
     "metadata": {
      "needs_background": "light"
     },
     "output_type": "display_data"
    }
   ],
   "source": [
    "plt.scatter(df['age'],df['mortality'])"
   ]
  },
  {
   "cell_type": "markdown",
   "metadata": {},
   "source": [
    "Y como nos damos cuenta, la tendencia que marcan estos puntos no es una linea recta, si no que tiene la forma *talvez* de una ecuación cuadrática o de algún otro tipo que se procederá a verificar en el siguiente paso."
   ]
  },
  {
   "cell_type": "markdown",
   "metadata": {},
   "source": [
    "### Planteo del modelo con distintas regresiones\n",
    "\n",
    "Aquí continuamos con lo que pide el ejercicio y es investigar si los datos pueden ser descritos por:\n",
    "   \n",
    "   * a) y en x\n",
    "   * b) ln(y) en x\n",
    "   * c) ln(y) en ln(x)\n",
    "   \n",
    "Donde $y : mortality \\; y \\; x : age $"
   ]
  },
  {
   "cell_type": "markdown",
   "metadata": {},
   "source": [
    "### Primer caso Y en X\n",
    "\n",
    "Este tipo de regresión es el más simple y el más conocido es tan solo formar una relación lineal entre Y y X."
   ]
  },
  {
   "cell_type": "code",
   "execution_count": 5,
   "metadata": {},
   "outputs": [],
   "source": [
    "from sklearn.linear_model import LinearRegression"
   ]
  },
  {
   "cell_type": "code",
   "execution_count": 6,
   "metadata": {},
   "outputs": [],
   "source": [
    "x = df[\"age\"]\n",
    "y = df[\"mortality\"]\n",
    "\n",
    "x = x[:,np.newaxis]"
   ]
  },
  {
   "cell_type": "code",
   "execution_count": 7,
   "metadata": {},
   "outputs": [
    {
     "data": {
      "text/plain": [
       "LinearRegression(copy_X=True, fit_intercept=True, n_jobs=None, normalize=False)"
      ]
     },
     "execution_count": 7,
     "metadata": {},
     "output_type": "execute_result"
    }
   ],
   "source": [
    "lm = LinearRegression()\n",
    "lm.fit(x,y)"
   ]
  },
  {
   "cell_type": "markdown",
   "metadata": {},
   "source": [
    "#### Paramétros del modelo"
   ]
  },
  {
   "cell_type": "code",
   "execution_count": 8,
   "metadata": {},
   "outputs": [
    {
     "name": "stdout",
     "output_type": "stream",
     "text": [
      "-254.46557692307684\n"
     ]
    },
    {
     "data": {
      "text/plain": [
       "array([7.20130769])"
      ]
     },
     "execution_count": 8,
     "metadata": {},
     "output_type": "execute_result"
    }
   ],
   "source": [
    "print(lm.intercept_)\n",
    "lm.coef_"
   ]
  },
  {
   "cell_type": "markdown",
   "metadata": {},
   "source": [
    "Equación de predicción para el primer modelo:\n",
    "\n",
    "$$Y = -254.46557692307684 + 7.20130769*X$$"
   ]
  },
  {
   "cell_type": "code",
   "execution_count": 9,
   "metadata": {},
   "outputs": [
    {
     "data": {
      "text/plain": [
       "0     -92.436154\n",
       "1     -56.429615\n",
       "2     -20.423077\n",
       "3      15.583461\n",
       "4      51.590000\n",
       "5      87.596538\n",
       "6     123.603077\n",
       "7     159.609615\n",
       "8     195.616154\n",
       "9     231.622692\n",
       "10    267.629231\n",
       "11    303.635769\n",
       "12    339.642308\n",
       "Name: age, dtype: float64"
      ]
     },
     "execution_count": 9,
     "metadata": {},
     "output_type": "execute_result"
    }
   ],
   "source": [
    "y_pred = -254.46557692307684 + 7.20130769*df[\"age\"]\n",
    "y_pred"
   ]
  },
  {
   "cell_type": "code",
   "execution_count": 10,
   "metadata": {},
   "outputs": [
    {
     "data": {
      "text/plain": [
       "Text(0.5, 1.0, 'Valor real y predicción')"
      ]
     },
     "execution_count": 10,
     "metadata": {},
     "output_type": "execute_result"
    },
    {
     "data": {
      "image/png": "[encoded data removed]",
      "text/plain": [
       "<Figure size 432x288 with 1 Axes>"
      ]
     },
     "metadata": {
      "needs_background": "light"
     },
     "output_type": "display_data"
    }
   ],
   "source": [
    "plt.plot(x,y_pred)\n",
    "plt.plot(x,y, 'ro')\n",
    "plt.xlabel(\"age\")\n",
    "plt.ylabel(\"mortality\")\n",
    "plt.title(\"Valor real y predicción\")"
   ]
  },
  {
   "cell_type": "markdown",
   "metadata": {},
   "source": [
    "#### Coeficiente de determinación"
   ]
  },
  {
   "cell_type": "code",
   "execution_count": 11,
   "metadata": {},
   "outputs": [
    {
     "data": {
      "text/plain": [
       "0.8077176888851029"
      ]
     },
     "execution_count": 11,
     "metadata": {},
     "output_type": "execute_result"
    }
   ],
   "source": [
    "y_mean = np.mean(y)\n",
    "TSS = np.sum((y-y_mean)**2)\n",
    "\n",
    "RSS = np.sum((y-y_pred)**2)\n",
    "\n",
    "R_squared = 1 - RSS/TSS\n",
    "R_squared"
   ]
  },
  {
   "cell_type": "markdown",
   "metadata": {},
   "source": [
    "Otra forma de calcular pudo haber sido con el mismo paquete scikitlearn:"
   ]
  },
  {
   "cell_type": "code",
   "execution_count": 12,
   "metadata": {},
   "outputs": [
    {
     "data": {
      "text/plain": [
       "0.8077176888851028"
      ]
     },
     "execution_count": 12,
     "metadata": {},
     "output_type": "execute_result"
    }
   ],
   "source": [
    "lm.score(x,y)"
   ]
  },
  {
   "cell_type": "markdown",
   "metadata": {},
   "source": [
    "Si bien tenemos un R-cuadrado de 80% esto no es suficiente ya que la grafica se ve como la recta no pasa por la mayoría de los puntos, entonces examinaremos el error cometido por el modelo."
   ]
  },
  {
   "cell_type": "markdown",
   "metadata": {},
   "source": [
    "#### Error estándar residual\n",
    "\n",
    "Es la medida de la desviación estándar del error cometido por el modelo."
   ]
  },
  {
   "cell_type": "code",
   "execution_count": 13,
   "metadata": {},
   "outputs": [
    {
     "data": {
      "text/plain": [
       "71.45960199883683"
      ]
     },
     "execution_count": 13,
     "metadata": {},
     "output_type": "execute_result"
    }
   ],
   "source": [
    "RSE = np.sqrt(RSS/(len(df)-2))\n",
    "RSE"
   ]
  },
  {
   "cell_type": "markdown",
   "metadata": {},
   "source": [
    "Comparandolo con la media de los valores reales esperados nos da:"
   ]
  },
  {
   "cell_type": "code",
   "execution_count": 14,
   "metadata": {},
   "outputs": [
    {
     "data": {
      "text/plain": [
       "57.81377274556762"
      ]
     },
     "execution_count": 14,
     "metadata": {},
     "output_type": "execute_result"
    }
   ],
   "source": [
    "RSE / y_mean * 100"
   ]
  },
  {
   "cell_type": "markdown",
   "metadata": {},
   "source": [
    "**Alto error**.\n",
    "Observamos claramente como la desviación estándar del error es un poco más de 71 , esto es grande!.\n",
    "\n",
    "Y por otro lado si comparamos con la media de los valores esperados observamos que el error ocasionado por el modelo será al rededor de 57% ... Muy alto!.\n",
    "\n"
   ]
  },
  {
   "cell_type": "markdown",
   "metadata": {},
   "source": [
    "### Segundo caso ln(Y) en X\n",
    "\n",
    "En este caso se buscara la relación lineal de ln(y) sobre los puntos X, es decir se buscara los coeficientes de la siguiente ecuación:\n",
    "$$ ln(y) = a*x + b $$"
   ]
  },
  {
   "cell_type": "code",
   "execution_count": 15,
   "metadata": {},
   "outputs": [
    {
     "data": {
      "text/html": [
       "<div>\n",
       "<style scoped>\n",
       "    .dataframe tbody tr th:only-of-type {\n",
       "        vertical-align: middle;\n",
       "    }\n",
       "\n",
       "    .dataframe tbody tr th {\n",
       "        vertical-align: top;\n",
       "    }\n",
       "\n",
       "    .dataframe thead th {\n",
       "        text-align: right;\n",
       "    }\n",
       "</style>\n",
       "<table border=\"1\" class=\"dataframe\">\n",
       "  <thead>\n",
       "    <tr style=\"text-align: right;\">\n",
       "      <th></th>\n",
       "      <th>age</th>\n",
       "      <th>mortality</th>\n",
       "    </tr>\n",
       "  </thead>\n",
       "  <tbody>\n",
       "    <tr>\n",
       "      <td>0</td>\n",
       "      <td>22.5</td>\n",
       "      <td>-0.544727</td>\n",
       "    </tr>\n",
       "    <tr>\n",
       "      <td>1</td>\n",
       "      <td>27.5</td>\n",
       "      <td>0.350657</td>\n",
       "    </tr>\n",
       "    <tr>\n",
       "      <td>2</td>\n",
       "      <td>32.5</td>\n",
       "      <td>1.226712</td>\n",
       "    </tr>\n",
       "    <tr>\n",
       "      <td>3</td>\n",
       "      <td>37.5</td>\n",
       "      <td>1.891605</td>\n",
       "    </tr>\n",
       "    <tr>\n",
       "      <td>4</td>\n",
       "      <td>42.5</td>\n",
       "      <td>2.564949</td>\n",
       "    </tr>\n",
       "  </tbody>\n",
       "</table>\n",
       "</div>"
      ],
      "text/plain": [
       "    age  mortality\n",
       "0  22.5  -0.544727\n",
       "1  27.5   0.350657\n",
       "2  32.5   1.226712\n",
       "3  37.5   1.891605\n",
       "4  42.5   2.564949"
      ]
     },
     "execution_count": 15,
     "metadata": {},
     "output_type": "execute_result"
    }
   ],
   "source": [
    "col = df.columns.values.tolist()\n",
    "\n",
    "df2 = df.copy()\n",
    "df2.mortality = np.log(df.mortality)\n",
    "df2.head()"
   ]
  },
  {
   "cell_type": "code",
   "execution_count": 16,
   "metadata": {},
   "outputs": [
    {
     "data": {
      "text/plain": [
       "<matplotlib.collections.PathCollection at 0x7efe82a0c390>"
      ]
     },
     "execution_count": 16,
     "metadata": {},
     "output_type": "execute_result"
    },
    {
     "data": {
      "image/png": "[encoded data removed]",
      "text/plain": [
       "<Figure size 432x288 with 1 Axes>"
      ]
     },
     "metadata": {
      "needs_background": "light"
     },
     "output_type": "display_data"
    }
   ],
   "source": [
    "x2 = df2[\"age\"]\n",
    "y2 = df2[\"mortality\"]\n",
    "\n",
    "plt.scatter(x2,y2)"
   ]
  },
  {
   "cell_type": "code",
   "execution_count": 17,
   "metadata": {},
   "outputs": [
    {
     "data": {
      "text/plain": [
       "LinearRegression(copy_X=True, fit_intercept=True, n_jobs=None, normalize=False)"
      ]
     },
     "execution_count": 17,
     "metadata": {},
     "output_type": "execute_result"
    }
   ],
   "source": [
    "lm2 = LinearRegression()\n",
    "x2 = df2[[\"age\"]]\n",
    "lm2.fit(x2,y2)"
   ]
  },
  {
   "cell_type": "markdown",
   "metadata": {},
   "source": [
    "#### Parámetros del modelo"
   ]
  },
  {
   "cell_type": "code",
   "execution_count": 18,
   "metadata": {},
   "outputs": [
    {
     "name": "stdout",
     "output_type": "stream",
     "text": [
      "[0.11136742]\n",
      "-2.4075383046931558\n"
     ]
    }
   ],
   "source": [
    "print(lm2.coef_)\n",
    "print(lm2.intercept_)"
   ]
  },
  {
   "cell_type": "markdown",
   "metadata": {},
   "source": [
    "Ecucación de predicción para el segundo modelo:\n",
    "\n",
    "$$ ln(Y) = -2.4075383046931558 + 0.11136742*X$$"
   ]
  },
  {
   "cell_type": "code",
   "execution_count": 19,
   "metadata": {},
   "outputs": [
    {
     "data": {
      "text/plain": [
       "0     0.098229\n",
       "1     0.655066\n",
       "2     1.211903\n",
       "3     1.768740\n",
       "4     2.325577\n",
       "5     2.882414\n",
       "6     3.439251\n",
       "7     3.996088\n",
       "8     4.552925\n",
       "9     5.109763\n",
       "10    5.666600\n",
       "11    6.223437\n",
       "12    6.780274\n",
       "Name: age, dtype: float64"
      ]
     },
     "execution_count": 19,
     "metadata": {},
     "output_type": "execute_result"
    }
   ],
   "source": [
    "y2_pred = -2.4075383046931558 + 0.11136742*df2[\"age\"]\n",
    "y2_pred"
   ]
  },
  {
   "cell_type": "code",
   "execution_count": 20,
   "metadata": {},
   "outputs": [
    {
     "data": {
      "text/plain": [
       "Text(0.5, 1.0, 'valor real vs predicción')"
      ]
     },
     "execution_count": 20,
     "metadata": {},
     "output_type": "execute_result"
    },
    {
     "data": {
      "image/png": "[encoded data removed]",
      "text/plain": [
       "<Figure size 432x288 with 1 Axes>"
      ]
     },
     "metadata": {
      "needs_background": "light"
     },
     "output_type": "display_data"
    }
   ],
   "source": [
    "plt.plot(x2,y2, 'ro')\n",
    "plt.plot(x2,y2_pred)\n",
    "plt.xlabel(\"age\")\n",
    "plt.ylabel(\"ln(mortality)\")\n",
    "plt.title(\"valor real vs predicción\")"
   ]
  },
  {
   "cell_type": "markdown",
   "metadata": {},
   "source": [
    "#### Coeficiente de determinación"
   ]
  },
  {
   "cell_type": "code",
   "execution_count": 21,
   "metadata": {},
   "outputs": [
    {
     "data": {
      "text/plain": [
       "0.9720200804564276"
      ]
     },
     "execution_count": 21,
     "metadata": {},
     "output_type": "execute_result"
    }
   ],
   "source": [
    "y2_mean = np.mean(y2)\n",
    "\n",
    "TSS2 = np.sum((y2-y2_mean)**2)\n",
    "\n",
    "RSS2 = np.sum((y2-y2_pred)**2)\n",
    "\n",
    "R_squared2 = 1 - RSS2/TSS2\n",
    "R_squared2"
   ]
  },
  {
   "cell_type": "code",
   "execution_count": 22,
   "metadata": {},
   "outputs": [
    {
     "data": {
      "text/plain": [
       "0.9720200804564302"
      ]
     },
     "execution_count": 22,
     "metadata": {},
     "output_type": "execute_result"
    }
   ],
   "source": [
    "lm2.score(x2,y2)"
   ]
  },
  {
   "cell_type": "markdown",
   "metadata": {},
   "source": [
    "Como podemos ver el valor R-cuadrado mejoró bastante pero vamos a ver que pasa con el error."
   ]
  },
  {
   "cell_type": "markdown",
   "metadata": {},
   "source": [
    "#### Error estándar residual"
   ]
  },
  {
   "cell_type": "code",
   "execution_count": 23,
   "metadata": {},
   "outputs": [
    {
     "data": {
      "text/plain": [
       "0.3842847224582423"
      ]
     },
     "execution_count": 23,
     "metadata": {},
     "output_type": "execute_result"
    }
   ],
   "source": [
    "RSE2 = np.sqrt(RSS2/(len(df2)-2))\n",
    "RSE2"
   ]
  },
  {
   "cell_type": "markdown",
   "metadata": {},
   "source": [
    "Comparandolo con la media de los valores reales esperados nos da:"
   ]
  },
  {
   "cell_type": "code",
   "execution_count": 24,
   "metadata": {},
   "outputs": [
    {
     "data": {
      "text/plain": [
       "11.173499881780145"
      ]
     },
     "execution_count": 24,
     "metadata": {},
     "output_type": "execute_result"
    }
   ],
   "source": [
    "RSE2 / y2_mean * 100"
   ]
  },
  {
   "cell_type": "markdown",
   "metadata": {},
   "source": [
    "Ahora si podemos ver la desviación estandar del error de 0.3842... mucho menor que el anterior que era de 71.459...\n",
    "Y ya que lo comparamos con le media de los valores esperados se observa incrementos entorno al 11% de error generado por el modelo.\n",
    "Pero... ¿Con el tercer modelo mejorará más?"
   ]
  },
  {
   "cell_type": "markdown",
   "metadata": {},
   "source": [
    "### Tercer caso ln(Y) en ln(x)\n",
    "\n",
    "En este último caso hallaremos los coeficientes de la relación lineal que tiene ln(y) con ln(x):\n",
    "$$ ln(y) = a*ln(x) + b$$"
   ]
  },
  {
   "cell_type": "code",
   "execution_count": 25,
   "metadata": {},
   "outputs": [
    {
     "data": {
      "text/html": [
       "<div>\n",
       "<style scoped>\n",
       "    .dataframe tbody tr th:only-of-type {\n",
       "        vertical-align: middle;\n",
       "    }\n",
       "\n",
       "    .dataframe tbody tr th {\n",
       "        vertical-align: top;\n",
       "    }\n",
       "\n",
       "    .dataframe thead th {\n",
       "        text-align: right;\n",
       "    }\n",
       "</style>\n",
       "<table border=\"1\" class=\"dataframe\">\n",
       "  <thead>\n",
       "    <tr style=\"text-align: right;\">\n",
       "      <th></th>\n",
       "      <th>age</th>\n",
       "      <th>mortality</th>\n",
       "    </tr>\n",
       "  </thead>\n",
       "  <tbody>\n",
       "    <tr>\n",
       "      <td>0</td>\n",
       "      <td>3.113515</td>\n",
       "      <td>-0.544727</td>\n",
       "    </tr>\n",
       "    <tr>\n",
       "      <td>1</td>\n",
       "      <td>3.314186</td>\n",
       "      <td>0.350657</td>\n",
       "    </tr>\n",
       "    <tr>\n",
       "      <td>2</td>\n",
       "      <td>3.481240</td>\n",
       "      <td>1.226712</td>\n",
       "    </tr>\n",
       "    <tr>\n",
       "      <td>3</td>\n",
       "      <td>3.624341</td>\n",
       "      <td>1.891605</td>\n",
       "    </tr>\n",
       "    <tr>\n",
       "      <td>4</td>\n",
       "      <td>3.749504</td>\n",
       "      <td>2.564949</td>\n",
       "    </tr>\n",
       "  </tbody>\n",
       "</table>\n",
       "</div>"
      ],
      "text/plain": [
       "        age  mortality\n",
       "0  3.113515  -0.544727\n",
       "1  3.314186   0.350657\n",
       "2  3.481240   1.226712\n",
       "3  3.624341   1.891605\n",
       "4  3.749504   2.564949"
      ]
     },
     "execution_count": 25,
     "metadata": {},
     "output_type": "execute_result"
    }
   ],
   "source": [
    "df3 = df.copy()\n",
    "df3.age = np.log(df.age)\n",
    "df3.mortality = np.log(df.mortality)\n",
    "df3.head()"
   ]
  },
  {
   "cell_type": "code",
   "execution_count": 49,
   "metadata": {},
   "outputs": [
    {
     "data": {
      "text/plain": [
       "<matplotlib.collections.PathCollection at 0x7efe80f22898>"
      ]
     },
     "execution_count": 49,
     "metadata": {},
     "output_type": "execute_result"
    },
    {
     "data": {
      "image/png": "[encoded data removed]",
      "text/plain": [
       "<Figure size 432x288 with 1 Axes>"
      ]
     },
     "metadata": {
      "needs_background": "light"
     },
     "output_type": "display_data"
    }
   ],
   "source": [
    "x3 = df3[\"age\"]\n",
    "y3 = df3[\"mortality\"]\n",
    "\n",
    "plt.scatter(x3,y3)"
   ]
  },
  {
   "cell_type": "code",
   "execution_count": 56,
   "metadata": {},
   "outputs": [
    {
     "data": {
      "text/plain": [
       "LinearRegression(copy_X=True, fit_intercept=True, n_jobs=None, normalize=False)"
      ]
     },
     "execution_count": 56,
     "metadata": {},
     "output_type": "execute_result"
    }
   ],
   "source": [
    "x3 = df3[[\"age\"]]\n",
    "\n",
    "lm3 = LinearRegression()\n",
    "lm3.fit(x3,y3)"
   ]
  },
  {
   "cell_type": "markdown",
   "metadata": {},
   "source": [
    "#### Parámetros del modelo"
   ]
  },
  {
   "cell_type": "code",
   "execution_count": 28,
   "metadata": {},
   "outputs": [
    {
     "name": "stdout",
     "output_type": "stream",
     "text": [
      "-17.346789659504893\n"
     ]
    },
    {
     "data": {
      "text/plain": [
       "array([5.34556182])"
      ]
     },
     "execution_count": 28,
     "metadata": {},
     "output_type": "execute_result"
    }
   ],
   "source": [
    "print(lm3.intercept_)\n",
    "lm3.coef_"
   ]
  },
  {
   "cell_type": "markdown",
   "metadata": {},
   "source": [
    "Ecuación de predicción para el tercer modelo:\n",
    "    \n",
    "$$ ln(Y) = -17.346789659504893 + 5.34556182 * ln(X)$$"
   ]
  },
  {
   "cell_type": "code",
   "execution_count": 29,
   "metadata": {},
   "outputs": [
    {
     "data": {
      "text/plain": [
       "0    -0.703301\n",
       "1     0.369397\n",
       "2     1.262394\n",
       "3     2.027349\n",
       "4     2.696416\n",
       "5     3.290980\n",
       "6     3.825982\n",
       "7     4.312277\n",
       "8     4.757999\n",
       "9     5.169399\n",
       "10    5.551387\n",
       "11    5.907890\n",
       "12    6.242096\n",
       "Name: age, dtype: float64"
      ]
     },
     "execution_count": 29,
     "metadata": {},
     "output_type": "execute_result"
    }
   ],
   "source": [
    "y3_pred = -17.346789659504893 + 5.34556182 * df3[\"age\"]\n",
    "y3_pred"
   ]
  },
  {
   "cell_type": "code",
   "execution_count": 30,
   "metadata": {},
   "outputs": [
    {
     "data": {
      "text/plain": [
       "Text(0.5, 1.0, 'Valor real vs predecido')"
      ]
     },
     "execution_count": 30,
     "metadata": {},
     "output_type": "execute_result"
    },
    {
     "data": {
      "image/png": "[encoded data removed]",
      "text/plain": [
       "<Figure size 432x288 with 1 Axes>"
      ]
     },
     "metadata": {
      "needs_background": "light"
     },
     "output_type": "display_data"
    }
   ],
   "source": [
    "plt.plot(x3,y3,'ro')\n",
    "plt.plot(x3,y3_pred)\n",
    "plt.xlabel(\"ln(age)\")\n",
    "plt.ylabel(\"ln(mortality)\")\n",
    "plt.title(\"Valor real vs predecido\")"
   ]
  },
  {
   "cell_type": "markdown",
   "metadata": {},
   "source": [
    "#### Coeficiente de determinación"
   ]
  },
  {
   "cell_type": "code",
   "execution_count": 31,
   "metadata": {},
   "outputs": [
    {
     "data": {
      "text/plain": [
       "0.998096203391949"
      ]
     },
     "execution_count": 31,
     "metadata": {},
     "output_type": "execute_result"
    }
   ],
   "source": [
    "y3_mean = np.mean(y3)\n",
    "\n",
    "TSS3 = np.sum((y3-y3_mean)**2)\n",
    "\n",
    "RSS3 = np.sum((y3-y3_pred)**2)\n",
    "\n",
    "R_squared3 = 1 - RSS3/TSS3\n",
    "R_squared3"
   ]
  },
  {
   "cell_type": "code",
   "execution_count": 32,
   "metadata": {},
   "outputs": [
    {
     "data": {
      "text/plain": [
       "0.998096203391949"
      ]
     },
     "execution_count": 32,
     "metadata": {},
     "output_type": "execute_result"
    }
   ],
   "source": [
    "lm3.score(x3,y3)"
   ]
  },
  {
   "cell_type": "markdown",
   "metadata": {},
   "source": [
    "Claramente vemos como esto mejoró hasta casi casi un 100% pero tendremos que ver el error para confirmar la mejora total de nuestro tercer y último modelo."
   ]
  },
  {
   "cell_type": "markdown",
   "metadata": {},
   "source": [
    "#### Error estándar residual"
   ]
  },
  {
   "cell_type": "code",
   "execution_count": 33,
   "metadata": {},
   "outputs": [
    {
     "data": {
      "text/plain": [
       "0.10023979337532747"
      ]
     },
     "execution_count": 33,
     "metadata": {},
     "output_type": "execute_result"
    }
   ],
   "source": [
    "RSE3 = np.sqrt(RSS3/(len(df3)-2))\n",
    "RSE3"
   ]
  },
  {
   "cell_type": "code",
   "execution_count": 34,
   "metadata": {},
   "outputs": [
    {
     "data": {
      "text/plain": [
       "2.914581959605729"
      ]
     },
     "execution_count": 34,
     "metadata": {},
     "output_type": "execute_result"
    }
   ],
   "source": [
    "RSE3 / y3_mean * 100"
   ]
  },
  {
   "cell_type": "markdown",
   "metadata": {},
   "source": [
    "Aqui podemos ver como la desviación estándar del error bajó hasta 0.100 que es muy cerca del valor deseado,\n",
    "y el error ocasionado por el modelo es 2.91% un error bajo !, quedando asi demostrado que **el mejor modelo es el tercero**."
   ]
  },
  {
   "cell_type": "markdown",
   "metadata": {},
   "source": [
    "Como la ecuación era:\n",
    "    \n",
    "$$ ln(Y) = a + b*ln(X)$$\n",
    "\n",
    "Entonces la ecuación original (aplicando el número de euler a ambos lados) sería:\n",
    "\n",
    "$$  Y = e^{a}*X^{b}$$\n",
    "\n",
    "Y en el caso del  tercer modelo sería:\n",
    "\n",
    "$$ Y = e^{−17.346789659504893}*X^{5.3455618} $$ "
   ]
  },
  {
   "cell_type": "markdown",
   "metadata": {},
   "source": [
    "#### Comparando los valores obtenidos por los dos mejores modelos."
   ]
  },
  {
   "cell_type": "code",
   "execution_count": 39,
   "metadata": {},
   "outputs": [
    {
     "data": {
      "text/plain": [
       "0     0.098229\n",
       "1     0.655066\n",
       "2     1.211903\n",
       "3     1.768740\n",
       "4     2.325577\n",
       "5     2.882414\n",
       "6     3.439251\n",
       "7     3.996088\n",
       "8     4.552925\n",
       "9     5.109763\n",
       "10    5.666600\n",
       "11    6.223437\n",
       "12    6.780274\n",
       "Name: age, dtype: float64"
      ]
     },
     "execution_count": 39,
     "metadata": {},
     "output_type": "execute_result"
    }
   ],
   "source": [
    "y2_pred"
   ]
  },
  {
   "cell_type": "code",
   "execution_count": 40,
   "metadata": {},
   "outputs": [
    {
     "data": {
      "text/plain": [
       "0    -0.703301\n",
       "1     0.369397\n",
       "2     1.262394\n",
       "3     2.027349\n",
       "4     2.696416\n",
       "5     3.290980\n",
       "6     3.825982\n",
       "7     4.312277\n",
       "8     4.757999\n",
       "9     5.169399\n",
       "10    5.551387\n",
       "11    5.907890\n",
       "12    6.242096\n",
       "Name: age, dtype: float64"
      ]
     },
     "execution_count": 40,
     "metadata": {},
     "output_type": "execute_result"
    }
   ],
   "source": [
    "y3_pred"
   ]
  },
  {
   "cell_type": "code",
   "execution_count": 41,
   "metadata": {},
   "outputs": [
    {
     "data": {
      "text/plain": [
       "0    -0.801530\n",
       "1    -0.285669\n",
       "2     0.050492\n",
       "3     0.258609\n",
       "4     0.370839\n",
       "5     0.408566\n",
       "6     0.386731\n",
       "7     0.316189\n",
       "8     0.205073\n",
       "9     0.059636\n",
       "10   -0.115213\n",
       "11   -0.315547\n",
       "12   -0.538177\n",
       "Name: age, dtype: float64"
      ]
     },
     "execution_count": 41,
     "metadata": {},
     "output_type": "execute_result"
    }
   ],
   "source": [
    "y3_pred - y2_pred"
   ]
  },
  {
   "cell_type": "markdown",
   "metadata": {},
   "source": [
    "Los valores son relativamente bajos y esto es reflejo de nuestro calculo de error ocasionado por el modelo:\n",
    "en el segundo modelo era de 11% mientras que en el tercer modelo del 2% un cambio de 9%..."
   ]
  },
  {
   "cell_type": "markdown",
   "metadata": {},
   "source": [
    "#### Comparación por ecuación original\n",
    "\n",
    "Ya que nosotros hemos trabajado con las ecuaciones:\n",
    "\n",
    "$ln(y) = a + b*x$.\n",
    "\n",
    "$ln(y) = a + b*ln(x)$\n",
    "\n",
    "Ahora piden predecir los valores de mortalidad por el intervalo de edad (age) y para esto usaremos las ecuaciones de los dos mejores modelos:\n",
    "\n",
    "$ Y = e^{-2.4075383046931558}*e^{X*0.11136742}$\n",
    "\n",
    "$ Y = e^{−17.346789659504893}*X^{5.3455618} $"
   ]
  },
  {
   "cell_type": "code",
   "execution_count": 47,
   "metadata": {},
   "outputs": [
    {
     "data": {
      "text/html": [
       "<div>\n",
       "<style scoped>\n",
       "    .dataframe tbody tr th:only-of-type {\n",
       "        vertical-align: middle;\n",
       "    }\n",
       "\n",
       "    .dataframe tbody tr th {\n",
       "        vertical-align: top;\n",
       "    }\n",
       "\n",
       "    .dataframe thead th {\n",
       "        text-align: right;\n",
       "    }\n",
       "</style>\n",
       "<table border=\"1\" class=\"dataframe\">\n",
       "  <thead>\n",
       "    <tr style=\"text-align: right;\">\n",
       "      <th></th>\n",
       "      <th>age</th>\n",
       "    </tr>\n",
       "  </thead>\n",
       "  <tbody>\n",
       "    <tr>\n",
       "      <td>0</td>\n",
       "      <td>1.103215</td>\n",
       "    </tr>\n",
       "    <tr>\n",
       "      <td>1</td>\n",
       "      <td>1.925269</td>\n",
       "    </tr>\n",
       "    <tr>\n",
       "      <td>2</td>\n",
       "      <td>3.359872</td>\n",
       "    </tr>\n",
       "    <tr>\n",
       "      <td>3</td>\n",
       "      <td>5.863460</td>\n",
       "    </tr>\n",
       "    <tr>\n",
       "      <td>4</td>\n",
       "      <td>10.232583</td>\n",
       "    </tr>\n",
       "    <tr>\n",
       "      <td>5</td>\n",
       "      <td>17.857331</td>\n",
       "    </tr>\n",
       "    <tr>\n",
       "      <td>6</td>\n",
       "      <td>31.163616</td>\n",
       "    </tr>\n",
       "    <tr>\n",
       "      <td>7</td>\n",
       "      <td>54.384998</td>\n",
       "    </tr>\n",
       "    <tr>\n",
       "      <td>8</td>\n",
       "      <td>94.909656</td>\n",
       "    </tr>\n",
       "    <tr>\n",
       "      <td>9</td>\n",
       "      <td>165.631020</td>\n",
       "    </tr>\n",
       "    <tr>\n",
       "      <td>10</td>\n",
       "      <td>289.049989</td>\n",
       "    </tr>\n",
       "    <tr>\n",
       "      <td>11</td>\n",
       "      <td>504.433867</td>\n",
       "    </tr>\n",
       "    <tr>\n",
       "      <td>12</td>\n",
       "      <td>880.309760</td>\n",
       "    </tr>\n",
       "  </tbody>\n",
       "</table>\n",
       "</div>"
      ],
      "text/plain": [
       "           age\n",
       "0     1.103215\n",
       "1     1.925269\n",
       "2     3.359872\n",
       "3     5.863460\n",
       "4    10.232583\n",
       "5    17.857331\n",
       "6    31.163616\n",
       "7    54.384998\n",
       "8    94.909656\n",
       "9   165.631020\n",
       "10  289.049989\n",
       "11  504.433867\n",
       "12  880.309760"
      ]
     },
     "execution_count": 47,
     "metadata": {},
     "output_type": "execute_result"
    }
   ],
   "source": [
    "# modelo 2 \n",
    "\n",
    "y_original_pred2 = np.exp(-2.4075383046931558) * np.exp(0.11136742*x2)\n",
    "y_original_pred2"
   ]
  },
  {
   "cell_type": "code",
   "execution_count": 57,
   "metadata": {},
   "outputs": [
    {
     "data": {
      "text/html": [
       "<div>\n",
       "<style scoped>\n",
       "    .dataframe tbody tr th:only-of-type {\n",
       "        vertical-align: middle;\n",
       "    }\n",
       "\n",
       "    .dataframe tbody tr th {\n",
       "        vertical-align: top;\n",
       "    }\n",
       "\n",
       "    .dataframe thead th {\n",
       "        text-align: right;\n",
       "    }\n",
       "</style>\n",
       "<table border=\"1\" class=\"dataframe\">\n",
       "  <thead>\n",
       "    <tr style=\"text-align: right;\">\n",
       "      <th></th>\n",
       "      <th>age</th>\n",
       "    </tr>\n",
       "  </thead>\n",
       "  <tbody>\n",
       "    <tr>\n",
       "      <td>0</td>\n",
       "      <td>0.494949</td>\n",
       "    </tr>\n",
       "    <tr>\n",
       "      <td>1</td>\n",
       "      <td>1.446861</td>\n",
       "    </tr>\n",
       "    <tr>\n",
       "      <td>2</td>\n",
       "      <td>3.533873</td>\n",
       "    </tr>\n",
       "    <tr>\n",
       "      <td>3</td>\n",
       "      <td>7.593926</td>\n",
       "    </tr>\n",
       "    <tr>\n",
       "      <td>4</td>\n",
       "      <td>14.826500</td>\n",
       "    </tr>\n",
       "    <tr>\n",
       "      <td>5</td>\n",
       "      <td>26.869172</td>\n",
       "    </tr>\n",
       "    <tr>\n",
       "      <td>6</td>\n",
       "      <td>45.877826</td>\n",
       "    </tr>\n",
       "    <tr>\n",
       "      <td>7</td>\n",
       "      <td>74.610196</td>\n",
       "    </tr>\n",
       "    <tr>\n",
       "      <td>8</td>\n",
       "      <td>116.512519</td>\n",
       "    </tr>\n",
       "    <tr>\n",
       "      <td>9</td>\n",
       "      <td>175.809096</td>\n",
       "    </tr>\n",
       "    <tr>\n",
       "      <td>10</td>\n",
       "      <td>257.594600</td>\n",
       "    </tr>\n",
       "    <tr>\n",
       "      <td>11</td>\n",
       "      <td>367.928968</td>\n",
       "    </tr>\n",
       "    <tr>\n",
       "      <td>12</td>\n",
       "      <td>513.934759</td>\n",
       "    </tr>\n",
       "  </tbody>\n",
       "</table>\n",
       "</div>"
      ],
      "text/plain": [
       "           age\n",
       "0     0.494949\n",
       "1     1.446861\n",
       "2     3.533873\n",
       "3     7.593926\n",
       "4    14.826500\n",
       "5    26.869172\n",
       "6    45.877826\n",
       "7    74.610196\n",
       "8   116.512519\n",
       "9   175.809096\n",
       "10  257.594600\n",
       "11  367.928968\n",
       "12  513.934759"
      ]
     },
     "execution_count": 57,
     "metadata": {},
     "output_type": "execute_result"
    }
   ],
   "source": [
    "# modelo 3 \n",
    "\n",
    "y_original_pred3 = np.exp(-17.346789659504893) * (np.exp(x3)**(5.3455618))\n",
    "y_original_pred3"
   ]
  },
  {
   "cell_type": "code",
   "execution_count": 63,
   "metadata": {},
   "outputs": [
    {
     "data": {
      "text/plain": [
       "array([[ 6.08266302e-01],\n",
       "       [ 4.78408000e-01],\n",
       "       [-1.74000905e-01],\n",
       "       [-1.73046607e+00],\n",
       "       [-4.59391662e+00],\n",
       "       [-9.01184054e+00],\n",
       "       [-1.47142109e+01],\n",
       "       [-2.02251984e+01],\n",
       "       [-2.16028630e+01],\n",
       "       [-1.01780756e+01],\n",
       "       [ 3.14553886e+01],\n",
       "       [ 1.36504900e+02],\n",
       "       [ 3.66375001e+02]])"
      ]
     },
     "execution_count": 63,
     "metadata": {},
     "output_type": "execute_result"
    }
   ],
   "source": [
    "# Comparamos estos dos últimos valores predecidos\n",
    "\n",
    "y_original_pred2.values - y_original_pred3.values"
   ]
  },
  {
   "cell_type": "markdown",
   "metadata": {},
   "source": [
    "Notamos como estos valores son pequeños y repitiendo lo dicho anteriormente el tercer modelo es el más acertado de los tres modelos y es el que más se cerca a los valores reales del marco de datos original."
   ]
  }
 ],
 "metadata": {
  "kernelspec": {
   "display_name": "Python 3",
   "language": "python",
   "name": "python3"
  },
  "language_info": {
   "codemirror_mode": {
    "name": "ipython",
    "version": 3
   },
   "file_extension": ".py",
   "mimetype": "text/x-python",
   "name": "python",
   "nbconvert_exporter": "python",
   "pygments_lexer": "ipython3",
   "version": "3.6.8"
  }
 },
 "nbformat": 4,
 "nbformat_minor": 2
}
