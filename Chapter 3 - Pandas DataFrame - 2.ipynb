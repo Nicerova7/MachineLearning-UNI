{
 "cells": [
  {
   "cell_type": "markdown",
   "metadata": {},
   "source": [
    "## Pandas DataFrame 2"
   ]
  },
  {
   "cell_type": "code",
   "execution_count": 1,
   "metadata": {},
   "outputs": [],
   "source": [
    "import pandas as pd\n",
    "import numpy as np"
   ]
  },
  {
   "cell_type": "code",
   "execution_count": 4,
   "metadata": {},
   "outputs": [
    {
     "data": {
      "text/html": [
       "<div>\n",
       "<style scoped>\n",
       "    .dataframe tbody tr th:only-of-type {\n",
       "        vertical-align: middle;\n",
       "    }\n",
       "\n",
       "    .dataframe tbody tr th {\n",
       "        vertical-align: top;\n",
       "    }\n",
       "\n",
       "    .dataframe thead th {\n",
       "        text-align: right;\n",
       "    }\n",
       "</style>\n",
       "<table border=\"1\" class=\"dataframe\">\n",
       "  <thead>\n",
       "    <tr style=\"text-align: right;\">\n",
       "      <th></th>\n",
       "      <th>A</th>\n",
       "      <th>B</th>\n",
       "      <th>C</th>\n",
       "      <th>D</th>\n",
       "    </tr>\n",
       "  </thead>\n",
       "  <tbody>\n",
       "    <tr>\n",
       "      <th>0</th>\n",
       "      <td>0.187497</td>\n",
       "      <td>1.122150</td>\n",
       "      <td>-0.988277</td>\n",
       "      <td>-1.985934</td>\n",
       "    </tr>\n",
       "    <tr>\n",
       "      <th>1</th>\n",
       "      <td>0.360803</td>\n",
       "      <td>-0.562243</td>\n",
       "      <td>-0.340693</td>\n",
       "      <td>-0.986988</td>\n",
       "    </tr>\n",
       "    <tr>\n",
       "      <th>2</th>\n",
       "      <td>-0.040627</td>\n",
       "      <td>0.067333</td>\n",
       "      <td>-0.452978</td>\n",
       "      <td>0.686223</td>\n",
       "    </tr>\n",
       "    <tr>\n",
       "      <th>3</th>\n",
       "      <td>-0.279572</td>\n",
       "      <td>-0.702492</td>\n",
       "      <td>0.252265</td>\n",
       "      <td>0.958977</td>\n",
       "    </tr>\n",
       "    <tr>\n",
       "      <th>4</th>\n",
       "      <td>0.537438</td>\n",
       "      <td>-1.737568</td>\n",
       "      <td>0.714727</td>\n",
       "      <td>-0.939288</td>\n",
       "    </tr>\n",
       "  </tbody>\n",
       "</table>\n",
       "</div>"
      ],
      "text/plain": [
       "          A         B         C         D\n",
       "0  0.187497  1.122150 -0.988277 -1.985934\n",
       "1  0.360803 -0.562243 -0.340693 -0.986988\n",
       "2 -0.040627  0.067333 -0.452978  0.686223\n",
       "3 -0.279572 -0.702492  0.252265  0.958977\n",
       "4  0.537438 -1.737568  0.714727 -0.939288"
      ]
     },
     "execution_count": 4,
     "metadata": {},
     "output_type": "execute_result"
    }
   ],
   "source": [
    "df = pd.read_csv('prueba.csv')\n",
    "df.head()"
   ]
  },
  {
   "cell_type": "code",
   "execution_count": 8,
   "metadata": {},
   "outputs": [],
   "source": [
    "days = pd.date_range('20190827', periods = 10)\n",
    "df.index = days"
   ]
  },
  {
   "cell_type": "markdown",
   "metadata": {},
   "source": [
    "### Seleccionando solo un valor en el dataFrame"
   ]
  },
  {
   "cell_type": "code",
   "execution_count": 9,
   "metadata": {},
   "outputs": [
    {
     "data": {
      "text/plain": [
       "1.12215"
      ]
     },
     "execution_count": 9,
     "metadata": {},
     "output_type": "execute_result"
    }
   ],
   "source": [
    "from datetime import datetime\n",
    "\n",
    "d = datetime(2019,8,27,0,0,0)\n",
    "df.at[d, 'B']"
   ]
  },
  {
   "cell_type": "markdown",
   "metadata": {},
   "source": [
    "### Selección basado en el valor del dataFrame (ya no en el índice)"
   ]
  },
  {
   "cell_type": "code",
   "execution_count": 10,
   "metadata": {},
   "outputs": [
    {
     "data": {
      "text/html": [
       "<div>\n",
       "<style scoped>\n",
       "    .dataframe tbody tr th:only-of-type {\n",
       "        vertical-align: middle;\n",
       "    }\n",
       "\n",
       "    .dataframe tbody tr th {\n",
       "        vertical-align: top;\n",
       "    }\n",
       "\n",
       "    .dataframe thead th {\n",
       "        text-align: right;\n",
       "    }\n",
       "</style>\n",
       "<table border=\"1\" class=\"dataframe\">\n",
       "  <thead>\n",
       "    <tr style=\"text-align: right;\">\n",
       "      <th></th>\n",
       "      <th>A</th>\n",
       "      <th>B</th>\n",
       "      <th>C</th>\n",
       "      <th>D</th>\n",
       "    </tr>\n",
       "  </thead>\n",
       "  <tbody>\n",
       "    <tr>\n",
       "      <th>2019-08-27</th>\n",
       "      <td>0.187497</td>\n",
       "      <td>1.122150</td>\n",
       "      <td>-0.988277</td>\n",
       "      <td>-1.985934</td>\n",
       "    </tr>\n",
       "    <tr>\n",
       "      <th>2019-09-02</th>\n",
       "      <td>0.001268</td>\n",
       "      <td>0.951517</td>\n",
       "      <td>2.107360</td>\n",
       "      <td>-0.108726</td>\n",
       "    </tr>\n",
       "    <tr>\n",
       "      <th>2019-09-04</th>\n",
       "      <td>0.387023</td>\n",
       "      <td>1.706336</td>\n",
       "      <td>-2.452653</td>\n",
       "      <td>0.260466</td>\n",
       "    </tr>\n",
       "  </tbody>\n",
       "</table>\n",
       "</div>"
      ],
      "text/plain": [
       "                   A         B         C         D\n",
       "2019-08-27  0.187497  1.122150 -0.988277 -1.985934\n",
       "2019-09-02  0.001268  0.951517  2.107360 -0.108726\n",
       "2019-09-04  0.387023  1.706336 -2.452653  0.260466"
      ]
     },
     "execution_count": 10,
     "metadata": {},
     "output_type": "execute_result"
    }
   ],
   "source": [
    "df[(df.A>0) & (df.B>0)]"
   ]
  },
  {
   "cell_type": "markdown",
   "metadata": {},
   "source": [
    "### Transformando dataFrames"
   ]
  },
  {
   "cell_type": "code",
   "execution_count": 12,
   "metadata": {},
   "outputs": [
    {
     "data": {
      "text/html": [
       "<div>\n",
       "<style scoped>\n",
       "    .dataframe tbody tr th:only-of-type {\n",
       "        vertical-align: middle;\n",
       "    }\n",
       "\n",
       "    .dataframe tbody tr th {\n",
       "        vertical-align: top;\n",
       "    }\n",
       "\n",
       "    .dataframe thead th {\n",
       "        text-align: right;\n",
       "    }\n",
       "</style>\n",
       "<table border=\"1\" class=\"dataframe\">\n",
       "  <thead>\n",
       "    <tr style=\"text-align: right;\">\n",
       "      <th></th>\n",
       "      <th>2019-08-27 00:00:00</th>\n",
       "      <th>2019-08-28 00:00:00</th>\n",
       "      <th>2019-08-29 00:00:00</th>\n",
       "      <th>2019-08-30 00:00:00</th>\n",
       "      <th>2019-08-31 00:00:00</th>\n",
       "      <th>2019-09-01 00:00:00</th>\n",
       "      <th>2019-09-02 00:00:00</th>\n",
       "      <th>2019-09-03 00:00:00</th>\n",
       "      <th>2019-09-04 00:00:00</th>\n",
       "      <th>2019-09-05 00:00:00</th>\n",
       "    </tr>\n",
       "  </thead>\n",
       "  <tbody>\n",
       "    <tr>\n",
       "      <th>A</th>\n",
       "      <td>0.187497</td>\n",
       "      <td>0.360803</td>\n",
       "      <td>-0.040627</td>\n",
       "      <td>-0.279572</td>\n",
       "      <td>0.537438</td>\n",
       "      <td>0.070011</td>\n",
       "      <td>0.001268</td>\n",
       "      <td>-0.185258</td>\n",
       "      <td>0.387023</td>\n",
       "      <td>-1.054974</td>\n",
       "    </tr>\n",
       "    <tr>\n",
       "      <th>B</th>\n",
       "      <td>1.122150</td>\n",
       "      <td>-0.562243</td>\n",
       "      <td>0.067333</td>\n",
       "      <td>-0.702492</td>\n",
       "      <td>-1.737568</td>\n",
       "      <td>-0.516443</td>\n",
       "      <td>0.951517</td>\n",
       "      <td>0.856520</td>\n",
       "      <td>1.706336</td>\n",
       "      <td>0.556775</td>\n",
       "    </tr>\n",
       "    <tr>\n",
       "      <th>C</th>\n",
       "      <td>-0.988277</td>\n",
       "      <td>-0.340693</td>\n",
       "      <td>-0.452978</td>\n",
       "      <td>0.252265</td>\n",
       "      <td>0.714727</td>\n",
       "      <td>-1.655689</td>\n",
       "      <td>2.107360</td>\n",
       "      <td>-0.686285</td>\n",
       "      <td>-2.452653</td>\n",
       "      <td>-0.945219</td>\n",
       "    </tr>\n",
       "    <tr>\n",
       "      <th>D</th>\n",
       "      <td>-1.985934</td>\n",
       "      <td>-0.986988</td>\n",
       "      <td>0.686223</td>\n",
       "      <td>0.958977</td>\n",
       "      <td>-0.939288</td>\n",
       "      <td>0.246721</td>\n",
       "      <td>-0.108726</td>\n",
       "      <td>1.104195</td>\n",
       "      <td>0.260466</td>\n",
       "      <td>-0.030295</td>\n",
       "    </tr>\n",
       "  </tbody>\n",
       "</table>\n",
       "</div>"
      ],
      "text/plain": [
       "   2019-08-27  2019-08-28  2019-08-29  2019-08-30  2019-08-31  2019-09-01  \\\n",
       "A    0.187497    0.360803   -0.040627   -0.279572    0.537438    0.070011   \n",
       "B    1.122150   -0.562243    0.067333   -0.702492   -1.737568   -0.516443   \n",
       "C   -0.988277   -0.340693   -0.452978    0.252265    0.714727   -1.655689   \n",
       "D   -1.985934   -0.986988    0.686223    0.958977   -0.939288    0.246721   \n",
       "\n",
       "   2019-09-02  2019-09-03  2019-09-04  2019-09-05  \n",
       "A    0.001268   -0.185258    0.387023   -1.054974  \n",
       "B    0.951517    0.856520    1.706336    0.556775  \n",
       "C    2.107360   -0.686285   -2.452653   -0.945219  \n",
       "D   -0.108726    1.104195    0.260466   -0.030295  "
      ]
     },
     "execution_count": 12,
     "metadata": {},
     "output_type": "execute_result"
    }
   ],
   "source": [
    "df.transpose() # Transpuesta, tambien funciona df.T"
   ]
  },
  {
   "cell_type": "code",
   "execution_count": 17,
   "metadata": {},
   "outputs": [
    {
     "data": {
      "text/html": [
       "<div>\n",
       "<style scoped>\n",
       "    .dataframe tbody tr th:only-of-type {\n",
       "        vertical-align: middle;\n",
       "    }\n",
       "\n",
       "    .dataframe tbody tr th {\n",
       "        vertical-align: top;\n",
       "    }\n",
       "\n",
       "    .dataframe thead th {\n",
       "        text-align: right;\n",
       "    }\n",
       "</style>\n",
       "<table border=\"1\" class=\"dataframe\">\n",
       "  <thead>\n",
       "    <tr style=\"text-align: right;\">\n",
       "      <th></th>\n",
       "      <th>A</th>\n",
       "      <th>B</th>\n",
       "      <th>C</th>\n",
       "      <th>D</th>\n",
       "    </tr>\n",
       "  </thead>\n",
       "  <tbody>\n",
       "    <tr>\n",
       "      <th>2019-08-27</th>\n",
       "      <td>0.187497</td>\n",
       "      <td>1.122150</td>\n",
       "      <td>-0.988277</td>\n",
       "      <td>-1.985934</td>\n",
       "    </tr>\n",
       "    <tr>\n",
       "      <th>2019-08-28</th>\n",
       "      <td>0.360803</td>\n",
       "      <td>-0.562243</td>\n",
       "      <td>-0.340693</td>\n",
       "      <td>-0.986988</td>\n",
       "    </tr>\n",
       "    <tr>\n",
       "      <th>2019-08-29</th>\n",
       "      <td>-0.040627</td>\n",
       "      <td>0.067333</td>\n",
       "      <td>-0.452978</td>\n",
       "      <td>0.686223</td>\n",
       "    </tr>\n",
       "    <tr>\n",
       "      <th>2019-08-30</th>\n",
       "      <td>-0.279572</td>\n",
       "      <td>-0.702492</td>\n",
       "      <td>0.252265</td>\n",
       "      <td>0.958977</td>\n",
       "    </tr>\n",
       "    <tr>\n",
       "      <th>2019-08-31</th>\n",
       "      <td>0.537438</td>\n",
       "      <td>-1.737568</td>\n",
       "      <td>0.714727</td>\n",
       "      <td>-0.939288</td>\n",
       "    </tr>\n",
       "  </tbody>\n",
       "</table>\n",
       "</div>"
      ],
      "text/plain": [
       "                   A         B         C         D\n",
       "2019-08-27  0.187497  1.122150 -0.988277 -1.985934\n",
       "2019-08-28  0.360803 -0.562243 -0.340693 -0.986988\n",
       "2019-08-29 -0.040627  0.067333 -0.452978  0.686223\n",
       "2019-08-30 -0.279572 -0.702492  0.252265  0.958977\n",
       "2019-08-31  0.537438 -1.737568  0.714727 -0.939288"
      ]
     },
     "execution_count": 17,
     "metadata": {},
     "output_type": "execute_result"
    }
   ],
   "source": [
    "df.head() # no se cambia el formato"
   ]
  },
  {
   "cell_type": "markdown",
   "metadata": {},
   "source": [
    "### Checando el formato"
   ]
  },
  {
   "cell_type": "code",
   "execution_count": 13,
   "metadata": {},
   "outputs": [],
   "source": [
    "def checkSeriesOrDataframe(var):\n",
    "    if isinstance(var, pd.DataFrame):\n",
    "        return 'DataFrame'\n",
    "    if isinstance(var, pd.Series):\n",
    "        return 'Series'"
   ]
  },
  {
   "cell_type": "code",
   "execution_count": 18,
   "metadata": {},
   "outputs": [
    {
     "data": {
      "text/plain": [
       "'DataFrame'"
      ]
     },
     "execution_count": 18,
     "metadata": {},
     "output_type": "execute_result"
    }
   ],
   "source": [
    "checkSeriesOrDataframe(df[['A','B']])"
   ]
  },
  {
   "cell_type": "code",
   "execution_count": 15,
   "metadata": {},
   "outputs": [
    {
     "data": {
      "text/plain": [
       "'Series'"
      ]
     },
     "execution_count": 15,
     "metadata": {},
     "output_type": "execute_result"
    }
   ],
   "source": [
    "checkSeriesOrDataframe(df['A'])"
   ]
  },
  {
   "cell_type": "markdown",
   "metadata": {},
   "source": [
    "### Sorting dataFrames\n",
    "\n",
    "Existen dos maneras de ordenar dataFrames\n",
    "\n",
    "* Ordenar por label o etiqueta -> sort_index()\n",
    "* Ordenar por valor -> sort_values()"
   ]
  },
  {
   "cell_type": "code",
   "execution_count": 19,
   "metadata": {},
   "outputs": [
    {
     "data": {
      "text/html": [
       "<div>\n",
       "<style scoped>\n",
       "    .dataframe tbody tr th:only-of-type {\n",
       "        vertical-align: middle;\n",
       "    }\n",
       "\n",
       "    .dataframe tbody tr th {\n",
       "        vertical-align: top;\n",
       "    }\n",
       "\n",
       "    .dataframe thead th {\n",
       "        text-align: right;\n",
       "    }\n",
       "</style>\n",
       "<table border=\"1\" class=\"dataframe\">\n",
       "  <thead>\n",
       "    <tr style=\"text-align: right;\">\n",
       "      <th></th>\n",
       "      <th>A</th>\n",
       "      <th>B</th>\n",
       "      <th>C</th>\n",
       "      <th>D</th>\n",
       "    </tr>\n",
       "  </thead>\n",
       "  <tbody>\n",
       "    <tr>\n",
       "      <th>2019-09-05</th>\n",
       "      <td>-1.054974</td>\n",
       "      <td>0.556775</td>\n",
       "      <td>-0.945219</td>\n",
       "      <td>-0.030295</td>\n",
       "    </tr>\n",
       "    <tr>\n",
       "      <th>2019-09-04</th>\n",
       "      <td>0.387023</td>\n",
       "      <td>1.706336</td>\n",
       "      <td>-2.452653</td>\n",
       "      <td>0.260466</td>\n",
       "    </tr>\n",
       "    <tr>\n",
       "      <th>2019-09-03</th>\n",
       "      <td>-0.185258</td>\n",
       "      <td>0.856520</td>\n",
       "      <td>-0.686285</td>\n",
       "      <td>1.104195</td>\n",
       "    </tr>\n",
       "    <tr>\n",
       "      <th>2019-09-02</th>\n",
       "      <td>0.001268</td>\n",
       "      <td>0.951517</td>\n",
       "      <td>2.107360</td>\n",
       "      <td>-0.108726</td>\n",
       "    </tr>\n",
       "    <tr>\n",
       "      <th>2019-09-01</th>\n",
       "      <td>0.070011</td>\n",
       "      <td>-0.516443</td>\n",
       "      <td>-1.655689</td>\n",
       "      <td>0.246721</td>\n",
       "    </tr>\n",
       "    <tr>\n",
       "      <th>2019-08-31</th>\n",
       "      <td>0.537438</td>\n",
       "      <td>-1.737568</td>\n",
       "      <td>0.714727</td>\n",
       "      <td>-0.939288</td>\n",
       "    </tr>\n",
       "    <tr>\n",
       "      <th>2019-08-30</th>\n",
       "      <td>-0.279572</td>\n",
       "      <td>-0.702492</td>\n",
       "      <td>0.252265</td>\n",
       "      <td>0.958977</td>\n",
       "    </tr>\n",
       "    <tr>\n",
       "      <th>2019-08-29</th>\n",
       "      <td>-0.040627</td>\n",
       "      <td>0.067333</td>\n",
       "      <td>-0.452978</td>\n",
       "      <td>0.686223</td>\n",
       "    </tr>\n",
       "    <tr>\n",
       "      <th>2019-08-28</th>\n",
       "      <td>0.360803</td>\n",
       "      <td>-0.562243</td>\n",
       "      <td>-0.340693</td>\n",
       "      <td>-0.986988</td>\n",
       "    </tr>\n",
       "    <tr>\n",
       "      <th>2019-08-27</th>\n",
       "      <td>0.187497</td>\n",
       "      <td>1.122150</td>\n",
       "      <td>-0.988277</td>\n",
       "      <td>-1.985934</td>\n",
       "    </tr>\n",
       "  </tbody>\n",
       "</table>\n",
       "</div>"
      ],
      "text/plain": [
       "                   A         B         C         D\n",
       "2019-09-05 -1.054974  0.556775 -0.945219 -0.030295\n",
       "2019-09-04  0.387023  1.706336 -2.452653  0.260466\n",
       "2019-09-03 -0.185258  0.856520 -0.686285  1.104195\n",
       "2019-09-02  0.001268  0.951517  2.107360 -0.108726\n",
       "2019-09-01  0.070011 -0.516443 -1.655689  0.246721\n",
       "2019-08-31  0.537438 -1.737568  0.714727 -0.939288\n",
       "2019-08-30 -0.279572 -0.702492  0.252265  0.958977\n",
       "2019-08-29 -0.040627  0.067333 -0.452978  0.686223\n",
       "2019-08-28  0.360803 -0.562243 -0.340693 -0.986988\n",
       "2019-08-27  0.187497  1.122150 -0.988277 -1.985934"
      ]
     },
     "execution_count": 19,
     "metadata": {},
     "output_type": "execute_result"
    }
   ],
   "source": [
    "# Sorting by index\n",
    "df.sort_index(axis = 0, ascending = False)"
   ]
  },
  {
   "cell_type": "code",
   "execution_count": 20,
   "metadata": {},
   "outputs": [
    {
     "data": {
      "text/html": [
       "<div>\n",
       "<style scoped>\n",
       "    .dataframe tbody tr th:only-of-type {\n",
       "        vertical-align: middle;\n",
       "    }\n",
       "\n",
       "    .dataframe tbody tr th {\n",
       "        vertical-align: top;\n",
       "    }\n",
       "\n",
       "    .dataframe thead th {\n",
       "        text-align: right;\n",
       "    }\n",
       "</style>\n",
       "<table border=\"1\" class=\"dataframe\">\n",
       "  <thead>\n",
       "    <tr style=\"text-align: right;\">\n",
       "      <th></th>\n",
       "      <th>A</th>\n",
       "      <th>B</th>\n",
       "      <th>C</th>\n",
       "      <th>D</th>\n",
       "    </tr>\n",
       "  </thead>\n",
       "  <tbody>\n",
       "    <tr>\n",
       "      <th>2019-08-27</th>\n",
       "      <td>0.187497</td>\n",
       "      <td>1.122150</td>\n",
       "      <td>-0.988277</td>\n",
       "      <td>-1.985934</td>\n",
       "    </tr>\n",
       "    <tr>\n",
       "      <th>2019-08-28</th>\n",
       "      <td>0.360803</td>\n",
       "      <td>-0.562243</td>\n",
       "      <td>-0.340693</td>\n",
       "      <td>-0.986988</td>\n",
       "    </tr>\n",
       "    <tr>\n",
       "      <th>2019-08-29</th>\n",
       "      <td>-0.040627</td>\n",
       "      <td>0.067333</td>\n",
       "      <td>-0.452978</td>\n",
       "      <td>0.686223</td>\n",
       "    </tr>\n",
       "    <tr>\n",
       "      <th>2019-08-30</th>\n",
       "      <td>-0.279572</td>\n",
       "      <td>-0.702492</td>\n",
       "      <td>0.252265</td>\n",
       "      <td>0.958977</td>\n",
       "    </tr>\n",
       "    <tr>\n",
       "      <th>2019-08-31</th>\n",
       "      <td>0.537438</td>\n",
       "      <td>-1.737568</td>\n",
       "      <td>0.714727</td>\n",
       "      <td>-0.939288</td>\n",
       "    </tr>\n",
       "  </tbody>\n",
       "</table>\n",
       "</div>"
      ],
      "text/plain": [
       "                   A         B         C         D\n",
       "2019-08-27  0.187497  1.122150 -0.988277 -1.985934\n",
       "2019-08-28  0.360803 -0.562243 -0.340693 -0.986988\n",
       "2019-08-29 -0.040627  0.067333 -0.452978  0.686223\n",
       "2019-08-30 -0.279572 -0.702492  0.252265  0.958977\n",
       "2019-08-31  0.537438 -1.737568  0.714727 -0.939288"
      ]
     },
     "execution_count": 20,
     "metadata": {},
     "output_type": "execute_result"
    }
   ],
   "source": [
    "df.head()  # El original no se ve afectado"
   ]
  },
  {
   "cell_type": "code",
   "execution_count": 21,
   "metadata": {},
   "outputs": [
    {
     "data": {
      "text/html": [
       "<div>\n",
       "<style scoped>\n",
       "    .dataframe tbody tr th:only-of-type {\n",
       "        vertical-align: middle;\n",
       "    }\n",
       "\n",
       "    .dataframe tbody tr th {\n",
       "        vertical-align: top;\n",
       "    }\n",
       "\n",
       "    .dataframe thead th {\n",
       "        text-align: right;\n",
       "    }\n",
       "</style>\n",
       "<table border=\"1\" class=\"dataframe\">\n",
       "  <thead>\n",
       "    <tr style=\"text-align: right;\">\n",
       "      <th></th>\n",
       "      <th>D</th>\n",
       "      <th>C</th>\n",
       "      <th>B</th>\n",
       "      <th>A</th>\n",
       "    </tr>\n",
       "  </thead>\n",
       "  <tbody>\n",
       "    <tr>\n",
       "      <th>2019-08-27</th>\n",
       "      <td>-1.985934</td>\n",
       "      <td>-0.988277</td>\n",
       "      <td>1.122150</td>\n",
       "      <td>0.187497</td>\n",
       "    </tr>\n",
       "    <tr>\n",
       "      <th>2019-08-28</th>\n",
       "      <td>-0.986988</td>\n",
       "      <td>-0.340693</td>\n",
       "      <td>-0.562243</td>\n",
       "      <td>0.360803</td>\n",
       "    </tr>\n",
       "    <tr>\n",
       "      <th>2019-08-29</th>\n",
       "      <td>0.686223</td>\n",
       "      <td>-0.452978</td>\n",
       "      <td>0.067333</td>\n",
       "      <td>-0.040627</td>\n",
       "    </tr>\n",
       "    <tr>\n",
       "      <th>2019-08-30</th>\n",
       "      <td>0.958977</td>\n",
       "      <td>0.252265</td>\n",
       "      <td>-0.702492</td>\n",
       "      <td>-0.279572</td>\n",
       "    </tr>\n",
       "    <tr>\n",
       "      <th>2019-08-31</th>\n",
       "      <td>-0.939288</td>\n",
       "      <td>0.714727</td>\n",
       "      <td>-1.737568</td>\n",
       "      <td>0.537438</td>\n",
       "    </tr>\n",
       "    <tr>\n",
       "      <th>2019-09-01</th>\n",
       "      <td>0.246721</td>\n",
       "      <td>-1.655689</td>\n",
       "      <td>-0.516443</td>\n",
       "      <td>0.070011</td>\n",
       "    </tr>\n",
       "    <tr>\n",
       "      <th>2019-09-02</th>\n",
       "      <td>-0.108726</td>\n",
       "      <td>2.107360</td>\n",
       "      <td>0.951517</td>\n",
       "      <td>0.001268</td>\n",
       "    </tr>\n",
       "    <tr>\n",
       "      <th>2019-09-03</th>\n",
       "      <td>1.104195</td>\n",
       "      <td>-0.686285</td>\n",
       "      <td>0.856520</td>\n",
       "      <td>-0.185258</td>\n",
       "    </tr>\n",
       "    <tr>\n",
       "      <th>2019-09-04</th>\n",
       "      <td>0.260466</td>\n",
       "      <td>-2.452653</td>\n",
       "      <td>1.706336</td>\n",
       "      <td>0.387023</td>\n",
       "    </tr>\n",
       "    <tr>\n",
       "      <th>2019-09-05</th>\n",
       "      <td>-0.030295</td>\n",
       "      <td>-0.945219</td>\n",
       "      <td>0.556775</td>\n",
       "      <td>-1.054974</td>\n",
       "    </tr>\n",
       "  </tbody>\n",
       "</table>\n",
       "</div>"
      ],
      "text/plain": [
       "                   D         C         B         A\n",
       "2019-08-27 -1.985934 -0.988277  1.122150  0.187497\n",
       "2019-08-28 -0.986988 -0.340693 -0.562243  0.360803\n",
       "2019-08-29  0.686223 -0.452978  0.067333 -0.040627\n",
       "2019-08-30  0.958977  0.252265 -0.702492 -0.279572\n",
       "2019-08-31 -0.939288  0.714727 -1.737568  0.537438\n",
       "2019-09-01  0.246721 -1.655689 -0.516443  0.070011\n",
       "2019-09-02 -0.108726  2.107360  0.951517  0.001268\n",
       "2019-09-03  1.104195 -0.686285  0.856520 -0.185258\n",
       "2019-09-04  0.260466 -2.452653  1.706336  0.387023\n",
       "2019-09-05 -0.030295 -0.945219  0.556775 -1.054974"
      ]
     },
     "execution_count": 21,
     "metadata": {},
     "output_type": "execute_result"
    }
   ],
   "source": [
    "df.sort_index(axis = 1, ascending = False)"
   ]
  },
  {
   "cell_type": "code",
   "execution_count": 23,
   "metadata": {},
   "outputs": [
    {
     "data": {
      "text/html": [
       "<div>\n",
       "<style scoped>\n",
       "    .dataframe tbody tr th:only-of-type {\n",
       "        vertical-align: middle;\n",
       "    }\n",
       "\n",
       "    .dataframe tbody tr th {\n",
       "        vertical-align: top;\n",
       "    }\n",
       "\n",
       "    .dataframe thead th {\n",
       "        text-align: right;\n",
       "    }\n",
       "</style>\n",
       "<table border=\"1\" class=\"dataframe\">\n",
       "  <thead>\n",
       "    <tr style=\"text-align: right;\">\n",
       "      <th></th>\n",
       "      <th>A</th>\n",
       "      <th>B</th>\n",
       "      <th>C</th>\n",
       "      <th>D</th>\n",
       "    </tr>\n",
       "  </thead>\n",
       "  <tbody>\n",
       "    <tr>\n",
       "      <th>2019-09-05</th>\n",
       "      <td>-1.054974</td>\n",
       "      <td>0.556775</td>\n",
       "      <td>-0.945219</td>\n",
       "      <td>-0.030295</td>\n",
       "    </tr>\n",
       "    <tr>\n",
       "      <th>2019-08-30</th>\n",
       "      <td>-0.279572</td>\n",
       "      <td>-0.702492</td>\n",
       "      <td>0.252265</td>\n",
       "      <td>0.958977</td>\n",
       "    </tr>\n",
       "    <tr>\n",
       "      <th>2019-09-03</th>\n",
       "      <td>-0.185258</td>\n",
       "      <td>0.856520</td>\n",
       "      <td>-0.686285</td>\n",
       "      <td>1.104195</td>\n",
       "    </tr>\n",
       "    <tr>\n",
       "      <th>2019-08-29</th>\n",
       "      <td>-0.040627</td>\n",
       "      <td>0.067333</td>\n",
       "      <td>-0.452978</td>\n",
       "      <td>0.686223</td>\n",
       "    </tr>\n",
       "    <tr>\n",
       "      <th>2019-09-02</th>\n",
       "      <td>0.001268</td>\n",
       "      <td>0.951517</td>\n",
       "      <td>2.107360</td>\n",
       "      <td>-0.108726</td>\n",
       "    </tr>\n",
       "    <tr>\n",
       "      <th>2019-09-01</th>\n",
       "      <td>0.070011</td>\n",
       "      <td>-0.516443</td>\n",
       "      <td>-1.655689</td>\n",
       "      <td>0.246721</td>\n",
       "    </tr>\n",
       "    <tr>\n",
       "      <th>2019-08-27</th>\n",
       "      <td>0.187497</td>\n",
       "      <td>1.122150</td>\n",
       "      <td>-0.988277</td>\n",
       "      <td>-1.985934</td>\n",
       "    </tr>\n",
       "    <tr>\n",
       "      <th>2019-08-28</th>\n",
       "      <td>0.360803</td>\n",
       "      <td>-0.562243</td>\n",
       "      <td>-0.340693</td>\n",
       "      <td>-0.986988</td>\n",
       "    </tr>\n",
       "    <tr>\n",
       "      <th>2019-09-04</th>\n",
       "      <td>0.387023</td>\n",
       "      <td>1.706336</td>\n",
       "      <td>-2.452653</td>\n",
       "      <td>0.260466</td>\n",
       "    </tr>\n",
       "    <tr>\n",
       "      <th>2019-08-31</th>\n",
       "      <td>0.537438</td>\n",
       "      <td>-1.737568</td>\n",
       "      <td>0.714727</td>\n",
       "      <td>-0.939288</td>\n",
       "    </tr>\n",
       "  </tbody>\n",
       "</table>\n",
       "</div>"
      ],
      "text/plain": [
       "                   A         B         C         D\n",
       "2019-09-05 -1.054974  0.556775 -0.945219 -0.030295\n",
       "2019-08-30 -0.279572 -0.702492  0.252265  0.958977\n",
       "2019-09-03 -0.185258  0.856520 -0.686285  1.104195\n",
       "2019-08-29 -0.040627  0.067333 -0.452978  0.686223\n",
       "2019-09-02  0.001268  0.951517  2.107360 -0.108726\n",
       "2019-09-01  0.070011 -0.516443 -1.655689  0.246721\n",
       "2019-08-27  0.187497  1.122150 -0.988277 -1.985934\n",
       "2019-08-28  0.360803 -0.562243 -0.340693 -0.986988\n",
       "2019-09-04  0.387023  1.706336 -2.452653  0.260466\n",
       "2019-08-31  0.537438 -1.737568  0.714727 -0.939288"
      ]
     },
     "execution_count": 23,
     "metadata": {},
     "output_type": "execute_result"
    }
   ],
   "source": [
    "# Sorting by value \n",
    "df.sort_values('A', axis = 0)"
   ]
  },
  {
   "cell_type": "code",
   "execution_count": 27,
   "metadata": {},
   "outputs": [
    {
     "data": {
      "text/html": [
       "<div>\n",
       "<style scoped>\n",
       "    .dataframe tbody tr th:only-of-type {\n",
       "        vertical-align: middle;\n",
       "    }\n",
       "\n",
       "    .dataframe tbody tr th {\n",
       "        vertical-align: top;\n",
       "    }\n",
       "\n",
       "    .dataframe thead th {\n",
       "        text-align: right;\n",
       "    }\n",
       "</style>\n",
       "<table border=\"1\" class=\"dataframe\">\n",
       "  <thead>\n",
       "    <tr style=\"text-align: right;\">\n",
       "      <th></th>\n",
       "      <th>D</th>\n",
       "      <th>B</th>\n",
       "      <th>C</th>\n",
       "      <th>A</th>\n",
       "    </tr>\n",
       "  </thead>\n",
       "  <tbody>\n",
       "    <tr>\n",
       "      <th>2019-08-27</th>\n",
       "      <td>-1.985934</td>\n",
       "      <td>1.122150</td>\n",
       "      <td>-0.988277</td>\n",
       "      <td>0.187497</td>\n",
       "    </tr>\n",
       "    <tr>\n",
       "      <th>2019-08-28</th>\n",
       "      <td>-0.986988</td>\n",
       "      <td>-0.562243</td>\n",
       "      <td>-0.340693</td>\n",
       "      <td>0.360803</td>\n",
       "    </tr>\n",
       "    <tr>\n",
       "      <th>2019-08-29</th>\n",
       "      <td>0.686223</td>\n",
       "      <td>0.067333</td>\n",
       "      <td>-0.452978</td>\n",
       "      <td>-0.040627</td>\n",
       "    </tr>\n",
       "    <tr>\n",
       "      <th>2019-08-30</th>\n",
       "      <td>0.958977</td>\n",
       "      <td>-0.702492</td>\n",
       "      <td>0.252265</td>\n",
       "      <td>-0.279572</td>\n",
       "    </tr>\n",
       "    <tr>\n",
       "      <th>2019-08-31</th>\n",
       "      <td>-0.939288</td>\n",
       "      <td>-1.737568</td>\n",
       "      <td>0.714727</td>\n",
       "      <td>0.537438</td>\n",
       "    </tr>\n",
       "    <tr>\n",
       "      <th>2019-09-01</th>\n",
       "      <td>0.246721</td>\n",
       "      <td>-0.516443</td>\n",
       "      <td>-1.655689</td>\n",
       "      <td>0.070011</td>\n",
       "    </tr>\n",
       "    <tr>\n",
       "      <th>2019-09-02</th>\n",
       "      <td>-0.108726</td>\n",
       "      <td>0.951517</td>\n",
       "      <td>2.107360</td>\n",
       "      <td>0.001268</td>\n",
       "    </tr>\n",
       "    <tr>\n",
       "      <th>2019-09-03</th>\n",
       "      <td>1.104195</td>\n",
       "      <td>0.856520</td>\n",
       "      <td>-0.686285</td>\n",
       "      <td>-0.185258</td>\n",
       "    </tr>\n",
       "    <tr>\n",
       "      <th>2019-09-04</th>\n",
       "      <td>0.260466</td>\n",
       "      <td>1.706336</td>\n",
       "      <td>-2.452653</td>\n",
       "      <td>0.387023</td>\n",
       "    </tr>\n",
       "    <tr>\n",
       "      <th>2019-09-05</th>\n",
       "      <td>-0.030295</td>\n",
       "      <td>0.556775</td>\n",
       "      <td>-0.945219</td>\n",
       "      <td>-1.054974</td>\n",
       "    </tr>\n",
       "  </tbody>\n",
       "</table>\n",
       "</div>"
      ],
      "text/plain": [
       "                   D         B         C         A\n",
       "2019-08-27 -1.985934  1.122150 -0.988277  0.187497\n",
       "2019-08-28 -0.986988 -0.562243 -0.340693  0.360803\n",
       "2019-08-29  0.686223  0.067333 -0.452978 -0.040627\n",
       "2019-08-30  0.958977 -0.702492  0.252265 -0.279572\n",
       "2019-08-31 -0.939288 -1.737568  0.714727  0.537438\n",
       "2019-09-01  0.246721 -0.516443 -1.655689  0.070011\n",
       "2019-09-02 -0.108726  0.951517  2.107360  0.001268\n",
       "2019-09-03  1.104195  0.856520 -0.686285 -0.185258\n",
       "2019-09-04  0.260466  1.706336 -2.452653  0.387023\n",
       "2019-09-05 -0.030295  0.556775 -0.945219 -1.054974"
      ]
     },
     "execution_count": 27,
     "metadata": {},
     "output_type": "execute_result"
    }
   ],
   "source": [
    "df.sort_values('20190828', axis = 1)"
   ]
  },
  {
   "cell_type": "markdown",
   "metadata": {},
   "source": [
    "### Aplicando funciones a dataFrames"
   ]
  },
  {
   "cell_type": "code",
   "execution_count": 28,
   "metadata": {},
   "outputs": [],
   "source": [
    "import math\n",
    "\n",
    "sq_root = lambda x: math.sqrt(x) if x > 0 else x  # tomamos raiz de x si x es positiva, sino tomamos x\n",
    "sq      = lambda x: x**2  # x al cuadrado"
   ]
  },
  {
   "cell_type": "markdown",
   "metadata": {},
   "source": [
    "Es importante saber que la función apply sera aplicando a Series cuyo index sea un fila(indice) del dataframe o una columna del dataframe."
   ]
  },
  {
   "cell_type": "code",
   "execution_count": 30,
   "metadata": {},
   "outputs": [
    {
     "data": {
      "text/plain": [
       "'Series'"
      ]
     },
     "execution_count": 30,
     "metadata": {},
     "output_type": "execute_result"
    }
   ],
   "source": [
    "checkSeriesOrDataframe(df.B)"
   ]
  },
  {
   "cell_type": "code",
   "execution_count": 31,
   "metadata": {},
   "outputs": [
    {
     "data": {
      "text/plain": [
       "2019-08-27    1.059316\n",
       "2019-08-28   -0.562243\n",
       "2019-08-29    0.259486\n",
       "2019-08-30   -0.702492\n",
       "2019-08-31   -1.737568\n",
       "2019-09-01   -0.516443\n",
       "2019-09-02    0.975457\n",
       "2019-09-03    0.925484\n",
       "2019-09-04    1.306268\n",
       "2019-09-05    0.746174\n",
       "Freq: D, Name: B, dtype: float64"
      ]
     },
     "execution_count": 31,
     "metadata": {},
     "output_type": "execute_result"
    }
   ],
   "source": [
    "df.B.apply(sq_root)"
   ]
  },
  {
   "cell_type": "code",
   "execution_count": 32,
   "metadata": {},
   "outputs": [
    {
     "data": {
      "text/plain": [
       "2019-08-27    1.259221\n",
       "2019-08-28    0.316117\n",
       "2019-08-29    0.004534\n",
       "2019-08-30    0.493495\n",
       "2019-08-31    3.019143\n",
       "2019-09-01    0.266713\n",
       "2019-09-02    0.905385\n",
       "2019-09-03    0.733627\n",
       "2019-09-04    2.911583\n",
       "2019-09-05    0.309998\n",
       "Freq: D, Name: B, dtype: float64"
      ]
     },
     "execution_count": 32,
     "metadata": {},
     "output_type": "execute_result"
    }
   ],
   "source": [
    "df.B.apply(sq)"
   ]
  },
  {
   "cell_type": "code",
   "execution_count": 33,
   "metadata": {},
   "outputs": [
    {
     "ename": "ValueError",
     "evalue": "('The truth value of a Series is ambiguous. Use a.empty, a.bool(), a.item(), a.any() or a.all().', u'occurred at index A')",
     "output_type": "error",
     "traceback": [
      "\u001b[0;31m---------------------------------------------------------------------------\u001b[0m",
      "\u001b[0;31mValueError\u001b[0m                                Traceback (most recent call last)",
      "\u001b[0;32m<ipython-input-33-034975d25410>\u001b[0m in \u001b[0;36m<module>\u001b[0;34m()\u001b[0m\n\u001b[0;32m----> 1\u001b[0;31m \u001b[0mdf\u001b[0m\u001b[0;34m.\u001b[0m\u001b[0mapply\u001b[0m\u001b[0;34m(\u001b[0m\u001b[0msq_root\u001b[0m\u001b[0;34m)\u001b[0m \u001b[0;31m# error\u001b[0m\u001b[0;34m\u001b[0m\u001b[0m\n\u001b[0m",
      "\u001b[0;32m/home/nilex/.local/lib/python2.7/site-packages/pandas/core/frame.pyc\u001b[0m in \u001b[0;36mapply\u001b[0;34m(self, func, axis, broadcast, raw, reduce, result_type, args, **kwds)\u001b[0m\n\u001b[1;32m   6485\u001b[0m                          \u001b[0margs\u001b[0m\u001b[0;34m=\u001b[0m\u001b[0margs\u001b[0m\u001b[0;34m,\u001b[0m\u001b[0;34m\u001b[0m\u001b[0m\n\u001b[1;32m   6486\u001b[0m                          kwds=kwds)\n\u001b[0;32m-> 6487\u001b[0;31m         \u001b[0;32mreturn\u001b[0m \u001b[0mop\u001b[0m\u001b[0;34m.\u001b[0m\u001b[0mget_result\u001b[0m\u001b[0;34m(\u001b[0m\u001b[0;34m)\u001b[0m\u001b[0;34m\u001b[0m\u001b[0m\n\u001b[0m\u001b[1;32m   6488\u001b[0m \u001b[0;34m\u001b[0m\u001b[0m\n\u001b[1;32m   6489\u001b[0m     \u001b[0;32mdef\u001b[0m \u001b[0mapplymap\u001b[0m\u001b[0;34m(\u001b[0m\u001b[0mself\u001b[0m\u001b[0;34m,\u001b[0m \u001b[0mfunc\u001b[0m\u001b[0;34m)\u001b[0m\u001b[0;34m:\u001b[0m\u001b[0;34m\u001b[0m\u001b[0m\n",
      "\u001b[0;32m/home/nilex/.local/lib/python2.7/site-packages/pandas/core/apply.pyc\u001b[0m in \u001b[0;36mget_result\u001b[0;34m(self)\u001b[0m\n\u001b[1;32m    149\u001b[0m             \u001b[0;32mreturn\u001b[0m \u001b[0mself\u001b[0m\u001b[0;34m.\u001b[0m\u001b[0mapply_raw\u001b[0m\u001b[0;34m(\u001b[0m\u001b[0;34m)\u001b[0m\u001b[0;34m\u001b[0m\u001b[0m\n\u001b[1;32m    150\u001b[0m \u001b[0;34m\u001b[0m\u001b[0m\n\u001b[0;32m--> 151\u001b[0;31m         \u001b[0;32mreturn\u001b[0m \u001b[0mself\u001b[0m\u001b[0;34m.\u001b[0m\u001b[0mapply_standard\u001b[0m\u001b[0;34m(\u001b[0m\u001b[0;34m)\u001b[0m\u001b[0;34m\u001b[0m\u001b[0m\n\u001b[0m\u001b[1;32m    152\u001b[0m \u001b[0;34m\u001b[0m\u001b[0m\n\u001b[1;32m    153\u001b[0m     \u001b[0;32mdef\u001b[0m \u001b[0mapply_empty_result\u001b[0m\u001b[0;34m(\u001b[0m\u001b[0mself\u001b[0m\u001b[0;34m)\u001b[0m\u001b[0;34m:\u001b[0m\u001b[0;34m\u001b[0m\u001b[0m\n",
      "\u001b[0;32m/home/nilex/.local/lib/python2.7/site-packages/pandas/core/apply.pyc\u001b[0m in \u001b[0;36mapply_standard\u001b[0;34m(self)\u001b[0m\n\u001b[1;32m    255\u001b[0m \u001b[0;34m\u001b[0m\u001b[0m\n\u001b[1;32m    256\u001b[0m         \u001b[0;31m# compute the result using the series generator\u001b[0m\u001b[0;34m\u001b[0m\u001b[0;34m\u001b[0m\u001b[0m\n\u001b[0;32m--> 257\u001b[0;31m         \u001b[0mself\u001b[0m\u001b[0;34m.\u001b[0m\u001b[0mapply_series_generator\u001b[0m\u001b[0;34m(\u001b[0m\u001b[0;34m)\u001b[0m\u001b[0;34m\u001b[0m\u001b[0m\n\u001b[0m\u001b[1;32m    258\u001b[0m \u001b[0;34m\u001b[0m\u001b[0m\n\u001b[1;32m    259\u001b[0m         \u001b[0;31m# wrap results\u001b[0m\u001b[0;34m\u001b[0m\u001b[0;34m\u001b[0m\u001b[0m\n",
      "\u001b[0;32m/home/nilex/.local/lib/python2.7/site-packages/pandas/core/apply.pyc\u001b[0m in \u001b[0;36mapply_series_generator\u001b[0;34m(self)\u001b[0m\n\u001b[1;32m    284\u001b[0m             \u001b[0;32mtry\u001b[0m\u001b[0;34m:\u001b[0m\u001b[0;34m\u001b[0m\u001b[0m\n\u001b[1;32m    285\u001b[0m                 \u001b[0;32mfor\u001b[0m \u001b[0mi\u001b[0m\u001b[0;34m,\u001b[0m \u001b[0mv\u001b[0m \u001b[0;32min\u001b[0m \u001b[0menumerate\u001b[0m\u001b[0;34m(\u001b[0m\u001b[0mseries_gen\u001b[0m\u001b[0;34m)\u001b[0m\u001b[0;34m:\u001b[0m\u001b[0;34m\u001b[0m\u001b[0m\n\u001b[0;32m--> 286\u001b[0;31m                     \u001b[0mresults\u001b[0m\u001b[0;34m[\u001b[0m\u001b[0mi\u001b[0m\u001b[0;34m]\u001b[0m \u001b[0;34m=\u001b[0m \u001b[0mself\u001b[0m\u001b[0;34m.\u001b[0m\u001b[0mf\u001b[0m\u001b[0;34m(\u001b[0m\u001b[0mv\u001b[0m\u001b[0;34m)\u001b[0m\u001b[0;34m\u001b[0m\u001b[0m\n\u001b[0m\u001b[1;32m    287\u001b[0m                     \u001b[0mkeys\u001b[0m\u001b[0;34m.\u001b[0m\u001b[0mappend\u001b[0m\u001b[0;34m(\u001b[0m\u001b[0mv\u001b[0m\u001b[0;34m.\u001b[0m\u001b[0mname\u001b[0m\u001b[0;34m)\u001b[0m\u001b[0;34m\u001b[0m\u001b[0m\n\u001b[1;32m    288\u001b[0m             \u001b[0;32mexcept\u001b[0m \u001b[0mException\u001b[0m \u001b[0;32mas\u001b[0m \u001b[0me\u001b[0m\u001b[0;34m:\u001b[0m\u001b[0;34m\u001b[0m\u001b[0m\n",
      "\u001b[0;32m<ipython-input-28-90956ce34c5a>\u001b[0m in \u001b[0;36m<lambda>\u001b[0;34m(x)\u001b[0m\n\u001b[1;32m      1\u001b[0m \u001b[0;32mimport\u001b[0m \u001b[0mmath\u001b[0m\u001b[0;34m\u001b[0m\u001b[0m\n\u001b[1;32m      2\u001b[0m \u001b[0;34m\u001b[0m\u001b[0m\n\u001b[0;32m----> 3\u001b[0;31m \u001b[0msq_root\u001b[0m \u001b[0;34m=\u001b[0m \u001b[0;32mlambda\u001b[0m \u001b[0mx\u001b[0m\u001b[0;34m:\u001b[0m \u001b[0mmath\u001b[0m\u001b[0;34m.\u001b[0m\u001b[0msqrt\u001b[0m\u001b[0;34m(\u001b[0m\u001b[0mx\u001b[0m\u001b[0;34m)\u001b[0m \u001b[0;32mif\u001b[0m \u001b[0mx\u001b[0m \u001b[0;34m>\u001b[0m \u001b[0;36m0\u001b[0m \u001b[0;32melse\u001b[0m \u001b[0mx\u001b[0m  \u001b[0;31m# tomamos raiz de x si x es positiva, sino tomamos x\u001b[0m\u001b[0;34m\u001b[0m\u001b[0m\n\u001b[0m\u001b[1;32m      4\u001b[0m \u001b[0msq\u001b[0m      \u001b[0;34m=\u001b[0m \u001b[0;32mlambda\u001b[0m \u001b[0mx\u001b[0m\u001b[0;34m:\u001b[0m \u001b[0mx\u001b[0m\u001b[0;34m**\u001b[0m\u001b[0;36m2\u001b[0m  \u001b[0;31m# x al cuadrado\u001b[0m\u001b[0;34m\u001b[0m\u001b[0m\n",
      "\u001b[0;32m/home/nilex/.local/lib/python2.7/site-packages/pandas/core/generic.pyc\u001b[0m in \u001b[0;36m__nonzero__\u001b[0;34m(self)\u001b[0m\n\u001b[1;32m   1476\u001b[0m         raise ValueError(\"The truth value of a {0} is ambiguous. \"\n\u001b[1;32m   1477\u001b[0m                          \u001b[0;34m\"Use a.empty, a.bool(), a.item(), a.any() or a.all().\"\u001b[0m\u001b[0;34m\u001b[0m\u001b[0m\n\u001b[0;32m-> 1478\u001b[0;31m                          .format(self.__class__.__name__))\n\u001b[0m\u001b[1;32m   1479\u001b[0m \u001b[0;34m\u001b[0m\u001b[0m\n\u001b[1;32m   1480\u001b[0m     \u001b[0m__bool__\u001b[0m \u001b[0;34m=\u001b[0m \u001b[0m__nonzero__\u001b[0m\u001b[0;34m\u001b[0m\u001b[0m\n",
      "\u001b[0;31mValueError\u001b[0m: ('The truth value of a Series is ambiguous. Use a.empty, a.bool(), a.item(), a.any() or a.all().', u'occurred at index A')"
     ]
    }
   ],
   "source": [
    "df.apply(sq_root) # error"
   ]
  },
  {
   "cell_type": "code",
   "execution_count": 36,
   "metadata": {},
   "outputs": [
    {
     "data": {
      "text/html": [
       "<div>\n",
       "<style scoped>\n",
       "    .dataframe tbody tr th:only-of-type {\n",
       "        vertical-align: middle;\n",
       "    }\n",
       "\n",
       "    .dataframe tbody tr th {\n",
       "        vertical-align: top;\n",
       "    }\n",
       "\n",
       "    .dataframe thead th {\n",
       "        text-align: right;\n",
       "    }\n",
       "</style>\n",
       "<table border=\"1\" class=\"dataframe\">\n",
       "  <thead>\n",
       "    <tr style=\"text-align: right;\">\n",
       "      <th></th>\n",
       "      <th>A</th>\n",
       "      <th>B</th>\n",
       "      <th>C</th>\n",
       "      <th>D</th>\n",
       "    </tr>\n",
       "  </thead>\n",
       "  <tbody>\n",
       "    <tr>\n",
       "      <th>2019-08-27</th>\n",
       "      <td>0.035155</td>\n",
       "      <td>1.259221</td>\n",
       "      <td>0.976691</td>\n",
       "      <td>3.943934</td>\n",
       "    </tr>\n",
       "    <tr>\n",
       "      <th>2019-08-28</th>\n",
       "      <td>0.130179</td>\n",
       "      <td>0.316117</td>\n",
       "      <td>0.116072</td>\n",
       "      <td>0.974145</td>\n",
       "    </tr>\n",
       "    <tr>\n",
       "      <th>2019-08-29</th>\n",
       "      <td>0.001651</td>\n",
       "      <td>0.004534</td>\n",
       "      <td>0.205189</td>\n",
       "      <td>0.470902</td>\n",
       "    </tr>\n",
       "    <tr>\n",
       "      <th>2019-08-30</th>\n",
       "      <td>0.078161</td>\n",
       "      <td>0.493495</td>\n",
       "      <td>0.063638</td>\n",
       "      <td>0.919637</td>\n",
       "    </tr>\n",
       "    <tr>\n",
       "      <th>2019-08-31</th>\n",
       "      <td>0.288840</td>\n",
       "      <td>3.019143</td>\n",
       "      <td>0.510835</td>\n",
       "      <td>0.882262</td>\n",
       "    </tr>\n",
       "    <tr>\n",
       "      <th>2019-09-01</th>\n",
       "      <td>0.004902</td>\n",
       "      <td>0.266713</td>\n",
       "      <td>2.741306</td>\n",
       "      <td>0.060871</td>\n",
       "    </tr>\n",
       "    <tr>\n",
       "      <th>2019-09-02</th>\n",
       "      <td>0.000002</td>\n",
       "      <td>0.905385</td>\n",
       "      <td>4.440966</td>\n",
       "      <td>0.011821</td>\n",
       "    </tr>\n",
       "    <tr>\n",
       "      <th>2019-09-03</th>\n",
       "      <td>0.034321</td>\n",
       "      <td>0.733627</td>\n",
       "      <td>0.470987</td>\n",
       "      <td>1.219247</td>\n",
       "    </tr>\n",
       "    <tr>\n",
       "      <th>2019-09-04</th>\n",
       "      <td>0.149787</td>\n",
       "      <td>2.911583</td>\n",
       "      <td>6.015507</td>\n",
       "      <td>0.067843</td>\n",
       "    </tr>\n",
       "    <tr>\n",
       "      <th>2019-09-05</th>\n",
       "      <td>1.112970</td>\n",
       "      <td>0.309998</td>\n",
       "      <td>0.893439</td>\n",
       "      <td>0.000918</td>\n",
       "    </tr>\n",
       "  </tbody>\n",
       "</table>\n",
       "</div>"
      ],
      "text/plain": [
       "                   A         B         C         D\n",
       "2019-08-27  0.035155  1.259221  0.976691  3.943934\n",
       "2019-08-28  0.130179  0.316117  0.116072  0.974145\n",
       "2019-08-29  0.001651  0.004534  0.205189  0.470902\n",
       "2019-08-30  0.078161  0.493495  0.063638  0.919637\n",
       "2019-08-31  0.288840  3.019143  0.510835  0.882262\n",
       "2019-09-01  0.004902  0.266713  2.741306  0.060871\n",
       "2019-09-02  0.000002  0.905385  4.440966  0.011821\n",
       "2019-09-03  0.034321  0.733627  0.470987  1.219247\n",
       "2019-09-04  0.149787  2.911583  6.015507  0.067843\n",
       "2019-09-05  1.112970  0.309998  0.893439  0.000918"
      ]
     },
     "execution_count": 36,
     "metadata": {},
     "output_type": "execute_result"
    }
   ],
   "source": [
    "df.apply(sq) # interesantemente si podemos aplicar la funcion sq al data frame ya que éste toma columna por columna"
   ]
  },
  {
   "cell_type": "markdown",
   "metadata": {},
   "source": [
    "Pero en el caso de la funcion anterior podemos hacer lo mismo y realizar la operación columna por columna"
   ]
  },
  {
   "cell_type": "code",
   "execution_count": 37,
   "metadata": {},
   "outputs": [
    {
     "name": "stdout",
     "output_type": "stream",
     "text": [
      "                   A         B         C         D\n",
      "2019-08-27  0.433009  1.059316 -0.988277 -1.985934\n",
      "2019-08-28  0.600669 -0.562243 -0.340693 -0.986988\n",
      "2019-08-29 -0.040627  0.259486 -0.452978  0.828386\n",
      "2019-08-30 -0.279572 -0.702492  0.502260  0.979274\n",
      "2019-08-31  0.733102 -1.737568  0.845415 -0.939288\n",
      "2019-09-01  0.264596 -0.516443 -1.655689  0.496710\n",
      "2019-09-02  0.035609  0.975457  1.451675 -0.108726\n",
      "2019-09-03 -0.185258  0.925484 -0.686285  1.050807\n",
      "2019-09-04  0.622112  1.306268 -2.452653  0.510359\n",
      "2019-09-05 -1.054974  0.746174 -0.945219 -0.030295\n"
     ]
    }
   ],
   "source": [
    "for column in df:\n",
    "    df[column] = df[column].apply(sq_root)\n",
    "\n",
    "print(df)"
   ]
  },
  {
   "cell_type": "code",
   "execution_count": 39,
   "metadata": {},
   "outputs": [
    {
     "data": {
      "text/html": [
       "<div>\n",
       "<style scoped>\n",
       "    .dataframe tbody tr th:only-of-type {\n",
       "        vertical-align: middle;\n",
       "    }\n",
       "\n",
       "    .dataframe tbody tr th {\n",
       "        vertical-align: top;\n",
       "    }\n",
       "\n",
       "    .dataframe thead th {\n",
       "        text-align: right;\n",
       "    }\n",
       "</style>\n",
       "<table border=\"1\" class=\"dataframe\">\n",
       "  <thead>\n",
       "    <tr style=\"text-align: right;\">\n",
       "      <th></th>\n",
       "      <th>A</th>\n",
       "      <th>B</th>\n",
       "      <th>C</th>\n",
       "      <th>D</th>\n",
       "    </tr>\n",
       "  </thead>\n",
       "  <tbody>\n",
       "    <tr>\n",
       "      <th>2019-08-27</th>\n",
       "      <td>0.433009</td>\n",
       "      <td>1.059316</td>\n",
       "      <td>-0.988277</td>\n",
       "      <td>-1.985934</td>\n",
       "    </tr>\n",
       "    <tr>\n",
       "      <th>2019-08-28</th>\n",
       "      <td>0.600669</td>\n",
       "      <td>-0.562243</td>\n",
       "      <td>-0.340693</td>\n",
       "      <td>-0.986988</td>\n",
       "    </tr>\n",
       "    <tr>\n",
       "      <th>2019-08-29</th>\n",
       "      <td>-0.040627</td>\n",
       "      <td>0.259486</td>\n",
       "      <td>-0.452978</td>\n",
       "      <td>0.828386</td>\n",
       "    </tr>\n",
       "    <tr>\n",
       "      <th>2019-08-30</th>\n",
       "      <td>-0.279572</td>\n",
       "      <td>-0.702492</td>\n",
       "      <td>0.502260</td>\n",
       "      <td>0.979274</td>\n",
       "    </tr>\n",
       "    <tr>\n",
       "      <th>2019-08-31</th>\n",
       "      <td>0.733102</td>\n",
       "      <td>-1.737568</td>\n",
       "      <td>0.845415</td>\n",
       "      <td>-0.939288</td>\n",
       "    </tr>\n",
       "  </tbody>\n",
       "</table>\n",
       "</div>"
      ],
      "text/plain": [
       "                   A         B         C         D\n",
       "2019-08-27  0.433009  1.059316 -0.988277 -1.985934\n",
       "2019-08-28  0.600669 -0.562243 -0.340693 -0.986988\n",
       "2019-08-29 -0.040627  0.259486 -0.452978  0.828386\n",
       "2019-08-30 -0.279572 -0.702492  0.502260  0.979274\n",
       "2019-08-31  0.733102 -1.737568  0.845415 -0.939288"
      ]
     },
     "execution_count": 39,
     "metadata": {},
     "output_type": "execute_result"
    }
   ],
   "source": [
    "df.head() # los valores si cambiaron"
   ]
  },
  {
   "cell_type": "markdown",
   "metadata": {},
   "source": [
    "La función apply puede ser aplicada por columna o por fila(index) cambiando el axis"
   ]
  },
  {
   "cell_type": "code",
   "execution_count": 40,
   "metadata": {},
   "outputs": [
    {
     "data": {
      "text/plain": [
       "A    1.128665\n",
       "B    1.753438\n",
       "C   -4.722444\n",
       "D   -0.185696\n",
       "dtype: float64"
      ]
     },
     "execution_count": 40,
     "metadata": {},
     "output_type": "execute_result"
    }
   ],
   "source": [
    "df.apply(np.sum, axis = 0)"
   ]
  },
  {
   "cell_type": "code",
   "execution_count": 41,
   "metadata": {},
   "outputs": [
    {
     "data": {
      "text/plain": [
       "2019-08-27   -1.481886\n",
       "2019-08-28   -1.289255\n",
       "2019-08-29    0.594267\n",
       "2019-08-30    0.499470\n",
       "2019-08-31   -1.098339\n",
       "2019-09-01   -1.410826\n",
       "2019-09-02    2.354015\n",
       "2019-09-03    1.104747\n",
       "2019-09-04   -0.013915\n",
       "2019-09-05   -1.284314\n",
       "Freq: D, dtype: float64"
      ]
     },
     "execution_count": 41,
     "metadata": {},
     "output_type": "execute_result"
    }
   ],
   "source": [
    "df.apply(np.sum, axis = 1)"
   ]
  }
 ],
 "metadata": {
  "kernelspec": {
   "display_name": "Python 2",
   "language": "python",
   "name": "python2"
  },
  "language_info": {
   "codemirror_mode": {
    "name": "ipython",
    "version": 2
   },
   "file_extension": ".py",
   "mimetype": "text/x-python",
   "name": "python",
   "nbconvert_exporter": "python",
   "pygments_lexer": "ipython2",
   "version": "2.7.12"
  }
 },
 "nbformat": 4,
 "nbformat_minor": 2
}
